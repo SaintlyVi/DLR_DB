{
 "cells": [
  {
   "cell_type": "markdown",
   "metadata": {},
   "source": [
    "# DLR Dataset Timeseries Exploration"
   ]
  },
  {
   "cell_type": "code",
   "execution_count": null,
   "metadata": {},
   "outputs": [],
   "source": [
    "import pandas as pd\n",
    "import numpy as np\n",
    "import datetime as dt\n",
    "\n",
    "import plotly.plotly as py\n",
    "import plotly.offline as po\n",
    "import plotly.graph_objs as go\n",
    "import plotly.tools as tls\n",
    "import colorlover as cl\n",
    "#from plotly.offline import download_plotlyjs, init_notebook_mode, plot, iplot\n",
    "import cufflinks as cf\n",
    "cf.go_offline()\n",
    "\n",
    "from sklearn.preprocessing import normalize\n",
    "from sklearn.cluster import MiniBatchKMeans\n",
    "import somoclu\n",
    "\n",
    "from features.feature_ts import *\n",
    "from experiment.algorithms.clusters import *\n",
    "from experiment.algorithms.cluster_metrics import *\n",
    "from observations.obs_processing import *"
   ]
  },
  {
   "cell_type": "markdown",
   "metadata": {},
   "source": [
    "## Retrieve Profiles"
   ]
  },
  {
   "cell_type": "code",
   "execution_count": null,
   "metadata": {},
   "outputs": [],
   "source": [
    "year_range = [1994,1994]\n",
    "X = genX(year_range)"
   ]
  },
  {
   "cell_type": "code",
   "execution_count": null,
   "metadata": {},
   "outputs": [],
   "source": [
    "print(X.iloc[0:4, 0:6])\n",
    "X.index.levels[0]"
   ]
  },
  {
   "cell_type": "markdown",
   "metadata": {},
   "source": [
    "### Average Daily Demand (A)"
   ]
  },
  {
   "cell_type": "code",
   "execution_count": null,
   "metadata": {},
   "outputs": [],
   "source": [
    "Xadd = resampleProfiles(X.sum(axis=1),'A','mean').reset_index().groupby('ProfileID').mean()\n",
    "Xadd.columns = ['ADD (A)']\n",
    "Xadd.head()"
   ]
  },
  {
   "cell_type": "markdown",
   "metadata": {},
   "source": [
    "### Average Monthly Demand (kWh)"
   ]
  },
  {
   "cell_type": "code",
   "execution_count": null,
   "metadata": {},
   "outputs": [],
   "source": [
    "XmonthlyPower = resampleProfiles(X, interval='M', aggfunc='sum').sum(axis=1)*(230/1000)\n",
    "Xamd = resampleProfiles(XmonthlyPower, interval='A', aggfunc='mean').reset_index().groupby('ProfileID').mean()\n",
    "Xamd.columns = ['AMD (kWh)']\n",
    "Xamd.head()"
   ]
  },
  {
   "cell_type": "markdown",
   "metadata": {},
   "source": [
    "### Representative Load Profiles"
   ]
  },
  {
   "cell_type": "code",
   "execution_count": null,
   "metadata": {},
   "outputs": [],
   "source": [
    "Xrlp = resampleProfiles(X,'A','mean').reset_index().groupby('ProfileID').mean()\n",
    "Xrlp.head()"
   ]
  },
  {
   "cell_type": "markdown",
   "metadata": {},
   "source": [
    "## Visualising the Data"
   ]
  },
  {
   "cell_type": "code",
   "execution_count": null,
   "metadata": {},
   "outputs": [],
   "source": [
    "Xamd.iplot(kind='histogram', title='Histogram of average monthly energy consumption for households',yTitle='household count',xTitle='average monthly consumption (kWh)')"
   ]
  },
  {
   "cell_type": "code",
   "execution_count": null,
   "metadata": {
    "scrolled": false
   },
   "outputs": [],
   "source": [
    "bins = pd.cut(Xamd.iloc[:,0], range(0, 100*int(np.ceil(Xamd.max()/100))+1, 100 ), labels=range(100, 100*int(np.ceil(Xamd.max()/100))+1, 100 ))\n",
    "amdrlp = Xrlp.join(bins)\n",
    "MeanRLP = amdrlp.groupby('AMD (kWh)').mean().fillna(0)\n",
    "StdRLP = Xrlp.join(bins).groupby('AMD (kWh)').std().fillna(0)\n",
    "\n",
    "def plotRLP(maxMonthlyDemand, color='red'):\n",
    "    amdrlp.loc[amdrlp['AMD (kWh)'] == maxMonthlyDemand, amdrlp.columns!='AMD (kWh)'].iplot(kind='box', \n",
    "            title='Variance of mean hourly demand for households with an average monthly demand between ' + str(maxMonthlyDemand-100) + ' and '+ str(maxMonthlyDemand) + ' kWh',\n",
    "            xTitle = 'time of day',\n",
    "            yTitle = 'mean hourly demand (kWh)',\n",
    "            color=color,\n",
    "            legend=False)\n",
    "                                                                                           \n",
    "plotRLP(600, 'blue')\n",
    "    \n",
    "MeanRLP.T.iplot(kind='scatter', \n",
    "            title='Representative load profiles for households in the same range of average monthly consumption', \n",
    "            xTitle = 'time of day',\n",
    "            yTitle = 'mean hourly demand (kWh)',\n",
    "            width = 3,)\n"
   ]
  },
  {
   "cell_type": "code",
   "execution_count": null,
   "metadata": {},
   "outputs": [],
   "source": [
    "corr = X.corr()\n",
    "corr.iplot(kind='heatmap', title = 'Correlation Matrix for hourly household consumption',\n",
    "           xTitle = 'time of day', yTitle = 'time of day', colorscale='-spectral')"
   ]
  },
  {
   "cell_type": "code",
   "execution_count": null,
   "metadata": {},
   "outputs": [],
   "source": [
    "X.iloc[:10000,[6,20]].iplot(kind='scatter', mode='markers', size=2, x=6, y=20,  title='scatter', \n",
    "                                   xTitle='consumption at 5h00 (kWh)', yTitle='consumption at 18h00 (kWh)')"
   ]
  },
  {
   "cell_type": "markdown",
   "metadata": {},
   "source": [
    "## Explore Profiles"
   ]
  },
  {
   "cell_type": "code",
   "execution_count": null,
   "metadata": {},
   "outputs": [],
   "source": [
    "data = dailyProfiles(year, unit, directory)"
   ]
  },
  {
   "cell_type": "code",
   "execution_count": null,
   "metadata": {},
   "outputs": [],
   "source": [
    "dna = data.dropna()\n",
    "dna_mean = pd.DataFrame(dna.mean(axis=1), columns=['mean_daily'])\n",
    "norm = pd.DataFrame(normalize(dna.iloc[:,0:24], return_norm=False))\n",
    "#norm['mean_daily'] = dna['mean_daily']\n",
    "norm.set_index(dna_mean.index,inplace=True)\n",
    "normdata = pd.concat([norm, dna_mean], axis=1)\n",
    "normdata.head()"
   ]
  },
  {
   "cell_type": "code",
   "execution_count": null,
   "metadata": {},
   "outputs": [],
   "source": [
    "ylorbr = cl.scales['9']['seq']['YlOrBr']\n",
    "colorscale = cl.interp(ylorbr, 1500 )[150:]\n",
    "\n",
    "cols = pd.qcut(normdata.mean_daily, 1350, labels=colorscale, retbins=False, precision=2, duplicates='raise')"
   ]
  },
  {
   "cell_type": "code",
   "execution_count": null,
   "metadata": {},
   "outputs": [],
   "source": [
    "normdata.iloc[-500:,0:24].T.iplot(kind='scatter', colors = cols.to_dict(), filename='cufflinks/cf-simple-line')"
   ]
  },
  {
   "cell_type": "code",
   "execution_count": null,
   "metadata": {},
   "outputs": [],
   "source": [
    "data.describe()"
   ]
  },
  {
   "cell_type": "code",
   "execution_count": null,
   "metadata": {},
   "outputs": [],
   "source": [
    "print('number of daily profiles: ' + str(data.shape[0]))\n",
    "data.describe().loc['mean'].iplot(kind='scatter', filename='cufflinks/cf-simple-line')"
   ]
  },
  {
   "cell_type": "markdown",
   "metadata": {},
   "source": [
    "## Cluster Profiles"
   ]
  },
  {
   "cell_type": "code",
   "execution_count": null,
   "metadata": {},
   "outputs": [],
   "source": [
    "try:\n",
    "    eval_results = pd.read_csv('log/3-117-3_eval_kmeans.csv')\n",
    "    cluster_results = pd.read_csv('log/3-117-3_centroids_kmeans.csv')\n",
    "    cluster_labels = pd.read_csv('log/3-117-3_labels_kmeans.csv')\n",
    "except:\n",
    "    \n",
    "    range_n_clusters = range(3, 36, 3)\n",
    "    cluster_stats, cluster_centroids, cluster_labels = kmeans(X, range_n_clusters, normalise = False)\n",
    "    eval_results, cluster_results = kmeansResults(cluster_stats, cluster_centroids)"
   ]
  },
  {
   "cell_type": "markdown",
   "metadata": {},
   "source": [
    "## Evaluation"
   ]
  },
  {
   "cell_type": "markdown",
   "metadata": {},
   "source": [
    "### High Level Evaluation"
   ]
  },
  {
   "cell_type": "code",
   "execution_count": null,
   "metadata": {},
   "outputs": [],
   "source": [
    "Xind = X.reset_index().loc[:,['ProfileID','date']]\n",
    "lbls = pd.DataFrame(cluster_labels)\n",
    "l = pd.merge(Xind, lbls, left_index=True, right_index=True)\n",
    "\n",
    "def profileMode(n_clusters, Xlabel):\n",
    "    xl = Xlabel.groupby(['ProfileID',str(n_clusters)])['date'].count().reset_index()\n",
    "    xlcount = xl.iloc[xl.groupby('ProfileID').apply(lambda x: x['date'].idxmax())]\n",
    "    xlcount.groupby(str(n_clusters))['ProfileID'].count().iplot(kind='bar')\n",
    "    \n",
    "profileMode(48, l)"
   ]
  },
  {
   "cell_type": "code",
   "execution_count": null,
   "metadata": {
    "scrolled": false
   },
   "outputs": [],
   "source": [
    "cluster_it = sorted([int(l) for l in cluster_labels.columns]) \n",
    "data = cluster_results[['k','n_clust','cluster_size']].set_index(['n_clust','k'])\n",
    "\n",
    "fig = tls.make_subplots(rows=int(np.ceil(len(cluster_it)/2)), cols=2,\n",
    "                        subplot_titles=[str(x) + ' clusters' for x in cluster_it],\n",
    "                        shared_xaxes=False, print_grid=False)\n",
    "\n",
    "count=0\n",
    "for i in cluster_it: \n",
    "    r = int(count/2) + 1\n",
    "    c = count % 2 + 1\n",
    "    fig.append_trace({'x': data.loc[(i)].index, 'y': data.loc[(i),'cluster_size'], \n",
    "                      'type': 'bar', 'name': str(i)+' clusters'}, r, c)\n",
    "    count+=1\n",
    "    \n",
    "fig['layout'].update(height=80*count, \n",
    "                     title='Count of profiles per cluster for different numbers of clusters',\n",
    "                     showlegend=False)   \n",
    "\n",
    "po.iplot(fig)"
   ]
  },
  {
   "cell_type": "markdown",
   "metadata": {},
   "source": [
    "### Davies-Bouldin Index"
   ]
  },
  {
   "cell_type": "code",
   "execution_count": null,
   "metadata": {},
   "outputs": [],
   "source": [
    "eval_results[['n_clust','dbi']].iplot(kind='scatter', x='n_clust', \n",
    "                                   title='Davies-Bouldin Index as a function of numbers of clusters', \n",
    "                                   xTitle='number of clusters',\n",
    "                                   yTitle='DBI value')"
   ]
  },
  {
   "cell_type": "markdown",
   "metadata": {},
   "source": [
    "### Mean Index Adequacy"
   ]
  },
  {
   "cell_type": "code",
   "execution_count": null,
   "metadata": {},
   "outputs": [],
   "source": [
    "eval_results[['mia','n_clust']].iplot(kind='scatter', x='n_clust', \n",
    "                                   title='Mean Index Adequacy as a function of numbers of clusters', \n",
    "                                   xTitle='number of clusters',\n",
    "                                   yTitle='MIA index value',\n",
    "                                   color='blue')"
   ]
  },
  {
   "cell_type": "markdown",
   "metadata": {},
   "source": [
    "### Silhouette Score\n",
    "\n",
    "The best value is 1 and the worst value is -1. Values near 0 indicate overlapping clusters. Negative values generally indicate that a sample has been assigned to the wrong cluster, as a different cluster is more similar."
   ]
  },
  {
   "cell_type": "code",
   "execution_count": null,
   "metadata": {},
   "outputs": [],
   "source": [
    "eval_results[['silhouette','n_clust']].iplot(kind='scatter', x='n_clust', \n",
    "                                   title='Silhouette Score as a function of numbers of clusters', \n",
    "                                   xTitle='number of clusters',\n",
    "                                   yTitle='Silhouette Score',\n",
    "                                   color='green')"
   ]
  },
  {
   "cell_type": "markdown",
   "metadata": {},
   "source": [
    "### Experimenting with Self Organising Maps & kmeans"
   ]
  },
  {
   "cell_type": "code",
   "execution_count": null,
   "metadata": {},
   "outputs": [],
   "source": [
    "nrow = ncol = 30"
   ]
  },
  {
   "cell_type": "code",
   "execution_count": null,
   "metadata": {},
   "outputs": [],
   "source": [
    "som = somoclu.Somoclu(nrow, ncol, compactsupport=True, maptype='planar')#, initialization='pca')\n",
    "som.train(np.array(X))"
   ]
  },
  {
   "cell_type": "code",
   "execution_count": null,
   "metadata": {},
   "outputs": [],
   "source": [
    "som.cluster(algorithm=MiniBatchKMeans(n_clusters=33, random_state=10))"
   ]
  },
  {
   "cell_type": "code",
   "execution_count": null,
   "metadata": {},
   "outputs": [],
   "source": [
    "som.view_umatrix(colorbar=True, bestmatches=True)"
   ]
  },
  {
   "cell_type": "code",
   "execution_count": null,
   "metadata": {},
   "outputs": [],
   "source": [
    "som.view_component_planes([6])"
   ]
  },
  {
   "cell_type": "code",
   "execution_count": null,
   "metadata": {},
   "outputs": [],
   "source": [
    "pd.DataFrame(som.clusters).iplot(kind='heatmap')"
   ]
  },
  {
   "cell_type": "code",
   "execution_count": null,
   "metadata": {},
   "outputs": [],
   "source": [
    "k = [som.clusters[som.bmus[i][1],som.bmus[i][0]] for i in range(0, len(som.bmus))]\n",
    "pd.DataFrame(k).iplot(kind='histogram', title='count of profiles per cluster kmeans + SOM')"
   ]
  },
  {
   "cell_type": "code",
   "execution_count": null,
   "metadata": {},
   "outputs": [],
   "source": [
    "len(som.codebook)\n",
    "#som.n_dim\n",
    "#pd.DataFrame(som.codebook).groupby\n",
    "\n",
    "m = np.arange(0, nrow*ncol, 1).reshape(nrow, ncol)\n",
    "k = [m[som.bmus[i][1],som.bmus[i][0]] for i in range(0, len(som.bmus))]\n",
    "c = som.codebook.reshape(nrow * ncol, som.n_dim)\n",
    "c"
   ]
  },
  {
   "cell_type": "code",
   "execution_count": null,
   "metadata": {},
   "outputs": [],
   "source": [
    "dbi = davies_bouldin_score(X, k)\n",
    "mia = mean_index_adequacy(X, k)\n",
    "ss = silhouette_score(X, k, sample_size=10000) #unreliable because of random sample\n",
    "print(dbi)\n",
    "print(mia)\n",
    "print(ss)\n",
    "(dbi*mia)/(ss)"
   ]
  },
  {
   "cell_type": "code",
   "execution_count": null,
   "metadata": {},
   "outputs": [],
   "source": [
    "clusterer = MiniBatchKMeans(n_clusters=33, random_state=10)\n",
    "clustX = clusterer.fit_predict(X)"
   ]
  },
  {
   "cell_type": "code",
   "execution_count": null,
   "metadata": {},
   "outputs": [],
   "source": [
    "dbik = davies_bouldin_score(X, clustX)\n",
    "miak = mean_index_adequacy(X, clustX)\n",
    "ssk = silhouette_score(X, clustX, sample_size=10000)\n",
    "\n",
    "print(dbik)\n",
    "print(miak)\n",
    "print(ssk)"
   ]
  },
  {
   "cell_type": "code",
   "execution_count": null,
   "metadata": {},
   "outputs": [],
   "source": [
    "pd.DataFrame(clustX).iplot(kind='histogram', title='count of profiles per cluster kmeans only', color='blue')"
   ]
  },
  {
   "cell_type": "code",
   "execution_count": null,
   "metadata": {},
   "outputs": [],
   "source": []
  }
 ],
 "metadata": {
  "kernelspec": {
   "display_name": "Python 3",
   "language": "python",
   "name": "python3"
  },
  "language_info": {
   "codemirror_mode": {
    "name": "ipython",
    "version": 3
   },
   "file_extension": ".py",
   "mimetype": "text/x-python",
   "name": "python",
   "nbconvert_exporter": "python",
   "pygments_lexer": "ipython3",
   "version": "3.6.5"
  }
 },
 "nbformat": 4,
 "nbformat_minor": 2
}
