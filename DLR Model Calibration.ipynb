{
 "cells": [
  {
   "cell_type": "markdown",
   "metadata": {},
   "source": [
    "# Model Calibration as Part of Model Evaluation in a Model Evolution System\n",
    "Model calibration serves the purpose of comparing a (data) model revision against a benchmark (expert) model. It is a validation process that ensures external quality assurance. The key question asked during the calibration process is: *\"Does the proposed new model meet stakeholder needs?\"*\n",
    "\n",
    "The calibration process captures the following 3 questions that determine the extend to which a proposed model is fit for purpose:\n",
    "1. __Data integrity__: How good is my data?\n",
    "2. __Model integrity__: How well does my new model match my existing model?\n",
    "3. __Abstraction integrity__: How well does my model represent reality?\n",
    "\n",
    "## Generate Data Model"
   ]
  },
  {
   "cell_type": "code",
   "execution_count": 1,
   "metadata": {
    "collapsed": false
   },
   "outputs": [
    {
     "data": {
      "text/html": [
       "<script>requirejs.config({paths: { 'plotly': ['https://cdn.plot.ly/plotly-latest.min']},});if(!window.Plotly) {{require(['plotly'],function(plotly) {window.Plotly=plotly;});}}</script>"
      ],
      "text/vnd.plotly.v1+html": [
       "<script>requirejs.config({paths: { 'plotly': ['https://cdn.plot.ly/plotly-latest.min']},});if(!window.Plotly) {{require(['plotly'],function(plotly) {window.Plotly=plotly;});}}</script>"
      ]
     },
     "metadata": {},
     "output_type": "display_data"
    },
    {
     "data": {
      "text/html": [
       "<script>requirejs.config({paths: { 'plotly': ['https://cdn.plot.ly/plotly-latest.min']},});if(!window.Plotly) {{require(['plotly'],function(plotly) {window.Plotly=plotly;});}}</script>"
      ],
      "text/vnd.plotly.v1+html": [
       "<script>requirejs.config({paths: { 'plotly': ['https://cdn.plot.ly/plotly-latest.min']},});if(!window.Plotly) {{require(['plotly'],function(plotly) {window.Plotly=plotly;});}}</script>"
      ]
     },
     "metadata": {},
     "output_type": "display_data"
    }
   ],
   "source": [
    "import features.ts as ts\n",
    "import evaluation.evalhelpers as eh\n",
    "import evaluation.calibration as ec\n",
    "\n",
    "import plotly.offline as offline\n",
    "import plotly.graph_objs as go\n",
    "import plotly as py\n",
    "offline.init_notebook_mode(connected=True) #set for plotly offline plotting"
   ]
  },
  {
   "cell_type": "code",
   "execution_count": 4,
   "metadata": {
    "collapsed": false
   },
   "outputs": [
    {
     "ename": "ValueError",
     "evalue": "Buffer dtype mismatch, expected 'Python object' but got 'long'",
     "output_type": "error",
     "traceback": [
      "\u001b[0;31m---------------------------------------------------------------------------\u001b[0m",
      "\u001b[0;31mValueError\u001b[0m                                Traceback (most recent call last)",
      "\u001b[0;31mValueError\u001b[0m: Buffer dtype mismatch, expected 'Python object' but got 'long'"
     ]
    },
    {
     "ename": "ValueError",
     "evalue": "Buffer dtype mismatch, expected 'Python object' but got 'long'",
     "output_type": "error",
     "traceback": [
      "\u001b[0;31m---------------------------------------------------------------------------\u001b[0m",
      "\u001b[0;31mValueError\u001b[0m                                Traceback (most recent call last)",
      "\u001b[0;31mValueError\u001b[0m: Buffer dtype mismatch, expected 'Python object' but got 'long'"
     ]
    },
    {
     "ename": "ValueError",
     "evalue": "Buffer dtype mismatch, expected 'Python object' but got 'long'",
     "output_type": "error",
     "traceback": [
      "\u001b[0;31m---------------------------------------------------------------------------\u001b[0m",
      "\u001b[0;31mValueError\u001b[0m                                Traceback (most recent call last)",
      "\u001b[0;31mValueError\u001b[0m: Buffer dtype mismatch, expected 'Python object' but got 'long'"
     ]
    },
    {
     "ename": "ValueError",
     "evalue": "Buffer dtype mismatch, expected 'Python object' but got 'long'",
     "output_type": "error",
     "traceback": [
      "\u001b[0;31m---------------------------------------------------------------------------\u001b[0m",
      "\u001b[0;31mValueError\u001b[0m                                Traceback (most recent call last)",
      "\u001b[0;31mValueError\u001b[0m: Buffer dtype mismatch, expected 'Python object' but got 'long'"
     ]
    }
   ],
   "source": [
    "%%capture\n",
    "\n",
    "year = 2011\n",
    "experiment_dir = 'exp1' # sub-directory in which inferred customer classes are saved\n",
    "\n",
    "dm = ec.generateDataModel(year, experiment_dir)\n",
    "\n",
    "ods = dm[0] # observed demand summary\n",
    "ohp = dm[1] # observed hourly profiles\n",
    "adtd = dm[2] # aggregate daytype demand\n",
    "amd = dm[3] # annual monthly demand\n",
    "aggpp = dm[4] # aggregate monthly power profile\n",
    "pp = dm[5] # power profile"
   ]
  },
  {
   "cell_type": "markdown",
   "metadata": {},
   "source": [
    "## Explore Data Integrity\n",
    "The purpose of an uncertainty index is to assess the data integrity. The key questions that the uncertainty index answers are:\n",
    "1. *Do I have enough representative data?*\n",
    "2. *Is the data sufficiently reliable to construct a model with integrity?*\n",
    "\n",
    "The uncertainty index is calculated by establishing whether the sample size is sufficient to draw a conclusion about a certain characteristic feature of the model. In this system it is derived by selecting a valid model based on:\n",
    "* a specified minimum number of profiles observed\n",
    "* a specified minimum number of valid observations per model variable\n",
    "\n",
    "The uncertainty index is the ratio of variables (rows) in the valid model to total variables. It is calculated as follows:\n",
    "\n",
    "```\n",
    "valid_submodel = submodel_input[where AnswerID_count >= minimum and valid_obs_ratio >= minimum]\n",
    "uix = rows(valid_submodel) / rows(submodel_input)\n",
    "```\n",
    "\n",
    "Moreover, for a model to be valid, it must share the same baseline as the benchmark model (eg same year, same region)."
   ]
  },
  {
   "cell_type": "code",
   "execution_count": 5,
   "metadata": {
    "collapsed": false
   },
   "outputs": [
    {
     "data": {
      "text/html": [
       "<div>\n",
       "<style scoped>\n",
       "    .dataframe tbody tr th:only-of-type {\n",
       "        vertical-align: middle;\n",
       "    }\n",
       "\n",
       "    .dataframe tbody tr th {\n",
       "        vertical-align: top;\n",
       "    }\n",
       "\n",
       "    .dataframe thead th {\n",
       "        text-align: right;\n",
       "    }\n",
       "</style>\n",
       "<table border=\"1\" class=\"dataframe\">\n",
       "  <thead>\n",
       "    <tr style=\"text-align: right;\">\n",
       "      <th></th>\n",
       "      <th></th>\n",
       "      <th>AnswerID_count</th>\n",
       "      <th>valid_obs_ratio</th>\n",
       "    </tr>\n",
       "    <tr>\n",
       "      <th>customer_class</th>\n",
       "      <th>index</th>\n",
       "      <th></th>\n",
       "      <th></th>\n",
       "    </tr>\n",
       "  </thead>\n",
       "  <tbody>\n",
       "    <tr>\n",
       "      <th rowspan=\"8\" valign=\"top\">informal_settlement</th>\n",
       "      <th>count</th>\n",
       "      <td>15.000000</td>\n",
       "      <td>15.000000</td>\n",
       "    </tr>\n",
       "    <tr>\n",
       "      <th>mean</th>\n",
       "      <td>13.266667</td>\n",
       "      <td>0.910585</td>\n",
       "    </tr>\n",
       "    <tr>\n",
       "      <th>std</th>\n",
       "      <td>19.436588</td>\n",
       "      <td>0.089651</td>\n",
       "    </tr>\n",
       "    <tr>\n",
       "      <th>min</th>\n",
       "      <td>2.000000</td>\n",
       "      <td>0.705574</td>\n",
       "    </tr>\n",
       "    <tr>\n",
       "      <th>25%</th>\n",
       "      <td>3.000000</td>\n",
       "      <td>0.893042</td>\n",
       "    </tr>\n",
       "    <tr>\n",
       "      <th>50%</th>\n",
       "      <td>5.000000</td>\n",
       "      <td>0.949663</td>\n",
       "    </tr>\n",
       "    <tr>\n",
       "      <th>75%</th>\n",
       "      <td>15.000000</td>\n",
       "      <td>0.970046</td>\n",
       "    </tr>\n",
       "    <tr>\n",
       "      <th>max</th>\n",
       "      <td>78.000000</td>\n",
       "      <td>0.976135</td>\n",
       "    </tr>\n",
       "  </tbody>\n",
       "</table>\n",
       "</div>"
      ],
      "text/plain": [
       "                           AnswerID_count  valid_obs_ratio\n",
       "customer_class      index                                 \n",
       "informal_settlement count       15.000000        15.000000\n",
       "                    mean        13.266667         0.910585\n",
       "                    std         19.436588         0.089651\n",
       "                    min          2.000000         0.705574\n",
       "                    25%          3.000000         0.893042\n",
       "                    50%          5.000000         0.949663\n",
       "                    75%         15.000000         0.970046\n",
       "                    max         78.000000         0.976135"
      ]
     },
     "execution_count": 5,
     "metadata": {},
     "output_type": "execute_result"
    }
   ],
   "source": [
    "ec.uncertaintyStats(ods)[:8]"
   ]
  },
  {
   "cell_type": "code",
   "execution_count": 42,
   "metadata": {
    "collapsed": false
   },
   "outputs": [
    {
     "data": {
      "application/vnd.plotly.v1+json": {
       "data": [
        {
         "name": "informal_settlement",
         "type": "bar",
         "x": [
          1,
          2,
          3,
          4,
          5,
          6,
          7,
          8,
          9,
          10,
          11,
          12,
          13,
          14,
          15
         ],
         "y": [
          12,
          2,
          5,
          4,
          4,
          2,
          9,
          26,
          2,
          9,
          5,
          18,
          2,
          21,
          78
         ]
        },
        {
         "name": "township",
         "type": "bar",
         "x": [
          1,
          2,
          3,
          4,
          5,
          6,
          7,
          8,
          9,
          10,
          11,
          12,
          13,
          14,
          15
         ],
         "y": [
          4,
          0,
          3,
          2,
          2,
          0,
          0,
          3,
          2,
          2,
          1,
          5,
          1,
          4,
          69
         ]
        },
        {
         "name": "urban_estate_10+",
         "type": "bar",
         "x": [
          1,
          2,
          3,
          4,
          5,
          6,
          7,
          8,
          9,
          10,
          11,
          12,
          13,
          14,
          15
         ],
         "y": [
          0,
          0,
          0,
          0,
          0,
          0,
          0,
          0,
          0,
          0,
          0,
          0,
          0,
          0,
          1
         ]
        },
        {
         "name": "urban_res_7",
         "type": "bar",
         "x": [
          1,
          2,
          3,
          4,
          5,
          6,
          7,
          8,
          9,
          10,
          11,
          12,
          13,
          14,
          15
         ],
         "y": [
          0,
          0,
          0,
          0,
          0,
          0,
          0,
          0,
          0,
          0,
          0,
          0,
          0,
          0,
          1
         ]
        },
        {
         "name": "urban_res_8-9",
         "type": "bar",
         "x": [
          1,
          2,
          3,
          4,
          5,
          6,
          7,
          8,
          9,
          10,
          11,
          12,
          13,
          14,
          15
         ],
         "y": [
          0,
          0,
          0,
          0,
          0,
          0,
          0,
          0,
          0,
          0,
          0,
          0,
          0,
          0,
          2
         ]
        },
        {
         "name": "urban_townhouse_7-8",
         "type": "bar",
         "x": [
          1,
          2,
          3,
          4,
          5,
          6,
          7,
          8,
          9,
          10,
          11,
          12,
          13,
          14,
          15
         ],
         "y": [
          0,
          0,
          0,
          0,
          0,
          0,
          0,
          0,
          0,
          0,
          0,
          0,
          0,
          0,
          1
         ]
        },
        {
         "name": "village",
         "type": "bar",
         "x": [
          1,
          2,
          3,
          4,
          5,
          6,
          7,
          8,
          9,
          10,
          11,
          12,
          13,
          14,
          15
         ],
         "y": [
          0,
          1,
          1,
          0,
          0,
          0,
          4,
          9,
          0,
          0,
          0,
          1,
          0,
          1,
          23
         ]
        }
       ],
       "layout": {
        "barmode": "stack",
        "xaxis": {
         "tickvals": [
          1,
          2,
          3,
          4,
          5,
          6,
          7,
          8,
          9,
          10,
          11,
          12,
          13,
          14,
          15
         ],
         "title": "Years Electrified"
        },
        "yaxis": {
         "title": "Valid AnswerID count"
        }
       }
      },
      "text/html": [
       "<div id=\"6781eb5f-3d53-46f2-bda0-e18f90dcac2b\" style=\"height: 525px; width: 100%;\" class=\"plotly-graph-div\"></div><script type=\"text/javascript\">require([\"plotly\"], function(Plotly) { window.PLOTLYENV=window.PLOTLYENV || {};window.PLOTLYENV.BASE_URL=\"https://plot.ly\";Plotly.newPlot(\"6781eb5f-3d53-46f2-bda0-e18f90dcac2b\", [{\"type\": \"bar\", \"y\": [12, 2, 5, 4, 4, 2, 9, 26, 2, 9, 5, 18, 2, 21, 78], \"x\": [1, 2, 3, 4, 5, 6, 7, 8, 9, 10, 11, 12, 13, 14, 15], \"name\": \"informal_settlement\"}, {\"type\": \"bar\", \"y\": [4, 0, 3, 2, 2, 0, 0, 3, 2, 2, 1, 5, 1, 4, 69], \"x\": [1, 2, 3, 4, 5, 6, 7, 8, 9, 10, 11, 12, 13, 14, 15], \"name\": \"township\"}, {\"type\": \"bar\", \"y\": [0, 0, 0, 0, 0, 0, 0, 0, 0, 0, 0, 0, 0, 0, 1], \"x\": [1, 2, 3, 4, 5, 6, 7, 8, 9, 10, 11, 12, 13, 14, 15], \"name\": \"urban_estate_10+\"}, {\"type\": \"bar\", \"y\": [0, 0, 0, 0, 0, 0, 0, 0, 0, 0, 0, 0, 0, 0, 1], \"x\": [1, 2, 3, 4, 5, 6, 7, 8, 9, 10, 11, 12, 13, 14, 15], \"name\": \"urban_res_7\"}, {\"type\": \"bar\", \"y\": [0, 0, 0, 0, 0, 0, 0, 0, 0, 0, 0, 0, 0, 0, 2], \"x\": [1, 2, 3, 4, 5, 6, 7, 8, 9, 10, 11, 12, 13, 14, 15], \"name\": \"urban_res_8-9\"}, {\"type\": \"bar\", \"y\": [0, 0, 0, 0, 0, 0, 0, 0, 0, 0, 0, 0, 0, 0, 1], \"x\": [1, 2, 3, 4, 5, 6, 7, 8, 9, 10, 11, 12, 13, 14, 15], \"name\": \"urban_townhouse_7-8\"}, {\"type\": \"bar\", \"y\": [0, 1, 1, 0, 0, 0, 4, 9, 0, 0, 0, 1, 0, 1, 23], \"x\": [1, 2, 3, 4, 5, 6, 7, 8, 9, 10, 11, 12, 13, 14, 15], \"name\": \"village\"}], {\"yaxis\": {\"title\": \"Valid AnswerID count\"}, \"xaxis\": {\"tickvals\": [1, 2, 3, 4, 5, 6, 7, 8, 9, 10, 11, 12, 13, 14, 15], \"title\": \"Years Electrified\"}, \"barmode\": \"stack\"}, {\"showLink\": true, \"linkText\": \"Export to plot.ly\"})});</script>"
      ],
      "text/vnd.plotly.v1+html": [
       "<div id=\"6781eb5f-3d53-46f2-bda0-e18f90dcac2b\" style=\"height: 525px; width: 100%;\" class=\"plotly-graph-div\"></div><script type=\"text/javascript\">require([\"plotly\"], function(Plotly) { window.PLOTLYENV=window.PLOTLYENV || {};window.PLOTLYENV.BASE_URL=\"https://plot.ly\";Plotly.newPlot(\"6781eb5f-3d53-46f2-bda0-e18f90dcac2b\", [{\"type\": \"bar\", \"y\": [12, 2, 5, 4, 4, 2, 9, 26, 2, 9, 5, 18, 2, 21, 78], \"x\": [1, 2, 3, 4, 5, 6, 7, 8, 9, 10, 11, 12, 13, 14, 15], \"name\": \"informal_settlement\"}, {\"type\": \"bar\", \"y\": [4, 0, 3, 2, 2, 0, 0, 3, 2, 2, 1, 5, 1, 4, 69], \"x\": [1, 2, 3, 4, 5, 6, 7, 8, 9, 10, 11, 12, 13, 14, 15], \"name\": \"township\"}, {\"type\": \"bar\", \"y\": [0, 0, 0, 0, 0, 0, 0, 0, 0, 0, 0, 0, 0, 0, 1], \"x\": [1, 2, 3, 4, 5, 6, 7, 8, 9, 10, 11, 12, 13, 14, 15], \"name\": \"urban_estate_10+\"}, {\"type\": \"bar\", \"y\": [0, 0, 0, 0, 0, 0, 0, 0, 0, 0, 0, 0, 0, 0, 1], \"x\": [1, 2, 3, 4, 5, 6, 7, 8, 9, 10, 11, 12, 13, 14, 15], \"name\": \"urban_res_7\"}, {\"type\": \"bar\", \"y\": [0, 0, 0, 0, 0, 0, 0, 0, 0, 0, 0, 0, 0, 0, 2], \"x\": [1, 2, 3, 4, 5, 6, 7, 8, 9, 10, 11, 12, 13, 14, 15], \"name\": \"urban_res_8-9\"}, {\"type\": \"bar\", \"y\": [0, 0, 0, 0, 0, 0, 0, 0, 0, 0, 0, 0, 0, 0, 1], \"x\": [1, 2, 3, 4, 5, 6, 7, 8, 9, 10, 11, 12, 13, 14, 15], \"name\": \"urban_townhouse_7-8\"}, {\"type\": \"bar\", \"y\": [0, 1, 1, 0, 0, 0, 4, 9, 0, 0, 0, 1, 0, 1, 23], \"x\": [1, 2, 3, 4, 5, 6, 7, 8, 9, 10, 11, 12, 13, 14, 15], \"name\": \"village\"}], {\"yaxis\": {\"title\": \"Valid AnswerID count\"}, \"xaxis\": {\"tickvals\": [1, 2, 3, 4, 5, 6, 7, 8, 9, 10, 11, 12, 13, 14, 15], \"title\": \"Years Electrified\"}, \"barmode\": \"stack\"}, {\"showLink\": true, \"linkText\": \"Export to plot.ly\"})});</script>"
      ]
     },
     "metadata": {},
     "output_type": "display_data"
    }
   ],
   "source": [
    "data = []\n",
    "xx = list(range(1, 16))\n",
    "\n",
    "for c in ods['class'].unique():\n",
    "    t = ods.loc[ods['class']==c, ['YearsElectrified', 'AnswerID_count']]\n",
    "    for y in xx:\n",
    "        if y in t.YearsElectrified.unique():\n",
    "            pass\n",
    "        else:\n",
    "            t = t.append({'YearsElectrified':y, 'AnswerID_count':0}, ignore_index=True)\n",
    "    t.sort_values('YearsElectrified', inplace=True)\n",
    "    t.reset_index(drop=True, inplace=True)\n",
    "    \n",
    "    trace = go.Bar(\n",
    "            x=xx,\n",
    "            y=t['AnswerID_count'],\n",
    "            name=c\n",
    "    )\n",
    "    data.append(trace)\n",
    "\n",
    "layout = go.Layout(\n",
    "            barmode='stack',\n",
    "            xaxis = dict(title='Years Electrified',\n",
    "                            tickvals = xx),\n",
    "            yaxis = dict(title='Valid AnswerID count'))\n",
    "\n",
    "fig = go.Figure(data=data, layout=layout)\n",
    "offline.iplot(fig)"
   ]
  },
  {
   "cell_type": "code",
   "execution_count": 6,
   "metadata": {
    "collapsed": false
   },
   "outputs": [
    {
     "data": {
      "text/html": [
       "<div>\n",
       "<style scoped>\n",
       "    .dataframe tbody tr th:only-of-type {\n",
       "        vertical-align: middle;\n",
       "    }\n",
       "\n",
       "    .dataframe tbody tr th {\n",
       "        vertical-align: top;\n",
       "    }\n",
       "\n",
       "    .dataframe thead th {\n",
       "        text-align: right;\n",
       "    }\n",
       "</style>\n",
       "<table border=\"1\" class=\"dataframe\">\n",
       "  <thead>\n",
       "    <tr style=\"text-align: right;\">\n",
       "      <th></th>\n",
       "      <th>valid_data</th>\n",
       "      <th>uncertainty_index</th>\n",
       "    </tr>\n",
       "    <tr>\n",
       "      <th>submodel_name</th>\n",
       "      <th></th>\n",
       "      <th></th>\n",
       "    </tr>\n",
       "  </thead>\n",
       "  <tbody>\n",
       "    <tr>\n",
       "      <th>demand_summary</th>\n",
       "      <td>class YearsElectrified   M_k...</td>\n",
       "      <td>0.631579</td>\n",
       "    </tr>\n",
       "    <tr>\n",
       "      <th>hourly_profiles</th>\n",
       "      <td>class YearsElectrified  m...</td>\n",
       "      <td>0.625520</td>\n",
       "    </tr>\n",
       "  </tbody>\n",
       "</table>\n",
       "</div>"
      ],
      "text/plain": [
       "                                                        valid_data  \\\n",
       "submodel_name                                                        \n",
       "demand_summary                     class YearsElectrified   M_k...   \n",
       "hourly_profiles                       class YearsElectrified  m...   \n",
       "\n",
       "                 uncertainty_index  \n",
       "submodel_name                       \n",
       "demand_summary            0.631579  \n",
       "hourly_profiles           0.625520  "
      ]
     },
     "execution_count": 6,
     "metadata": {},
     "output_type": "execute_result"
    }
   ],
   "source": [
    "ods.name = 'demand_summary'\n",
    "ohp.name = 'hourly_profiles'\n",
    "ec.dataUncertainty([ods, ohp], 2, 0.85)"
   ]
  },
  {
   "cell_type": "code",
   "execution_count": null,
   "metadata": {
    "collapsed": true
   },
   "outputs": [],
   "source": []
  }
 ],
 "metadata": {
  "anaconda-cloud": {},
  "kernelspec": {
   "display_name": "Python [conda root]",
   "language": "python",
   "name": "conda-root-py"
  },
  "language_info": {
   "codemirror_mode": {
    "name": "ipython",
    "version": 3
   },
   "file_extension": ".py",
   "mimetype": "text/x-python",
   "name": "python",
   "nbconvert_exporter": "python",
   "pygments_lexer": "ipython3",
   "version": "3.5.2"
  }
 },
 "nbformat": 4,
 "nbformat_minor": 2
}
