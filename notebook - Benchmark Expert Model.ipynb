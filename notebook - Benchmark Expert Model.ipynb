{
 "cells": [
  {
   "cell_type": "markdown",
   "metadata": {},
   "source": [
    "# Domestic Load Research Programme Expert Model Extracted from DPET"
   ]
  },
  {
   "cell_type": "markdown",
   "metadata": {},
   "source": [
    "This notebook requires access to a data directory with data extracted from the Demand Planning & Electrification Tool (DPET). The data files must be in the directory on the path `/data/dpet/` .\n",
    "\n",
    "This expert model has been extracted from DPET according to Table 6 set out in the Geo-based Load Forecast Standard (p.47) using software released with 2013 data and the following user input settings:\n",
    "* 2011 income values\n",
    "* all default settings\n",
    "\n",
    "The following geographic locations were selected to obtain the hourly profile and summary datasets for each class:\n",
    "\n",
    "- **rural:** Westrand District Municipality (R1000 mean income)\n",
    "- **village:** Westrand District Municipality (R1000 mean income)\n",
    "- **informal settlement:** City of Johannesburg Metro (R2000 mean income)\n",
    "- **township:** City of Johannesburg Metro (R5500 mean income)\n",
    "- **urban residential (lsm7):** City of Johannesburg Metro (R10 000 mean income)\n",
    "- **urban residential (lsm8-9):** City of Johannesburg Metro (R18 000 mean income)\n",
    "- **urban townhouse (lsm7-8):** City of Johannesburg Metro (R15 500 mean income) \n",
    "\n",
    "DPET does not provide data for **urban townhouse (lsm9-10)** and **urban estate (lsm10+)** consumers (above R20k monthly income)."
   ]
  },
  {
   "cell_type": "code",
   "execution_count": null,
   "metadata": {},
   "outputs": [],
   "source": [
    "#Import statements\n",
    "import benchmark.bm0 as bm0"
   ]
  },
  {
   "cell_type": "code",
   "execution_count": null,
   "metadata": {},
   "outputs": [],
   "source": [
    "bm0.bmHourlyProfiles()['class'].unique()"
   ]
  },
  {
   "cell_type": "markdown",
   "metadata": {},
   "source": [
    "## Interrogate Summary Class Data"
   ]
  },
  {
   "cell_type": "code",
   "execution_count": null,
   "metadata": {},
   "outputs": [],
   "source": [
    "[print(c) for c in bm0.bmDemandSummary()['class'].unique()]"
   ]
  },
  {
   "cell_type": "code",
   "execution_count": null,
   "metadata": {},
   "outputs": [],
   "source": [
    "bm0.bmDemandSummary().head()"
   ]
  },
  {
   "cell_type": "code",
   "execution_count": null,
   "metadata": {},
   "outputs": [],
   "source": [
    "bm0.plotBmDemandSummary('township')\n",
    "bm0.plot15YearBmDemandSummary()"
   ]
  },
  {
   "cell_type": "markdown",
   "metadata": {},
   "source": [
    "## Interrogate Hourly Profile Data"
   ]
  },
  {
   "cell_type": "code",
   "execution_count": null,
   "metadata": {},
   "outputs": [],
   "source": [
    "bm0.plotBmHourlyProfiles(0, 5, 'MP1000', title= 'Benchmark customer class: Rural Mpumalanga - 0-5 Years Electrified')"
   ]
  },
  {
   "cell_type": "code",
   "execution_count": null,
   "metadata": {},
   "outputs": [],
   "source": [
    "bm0.plotBmHourlyProfiles(5, 10, 'LIM2000', title= \n",
    "                         'Benchmark customer class: Informal Settlement Limpopo - 5-10 Years Electrified')"
   ]
  },
  {
   "cell_type": "code",
   "execution_count": null,
   "metadata": {},
   "outputs": [],
   "source": [
    "bm0.plotBmHourlyProfiles(0, 5, 'MP2000', title= \n",
    "                         'Benchmark customer class: Informal Settlement Mpumalanga - 0-5 Years Electrified')"
   ]
  },
  {
   "cell_type": "code",
   "execution_count": null,
   "metadata": {},
   "outputs": [],
   "source": [
    "bm0.plotBmHourlyProfiles(0, 5, 'EC2000', title= \n",
    "                         'Benchmark customer class: Informal Settlement Eastern Cape - 0-5 Years Electrified')"
   ]
  },
  {
   "cell_type": "code",
   "execution_count": null,
   "metadata": {},
   "outputs": [],
   "source": [
    "bm0.plotBmHourlyProfiles(12, 15, 'GP5500', title= \n",
    "                         'Benchmark customer class: Township Gauteng - 12+ Years Electrified')"
   ]
  },
  {
   "cell_type": "code",
   "execution_count": null,
   "metadata": {},
   "outputs": [],
   "source": [
    "bm0.plotBmHourlyProfiles(6, 7, 'KZN9500', title= \n",
    "                         'Benchmark customer class: Lower Middle Class KwaZulu Natal - 7+ Years Electrified')"
   ]
  },
  {
   "cell_type": "code",
   "execution_count": null,
   "metadata": {},
   "outputs": [],
   "source": [
    "bm0.plotBmHourlyProfiles(12, 15, 'KZN18000', title= \n",
    "                         'Benchmark customer class: Upper Middle Class KwaZulu Natal - 12+ Years Electrified')"
   ]
  },
  {
   "cell_type": "code",
   "execution_count": null,
   "metadata": {},
   "outputs": [],
   "source": [
    "bm0.plotBmHourlyProfiles(12, 15, 'WC18000', title= \n",
    "                         'Benchmark customer class: Upper Middle Class Western Cape - 12+ Years Electrified')"
   ]
  },
  {
   "cell_type": "code",
   "execution_count": null,
   "metadata": {},
   "outputs": [],
   "source": []
  }
 ],
 "metadata": {
  "anaconda-cloud": {},
  "kernelspec": {
   "display_name": "Python [default]",
   "language": "python",
   "name": "python3"
  },
  "language_info": {
   "codemirror_mode": {
    "name": "ipython",
    "version": 3
   },
   "file_extension": ".py",
   "mimetype": "text/x-python",
   "name": "python",
   "nbconvert_exporter": "python",
   "pygments_lexer": "ipython3",
   "version": "3.5.5"
  }
 },
 "nbformat": 4,
 "nbformat_minor": 2
}
