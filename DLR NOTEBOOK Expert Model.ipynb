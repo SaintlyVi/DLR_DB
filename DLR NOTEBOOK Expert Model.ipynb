{
 "cells": [
  {
   "cell_type": "markdown",
   "metadata": {},
   "source": [
    "# Domestic Load Research Programme Expert Model Extracted from DPET"
   ]
  },
  {
   "cell_type": "markdown",
   "metadata": {},
   "source": [
    "This notebook requires access to a data directory with data extracted from the Demand Planning & Electrification Tool (DPET). The data files must be in the directory on the path `/data/dpet/` .\n",
    "\n",
    "This expert model has been extracted from DPET according to Table 6 set out in the Geo-based Load Forecast Standard (p.47) using software released with 2013 data and the following user input settings:\n",
    "* 2011 income values\n",
    "* all default settings\n",
    "\n",
    "The following geographic locations were selected to obtain the hourly profile and summary datasets for each class:\n",
    "\n",
    "- **rural:** Westrand District Municipality (R1000 mean income)\n",
    "- **village:** Westrand District Municipality (R1000 mean income)\n",
    "- **informal settlement:** City of Johannesburg Metro (R2000 mean income)\n",
    "- **township:** City of Johannesburg Metro (R5500 mean income)\n",
    "- **urban residential (lsm7):** City of Johannesburg Metro (R10 000 mean income)\n",
    "- **urban residential (lsm8-9):** City of Johannesburg Metro (R18 000 mean income)\n",
    "- **urban townhouse (lsm7-8):** City of Johannesburg Metro (R15 500 mean income) \n",
    "\n",
    "DPET does not provide data for **urban townhouse (lsm9-10)** and **urban estate (lsm10+)** consumers (above R20k monthly income)."
   ]
  },
  {
   "cell_type": "code",
   "execution_count": 1,
   "metadata": {
    "collapsed": false
   },
   "outputs": [
    {
     "data": {
      "text/html": [
       "<script>requirejs.config({paths: { 'plotly': ['https://cdn.plot.ly/plotly-latest.min']},});if(!window.Plotly) {{require(['plotly'],function(plotly) {window.Plotly=plotly;});}}</script>"
      ],
      "text/vnd.plotly.v1+html": [
       "<script>requirejs.config({paths: { 'plotly': ['https://cdn.plot.ly/plotly-latest.min']},});if(!window.Plotly) {{require(['plotly'],function(plotly) {window.Plotly=plotly;});}}</script>"
      ]
     },
     "metadata": {},
     "output_type": "display_data"
    },
    {
     "data": {
      "text/html": [
       "<script>requirejs.config({paths: { 'plotly': ['https://cdn.plot.ly/plotly-latest.min']},});if(!window.Plotly) {{require(['plotly'],function(plotly) {window.Plotly=plotly;});}}</script>"
      ],
      "text/vnd.plotly.v1+html": [
       "<script>requirejs.config({paths: { 'plotly': ['https://cdn.plot.ly/plotly-latest.min']},});if(!window.Plotly) {{require(['plotly'],function(plotly) {window.Plotly=plotly;});}}</script>"
      ]
     },
     "metadata": {},
     "output_type": "display_data"
    }
   ],
   "source": [
    "#Import statements\n",
    "import expertmod.excore as exc\n",
    "import evaluation.evalhelpers as eh"
   ]
  },
  {
   "cell_type": "markdown",
   "metadata": {},
   "source": [
    "## Interrogate Summary Class Data"
   ]
  },
  {
   "cell_type": "code",
   "execution_count": 2,
   "metadata": {
    "collapsed": false
   },
   "outputs": [
    {
     "name": "stdout",
     "output_type": "stream",
     "text": [
      "informal_settlement\n",
      "rural\n",
      "township\n",
      "urban_res_7\n",
      "urban_res_8-9\n",
      "urban_townhouse_7-8\n"
     ]
    },
    {
     "data": {
      "text/plain": [
       "[None, None, None, None, None, None]"
      ]
     },
     "execution_count": 2,
     "metadata": {},
     "output_type": "execute_result"
    }
   ],
   "source": [
    "[print(c) for c in exc.dpetDemandSummary()['class'].unique()]"
   ]
  },
  {
   "cell_type": "code",
   "execution_count": 4,
   "metadata": {
    "collapsed": false
   },
   "outputs": [
    {
     "data": {
      "text/html": [
       "<div>\n",
       "<style scoped>\n",
       "    .dataframe tbody tr th:only-of-type {\n",
       "        vertical-align: middle;\n",
       "    }\n",
       "\n",
       "    .dataframe tbody tr th {\n",
       "        vertical-align: top;\n",
       "    }\n",
       "\n",
       "    .dataframe thead th {\n",
       "        text-align: right;\n",
       "    }\n",
       "</style>\n",
       "<table border=\"1\" class=\"dataframe\">\n",
       "  <thead>\n",
       "    <tr style=\"text-align: right;\">\n",
       "      <th></th>\n",
       "      <th>YearsElectrified</th>\n",
       "      <th>Energy [kWh]</th>\n",
       "      <th>ADMD [kVA]</th>\n",
       "      <th>Alpha</th>\n",
       "      <th>Beta</th>\n",
       "      <th>Circuit Breaker</th>\n",
       "      <th>class</th>\n",
       "    </tr>\n",
       "  </thead>\n",
       "  <tbody>\n",
       "    <tr>\n",
       "      <th>0</th>\n",
       "      <td>1</td>\n",
       "      <td>151.123757</td>\n",
       "      <td>0.659224</td>\n",
       "      <td>0.216751</td>\n",
       "      <td>1.295713</td>\n",
       "      <td>20</td>\n",
       "      <td>informal_settlement</td>\n",
       "    </tr>\n",
       "    <tr>\n",
       "      <th>1</th>\n",
       "      <td>2</td>\n",
       "      <td>154.539101</td>\n",
       "      <td>0.672016</td>\n",
       "      <td>0.218622</td>\n",
       "      <td>1.277860</td>\n",
       "      <td>20</td>\n",
       "      <td>informal_settlement</td>\n",
       "    </tr>\n",
       "    <tr>\n",
       "      <th>2</th>\n",
       "      <td>3</td>\n",
       "      <td>158.168829</td>\n",
       "      <td>0.685610</td>\n",
       "      <td>0.220576</td>\n",
       "      <td>1.259346</td>\n",
       "      <td>20</td>\n",
       "      <td>informal_settlement</td>\n",
       "    </tr>\n",
       "    <tr>\n",
       "      <th>3</th>\n",
       "      <td>4</td>\n",
       "      <td>161.819533</td>\n",
       "      <td>0.699283</td>\n",
       "      <td>0.222505</td>\n",
       "      <td>1.241173</td>\n",
       "      <td>20</td>\n",
       "      <td>informal_settlement</td>\n",
       "    </tr>\n",
       "    <tr>\n",
       "      <th>4</th>\n",
       "      <td>5</td>\n",
       "      <td>165.297803</td>\n",
       "      <td>0.712310</td>\n",
       "      <td>0.224310</td>\n",
       "      <td>1.224252</td>\n",
       "      <td>20</td>\n",
       "      <td>informal_settlement</td>\n",
       "    </tr>\n",
       "  </tbody>\n",
       "</table>\n",
       "</div>"
      ],
      "text/plain": [
       "   YearsElectrified  Energy [kWh]  ADMD [kVA]     Alpha      Beta  \\\n",
       "0                 1    151.123757    0.659224  0.216751  1.295713   \n",
       "1                 2    154.539101    0.672016  0.218622  1.277860   \n",
       "2                 3    158.168829    0.685610  0.220576  1.259346   \n",
       "3                 4    161.819533    0.699283  0.222505  1.241173   \n",
       "4                 5    165.297803    0.712310  0.224310  1.224252   \n",
       "\n",
       "   Circuit Breaker                class  \n",
       "0               20  informal_settlement  \n",
       "1               20  informal_settlement  \n",
       "2               20  informal_settlement  \n",
       "3               20  informal_settlement  \n",
       "4               20  informal_settlement  "
      ]
     },
     "execution_count": 4,
     "metadata": {},
     "output_type": "execute_result"
    }
   ],
   "source": [
    "exc.dpetDemandSummary().head()"
   ]
  },
  {
   "cell_type": "code",
   "execution_count": 7,
   "metadata": {
    "collapsed": false
   },
   "outputs": [
    {
     "name": "stderr",
     "output_type": "stream",
     "text": [
      "/Users/SaintlyVi/Documents/MScMac/DLR_DB/expertmod/excore.py:80: FutureWarning:\n",
      "\n",
      "\n",
      "Passing list-likes to .loc or [] with any missing label will raise\n",
      "KeyError in the future, you can use .reindex() as an alternative.\n",
      "\n",
      "See the documentation here:\n",
      "http://pandas.pydata.org/pandas-docs/stable/indexing.html#deprecate-loc-reindex-listlike\n",
      "\n",
      "/Users/SaintlyVi/anaconda3/lib/python3.5/site-packages/pandas/core/indexing.py:1367: FutureWarning:\n",
      "\n",
      "\n",
      "Passing list-likes to .loc or [] with any missing label will raise\n",
      "KeyError in the future, you can use .reindex() as an alternative.\n",
      "\n",
      "See the documentation here:\n",
      "http://pandas.pydata.org/pandas-docs/stable/indexing.html#deprecate-loc-reindex-listlike\n",
      "\n"
     ]
    },
    {
     "data": {
      "application/vnd.plotly.v1+json": {
       "data": [
        {
         "name": "township",
         "type": "bar",
         "x": [
          null,
          null,
          null,
          null,
          null,
          null,
          null,
          null,
          null,
          null,
          null,
          null,
          null,
          null,
          null
         ],
         "y": [
          346.69324862009,
          350.6338687703979,
          355.09670555313227,
          360.0431539333823,
          365.43460887623746,
          371.3720072062824,
          377.9743549248354,
          385.2301507620812,
          393.12789344820817,
          401.8428907945041,
          411.50927855537935,
          422.05379737569467,
          433.40318790031614,
          445.4841907741048,
          458.223546641926
         ]
        }
       ],
       "layout": {
        "title": "Annualised Monthly Energy Consumption for \"township\" Customer Class",
        "xaxis": {
         "tickfont": {
          "color": "rgb(107, 107, 107)",
          "size": 14
         },
         "title": "years since electrification"
        },
        "yaxis": {
         "title": "average annual kWh/month",
         "titlefont": {
          "color": "rgb(107, 107, 107)",
          "size": 16
         }
        }
       }
      },
      "text/html": [
       "<div id=\"f8adbc92-e0f5-41db-ae43-224709778641\" style=\"height: 525px; width: 100%;\" class=\"plotly-graph-div\"></div><script type=\"text/javascript\">require([\"plotly\"], function(Plotly) { window.PLOTLYENV=window.PLOTLYENV || {};window.PLOTLYENV.BASE_URL=\"https://plot.ly\";Plotly.newPlot(\"f8adbc92-e0f5-41db-ae43-224709778641\", [{\"name\": \"township\", \"type\": \"bar\", \"y\": [346.69324862009, 350.6338687703979, 355.09670555313227, 360.0431539333823, 365.43460887623746, 371.3720072062824, 377.9743549248354, 385.2301507620812, 393.12789344820817, 401.8428907945041, 411.50927855537935, 422.05379737569467, 433.40318790031614, 445.4841907741048, 458.223546641926], \"x\": [null, null, null, null, null, null, null, null, null, null, null, null, null, null, null]}], {\"yaxis\": {\"titlefont\": {\"color\": \"rgb(107, 107, 107)\", \"size\": 16}, \"title\": \"average annual kWh/month\"}, \"xaxis\": {\"tickfont\": {\"color\": \"rgb(107, 107, 107)\", \"size\": 14}, \"title\": \"years since electrification\"}, \"title\": \"Annualised Monthly Energy Consumption for \\\"township\\\" Customer Class\"}, {\"showLink\": true, \"linkText\": \"Export to plot.ly\"})});</script>"
      ],
      "text/vnd.plotly.v1+html": [
       "<div id=\"f8adbc92-e0f5-41db-ae43-224709778641\" style=\"height: 525px; width: 100%;\" class=\"plotly-graph-div\"></div><script type=\"text/javascript\">require([\"plotly\"], function(Plotly) { window.PLOTLYENV=window.PLOTLYENV || {};window.PLOTLYENV.BASE_URL=\"https://plot.ly\";Plotly.newPlot(\"f8adbc92-e0f5-41db-ae43-224709778641\", [{\"name\": \"township\", \"type\": \"bar\", \"y\": [346.69324862009, 350.6338687703979, 355.09670555313227, 360.0431539333823, 365.43460887623746, 371.3720072062824, 377.9743549248354, 385.2301507620812, 393.12789344820817, 401.8428907945041, 411.50927855537935, 422.05379737569467, 433.40318790031614, 445.4841907741048, 458.223546641926], \"x\": [null, null, null, null, null, null, null, null, null, null, null, null, null, null, null]}], {\"yaxis\": {\"titlefont\": {\"color\": \"rgb(107, 107, 107)\", \"size\": 16}, \"title\": \"average annual kWh/month\"}, \"xaxis\": {\"tickfont\": {\"color\": \"rgb(107, 107, 107)\", \"size\": 14}, \"title\": \"years since electrification\"}, \"title\": \"Annualised Monthly Energy Consumption for \\\"township\\\" Customer Class\"}, {\"showLink\": true, \"linkText\": \"Export to plot.ly\"})});</script>"
      ]
     },
     "metadata": {},
     "output_type": "display_data"
    },
    {
     "name": "stderr",
     "output_type": "stream",
     "text": [
      "/Users/SaintlyVi/Documents/MScMac/DLR_DB/expertmod/excore.py:114: FutureWarning:\n",
      "\n",
      "\n",
      "Passing list-likes to .loc or [] with any missing label will raise\n",
      "KeyError in the future, you can use .reindex() as an alternative.\n",
      "\n",
      "See the documentation here:\n",
      "http://pandas.pydata.org/pandas-docs/stable/indexing.html#deprecate-loc-reindex-listlike\n",
      "\n"
     ]
    },
    {
     "data": {
      "application/vnd.plotly.v1+json": {
       "data": [
        {
         "fill": "tonexty",
         "mode": "lines",
         "name": "rural",
         "type": "scatter",
         "x": [
          null,
          null,
          null,
          null,
          null,
          null,
          null,
          null,
          null,
          null,
          null,
          null,
          null,
          null,
          null
         ],
         "y": [
          79.66273901968162,
          82.2105003354792,
          84.30732485850751,
          86.5019026113042,
          89.34292361640692,
          92.19483029077335,
          94.53647035665549,
          97.08814179453304,
          100.57014258488563,
          104.0691316045438,
          106.43177977432444,
          108.01840314068671,
          109.18931775008978,
          110.30483964899321,
          111.72528488385578
         ]
        },
        {
         "fill": "tonexty",
         "mode": "lines",
         "name": "informal_settlement",
         "type": "scatter",
         "x": [
          null,
          null,
          null,
          null,
          null,
          null,
          null,
          null,
          null,
          null,
          null,
          null,
          null,
          null,
          null
         ],
         "y": [
          151.12375735804795,
          154.5391006504308,
          158.1688287576447,
          161.81953266764032,
          165.29780336836845,
          168.7905198530858,
          172.60747115378345,
          176.73961331650392,
          181.17790238729717,
          186.0567355184976,
          191.3253892731428,
          196.69713881333382,
          201.8852593011699,
          206.60302589875354,
          210.56371376818572
         ]
        },
        {
         "fill": "tonexty",
         "mode": "lines",
         "name": "township",
         "type": "scatter",
         "x": [
          null,
          null,
          null,
          null,
          null,
          null,
          null,
          null,
          null,
          null,
          null,
          null,
          null,
          null,
          null
         ],
         "y": [
          346.69324862009,
          350.6338687703979,
          355.09670555313227,
          360.0431539333823,
          365.43460887623746,
          371.3720072062824,
          377.9743549248354,
          385.2301507620812,
          393.12789344820817,
          401.8428907945041,
          411.50927855537935,
          422.05379737569467,
          433.40318790031614,
          445.4841907741048,
          458.223546641926
         ]
        },
        {
         "fill": "tonexty",
         "mode": "lines",
         "name": "urban_res_7",
         "type": "scatter",
         "x": [
          null,
          null,
          null,
          null,
          null,
          null,
          null,
          null,
          null,
          null,
          null,
          null,
          null,
          null,
          null
         ],
         "y": [
          530.8329007184772,
          535.8405272622241,
          541.5655003375358,
          547.9718183781124,
          555.0234798176525,
          562.6844830898528,
          570.9188266284153,
          579.690508867037,
          588.9635282394178,
          598.7018831792564,
          608.8695721202512,
          619.4305934961026,
          630.3489457405091,
          641.5886272871691,
          653.1136365697809
         ]
        },
        {
         "fill": "tonexty",
         "mode": "lines",
         "name": "urban_townhouse_7-8",
         "type": "scatter",
         "x": [
          null,
          null,
          null,
          null,
          null,
          null,
          null,
          null,
          null,
          null,
          null,
          null,
          null,
          null,
          null
         ],
         "y": [
          649.3856808787348,
          656.1625284834455,
          663.0625508022688,
          670.0704923253485,
          677.171097542828,
          684.3491109448526,
          691.5892770215663,
          698.8763402631105,
          706.1950451596329,
          713.5301362012718,
          720.8663578781758,
          728.1884546804868,
          735.4811710983488,
          742.7292516219055,
          749.9174407413002
         ]
        },
        {
         "fill": "tonexty",
         "mode": "lines",
         "name": "urban_res_8-9",
         "type": "scatter",
         "x": [
          null,
          null,
          null,
          null,
          null,
          null,
          null,
          null,
          null,
          null,
          null,
          null,
          null,
          null,
          null
         ],
         "y": [
          719.8894363753836,
          726.8822966008038,
          733.9577817692102,
          741.1029061195038,
          748.3046838905899,
          755.5501293213672,
          762.8262566507398,
          770.1200801176095,
          777.4186139608759,
          784.708872419444,
          791.9778697322126,
          799.212620138086,
          806.400137875966,
          813.5274371847535,
          820.5815323033502
         ]
        }
       ],
       "layout": {
        "title": "Annualised Monthly Energy Consumption for Domestic Energy Consumers",
        "xaxis": {
         "tickfont": {
          "color": "rgb(107, 107, 107)",
          "size": 14
         },
         "title": "years since electrification"
        },
        "yaxis": {
         "title": "average annual kWh/month",
         "titlefont": {
          "color": "rgb(107, 107, 107)",
          "size": 16
         }
        }
       }
      },
      "text/html": [
       "<div id=\"ae1bb4a6-0235-42ac-9e15-bc9bb86dad49\" style=\"height: 525px; width: 100%;\" class=\"plotly-graph-div\"></div><script type=\"text/javascript\">require([\"plotly\"], function(Plotly) { window.PLOTLYENV=window.PLOTLYENV || {};window.PLOTLYENV.BASE_URL=\"https://plot.ly\";Plotly.newPlot(\"ae1bb4a6-0235-42ac-9e15-bc9bb86dad49\", [{\"mode\": \"lines\", \"name\": \"rural\", \"y\": [79.66273901968162, 82.2105003354792, 84.30732485850751, 86.5019026113042, 89.34292361640692, 92.19483029077335, 94.53647035665549, 97.08814179453304, 100.57014258488563, 104.0691316045438, 106.43177977432444, 108.01840314068671, 109.18931775008978, 110.30483964899321, 111.72528488385578], \"fill\": \"tonexty\", \"type\": \"scatter\", \"x\": [null, null, null, null, null, null, null, null, null, null, null, null, null, null, null]}, {\"mode\": \"lines\", \"name\": \"informal_settlement\", \"y\": [151.12375735804795, 154.5391006504308, 158.1688287576447, 161.81953266764032, 165.29780336836845, 168.7905198530858, 172.60747115378345, 176.73961331650392, 181.17790238729717, 186.0567355184976, 191.3253892731428, 196.69713881333382, 201.8852593011699, 206.60302589875354, 210.56371376818572], \"fill\": \"tonexty\", \"type\": \"scatter\", \"x\": [null, null, null, null, null, null, null, null, null, null, null, null, null, null, null]}, {\"mode\": \"lines\", \"name\": \"township\", \"y\": [346.69324862009, 350.6338687703979, 355.09670555313227, 360.0431539333823, 365.43460887623746, 371.3720072062824, 377.9743549248354, 385.2301507620812, 393.12789344820817, 401.8428907945041, 411.50927855537935, 422.05379737569467, 433.40318790031614, 445.4841907741048, 458.223546641926], \"fill\": \"tonexty\", \"type\": \"scatter\", \"x\": [null, null, null, null, null, null, null, null, null, null, null, null, null, null, null]}, {\"mode\": \"lines\", \"name\": \"urban_res_7\", \"y\": [530.8329007184772, 535.8405272622241, 541.5655003375358, 547.9718183781124, 555.0234798176525, 562.6844830898528, 570.9188266284153, 579.690508867037, 588.9635282394178, 598.7018831792564, 608.8695721202512, 619.4305934961026, 630.3489457405091, 641.5886272871691, 653.1136365697809], \"fill\": \"tonexty\", \"type\": \"scatter\", \"x\": [null, null, null, null, null, null, null, null, null, null, null, null, null, null, null]}, {\"mode\": \"lines\", \"name\": \"urban_townhouse_7-8\", \"y\": [649.3856808787348, 656.1625284834455, 663.0625508022688, 670.0704923253485, 677.171097542828, 684.3491109448526, 691.5892770215663, 698.8763402631105, 706.1950451596329, 713.5301362012718, 720.8663578781758, 728.1884546804868, 735.4811710983488, 742.7292516219055, 749.9174407413002], \"fill\": \"tonexty\", \"type\": \"scatter\", \"x\": [null, null, null, null, null, null, null, null, null, null, null, null, null, null, null]}, {\"mode\": \"lines\", \"name\": \"urban_res_8-9\", \"y\": [719.8894363753836, 726.8822966008038, 733.9577817692102, 741.1029061195038, 748.3046838905899, 755.5501293213672, 762.8262566507398, 770.1200801176095, 777.4186139608759, 784.708872419444, 791.9778697322126, 799.212620138086, 806.400137875966, 813.5274371847535, 820.5815323033502], \"fill\": \"tonexty\", \"type\": \"scatter\", \"x\": [null, null, null, null, null, null, null, null, null, null, null, null, null, null, null]}], {\"yaxis\": {\"titlefont\": {\"color\": \"rgb(107, 107, 107)\", \"size\": 16}, \"title\": \"average annual kWh/month\"}, \"xaxis\": {\"tickfont\": {\"color\": \"rgb(107, 107, 107)\", \"size\": 14}, \"title\": \"years since electrification\"}, \"title\": \"Annualised Monthly Energy Consumption for Domestic Energy Consumers\"}, {\"showLink\": true, \"linkText\": \"Export to plot.ly\"})});</script>"
      ],
      "text/vnd.plotly.v1+html": [
       "<div id=\"ae1bb4a6-0235-42ac-9e15-bc9bb86dad49\" style=\"height: 525px; width: 100%;\" class=\"plotly-graph-div\"></div><script type=\"text/javascript\">require([\"plotly\"], function(Plotly) { window.PLOTLYENV=window.PLOTLYENV || {};window.PLOTLYENV.BASE_URL=\"https://plot.ly\";Plotly.newPlot(\"ae1bb4a6-0235-42ac-9e15-bc9bb86dad49\", [{\"mode\": \"lines\", \"name\": \"rural\", \"y\": [79.66273901968162, 82.2105003354792, 84.30732485850751, 86.5019026113042, 89.34292361640692, 92.19483029077335, 94.53647035665549, 97.08814179453304, 100.57014258488563, 104.0691316045438, 106.43177977432444, 108.01840314068671, 109.18931775008978, 110.30483964899321, 111.72528488385578], \"fill\": \"tonexty\", \"type\": \"scatter\", \"x\": [null, null, null, null, null, null, null, null, null, null, null, null, null, null, null]}, {\"mode\": \"lines\", \"name\": \"informal_settlement\", \"y\": [151.12375735804795, 154.5391006504308, 158.1688287576447, 161.81953266764032, 165.29780336836845, 168.7905198530858, 172.60747115378345, 176.73961331650392, 181.17790238729717, 186.0567355184976, 191.3253892731428, 196.69713881333382, 201.8852593011699, 206.60302589875354, 210.56371376818572], \"fill\": \"tonexty\", \"type\": \"scatter\", \"x\": [null, null, null, null, null, null, null, null, null, null, null, null, null, null, null]}, {\"mode\": \"lines\", \"name\": \"township\", \"y\": [346.69324862009, 350.6338687703979, 355.09670555313227, 360.0431539333823, 365.43460887623746, 371.3720072062824, 377.9743549248354, 385.2301507620812, 393.12789344820817, 401.8428907945041, 411.50927855537935, 422.05379737569467, 433.40318790031614, 445.4841907741048, 458.223546641926], \"fill\": \"tonexty\", \"type\": \"scatter\", \"x\": [null, null, null, null, null, null, null, null, null, null, null, null, null, null, null]}, {\"mode\": \"lines\", \"name\": \"urban_res_7\", \"y\": [530.8329007184772, 535.8405272622241, 541.5655003375358, 547.9718183781124, 555.0234798176525, 562.6844830898528, 570.9188266284153, 579.690508867037, 588.9635282394178, 598.7018831792564, 608.8695721202512, 619.4305934961026, 630.3489457405091, 641.5886272871691, 653.1136365697809], \"fill\": \"tonexty\", \"type\": \"scatter\", \"x\": [null, null, null, null, null, null, null, null, null, null, null, null, null, null, null]}, {\"mode\": \"lines\", \"name\": \"urban_townhouse_7-8\", \"y\": [649.3856808787348, 656.1625284834455, 663.0625508022688, 670.0704923253485, 677.171097542828, 684.3491109448526, 691.5892770215663, 698.8763402631105, 706.1950451596329, 713.5301362012718, 720.8663578781758, 728.1884546804868, 735.4811710983488, 742.7292516219055, 749.9174407413002], \"fill\": \"tonexty\", \"type\": \"scatter\", \"x\": [null, null, null, null, null, null, null, null, null, null, null, null, null, null, null]}, {\"mode\": \"lines\", \"name\": \"urban_res_8-9\", \"y\": [719.8894363753836, 726.8822966008038, 733.9577817692102, 741.1029061195038, 748.3046838905899, 755.5501293213672, 762.8262566507398, 770.1200801176095, 777.4186139608759, 784.708872419444, 791.9778697322126, 799.212620138086, 806.400137875966, 813.5274371847535, 820.5815323033502], \"fill\": \"tonexty\", \"type\": \"scatter\", \"x\": [null, null, null, null, null, null, null, null, null, null, null, null, null, null, null]}], {\"yaxis\": {\"titlefont\": {\"color\": \"rgb(107, 107, 107)\", \"size\": 16}, \"title\": \"average annual kWh/month\"}, \"xaxis\": {\"tickfont\": {\"color\": \"rgb(107, 107, 107)\", \"size\": 14}, \"title\": \"years since electrification\"}, \"title\": \"Annualised Monthly Energy Consumption for Domestic Energy Consumers\"}, {\"showLink\": true, \"linkText\": \"Export to plot.ly\"})});</script>"
      ]
     },
     "metadata": {},
     "output_type": "display_data"
    }
   ],
   "source": [
    "exc.plotClassSummary('township')\n",
    "exc.plotAllSummaries()"
   ]
  },
  {
   "cell_type": "markdown",
   "metadata": {},
   "source": [
    "## Interrogate Hourly Profile Data"
   ]
  },
  {
   "cell_type": "code",
   "execution_count": 5,
   "metadata": {
    "collapsed": false
   },
   "outputs": [
    {
     "data": {
      "text/html": [
       "<div>\n",
       "<style scoped>\n",
       "    .dataframe tbody tr th:only-of-type {\n",
       "        vertical-align: middle;\n",
       "    }\n",
       "\n",
       "    .dataframe tbody tr th {\n",
       "        vertical-align: top;\n",
       "    }\n",
       "\n",
       "    .dataframe thead th {\n",
       "        text-align: right;\n",
       "    }\n",
       "</style>\n",
       "<table border=\"1\" class=\"dataframe\">\n",
       "  <thead>\n",
       "    <tr style=\"text-align: right;\">\n",
       "      <th></th>\n",
       "      <th>Year</th>\n",
       "      <th>Energy [kWh]</th>\n",
       "      <th>Month</th>\n",
       "      <th>Day Type</th>\n",
       "      <th>Time of day [hour]</th>\n",
       "      <th>Mean [kVA]</th>\n",
       "      <th>Stdev [kVA]</th>\n",
       "      <th>class</th>\n",
       "    </tr>\n",
       "  </thead>\n",
       "  <tbody>\n",
       "    <tr>\n",
       "      <th>100</th>\n",
       "      <td>1</td>\n",
       "      <td>151.124</td>\n",
       "      <td>February</td>\n",
       "      <td>Saturday</td>\n",
       "      <td>4</td>\n",
       "      <td>0.124</td>\n",
       "      <td>0.044</td>\n",
       "      <td>informal_settlement</td>\n",
       "    </tr>\n",
       "    <tr>\n",
       "      <th>101</th>\n",
       "      <td>1</td>\n",
       "      <td>151.124</td>\n",
       "      <td>February</td>\n",
       "      <td>Saturday</td>\n",
       "      <td>5</td>\n",
       "      <td>0.152</td>\n",
       "      <td>0.058</td>\n",
       "      <td>informal_settlement</td>\n",
       "    </tr>\n",
       "    <tr>\n",
       "      <th>102</th>\n",
       "      <td>1</td>\n",
       "      <td>151.124</td>\n",
       "      <td>February</td>\n",
       "      <td>Saturday</td>\n",
       "      <td>6</td>\n",
       "      <td>0.191</td>\n",
       "      <td>0.065</td>\n",
       "      <td>informal_settlement</td>\n",
       "    </tr>\n",
       "    <tr>\n",
       "      <th>103</th>\n",
       "      <td>1</td>\n",
       "      <td>151.124</td>\n",
       "      <td>February</td>\n",
       "      <td>Saturday</td>\n",
       "      <td>7</td>\n",
       "      <td>0.215</td>\n",
       "      <td>0.066</td>\n",
       "      <td>informal_settlement</td>\n",
       "    </tr>\n",
       "    <tr>\n",
       "      <th>104</th>\n",
       "      <td>1</td>\n",
       "      <td>151.124</td>\n",
       "      <td>February</td>\n",
       "      <td>Saturday</td>\n",
       "      <td>8</td>\n",
       "      <td>0.222</td>\n",
       "      <td>0.065</td>\n",
       "      <td>informal_settlement</td>\n",
       "    </tr>\n",
       "    <tr>\n",
       "      <th>105</th>\n",
       "      <td>1</td>\n",
       "      <td>151.124</td>\n",
       "      <td>February</td>\n",
       "      <td>Saturday</td>\n",
       "      <td>9</td>\n",
       "      <td>0.213</td>\n",
       "      <td>0.068</td>\n",
       "      <td>informal_settlement</td>\n",
       "    </tr>\n",
       "    <tr>\n",
       "      <th>106</th>\n",
       "      <td>1</td>\n",
       "      <td>151.124</td>\n",
       "      <td>February</td>\n",
       "      <td>Saturday</td>\n",
       "      <td>10</td>\n",
       "      <td>0.204</td>\n",
       "      <td>0.067</td>\n",
       "      <td>informal_settlement</td>\n",
       "    </tr>\n",
       "    <tr>\n",
       "      <th>107</th>\n",
       "      <td>1</td>\n",
       "      <td>151.124</td>\n",
       "      <td>February</td>\n",
       "      <td>Saturday</td>\n",
       "      <td>11</td>\n",
       "      <td>0.199</td>\n",
       "      <td>0.071</td>\n",
       "      <td>informal_settlement</td>\n",
       "    </tr>\n",
       "    <tr>\n",
       "      <th>108</th>\n",
       "      <td>1</td>\n",
       "      <td>151.124</td>\n",
       "      <td>February</td>\n",
       "      <td>Saturday</td>\n",
       "      <td>12</td>\n",
       "      <td>0.198</td>\n",
       "      <td>0.069</td>\n",
       "      <td>informal_settlement</td>\n",
       "    </tr>\n",
       "    <tr>\n",
       "      <th>109</th>\n",
       "      <td>1</td>\n",
       "      <td>151.124</td>\n",
       "      <td>February</td>\n",
       "      <td>Saturday</td>\n",
       "      <td>13</td>\n",
       "      <td>0.198</td>\n",
       "      <td>0.068</td>\n",
       "      <td>informal_settlement</td>\n",
       "    </tr>\n",
       "  </tbody>\n",
       "</table>\n",
       "</div>"
      ],
      "text/plain": [
       "     Year  Energy [kWh]     Month  Day Type  Time of day [hour]  Mean [kVA]  \\\n",
       "100     1       151.124  February  Saturday                   4       0.124   \n",
       "101     1       151.124  February  Saturday                   5       0.152   \n",
       "102     1       151.124  February  Saturday                   6       0.191   \n",
       "103     1       151.124  February  Saturday                   7       0.215   \n",
       "104     1       151.124  February  Saturday                   8       0.222   \n",
       "105     1       151.124  February  Saturday                   9       0.213   \n",
       "106     1       151.124  February  Saturday                  10       0.204   \n",
       "107     1       151.124  February  Saturday                  11       0.199   \n",
       "108     1       151.124  February  Saturday                  12       0.198   \n",
       "109     1       151.124  February  Saturday                  13       0.198   \n",
       "\n",
       "     Stdev [kVA]                class  \n",
       "100        0.044  informal_settlement  \n",
       "101        0.058  informal_settlement  \n",
       "102        0.065  informal_settlement  \n",
       "103        0.066  informal_settlement  \n",
       "104        0.065  informal_settlement  \n",
       "105        0.068  informal_settlement  \n",
       "106        0.067  informal_settlement  \n",
       "107        0.071  informal_settlement  \n",
       "108        0.069  informal_settlement  \n",
       "109        0.068  informal_settlement  "
      ]
     },
     "execution_count": 5,
     "metadata": {},
     "output_type": "execute_result"
    }
   ],
   "source": [
    "exc.dpetHourlyProfiles()[100:110]"
   ]
  },
  {
   "cell_type": "code",
   "execution_count": 6,
   "metadata": {
    "collapsed": false
   },
   "outputs": [
    {
     "data": {
      "application/vnd.plotly.v1+json": {
       "data": [
        {
         "hoverinfo": "name+text",
         "name": "December",
         "showscale": false,
         "text": [
          [
           "0h00<br /> 0.203 kVA"
          ],
          [
           "1h00<br /> 0.191 kVA"
          ],
          [
           "2h00<br /> 0.184 kVA"
          ],
          [
           "3h00<br /> 0.182 kVA"
          ],
          [
           "4h00<br /> 0.195 kVA"
          ],
          [
           "5h00<br /> 0.235 kVA"
          ],
          [
           "6h00<br /> 0.271 kVA"
          ],
          [
           "7h00<br /> 0.294 kVA"
          ],
          [
           "8h00<br /> 0.302 kVA"
          ],
          [
           "9h00<br /> 0.298 kVA"
          ],
          [
           "10h00<br /> 0.294 kVA"
          ],
          [
           "11h00<br /> 0.291 kVA"
          ],
          [
           "12h00<br /> 0.289 kVA"
          ],
          [
           "13h00<br /> 0.287 kVA"
          ],
          [
           "14h00<br /> 0.288 kVA"
          ],
          [
           "15h00<br /> 0.296 kVA"
          ],
          [
           "16h00<br /> 0.319 kVA"
          ],
          [
           "17h00<br /> 0.357 kVA"
          ],
          [
           "18h00<br /> 0.409 kVA"
          ],
          [
           "19h00<br /> 0.497 kVA"
          ],
          [
           "20h00<br /> 0.470 kVA"
          ],
          [
           "21h00<br /> 0.371 kVA"
          ],
          [
           "22h00<br /> 0.282 kVA"
          ],
          [
           "23h00<br /> 0.228 kVA"
          ]
         ],
         "type": "surface",
         "x": [
          [
           0,
           1
          ],
          [
           0,
           1
          ],
          [
           0,
           1
          ],
          [
           0,
           1
          ],
          [
           0,
           1
          ],
          [
           0,
           1
          ],
          [
           0,
           1
          ],
          [
           0,
           1
          ],
          [
           0,
           1
          ],
          [
           0,
           1
          ],
          [
           0,
           1
          ],
          [
           0,
           1
          ],
          [
           0,
           1
          ],
          [
           0,
           1
          ],
          [
           0,
           1
          ],
          [
           0,
           1
          ],
          [
           0,
           1
          ],
          [
           0,
           1
          ],
          [
           0,
           1
          ],
          [
           0,
           1
          ],
          [
           0,
           1
          ],
          [
           0,
           1
          ],
          [
           0,
           1
          ],
          [
           0,
           1
          ]
         ],
         "y": [
          [
           0,
           0
          ],
          [
           1,
           1
          ],
          [
           2,
           2
          ],
          [
           3,
           3
          ],
          [
           4,
           4
          ],
          [
           5,
           5
          ],
          [
           6,
           6
          ],
          [
           7,
           7
          ],
          [
           8,
           8
          ],
          [
           9,
           9
          ],
          [
           10,
           10
          ],
          [
           11,
           11
          ],
          [
           12,
           12
          ],
          [
           13,
           13
          ],
          [
           14,
           14
          ],
          [
           15,
           15
          ],
          [
           16,
           16
          ],
          [
           17,
           17
          ],
          [
           18,
           18
          ],
          [
           19,
           19
          ],
          [
           20,
           20
          ],
          [
           21,
           21
          ],
          [
           22,
           22
          ],
          [
           23,
           23
          ]
         ],
         "z": [
          [
           0.203,
           0.203
          ],
          [
           0.191,
           0.191
          ],
          [
           0.184,
           0.184
          ],
          [
           0.182,
           0.182
          ],
          [
           0.195,
           0.195
          ],
          [
           0.235,
           0.235
          ],
          [
           0.271,
           0.271
          ],
          [
           0.294,
           0.294
          ],
          [
           0.302,
           0.302
          ],
          [
           0.298,
           0.298
          ],
          [
           0.294,
           0.294
          ],
          [
           0.29100000000000004,
           0.29100000000000004
          ],
          [
           0.289,
           0.289
          ],
          [
           0.287,
           0.287
          ],
          [
           0.28800000000000003,
           0.28800000000000003
          ],
          [
           0.29600000000000004,
           0.29600000000000004
          ],
          [
           0.319,
           0.319
          ],
          [
           0.35700000000000004,
           0.35700000000000004
          ],
          [
           0.409,
           0.409
          ],
          [
           0.49700000000000005,
           0.49700000000000005
          ],
          [
           0.47,
           0.47
          ],
          [
           0.371,
           0.371
          ],
          [
           0.282,
           0.282
          ],
          [
           0.228,
           0.228
          ]
         ]
        },
        {
         "hoverinfo": "name+text",
         "name": "November",
         "showscale": false,
         "text": [
          [
           "0h00<br /> 0.188 kVA"
          ],
          [
           "1h00<br /> 0.175 kVA"
          ],
          [
           "2h00<br /> 0.168 kVA"
          ],
          [
           "3h00<br /> 0.168 kVA"
          ],
          [
           "4h00<br /> 0.181 kVA"
          ],
          [
           "5h00<br /> 0.217 kVA"
          ],
          [
           "6h00<br /> 0.267 kVA"
          ],
          [
           "7h00<br /> 0.305 kVA"
          ],
          [
           "8h00<br /> 0.323 kVA"
          ],
          [
           "9h00<br /> 0.314 kVA"
          ],
          [
           "10h00<br /> 0.300 kVA"
          ],
          [
           "11h00<br /> 0.293 kVA"
          ],
          [
           "12h00<br /> 0.291 kVA"
          ],
          [
           "13h00<br /> 0.291 kVA"
          ],
          [
           "14h00<br /> 0.290 kVA"
          ],
          [
           "15h00<br /> 0.302 kVA"
          ],
          [
           "16h00<br /> 0.334 kVA"
          ],
          [
           "17h00<br /> 0.405 kVA"
          ],
          [
           "18h00<br /> 0.507 kVA"
          ],
          [
           "19h00<br /> 0.524 kVA"
          ],
          [
           "20h00<br /> 0.446 kVA"
          ],
          [
           "21h00<br /> 0.345 kVA"
          ],
          [
           "22h00<br /> 0.262 kVA"
          ],
          [
           "23h00<br /> 0.212 kVA"
          ]
         ],
         "type": "surface",
         "x": [
          [
           1,
           2
          ],
          [
           1,
           2
          ],
          [
           1,
           2
          ],
          [
           1,
           2
          ],
          [
           1,
           2
          ],
          [
           1,
           2
          ],
          [
           1,
           2
          ],
          [
           1,
           2
          ],
          [
           1,
           2
          ],
          [
           1,
           2
          ],
          [
           1,
           2
          ],
          [
           1,
           2
          ],
          [
           1,
           2
          ],
          [
           1,
           2
          ],
          [
           1,
           2
          ],
          [
           1,
           2
          ],
          [
           1,
           2
          ],
          [
           1,
           2
          ],
          [
           1,
           2
          ],
          [
           1,
           2
          ],
          [
           1,
           2
          ],
          [
           1,
           2
          ],
          [
           1,
           2
          ],
          [
           1,
           2
          ]
         ],
         "y": [
          [
           0,
           0
          ],
          [
           1,
           1
          ],
          [
           2,
           2
          ],
          [
           3,
           3
          ],
          [
           4,
           4
          ],
          [
           5,
           5
          ],
          [
           6,
           6
          ],
          [
           7,
           7
          ],
          [
           8,
           8
          ],
          [
           9,
           9
          ],
          [
           10,
           10
          ],
          [
           11,
           11
          ],
          [
           12,
           12
          ],
          [
           13,
           13
          ],
          [
           14,
           14
          ],
          [
           15,
           15
          ],
          [
           16,
           16
          ],
          [
           17,
           17
          ],
          [
           18,
           18
          ],
          [
           19,
           19
          ],
          [
           20,
           20
          ],
          [
           21,
           21
          ],
          [
           22,
           22
          ],
          [
           23,
           23
          ]
         ],
         "z": [
          [
           0.188,
           0.188
          ],
          [
           0.175,
           0.175
          ],
          [
           0.168,
           0.168
          ],
          [
           0.168,
           0.168
          ],
          [
           0.18100000000000002,
           0.18100000000000002
          ],
          [
           0.217,
           0.217
          ],
          [
           0.267,
           0.267
          ],
          [
           0.305,
           0.305
          ],
          [
           0.32299999999999995,
           0.32299999999999995
          ],
          [
           0.314,
           0.314
          ],
          [
           0.3,
           0.3
          ],
          [
           0.293,
           0.293
          ],
          [
           0.29100000000000004,
           0.29100000000000004
          ],
          [
           0.29100000000000004,
           0.29100000000000004
          ],
          [
           0.29,
           0.29
          ],
          [
           0.302,
           0.302
          ],
          [
           0.33399999999999996,
           0.33399999999999996
          ],
          [
           0.405,
           0.405
          ],
          [
           0.507,
           0.507
          ],
          [
           0.524,
           0.524
          ],
          [
           0.446,
           0.446
          ],
          [
           0.345,
           0.345
          ],
          [
           0.262,
           0.262
          ],
          [
           0.212,
           0.212
          ]
         ]
        },
        {
         "hoverinfo": "name+text",
         "name": "October",
         "showscale": false,
         "text": [
          [
           "0h00<br /> 0.188 kVA"
          ],
          [
           "1h00<br /> 0.175 kVA"
          ],
          [
           "2h00<br /> 0.168 kVA"
          ],
          [
           "3h00<br /> 0.168 kVA"
          ],
          [
           "4h00<br /> 0.181 kVA"
          ],
          [
           "5h00<br /> 0.217 kVA"
          ],
          [
           "6h00<br /> 0.267 kVA"
          ],
          [
           "7h00<br /> 0.305 kVA"
          ],
          [
           "8h00<br /> 0.323 kVA"
          ],
          [
           "9h00<br /> 0.314 kVA"
          ],
          [
           "10h00<br /> 0.300 kVA"
          ],
          [
           "11h00<br /> 0.293 kVA"
          ],
          [
           "12h00<br /> 0.291 kVA"
          ],
          [
           "13h00<br /> 0.291 kVA"
          ],
          [
           "14h00<br /> 0.290 kVA"
          ],
          [
           "15h00<br /> 0.302 kVA"
          ],
          [
           "16h00<br /> 0.334 kVA"
          ],
          [
           "17h00<br /> 0.405 kVA"
          ],
          [
           "18h00<br /> 0.507 kVA"
          ],
          [
           "19h00<br /> 0.524 kVA"
          ],
          [
           "20h00<br /> 0.446 kVA"
          ],
          [
           "21h00<br /> 0.345 kVA"
          ],
          [
           "22h00<br /> 0.262 kVA"
          ],
          [
           "23h00<br /> 0.212 kVA"
          ]
         ],
         "type": "surface",
         "x": [
          [
           2,
           3
          ],
          [
           2,
           3
          ],
          [
           2,
           3
          ],
          [
           2,
           3
          ],
          [
           2,
           3
          ],
          [
           2,
           3
          ],
          [
           2,
           3
          ],
          [
           2,
           3
          ],
          [
           2,
           3
          ],
          [
           2,
           3
          ],
          [
           2,
           3
          ],
          [
           2,
           3
          ],
          [
           2,
           3
          ],
          [
           2,
           3
          ],
          [
           2,
           3
          ],
          [
           2,
           3
          ],
          [
           2,
           3
          ],
          [
           2,
           3
          ],
          [
           2,
           3
          ],
          [
           2,
           3
          ],
          [
           2,
           3
          ],
          [
           2,
           3
          ],
          [
           2,
           3
          ],
          [
           2,
           3
          ]
         ],
         "y": [
          [
           0,
           0
          ],
          [
           1,
           1
          ],
          [
           2,
           2
          ],
          [
           3,
           3
          ],
          [
           4,
           4
          ],
          [
           5,
           5
          ],
          [
           6,
           6
          ],
          [
           7,
           7
          ],
          [
           8,
           8
          ],
          [
           9,
           9
          ],
          [
           10,
           10
          ],
          [
           11,
           11
          ],
          [
           12,
           12
          ],
          [
           13,
           13
          ],
          [
           14,
           14
          ],
          [
           15,
           15
          ],
          [
           16,
           16
          ],
          [
           17,
           17
          ],
          [
           18,
           18
          ],
          [
           19,
           19
          ],
          [
           20,
           20
          ],
          [
           21,
           21
          ],
          [
           22,
           22
          ],
          [
           23,
           23
          ]
         ],
         "z": [
          [
           0.188,
           0.188
          ],
          [
           0.175,
           0.175
          ],
          [
           0.168,
           0.168
          ],
          [
           0.168,
           0.168
          ],
          [
           0.18100000000000002,
           0.18100000000000002
          ],
          [
           0.217,
           0.217
          ],
          [
           0.267,
           0.267
          ],
          [
           0.305,
           0.305
          ],
          [
           0.32299999999999995,
           0.32299999999999995
          ],
          [
           0.314,
           0.314
          ],
          [
           0.3,
           0.3
          ],
          [
           0.293,
           0.293
          ],
          [
           0.29100000000000004,
           0.29100000000000004
          ],
          [
           0.29100000000000004,
           0.29100000000000004
          ],
          [
           0.29,
           0.29
          ],
          [
           0.302,
           0.302
          ],
          [
           0.33399999999999996,
           0.33399999999999996
          ],
          [
           0.405,
           0.405
          ],
          [
           0.507,
           0.507
          ],
          [
           0.524,
           0.524
          ],
          [
           0.446,
           0.446
          ],
          [
           0.345,
           0.345
          ],
          [
           0.262,
           0.262
          ],
          [
           0.212,
           0.212
          ]
         ]
        },
        {
         "hoverinfo": "name+text",
         "name": "September",
         "showscale": false,
         "text": [
          [
           "0h00<br /> 0.188 kVA"
          ],
          [
           "1h00<br /> 0.175 kVA"
          ],
          [
           "2h00<br /> 0.168 kVA"
          ],
          [
           "3h00<br /> 0.168 kVA"
          ],
          [
           "4h00<br /> 0.181 kVA"
          ],
          [
           "5h00<br /> 0.217 kVA"
          ],
          [
           "6h00<br /> 0.267 kVA"
          ],
          [
           "7h00<br /> 0.305 kVA"
          ],
          [
           "8h00<br /> 0.323 kVA"
          ],
          [
           "9h00<br /> 0.314 kVA"
          ],
          [
           "10h00<br /> 0.300 kVA"
          ],
          [
           "11h00<br /> 0.293 kVA"
          ],
          [
           "12h00<br /> 0.291 kVA"
          ],
          [
           "13h00<br /> 0.291 kVA"
          ],
          [
           "14h00<br /> 0.290 kVA"
          ],
          [
           "15h00<br /> 0.302 kVA"
          ],
          [
           "16h00<br /> 0.334 kVA"
          ],
          [
           "17h00<br /> 0.405 kVA"
          ],
          [
           "18h00<br /> 0.507 kVA"
          ],
          [
           "19h00<br /> 0.524 kVA"
          ],
          [
           "20h00<br /> 0.446 kVA"
          ],
          [
           "21h00<br /> 0.345 kVA"
          ],
          [
           "22h00<br /> 0.262 kVA"
          ],
          [
           "23h00<br /> 0.212 kVA"
          ]
         ],
         "type": "surface",
         "x": [
          [
           3,
           4
          ],
          [
           3,
           4
          ],
          [
           3,
           4
          ],
          [
           3,
           4
          ],
          [
           3,
           4
          ],
          [
           3,
           4
          ],
          [
           3,
           4
          ],
          [
           3,
           4
          ],
          [
           3,
           4
          ],
          [
           3,
           4
          ],
          [
           3,
           4
          ],
          [
           3,
           4
          ],
          [
           3,
           4
          ],
          [
           3,
           4
          ],
          [
           3,
           4
          ],
          [
           3,
           4
          ],
          [
           3,
           4
          ],
          [
           3,
           4
          ],
          [
           3,
           4
          ],
          [
           3,
           4
          ],
          [
           3,
           4
          ],
          [
           3,
           4
          ],
          [
           3,
           4
          ],
          [
           3,
           4
          ]
         ],
         "y": [
          [
           0,
           0
          ],
          [
           1,
           1
          ],
          [
           2,
           2
          ],
          [
           3,
           3
          ],
          [
           4,
           4
          ],
          [
           5,
           5
          ],
          [
           6,
           6
          ],
          [
           7,
           7
          ],
          [
           8,
           8
          ],
          [
           9,
           9
          ],
          [
           10,
           10
          ],
          [
           11,
           11
          ],
          [
           12,
           12
          ],
          [
           13,
           13
          ],
          [
           14,
           14
          ],
          [
           15,
           15
          ],
          [
           16,
           16
          ],
          [
           17,
           17
          ],
          [
           18,
           18
          ],
          [
           19,
           19
          ],
          [
           20,
           20
          ],
          [
           21,
           21
          ],
          [
           22,
           22
          ],
          [
           23,
           23
          ]
         ],
         "z": [
          [
           0.188,
           0.188
          ],
          [
           0.175,
           0.175
          ],
          [
           0.168,
           0.168
          ],
          [
           0.168,
           0.168
          ],
          [
           0.18100000000000002,
           0.18100000000000002
          ],
          [
           0.217,
           0.217
          ],
          [
           0.267,
           0.267
          ],
          [
           0.305,
           0.305
          ],
          [
           0.32299999999999995,
           0.32299999999999995
          ],
          [
           0.314,
           0.314
          ],
          [
           0.3,
           0.3
          ],
          [
           0.293,
           0.293
          ],
          [
           0.29100000000000004,
           0.29100000000000004
          ],
          [
           0.29100000000000004,
           0.29100000000000004
          ],
          [
           0.29,
           0.29
          ],
          [
           0.302,
           0.302
          ],
          [
           0.33399999999999996,
           0.33399999999999996
          ],
          [
           0.405,
           0.405
          ],
          [
           0.507,
           0.507
          ],
          [
           0.524,
           0.524
          ],
          [
           0.446,
           0.446
          ],
          [
           0.345,
           0.345
          ],
          [
           0.262,
           0.262
          ],
          [
           0.212,
           0.212
          ]
         ]
        },
        {
         "hoverinfo": "name+text",
         "name": "August",
         "showscale": false,
         "text": [
          [
           "0h00<br /> 0.188 kVA"
          ],
          [
           "1h00<br /> 0.173 kVA"
          ],
          [
           "2h00<br /> 0.166 kVA"
          ],
          [
           "3h00<br /> 0.166 kVA"
          ],
          [
           "4h00<br /> 0.178 kVA"
          ],
          [
           "5h00<br /> 0.218 kVA"
          ],
          [
           "6h00<br /> 0.265 kVA"
          ],
          [
           "7h00<br /> 0.300 kVA"
          ],
          [
           "8h00<br /> 0.319 kVA"
          ],
          [
           "9h00<br /> 0.314 kVA"
          ],
          [
           "10h00<br /> 0.301 kVA"
          ],
          [
           "11h00<br /> 0.294 kVA"
          ],
          [
           "12h00<br /> 0.293 kVA"
          ],
          [
           "13h00<br /> 0.293 kVA"
          ],
          [
           "14h00<br /> 0.292 kVA"
          ],
          [
           "15h00<br /> 0.304 kVA"
          ],
          [
           "16h00<br /> 0.336 kVA"
          ],
          [
           "17h00<br /> 0.415 kVA"
          ],
          [
           "18h00<br /> 0.533 kVA"
          ],
          [
           "19h00<br /> 0.529 kVA"
          ],
          [
           "20h00<br /> 0.449 kVA"
          ],
          [
           "21h00<br /> 0.347 kVA"
          ],
          [
           "22h00<br /> 0.263 kVA"
          ],
          [
           "23h00<br /> 0.212 kVA"
          ]
         ],
         "type": "surface",
         "x": [
          [
           4,
           5
          ],
          [
           4,
           5
          ],
          [
           4,
           5
          ],
          [
           4,
           5
          ],
          [
           4,
           5
          ],
          [
           4,
           5
          ],
          [
           4,
           5
          ],
          [
           4,
           5
          ],
          [
           4,
           5
          ],
          [
           4,
           5
          ],
          [
           4,
           5
          ],
          [
           4,
           5
          ],
          [
           4,
           5
          ],
          [
           4,
           5
          ],
          [
           4,
           5
          ],
          [
           4,
           5
          ],
          [
           4,
           5
          ],
          [
           4,
           5
          ],
          [
           4,
           5
          ],
          [
           4,
           5
          ],
          [
           4,
           5
          ],
          [
           4,
           5
          ],
          [
           4,
           5
          ],
          [
           4,
           5
          ]
         ],
         "y": [
          [
           0,
           0
          ],
          [
           1,
           1
          ],
          [
           2,
           2
          ],
          [
           3,
           3
          ],
          [
           4,
           4
          ],
          [
           5,
           5
          ],
          [
           6,
           6
          ],
          [
           7,
           7
          ],
          [
           8,
           8
          ],
          [
           9,
           9
          ],
          [
           10,
           10
          ],
          [
           11,
           11
          ],
          [
           12,
           12
          ],
          [
           13,
           13
          ],
          [
           14,
           14
          ],
          [
           15,
           15
          ],
          [
           16,
           16
          ],
          [
           17,
           17
          ],
          [
           18,
           18
          ],
          [
           19,
           19
          ],
          [
           20,
           20
          ],
          [
           21,
           21
          ],
          [
           22,
           22
          ],
          [
           23,
           23
          ]
         ],
         "z": [
          [
           0.188,
           0.188
          ],
          [
           0.17300000000000001,
           0.17300000000000001
          ],
          [
           0.166,
           0.166
          ],
          [
           0.166,
           0.166
          ],
          [
           0.17800000000000002,
           0.17800000000000002
          ],
          [
           0.218,
           0.218
          ],
          [
           0.265,
           0.265
          ],
          [
           0.3,
           0.3
          ],
          [
           0.319,
           0.319
          ],
          [
           0.314,
           0.314
          ],
          [
           0.301,
           0.301
          ],
          [
           0.294,
           0.294
          ],
          [
           0.293,
           0.293
          ],
          [
           0.293,
           0.293
          ],
          [
           0.292,
           0.292
          ],
          [
           0.304,
           0.304
          ],
          [
           0.336,
           0.336
          ],
          [
           0.415,
           0.415
          ],
          [
           0.5329999999999999,
           0.5329999999999999
          ],
          [
           0.529,
           0.529
          ],
          [
           0.449,
           0.449
          ],
          [
           0.34700000000000003,
           0.34700000000000003
          ],
          [
           0.263,
           0.263
          ],
          [
           0.212,
           0.212
          ]
         ]
        },
        {
         "hoverinfo": "name+text",
         "name": "July",
         "showscale": false,
         "text": [
          [
           "0h00<br /> 0.189 kVA"
          ],
          [
           "1h00<br /> 0.173 kVA"
          ],
          [
           "2h00<br /> 0.165 kVA"
          ],
          [
           "3h00<br /> 0.165 kVA"
          ],
          [
           "4h00<br /> 0.176 kVA"
          ],
          [
           "5h00<br /> 0.218 kVA"
          ],
          [
           "6h00<br /> 0.260 kVA"
          ],
          [
           "7h00<br /> 0.293 kVA"
          ],
          [
           "8h00<br /> 0.315 kVA"
          ],
          [
           "9h00<br /> 0.314 kVA"
          ],
          [
           "10h00<br /> 0.303 kVA"
          ],
          [
           "11h00<br /> 0.295 kVA"
          ],
          [
           "12h00<br /> 0.294 kVA"
          ],
          [
           "13h00<br /> 0.294 kVA"
          ],
          [
           "14h00<br /> 0.293 kVA"
          ],
          [
           "15h00<br /> 0.304 kVA"
          ],
          [
           "16h00<br /> 0.337 kVA"
          ],
          [
           "17h00<br /> 0.457 kVA"
          ],
          [
           "18h00<br /> 0.562 kVA"
          ],
          [
           "19h00<br /> 0.538 kVA"
          ],
          [
           "20h00<br /> 0.455 kVA"
          ],
          [
           "21h00<br /> 0.353 kVA"
          ],
          [
           "22h00<br /> 0.267 kVA"
          ],
          [
           "23h00<br /> 0.215 kVA"
          ]
         ],
         "type": "surface",
         "x": [
          [
           5,
           6
          ],
          [
           5,
           6
          ],
          [
           5,
           6
          ],
          [
           5,
           6
          ],
          [
           5,
           6
          ],
          [
           5,
           6
          ],
          [
           5,
           6
          ],
          [
           5,
           6
          ],
          [
           5,
           6
          ],
          [
           5,
           6
          ],
          [
           5,
           6
          ],
          [
           5,
           6
          ],
          [
           5,
           6
          ],
          [
           5,
           6
          ],
          [
           5,
           6
          ],
          [
           5,
           6
          ],
          [
           5,
           6
          ],
          [
           5,
           6
          ],
          [
           5,
           6
          ],
          [
           5,
           6
          ],
          [
           5,
           6
          ],
          [
           5,
           6
          ],
          [
           5,
           6
          ],
          [
           5,
           6
          ]
         ],
         "y": [
          [
           0,
           0
          ],
          [
           1,
           1
          ],
          [
           2,
           2
          ],
          [
           3,
           3
          ],
          [
           4,
           4
          ],
          [
           5,
           5
          ],
          [
           6,
           6
          ],
          [
           7,
           7
          ],
          [
           8,
           8
          ],
          [
           9,
           9
          ],
          [
           10,
           10
          ],
          [
           11,
           11
          ],
          [
           12,
           12
          ],
          [
           13,
           13
          ],
          [
           14,
           14
          ],
          [
           15,
           15
          ],
          [
           16,
           16
          ],
          [
           17,
           17
          ],
          [
           18,
           18
          ],
          [
           19,
           19
          ],
          [
           20,
           20
          ],
          [
           21,
           21
          ],
          [
           22,
           22
          ],
          [
           23,
           23
          ]
         ],
         "z": [
          [
           0.18899999999999997,
           0.18899999999999997
          ],
          [
           0.17300000000000001,
           0.17300000000000001
          ],
          [
           0.165,
           0.165
          ],
          [
           0.165,
           0.165
          ],
          [
           0.17600000000000002,
           0.17600000000000002
          ],
          [
           0.218,
           0.218
          ],
          [
           0.26,
           0.26
          ],
          [
           0.293,
           0.293
          ],
          [
           0.315,
           0.315
          ],
          [
           0.314,
           0.314
          ],
          [
           0.303,
           0.303
          ],
          [
           0.295,
           0.295
          ],
          [
           0.294,
           0.294
          ],
          [
           0.294,
           0.294
          ],
          [
           0.293,
           0.293
          ],
          [
           0.304,
           0.304
          ],
          [
           0.337,
           0.337
          ],
          [
           0.457,
           0.457
          ],
          [
           0.562,
           0.562
          ],
          [
           0.5379999999999999,
           0.5379999999999999
          ],
          [
           0.455,
           0.455
          ],
          [
           0.353,
           0.353
          ],
          [
           0.267,
           0.267
          ],
          [
           0.215,
           0.215
          ]
         ]
        },
        {
         "hoverinfo": "name+text",
         "name": "June",
         "showscale": false,
         "text": [
          [
           "0h00<br /> 0.189 kVA"
          ],
          [
           "1h00<br /> 0.173 kVA"
          ],
          [
           "2h00<br /> 0.165 kVA"
          ],
          [
           "3h00<br /> 0.165 kVA"
          ],
          [
           "4h00<br /> 0.176 kVA"
          ],
          [
           "5h00<br /> 0.218 kVA"
          ],
          [
           "6h00<br /> 0.260 kVA"
          ],
          [
           "7h00<br /> 0.293 kVA"
          ],
          [
           "8h00<br /> 0.315 kVA"
          ],
          [
           "9h00<br /> 0.314 kVA"
          ],
          [
           "10h00<br /> 0.303 kVA"
          ],
          [
           "11h00<br /> 0.295 kVA"
          ],
          [
           "12h00<br /> 0.294 kVA"
          ],
          [
           "13h00<br /> 0.294 kVA"
          ],
          [
           "14h00<br /> 0.293 kVA"
          ],
          [
           "15h00<br /> 0.304 kVA"
          ],
          [
           "16h00<br /> 0.337 kVA"
          ],
          [
           "17h00<br /> 0.474 kVA"
          ],
          [
           "18h00<br /> 0.562 kVA"
          ],
          [
           "19h00<br /> 0.538 kVA"
          ],
          [
           "20h00<br /> 0.455 kVA"
          ],
          [
           "21h00<br /> 0.352 kVA"
          ],
          [
           "22h00<br /> 0.267 kVA"
          ],
          [
           "23h00<br /> 0.214 kVA"
          ]
         ],
         "type": "surface",
         "x": [
          [
           6,
           7
          ],
          [
           6,
           7
          ],
          [
           6,
           7
          ],
          [
           6,
           7
          ],
          [
           6,
           7
          ],
          [
           6,
           7
          ],
          [
           6,
           7
          ],
          [
           6,
           7
          ],
          [
           6,
           7
          ],
          [
           6,
           7
          ],
          [
           6,
           7
          ],
          [
           6,
           7
          ],
          [
           6,
           7
          ],
          [
           6,
           7
          ],
          [
           6,
           7
          ],
          [
           6,
           7
          ],
          [
           6,
           7
          ],
          [
           6,
           7
          ],
          [
           6,
           7
          ],
          [
           6,
           7
          ],
          [
           6,
           7
          ],
          [
           6,
           7
          ],
          [
           6,
           7
          ],
          [
           6,
           7
          ]
         ],
         "y": [
          [
           0,
           0
          ],
          [
           1,
           1
          ],
          [
           2,
           2
          ],
          [
           3,
           3
          ],
          [
           4,
           4
          ],
          [
           5,
           5
          ],
          [
           6,
           6
          ],
          [
           7,
           7
          ],
          [
           8,
           8
          ],
          [
           9,
           9
          ],
          [
           10,
           10
          ],
          [
           11,
           11
          ],
          [
           12,
           12
          ],
          [
           13,
           13
          ],
          [
           14,
           14
          ],
          [
           15,
           15
          ],
          [
           16,
           16
          ],
          [
           17,
           17
          ],
          [
           18,
           18
          ],
          [
           19,
           19
          ],
          [
           20,
           20
          ],
          [
           21,
           21
          ],
          [
           22,
           22
          ],
          [
           23,
           23
          ]
         ],
         "z": [
          [
           0.18899999999999997,
           0.18899999999999997
          ],
          [
           0.17300000000000001,
           0.17300000000000001
          ],
          [
           0.165,
           0.165
          ],
          [
           0.165,
           0.165
          ],
          [
           0.17600000000000002,
           0.17600000000000002
          ],
          [
           0.218,
           0.218
          ],
          [
           0.26,
           0.26
          ],
          [
           0.293,
           0.293
          ],
          [
           0.315,
           0.315
          ],
          [
           0.314,
           0.314
          ],
          [
           0.303,
           0.303
          ],
          [
           0.295,
           0.295
          ],
          [
           0.294,
           0.294
          ],
          [
           0.294,
           0.294
          ],
          [
           0.293,
           0.293
          ],
          [
           0.304,
           0.304
          ],
          [
           0.337,
           0.337
          ],
          [
           0.474,
           0.474
          ],
          [
           0.562,
           0.562
          ],
          [
           0.5379999999999999,
           0.5379999999999999
          ],
          [
           0.455,
           0.455
          ],
          [
           0.35200000000000004,
           0.35200000000000004
          ],
          [
           0.267,
           0.267
          ],
          [
           0.214,
           0.214
          ]
         ]
        },
        {
         "hoverinfo": "name+text",
         "name": "May",
         "showscale": false,
         "text": [
          [
           "0h00<br /> 0.188 kVA"
          ],
          [
           "1h00<br /> 0.173 kVA"
          ],
          [
           "2h00<br /> 0.166 kVA"
          ],
          [
           "3h00<br /> 0.166 kVA"
          ],
          [
           "4h00<br /> 0.178 kVA"
          ],
          [
           "5h00<br /> 0.218 kVA"
          ],
          [
           "6h00<br /> 0.265 kVA"
          ],
          [
           "7h00<br /> 0.300 kVA"
          ],
          [
           "8h00<br /> 0.320 kVA"
          ],
          [
           "9h00<br /> 0.314 kVA"
          ],
          [
           "10h00<br /> 0.301 kVA"
          ],
          [
           "11h00<br /> 0.294 kVA"
          ],
          [
           "12h00<br /> 0.293 kVA"
          ],
          [
           "13h00<br /> 0.293 kVA"
          ],
          [
           "14h00<br /> 0.292 kVA"
          ],
          [
           "15h00<br /> 0.304 kVA"
          ],
          [
           "16h00<br /> 0.336 kVA"
          ],
          [
           "17h00<br /> 0.434 kVA"
          ],
          [
           "18h00<br /> 0.533 kVA"
          ],
          [
           "19h00<br /> 0.529 kVA"
          ],
          [
           "20h00<br /> 0.448 kVA"
          ],
          [
           "21h00<br /> 0.347 kVA"
          ],
          [
           "22h00<br /> 0.263 kVA"
          ],
          [
           "23h00<br /> 0.211 kVA"
          ]
         ],
         "type": "surface",
         "x": [
          [
           7,
           8
          ],
          [
           7,
           8
          ],
          [
           7,
           8
          ],
          [
           7,
           8
          ],
          [
           7,
           8
          ],
          [
           7,
           8
          ],
          [
           7,
           8
          ],
          [
           7,
           8
          ],
          [
           7,
           8
          ],
          [
           7,
           8
          ],
          [
           7,
           8
          ],
          [
           7,
           8
          ],
          [
           7,
           8
          ],
          [
           7,
           8
          ],
          [
           7,
           8
          ],
          [
           7,
           8
          ],
          [
           7,
           8
          ],
          [
           7,
           8
          ],
          [
           7,
           8
          ],
          [
           7,
           8
          ],
          [
           7,
           8
          ],
          [
           7,
           8
          ],
          [
           7,
           8
          ],
          [
           7,
           8
          ]
         ],
         "y": [
          [
           0,
           0
          ],
          [
           1,
           1
          ],
          [
           2,
           2
          ],
          [
           3,
           3
          ],
          [
           4,
           4
          ],
          [
           5,
           5
          ],
          [
           6,
           6
          ],
          [
           7,
           7
          ],
          [
           8,
           8
          ],
          [
           9,
           9
          ],
          [
           10,
           10
          ],
          [
           11,
           11
          ],
          [
           12,
           12
          ],
          [
           13,
           13
          ],
          [
           14,
           14
          ],
          [
           15,
           15
          ],
          [
           16,
           16
          ],
          [
           17,
           17
          ],
          [
           18,
           18
          ],
          [
           19,
           19
          ],
          [
           20,
           20
          ],
          [
           21,
           21
          ],
          [
           22,
           22
          ],
          [
           23,
           23
          ]
         ],
         "z": [
          [
           0.188,
           0.188
          ],
          [
           0.17300000000000001,
           0.17300000000000001
          ],
          [
           0.166,
           0.166
          ],
          [
           0.166,
           0.166
          ],
          [
           0.17800000000000002,
           0.17800000000000002
          ],
          [
           0.218,
           0.218
          ],
          [
           0.265,
           0.265
          ],
          [
           0.3,
           0.3
          ],
          [
           0.32,
           0.32
          ],
          [
           0.314,
           0.314
          ],
          [
           0.301,
           0.301
          ],
          [
           0.294,
           0.294
          ],
          [
           0.293,
           0.293
          ],
          [
           0.293,
           0.293
          ],
          [
           0.292,
           0.292
          ],
          [
           0.304,
           0.304
          ],
          [
           0.336,
           0.336
          ],
          [
           0.434,
           0.434
          ],
          [
           0.5329999999999999,
           0.5329999999999999
          ],
          [
           0.529,
           0.529
          ],
          [
           0.44799999999999995,
           0.44799999999999995
          ],
          [
           0.34700000000000003,
           0.34700000000000003
          ],
          [
           0.263,
           0.263
          ],
          [
           0.21100000000000002,
           0.21100000000000002
          ]
         ]
        },
        {
         "hoverinfo": "name+text",
         "name": "April",
         "showscale": false,
         "text": [
          [
           "0h00<br /> 0.188 kVA"
          ],
          [
           "1h00<br /> 0.175 kVA"
          ],
          [
           "2h00<br /> 0.168 kVA"
          ],
          [
           "3h00<br /> 0.168 kVA"
          ],
          [
           "4h00<br /> 0.181 kVA"
          ],
          [
           "5h00<br /> 0.217 kVA"
          ],
          [
           "6h00<br /> 0.267 kVA"
          ],
          [
           "7h00<br /> 0.305 kVA"
          ],
          [
           "8h00<br /> 0.323 kVA"
          ],
          [
           "9h00<br /> 0.314 kVA"
          ],
          [
           "10h00<br /> 0.300 kVA"
          ],
          [
           "11h00<br /> 0.293 kVA"
          ],
          [
           "12h00<br /> 0.291 kVA"
          ],
          [
           "13h00<br /> 0.291 kVA"
          ],
          [
           "14h00<br /> 0.290 kVA"
          ],
          [
           "15h00<br /> 0.302 kVA"
          ],
          [
           "16h00<br /> 0.334 kVA"
          ],
          [
           "17h00<br /> 0.405 kVA"
          ],
          [
           "18h00<br /> 0.507 kVA"
          ],
          [
           "19h00<br /> 0.524 kVA"
          ],
          [
           "20h00<br /> 0.446 kVA"
          ],
          [
           "21h00<br /> 0.345 kVA"
          ],
          [
           "22h00<br /> 0.262 kVA"
          ],
          [
           "23h00<br /> 0.212 kVA"
          ]
         ],
         "type": "surface",
         "x": [
          [
           8,
           9
          ],
          [
           8,
           9
          ],
          [
           8,
           9
          ],
          [
           8,
           9
          ],
          [
           8,
           9
          ],
          [
           8,
           9
          ],
          [
           8,
           9
          ],
          [
           8,
           9
          ],
          [
           8,
           9
          ],
          [
           8,
           9
          ],
          [
           8,
           9
          ],
          [
           8,
           9
          ],
          [
           8,
           9
          ],
          [
           8,
           9
          ],
          [
           8,
           9
          ],
          [
           8,
           9
          ],
          [
           8,
           9
          ],
          [
           8,
           9
          ],
          [
           8,
           9
          ],
          [
           8,
           9
          ],
          [
           8,
           9
          ],
          [
           8,
           9
          ],
          [
           8,
           9
          ],
          [
           8,
           9
          ]
         ],
         "y": [
          [
           0,
           0
          ],
          [
           1,
           1
          ],
          [
           2,
           2
          ],
          [
           3,
           3
          ],
          [
           4,
           4
          ],
          [
           5,
           5
          ],
          [
           6,
           6
          ],
          [
           7,
           7
          ],
          [
           8,
           8
          ],
          [
           9,
           9
          ],
          [
           10,
           10
          ],
          [
           11,
           11
          ],
          [
           12,
           12
          ],
          [
           13,
           13
          ],
          [
           14,
           14
          ],
          [
           15,
           15
          ],
          [
           16,
           16
          ],
          [
           17,
           17
          ],
          [
           18,
           18
          ],
          [
           19,
           19
          ],
          [
           20,
           20
          ],
          [
           21,
           21
          ],
          [
           22,
           22
          ],
          [
           23,
           23
          ]
         ],
         "z": [
          [
           0.188,
           0.188
          ],
          [
           0.175,
           0.175
          ],
          [
           0.168,
           0.168
          ],
          [
           0.168,
           0.168
          ],
          [
           0.18100000000000002,
           0.18100000000000002
          ],
          [
           0.217,
           0.217
          ],
          [
           0.267,
           0.267
          ],
          [
           0.305,
           0.305
          ],
          [
           0.32299999999999995,
           0.32299999999999995
          ],
          [
           0.314,
           0.314
          ],
          [
           0.3,
           0.3
          ],
          [
           0.293,
           0.293
          ],
          [
           0.29100000000000004,
           0.29100000000000004
          ],
          [
           0.29100000000000004,
           0.29100000000000004
          ],
          [
           0.29,
           0.29
          ],
          [
           0.302,
           0.302
          ],
          [
           0.33399999999999996,
           0.33399999999999996
          ],
          [
           0.405,
           0.405
          ],
          [
           0.507,
           0.507
          ],
          [
           0.524,
           0.524
          ],
          [
           0.446,
           0.446
          ],
          [
           0.345,
           0.345
          ],
          [
           0.262,
           0.262
          ],
          [
           0.212,
           0.212
          ]
         ]
        },
        {
         "hoverinfo": "name+text",
         "name": "March",
         "showscale": false,
         "text": [
          [
           "0h00<br /> 0.188 kVA"
          ],
          [
           "1h00<br /> 0.175 kVA"
          ],
          [
           "2h00<br /> 0.168 kVA"
          ],
          [
           "3h00<br /> 0.168 kVA"
          ],
          [
           "4h00<br /> 0.181 kVA"
          ],
          [
           "5h00<br /> 0.217 kVA"
          ],
          [
           "6h00<br /> 0.267 kVA"
          ],
          [
           "7h00<br /> 0.305 kVA"
          ],
          [
           "8h00<br /> 0.323 kVA"
          ],
          [
           "9h00<br /> 0.314 kVA"
          ],
          [
           "10h00<br /> 0.300 kVA"
          ],
          [
           "11h00<br /> 0.293 kVA"
          ],
          [
           "12h00<br /> 0.291 kVA"
          ],
          [
           "13h00<br /> 0.291 kVA"
          ],
          [
           "14h00<br /> 0.290 kVA"
          ],
          [
           "15h00<br /> 0.302 kVA"
          ],
          [
           "16h00<br /> 0.334 kVA"
          ],
          [
           "17h00<br /> 0.405 kVA"
          ],
          [
           "18h00<br /> 0.507 kVA"
          ],
          [
           "19h00<br /> 0.524 kVA"
          ],
          [
           "20h00<br /> 0.446 kVA"
          ],
          [
           "21h00<br /> 0.345 kVA"
          ],
          [
           "22h00<br /> 0.262 kVA"
          ],
          [
           "23h00<br /> 0.212 kVA"
          ]
         ],
         "type": "surface",
         "x": [
          [
           9,
           10
          ],
          [
           9,
           10
          ],
          [
           9,
           10
          ],
          [
           9,
           10
          ],
          [
           9,
           10
          ],
          [
           9,
           10
          ],
          [
           9,
           10
          ],
          [
           9,
           10
          ],
          [
           9,
           10
          ],
          [
           9,
           10
          ],
          [
           9,
           10
          ],
          [
           9,
           10
          ],
          [
           9,
           10
          ],
          [
           9,
           10
          ],
          [
           9,
           10
          ],
          [
           9,
           10
          ],
          [
           9,
           10
          ],
          [
           9,
           10
          ],
          [
           9,
           10
          ],
          [
           9,
           10
          ],
          [
           9,
           10
          ],
          [
           9,
           10
          ],
          [
           9,
           10
          ],
          [
           9,
           10
          ]
         ],
         "y": [
          [
           0,
           0
          ],
          [
           1,
           1
          ],
          [
           2,
           2
          ],
          [
           3,
           3
          ],
          [
           4,
           4
          ],
          [
           5,
           5
          ],
          [
           6,
           6
          ],
          [
           7,
           7
          ],
          [
           8,
           8
          ],
          [
           9,
           9
          ],
          [
           10,
           10
          ],
          [
           11,
           11
          ],
          [
           12,
           12
          ],
          [
           13,
           13
          ],
          [
           14,
           14
          ],
          [
           15,
           15
          ],
          [
           16,
           16
          ],
          [
           17,
           17
          ],
          [
           18,
           18
          ],
          [
           19,
           19
          ],
          [
           20,
           20
          ],
          [
           21,
           21
          ],
          [
           22,
           22
          ],
          [
           23,
           23
          ]
         ],
         "z": [
          [
           0.188,
           0.188
          ],
          [
           0.175,
           0.175
          ],
          [
           0.168,
           0.168
          ],
          [
           0.168,
           0.168
          ],
          [
           0.18100000000000002,
           0.18100000000000002
          ],
          [
           0.217,
           0.217
          ],
          [
           0.267,
           0.267
          ],
          [
           0.305,
           0.305
          ],
          [
           0.32299999999999995,
           0.32299999999999995
          ],
          [
           0.314,
           0.314
          ],
          [
           0.3,
           0.3
          ],
          [
           0.293,
           0.293
          ],
          [
           0.29100000000000004,
           0.29100000000000004
          ],
          [
           0.29100000000000004,
           0.29100000000000004
          ],
          [
           0.29,
           0.29
          ],
          [
           0.302,
           0.302
          ],
          [
           0.33399999999999996,
           0.33399999999999996
          ],
          [
           0.405,
           0.405
          ],
          [
           0.507,
           0.507
          ],
          [
           0.524,
           0.524
          ],
          [
           0.446,
           0.446
          ],
          [
           0.345,
           0.345
          ],
          [
           0.262,
           0.262
          ],
          [
           0.212,
           0.212
          ]
         ]
        },
        {
         "hoverinfo": "name+text",
         "name": "February",
         "showscale": false,
         "text": [
          [
           "0h00<br /> 0.188 kVA"
          ],
          [
           "1h00<br /> 0.175 kVA"
          ],
          [
           "2h00<br /> 0.168 kVA"
          ],
          [
           "3h00<br /> 0.168 kVA"
          ],
          [
           "4h00<br /> 0.181 kVA"
          ],
          [
           "5h00<br /> 0.217 kVA"
          ],
          [
           "6h00<br /> 0.267 kVA"
          ],
          [
           "7h00<br /> 0.305 kVA"
          ],
          [
           "8h00<br /> 0.323 kVA"
          ],
          [
           "9h00<br /> 0.314 kVA"
          ],
          [
           "10h00<br /> 0.300 kVA"
          ],
          [
           "11h00<br /> 0.293 kVA"
          ],
          [
           "12h00<br /> 0.291 kVA"
          ],
          [
           "13h00<br /> 0.291 kVA"
          ],
          [
           "14h00<br /> 0.290 kVA"
          ],
          [
           "15h00<br /> 0.302 kVA"
          ],
          [
           "16h00<br /> 0.334 kVA"
          ],
          [
           "17h00<br /> 0.405 kVA"
          ],
          [
           "18h00<br /> 0.507 kVA"
          ],
          [
           "19h00<br /> 0.524 kVA"
          ],
          [
           "20h00<br /> 0.446 kVA"
          ],
          [
           "21h00<br /> 0.345 kVA"
          ],
          [
           "22h00<br /> 0.262 kVA"
          ],
          [
           "23h00<br /> 0.212 kVA"
          ]
         ],
         "type": "surface",
         "x": [
          [
           10,
           11
          ],
          [
           10,
           11
          ],
          [
           10,
           11
          ],
          [
           10,
           11
          ],
          [
           10,
           11
          ],
          [
           10,
           11
          ],
          [
           10,
           11
          ],
          [
           10,
           11
          ],
          [
           10,
           11
          ],
          [
           10,
           11
          ],
          [
           10,
           11
          ],
          [
           10,
           11
          ],
          [
           10,
           11
          ],
          [
           10,
           11
          ],
          [
           10,
           11
          ],
          [
           10,
           11
          ],
          [
           10,
           11
          ],
          [
           10,
           11
          ],
          [
           10,
           11
          ],
          [
           10,
           11
          ],
          [
           10,
           11
          ],
          [
           10,
           11
          ],
          [
           10,
           11
          ],
          [
           10,
           11
          ]
         ],
         "y": [
          [
           0,
           0
          ],
          [
           1,
           1
          ],
          [
           2,
           2
          ],
          [
           3,
           3
          ],
          [
           4,
           4
          ],
          [
           5,
           5
          ],
          [
           6,
           6
          ],
          [
           7,
           7
          ],
          [
           8,
           8
          ],
          [
           9,
           9
          ],
          [
           10,
           10
          ],
          [
           11,
           11
          ],
          [
           12,
           12
          ],
          [
           13,
           13
          ],
          [
           14,
           14
          ],
          [
           15,
           15
          ],
          [
           16,
           16
          ],
          [
           17,
           17
          ],
          [
           18,
           18
          ],
          [
           19,
           19
          ],
          [
           20,
           20
          ],
          [
           21,
           21
          ],
          [
           22,
           22
          ],
          [
           23,
           23
          ]
         ],
         "z": [
          [
           0.188,
           0.188
          ],
          [
           0.175,
           0.175
          ],
          [
           0.168,
           0.168
          ],
          [
           0.168,
           0.168
          ],
          [
           0.18100000000000002,
           0.18100000000000002
          ],
          [
           0.217,
           0.217
          ],
          [
           0.267,
           0.267
          ],
          [
           0.305,
           0.305
          ],
          [
           0.32299999999999995,
           0.32299999999999995
          ],
          [
           0.314,
           0.314
          ],
          [
           0.3,
           0.3
          ],
          [
           0.293,
           0.293
          ],
          [
           0.29100000000000004,
           0.29100000000000004
          ],
          [
           0.29100000000000004,
           0.29100000000000004
          ],
          [
           0.29,
           0.29
          ],
          [
           0.302,
           0.302
          ],
          [
           0.33399999999999996,
           0.33399999999999996
          ],
          [
           0.405,
           0.405
          ],
          [
           0.507,
           0.507
          ],
          [
           0.524,
           0.524
          ],
          [
           0.446,
           0.446
          ],
          [
           0.345,
           0.345
          ],
          [
           0.262,
           0.262
          ],
          [
           0.212,
           0.212
          ]
         ]
        },
        {
         "hoverinfo": "name+text",
         "name": "January",
         "showscale": false,
         "text": [
          [
           "0h00<br /> 0.203 kVA"
          ],
          [
           "1h00<br /> 0.191 kVA"
          ],
          [
           "2h00<br /> 0.184 kVA"
          ],
          [
           "3h00<br /> 0.182 kVA"
          ],
          [
           "4h00<br /> 0.195 kVA"
          ],
          [
           "5h00<br /> 0.235 kVA"
          ],
          [
           "6h00<br /> 0.271 kVA"
          ],
          [
           "7h00<br /> 0.294 kVA"
          ],
          [
           "8h00<br /> 0.302 kVA"
          ],
          [
           "9h00<br /> 0.298 kVA"
          ],
          [
           "10h00<br /> 0.294 kVA"
          ],
          [
           "11h00<br /> 0.291 kVA"
          ],
          [
           "12h00<br /> 0.289 kVA"
          ],
          [
           "13h00<br /> 0.287 kVA"
          ],
          [
           "14h00<br /> 0.288 kVA"
          ],
          [
           "15h00<br /> 0.296 kVA"
          ],
          [
           "16h00<br /> 0.319 kVA"
          ],
          [
           "17h00<br /> 0.357 kVA"
          ],
          [
           "18h00<br /> 0.409 kVA"
          ],
          [
           "19h00<br /> 0.497 kVA"
          ],
          [
           "20h00<br /> 0.470 kVA"
          ],
          [
           "21h00<br /> 0.371 kVA"
          ],
          [
           "22h00<br /> 0.282 kVA"
          ],
          [
           "23h00<br /> 0.228 kVA"
          ]
         ],
         "type": "surface",
         "x": [
          [
           11,
           12
          ],
          [
           11,
           12
          ],
          [
           11,
           12
          ],
          [
           11,
           12
          ],
          [
           11,
           12
          ],
          [
           11,
           12
          ],
          [
           11,
           12
          ],
          [
           11,
           12
          ],
          [
           11,
           12
          ],
          [
           11,
           12
          ],
          [
           11,
           12
          ],
          [
           11,
           12
          ],
          [
           11,
           12
          ],
          [
           11,
           12
          ],
          [
           11,
           12
          ],
          [
           11,
           12
          ],
          [
           11,
           12
          ],
          [
           11,
           12
          ],
          [
           11,
           12
          ],
          [
           11,
           12
          ],
          [
           11,
           12
          ],
          [
           11,
           12
          ],
          [
           11,
           12
          ],
          [
           11,
           12
          ]
         ],
         "y": [
          [
           0,
           0
          ],
          [
           1,
           1
          ],
          [
           2,
           2
          ],
          [
           3,
           3
          ],
          [
           4,
           4
          ],
          [
           5,
           5
          ],
          [
           6,
           6
          ],
          [
           7,
           7
          ],
          [
           8,
           8
          ],
          [
           9,
           9
          ],
          [
           10,
           10
          ],
          [
           11,
           11
          ],
          [
           12,
           12
          ],
          [
           13,
           13
          ],
          [
           14,
           14
          ],
          [
           15,
           15
          ],
          [
           16,
           16
          ],
          [
           17,
           17
          ],
          [
           18,
           18
          ],
          [
           19,
           19
          ],
          [
           20,
           20
          ],
          [
           21,
           21
          ],
          [
           22,
           22
          ],
          [
           23,
           23
          ]
         ],
         "z": [
          [
           0.203,
           0.203
          ],
          [
           0.191,
           0.191
          ],
          [
           0.184,
           0.184
          ],
          [
           0.182,
           0.182
          ],
          [
           0.195,
           0.195
          ],
          [
           0.235,
           0.235
          ],
          [
           0.271,
           0.271
          ],
          [
           0.294,
           0.294
          ],
          [
           0.302,
           0.302
          ],
          [
           0.298,
           0.298
          ],
          [
           0.294,
           0.294
          ],
          [
           0.29100000000000004,
           0.29100000000000004
          ],
          [
           0.289,
           0.289
          ],
          [
           0.287,
           0.287
          ],
          [
           0.28800000000000003,
           0.28800000000000003
          ],
          [
           0.29600000000000004,
           0.29600000000000004
          ],
          [
           0.319,
           0.319
          ],
          [
           0.35700000000000004,
           0.35700000000000004
          ],
          [
           0.409,
           0.409
          ],
          [
           0.49700000000000005,
           0.49700000000000005
          ],
          [
           0.47,
           0.47
          ],
          [
           0.371,
           0.371
          ],
          [
           0.282,
           0.282
          ],
          [
           0.228,
           0.228
          ]
         ]
        }
       ],
       "layout": {
        "height": 700,
        "margin": {
         "b": 50,
         "l": 50,
         "pad": 10,
         "r": 50,
         "t": 50
        },
        "scene": {
         "xaxis": {
          "ticktext": [
           "December",
           "November",
           "October",
           "September",
           "August",
           "July",
           "June",
           "May",
           "April",
           "March",
           "February",
           "January"
          ],
          "tickvals": [
           0.5,
           1.5,
           2.5,
           3.5,
           4.5,
           5.5,
           6.5,
           7.5,
           8.5,
           9.5,
           10.5,
           11.5
          ],
          "tickwidth": 1.5,
          "title": "month",
          "type": "category"
         },
         "yaxis": {
          "tickvals": [
           0,
           2,
           4,
           6,
           8,
           10,
           12,
           14,
           16,
           18,
           20,
           22
          ],
          "title": "time of day"
         },
         "zaxis": {
          "rangemode": "tozero",
          "tickvals": [
           0,
           0.1,
           0.2,
           0.30000000000000004,
           0.4,
           0.5
          ],
          "title": "demand (kVA)"
         }
        },
        "title": "Saturday hourly load profile for \"informal_settlement\" customers 15 years after electrification"
       }
      },
      "text/html": [
       "<div id=\"2fd99bb4-a1dd-4e1a-bcc7-cfd7c67d2f7a\" style=\"height: 700px; width: 100%;\" class=\"plotly-graph-div\"></div><script type=\"text/javascript\">require([\"plotly\"], function(Plotly) { window.PLOTLYENV=window.PLOTLYENV || {};window.PLOTLYENV.BASE_URL=\"https://plot.ly\";Plotly.newPlot(\"2fd99bb4-a1dd-4e1a-bcc7-cfd7c67d2f7a\", [{\"y\": [[0, 0], [1, 1], [2, 2], [3, 3], [4, 4], [5, 5], [6, 6], [7, 7], [8, 8], [9, 9], [10, 10], [11, 11], [12, 12], [13, 13], [14, 14], [15, 15], [16, 16], [17, 17], [18, 18], [19, 19], [20, 20], [21, 21], [22, 22], [23, 23]], \"hoverinfo\": \"name+text\", \"name\": \"December\", \"text\": [[\"0h00<br /> 0.203 kVA\"], [\"1h00<br /> 0.191 kVA\"], [\"2h00<br /> 0.184 kVA\"], [\"3h00<br /> 0.182 kVA\"], [\"4h00<br /> 0.195 kVA\"], [\"5h00<br /> 0.235 kVA\"], [\"6h00<br /> 0.271 kVA\"], [\"7h00<br /> 0.294 kVA\"], [\"8h00<br /> 0.302 kVA\"], [\"9h00<br /> 0.298 kVA\"], [\"10h00<br /> 0.294 kVA\"], [\"11h00<br /> 0.291 kVA\"], [\"12h00<br /> 0.289 kVA\"], [\"13h00<br /> 0.287 kVA\"], [\"14h00<br /> 0.288 kVA\"], [\"15h00<br /> 0.296 kVA\"], [\"16h00<br /> 0.319 kVA\"], [\"17h00<br /> 0.357 kVA\"], [\"18h00<br /> 0.409 kVA\"], [\"19h00<br /> 0.497 kVA\"], [\"20h00<br /> 0.470 kVA\"], [\"21h00<br /> 0.371 kVA\"], [\"22h00<br /> 0.282 kVA\"], [\"23h00<br /> 0.228 kVA\"]], \"showscale\": false, \"x\": [[0, 1], [0, 1], [0, 1], [0, 1], [0, 1], [0, 1], [0, 1], [0, 1], [0, 1], [0, 1], [0, 1], [0, 1], [0, 1], [0, 1], [0, 1], [0, 1], [0, 1], [0, 1], [0, 1], [0, 1], [0, 1], [0, 1], [0, 1], [0, 1]], \"z\": [[0.203, 0.203], [0.191, 0.191], [0.184, 0.184], [0.182, 0.182], [0.195, 0.195], [0.235, 0.235], [0.271, 0.271], [0.294, 0.294], [0.302, 0.302], [0.298, 0.298], [0.294, 0.294], [0.29100000000000004, 0.29100000000000004], [0.289, 0.289], [0.287, 0.287], [0.28800000000000003, 0.28800000000000003], [0.29600000000000004, 0.29600000000000004], [0.319, 0.319], [0.35700000000000004, 0.35700000000000004], [0.409, 0.409], [0.49700000000000005, 0.49700000000000005], [0.47, 0.47], [0.371, 0.371], [0.282, 0.282], [0.228, 0.228]], \"type\": \"surface\"}, {\"y\": [[0, 0], [1, 1], [2, 2], [3, 3], [4, 4], [5, 5], [6, 6], [7, 7], [8, 8], [9, 9], [10, 10], [11, 11], [12, 12], [13, 13], [14, 14], [15, 15], [16, 16], [17, 17], [18, 18], [19, 19], [20, 20], [21, 21], [22, 22], [23, 23]], \"hoverinfo\": \"name+text\", \"name\": \"November\", \"text\": [[\"0h00<br /> 0.188 kVA\"], [\"1h00<br /> 0.175 kVA\"], [\"2h00<br /> 0.168 kVA\"], [\"3h00<br /> 0.168 kVA\"], [\"4h00<br /> 0.181 kVA\"], [\"5h00<br /> 0.217 kVA\"], [\"6h00<br /> 0.267 kVA\"], [\"7h00<br /> 0.305 kVA\"], [\"8h00<br /> 0.323 kVA\"], [\"9h00<br /> 0.314 kVA\"], [\"10h00<br /> 0.300 kVA\"], [\"11h00<br /> 0.293 kVA\"], [\"12h00<br /> 0.291 kVA\"], [\"13h00<br /> 0.291 kVA\"], [\"14h00<br /> 0.290 kVA\"], [\"15h00<br /> 0.302 kVA\"], [\"16h00<br /> 0.334 kVA\"], [\"17h00<br /> 0.405 kVA\"], [\"18h00<br /> 0.507 kVA\"], [\"19h00<br /> 0.524 kVA\"], [\"20h00<br /> 0.446 kVA\"], [\"21h00<br /> 0.345 kVA\"], [\"22h00<br /> 0.262 kVA\"], [\"23h00<br /> 0.212 kVA\"]], \"showscale\": false, \"x\": [[1, 2], [1, 2], [1, 2], [1, 2], [1, 2], [1, 2], [1, 2], [1, 2], [1, 2], [1, 2], [1, 2], [1, 2], [1, 2], [1, 2], [1, 2], [1, 2], [1, 2], [1, 2], [1, 2], [1, 2], [1, 2], [1, 2], [1, 2], [1, 2]], \"z\": [[0.188, 0.188], [0.175, 0.175], [0.168, 0.168], [0.168, 0.168], [0.18100000000000002, 0.18100000000000002], [0.217, 0.217], [0.267, 0.267], [0.305, 0.305], [0.32299999999999995, 0.32299999999999995], [0.314, 0.314], [0.3, 0.3], [0.293, 0.293], [0.29100000000000004, 0.29100000000000004], [0.29100000000000004, 0.29100000000000004], [0.29, 0.29], [0.302, 0.302], [0.33399999999999996, 0.33399999999999996], [0.405, 0.405], [0.507, 0.507], [0.524, 0.524], [0.446, 0.446], [0.345, 0.345], [0.262, 0.262], [0.212, 0.212]], \"type\": \"surface\"}, {\"y\": [[0, 0], [1, 1], [2, 2], [3, 3], [4, 4], [5, 5], [6, 6], [7, 7], [8, 8], [9, 9], [10, 10], [11, 11], [12, 12], [13, 13], [14, 14], [15, 15], [16, 16], [17, 17], [18, 18], [19, 19], [20, 20], [21, 21], [22, 22], [23, 23]], \"hoverinfo\": \"name+text\", \"name\": \"October\", \"text\": [[\"0h00<br /> 0.188 kVA\"], [\"1h00<br /> 0.175 kVA\"], [\"2h00<br /> 0.168 kVA\"], [\"3h00<br /> 0.168 kVA\"], [\"4h00<br /> 0.181 kVA\"], [\"5h00<br /> 0.217 kVA\"], [\"6h00<br /> 0.267 kVA\"], [\"7h00<br /> 0.305 kVA\"], [\"8h00<br /> 0.323 kVA\"], [\"9h00<br /> 0.314 kVA\"], [\"10h00<br /> 0.300 kVA\"], [\"11h00<br /> 0.293 kVA\"], [\"12h00<br /> 0.291 kVA\"], [\"13h00<br /> 0.291 kVA\"], [\"14h00<br /> 0.290 kVA\"], [\"15h00<br /> 0.302 kVA\"], [\"16h00<br /> 0.334 kVA\"], [\"17h00<br /> 0.405 kVA\"], [\"18h00<br /> 0.507 kVA\"], [\"19h00<br /> 0.524 kVA\"], [\"20h00<br /> 0.446 kVA\"], [\"21h00<br /> 0.345 kVA\"], [\"22h00<br /> 0.262 kVA\"], [\"23h00<br /> 0.212 kVA\"]], \"showscale\": false, \"x\": [[2, 3], [2, 3], [2, 3], [2, 3], [2, 3], [2, 3], [2, 3], [2, 3], [2, 3], [2, 3], [2, 3], [2, 3], [2, 3], [2, 3], [2, 3], [2, 3], [2, 3], [2, 3], [2, 3], [2, 3], [2, 3], [2, 3], [2, 3], [2, 3]], \"z\": [[0.188, 0.188], [0.175, 0.175], [0.168, 0.168], [0.168, 0.168], [0.18100000000000002, 0.18100000000000002], [0.217, 0.217], [0.267, 0.267], [0.305, 0.305], [0.32299999999999995, 0.32299999999999995], [0.314, 0.314], [0.3, 0.3], [0.293, 0.293], [0.29100000000000004, 0.29100000000000004], [0.29100000000000004, 0.29100000000000004], [0.29, 0.29], [0.302, 0.302], [0.33399999999999996, 0.33399999999999996], [0.405, 0.405], [0.507, 0.507], [0.524, 0.524], [0.446, 0.446], [0.345, 0.345], [0.262, 0.262], [0.212, 0.212]], \"type\": \"surface\"}, {\"y\": [[0, 0], [1, 1], [2, 2], [3, 3], [4, 4], [5, 5], [6, 6], [7, 7], [8, 8], [9, 9], [10, 10], [11, 11], [12, 12], [13, 13], [14, 14], [15, 15], [16, 16], [17, 17], [18, 18], [19, 19], [20, 20], [21, 21], [22, 22], [23, 23]], \"hoverinfo\": \"name+text\", \"name\": \"September\", \"text\": [[\"0h00<br /> 0.188 kVA\"], [\"1h00<br /> 0.175 kVA\"], [\"2h00<br /> 0.168 kVA\"], [\"3h00<br /> 0.168 kVA\"], [\"4h00<br /> 0.181 kVA\"], [\"5h00<br /> 0.217 kVA\"], [\"6h00<br /> 0.267 kVA\"], [\"7h00<br /> 0.305 kVA\"], [\"8h00<br /> 0.323 kVA\"], [\"9h00<br /> 0.314 kVA\"], [\"10h00<br /> 0.300 kVA\"], [\"11h00<br /> 0.293 kVA\"], [\"12h00<br /> 0.291 kVA\"], [\"13h00<br /> 0.291 kVA\"], [\"14h00<br /> 0.290 kVA\"], [\"15h00<br /> 0.302 kVA\"], [\"16h00<br /> 0.334 kVA\"], [\"17h00<br /> 0.405 kVA\"], [\"18h00<br /> 0.507 kVA\"], [\"19h00<br /> 0.524 kVA\"], [\"20h00<br /> 0.446 kVA\"], [\"21h00<br /> 0.345 kVA\"], [\"22h00<br /> 0.262 kVA\"], [\"23h00<br /> 0.212 kVA\"]], \"showscale\": false, \"x\": [[3, 4], [3, 4], [3, 4], [3, 4], [3, 4], [3, 4], [3, 4], [3, 4], [3, 4], [3, 4], [3, 4], [3, 4], [3, 4], [3, 4], [3, 4], [3, 4], [3, 4], [3, 4], [3, 4], [3, 4], [3, 4], [3, 4], [3, 4], [3, 4]], \"z\": [[0.188, 0.188], [0.175, 0.175], [0.168, 0.168], [0.168, 0.168], [0.18100000000000002, 0.18100000000000002], [0.217, 0.217], [0.267, 0.267], [0.305, 0.305], [0.32299999999999995, 0.32299999999999995], [0.314, 0.314], [0.3, 0.3], [0.293, 0.293], [0.29100000000000004, 0.29100000000000004], [0.29100000000000004, 0.29100000000000004], [0.29, 0.29], [0.302, 0.302], [0.33399999999999996, 0.33399999999999996], [0.405, 0.405], [0.507, 0.507], [0.524, 0.524], [0.446, 0.446], [0.345, 0.345], [0.262, 0.262], [0.212, 0.212]], \"type\": \"surface\"}, {\"y\": [[0, 0], [1, 1], [2, 2], [3, 3], [4, 4], [5, 5], [6, 6], [7, 7], [8, 8], [9, 9], [10, 10], [11, 11], [12, 12], [13, 13], [14, 14], [15, 15], [16, 16], [17, 17], [18, 18], [19, 19], [20, 20], [21, 21], [22, 22], [23, 23]], \"hoverinfo\": \"name+text\", \"name\": \"August\", \"text\": [[\"0h00<br /> 0.188 kVA\"], [\"1h00<br /> 0.173 kVA\"], [\"2h00<br /> 0.166 kVA\"], [\"3h00<br /> 0.166 kVA\"], [\"4h00<br /> 0.178 kVA\"], [\"5h00<br /> 0.218 kVA\"], [\"6h00<br /> 0.265 kVA\"], [\"7h00<br /> 0.300 kVA\"], [\"8h00<br /> 0.319 kVA\"], [\"9h00<br /> 0.314 kVA\"], [\"10h00<br /> 0.301 kVA\"], [\"11h00<br /> 0.294 kVA\"], [\"12h00<br /> 0.293 kVA\"], [\"13h00<br /> 0.293 kVA\"], [\"14h00<br /> 0.292 kVA\"], [\"15h00<br /> 0.304 kVA\"], [\"16h00<br /> 0.336 kVA\"], [\"17h00<br /> 0.415 kVA\"], [\"18h00<br /> 0.533 kVA\"], [\"19h00<br /> 0.529 kVA\"], [\"20h00<br /> 0.449 kVA\"], [\"21h00<br /> 0.347 kVA\"], [\"22h00<br /> 0.263 kVA\"], [\"23h00<br /> 0.212 kVA\"]], \"showscale\": false, \"x\": [[4, 5], [4, 5], [4, 5], [4, 5], [4, 5], [4, 5], [4, 5], [4, 5], [4, 5], [4, 5], [4, 5], [4, 5], [4, 5], [4, 5], [4, 5], [4, 5], [4, 5], [4, 5], [4, 5], [4, 5], [4, 5], [4, 5], [4, 5], [4, 5]], \"z\": [[0.188, 0.188], [0.17300000000000001, 0.17300000000000001], [0.166, 0.166], [0.166, 0.166], [0.17800000000000002, 0.17800000000000002], [0.218, 0.218], [0.265, 0.265], [0.3, 0.3], [0.319, 0.319], [0.314, 0.314], [0.301, 0.301], [0.294, 0.294], [0.293, 0.293], [0.293, 0.293], [0.292, 0.292], [0.304, 0.304], [0.336, 0.336], [0.415, 0.415], [0.5329999999999999, 0.5329999999999999], [0.529, 0.529], [0.449, 0.449], [0.34700000000000003, 0.34700000000000003], [0.263, 0.263], [0.212, 0.212]], \"type\": \"surface\"}, {\"y\": [[0, 0], [1, 1], [2, 2], [3, 3], [4, 4], [5, 5], [6, 6], [7, 7], [8, 8], [9, 9], [10, 10], [11, 11], [12, 12], [13, 13], [14, 14], [15, 15], [16, 16], [17, 17], [18, 18], [19, 19], [20, 20], [21, 21], [22, 22], [23, 23]], \"hoverinfo\": \"name+text\", \"name\": \"July\", \"text\": [[\"0h00<br /> 0.189 kVA\"], [\"1h00<br /> 0.173 kVA\"], [\"2h00<br /> 0.165 kVA\"], [\"3h00<br /> 0.165 kVA\"], [\"4h00<br /> 0.176 kVA\"], [\"5h00<br /> 0.218 kVA\"], [\"6h00<br /> 0.260 kVA\"], [\"7h00<br /> 0.293 kVA\"], [\"8h00<br /> 0.315 kVA\"], [\"9h00<br /> 0.314 kVA\"], [\"10h00<br /> 0.303 kVA\"], [\"11h00<br /> 0.295 kVA\"], [\"12h00<br /> 0.294 kVA\"], [\"13h00<br /> 0.294 kVA\"], [\"14h00<br /> 0.293 kVA\"], [\"15h00<br /> 0.304 kVA\"], [\"16h00<br /> 0.337 kVA\"], [\"17h00<br /> 0.457 kVA\"], [\"18h00<br /> 0.562 kVA\"], [\"19h00<br /> 0.538 kVA\"], [\"20h00<br /> 0.455 kVA\"], [\"21h00<br /> 0.353 kVA\"], [\"22h00<br /> 0.267 kVA\"], [\"23h00<br /> 0.215 kVA\"]], \"showscale\": false, \"x\": [[5, 6], [5, 6], [5, 6], [5, 6], [5, 6], [5, 6], [5, 6], [5, 6], [5, 6], [5, 6], [5, 6], [5, 6], [5, 6], [5, 6], [5, 6], [5, 6], [5, 6], [5, 6], [5, 6], [5, 6], [5, 6], [5, 6], [5, 6], [5, 6]], \"z\": [[0.18899999999999997, 0.18899999999999997], [0.17300000000000001, 0.17300000000000001], [0.165, 0.165], [0.165, 0.165], [0.17600000000000002, 0.17600000000000002], [0.218, 0.218], [0.26, 0.26], [0.293, 0.293], [0.315, 0.315], [0.314, 0.314], [0.303, 0.303], [0.295, 0.295], [0.294, 0.294], [0.294, 0.294], [0.293, 0.293], [0.304, 0.304], [0.337, 0.337], [0.457, 0.457], [0.562, 0.562], [0.5379999999999999, 0.5379999999999999], [0.455, 0.455], [0.353, 0.353], [0.267, 0.267], [0.215, 0.215]], \"type\": \"surface\"}, {\"y\": [[0, 0], [1, 1], [2, 2], [3, 3], [4, 4], [5, 5], [6, 6], [7, 7], [8, 8], [9, 9], [10, 10], [11, 11], [12, 12], [13, 13], [14, 14], [15, 15], [16, 16], [17, 17], [18, 18], [19, 19], [20, 20], [21, 21], [22, 22], [23, 23]], \"hoverinfo\": \"name+text\", \"name\": \"June\", \"text\": [[\"0h00<br /> 0.189 kVA\"], [\"1h00<br /> 0.173 kVA\"], [\"2h00<br /> 0.165 kVA\"], [\"3h00<br /> 0.165 kVA\"], [\"4h00<br /> 0.176 kVA\"], [\"5h00<br /> 0.218 kVA\"], [\"6h00<br /> 0.260 kVA\"], [\"7h00<br /> 0.293 kVA\"], [\"8h00<br /> 0.315 kVA\"], [\"9h00<br /> 0.314 kVA\"], [\"10h00<br /> 0.303 kVA\"], [\"11h00<br /> 0.295 kVA\"], [\"12h00<br /> 0.294 kVA\"], [\"13h00<br /> 0.294 kVA\"], [\"14h00<br /> 0.293 kVA\"], [\"15h00<br /> 0.304 kVA\"], [\"16h00<br /> 0.337 kVA\"], [\"17h00<br /> 0.474 kVA\"], [\"18h00<br /> 0.562 kVA\"], [\"19h00<br /> 0.538 kVA\"], [\"20h00<br /> 0.455 kVA\"], [\"21h00<br /> 0.352 kVA\"], [\"22h00<br /> 0.267 kVA\"], [\"23h00<br /> 0.214 kVA\"]], \"showscale\": false, \"x\": [[6, 7], [6, 7], [6, 7], [6, 7], [6, 7], [6, 7], [6, 7], [6, 7], [6, 7], [6, 7], [6, 7], [6, 7], [6, 7], [6, 7], [6, 7], [6, 7], [6, 7], [6, 7], [6, 7], [6, 7], [6, 7], [6, 7], [6, 7], [6, 7]], \"z\": [[0.18899999999999997, 0.18899999999999997], [0.17300000000000001, 0.17300000000000001], [0.165, 0.165], [0.165, 0.165], [0.17600000000000002, 0.17600000000000002], [0.218, 0.218], [0.26, 0.26], [0.293, 0.293], [0.315, 0.315], [0.314, 0.314], [0.303, 0.303], [0.295, 0.295], [0.294, 0.294], [0.294, 0.294], [0.293, 0.293], [0.304, 0.304], [0.337, 0.337], [0.474, 0.474], [0.562, 0.562], [0.5379999999999999, 0.5379999999999999], [0.455, 0.455], [0.35200000000000004, 0.35200000000000004], [0.267, 0.267], [0.214, 0.214]], \"type\": \"surface\"}, {\"y\": [[0, 0], [1, 1], [2, 2], [3, 3], [4, 4], [5, 5], [6, 6], [7, 7], [8, 8], [9, 9], [10, 10], [11, 11], [12, 12], [13, 13], [14, 14], [15, 15], [16, 16], [17, 17], [18, 18], [19, 19], [20, 20], [21, 21], [22, 22], [23, 23]], \"hoverinfo\": \"name+text\", \"name\": \"May\", \"text\": [[\"0h00<br /> 0.188 kVA\"], [\"1h00<br /> 0.173 kVA\"], [\"2h00<br /> 0.166 kVA\"], [\"3h00<br /> 0.166 kVA\"], [\"4h00<br /> 0.178 kVA\"], [\"5h00<br /> 0.218 kVA\"], [\"6h00<br /> 0.265 kVA\"], [\"7h00<br /> 0.300 kVA\"], [\"8h00<br /> 0.320 kVA\"], [\"9h00<br /> 0.314 kVA\"], [\"10h00<br /> 0.301 kVA\"], [\"11h00<br /> 0.294 kVA\"], [\"12h00<br /> 0.293 kVA\"], [\"13h00<br /> 0.293 kVA\"], [\"14h00<br /> 0.292 kVA\"], [\"15h00<br /> 0.304 kVA\"], [\"16h00<br /> 0.336 kVA\"], [\"17h00<br /> 0.434 kVA\"], [\"18h00<br /> 0.533 kVA\"], [\"19h00<br /> 0.529 kVA\"], [\"20h00<br /> 0.448 kVA\"], [\"21h00<br /> 0.347 kVA\"], [\"22h00<br /> 0.263 kVA\"], [\"23h00<br /> 0.211 kVA\"]], \"showscale\": false, \"x\": [[7, 8], [7, 8], [7, 8], [7, 8], [7, 8], [7, 8], [7, 8], [7, 8], [7, 8], [7, 8], [7, 8], [7, 8], [7, 8], [7, 8], [7, 8], [7, 8], [7, 8], [7, 8], [7, 8], [7, 8], [7, 8], [7, 8], [7, 8], [7, 8]], \"z\": [[0.188, 0.188], [0.17300000000000001, 0.17300000000000001], [0.166, 0.166], [0.166, 0.166], [0.17800000000000002, 0.17800000000000002], [0.218, 0.218], [0.265, 0.265], [0.3, 0.3], [0.32, 0.32], [0.314, 0.314], [0.301, 0.301], [0.294, 0.294], [0.293, 0.293], [0.293, 0.293], [0.292, 0.292], [0.304, 0.304], [0.336, 0.336], [0.434, 0.434], [0.5329999999999999, 0.5329999999999999], [0.529, 0.529], [0.44799999999999995, 0.44799999999999995], [0.34700000000000003, 0.34700000000000003], [0.263, 0.263], [0.21100000000000002, 0.21100000000000002]], \"type\": \"surface\"}, {\"y\": [[0, 0], [1, 1], [2, 2], [3, 3], [4, 4], [5, 5], [6, 6], [7, 7], [8, 8], [9, 9], [10, 10], [11, 11], [12, 12], [13, 13], [14, 14], [15, 15], [16, 16], [17, 17], [18, 18], [19, 19], [20, 20], [21, 21], [22, 22], [23, 23]], \"hoverinfo\": \"name+text\", \"name\": \"April\", \"text\": [[\"0h00<br /> 0.188 kVA\"], [\"1h00<br /> 0.175 kVA\"], [\"2h00<br /> 0.168 kVA\"], [\"3h00<br /> 0.168 kVA\"], [\"4h00<br /> 0.181 kVA\"], [\"5h00<br /> 0.217 kVA\"], [\"6h00<br /> 0.267 kVA\"], [\"7h00<br /> 0.305 kVA\"], [\"8h00<br /> 0.323 kVA\"], [\"9h00<br /> 0.314 kVA\"], [\"10h00<br /> 0.300 kVA\"], [\"11h00<br /> 0.293 kVA\"], [\"12h00<br /> 0.291 kVA\"], [\"13h00<br /> 0.291 kVA\"], [\"14h00<br /> 0.290 kVA\"], [\"15h00<br /> 0.302 kVA\"], [\"16h00<br /> 0.334 kVA\"], [\"17h00<br /> 0.405 kVA\"], [\"18h00<br /> 0.507 kVA\"], [\"19h00<br /> 0.524 kVA\"], [\"20h00<br /> 0.446 kVA\"], [\"21h00<br /> 0.345 kVA\"], [\"22h00<br /> 0.262 kVA\"], [\"23h00<br /> 0.212 kVA\"]], \"showscale\": false, \"x\": [[8, 9], [8, 9], [8, 9], [8, 9], [8, 9], [8, 9], [8, 9], [8, 9], [8, 9], [8, 9], [8, 9], [8, 9], [8, 9], [8, 9], [8, 9], [8, 9], [8, 9], [8, 9], [8, 9], [8, 9], [8, 9], [8, 9], [8, 9], [8, 9]], \"z\": [[0.188, 0.188], [0.175, 0.175], [0.168, 0.168], [0.168, 0.168], [0.18100000000000002, 0.18100000000000002], [0.217, 0.217], [0.267, 0.267], [0.305, 0.305], [0.32299999999999995, 0.32299999999999995], [0.314, 0.314], [0.3, 0.3], [0.293, 0.293], [0.29100000000000004, 0.29100000000000004], [0.29100000000000004, 0.29100000000000004], [0.29, 0.29], [0.302, 0.302], [0.33399999999999996, 0.33399999999999996], [0.405, 0.405], [0.507, 0.507], [0.524, 0.524], [0.446, 0.446], [0.345, 0.345], [0.262, 0.262], [0.212, 0.212]], \"type\": \"surface\"}, {\"y\": [[0, 0], [1, 1], [2, 2], [3, 3], [4, 4], [5, 5], [6, 6], [7, 7], [8, 8], [9, 9], [10, 10], [11, 11], [12, 12], [13, 13], [14, 14], [15, 15], [16, 16], [17, 17], [18, 18], [19, 19], [20, 20], [21, 21], [22, 22], [23, 23]], \"hoverinfo\": \"name+text\", \"name\": \"March\", \"text\": [[\"0h00<br /> 0.188 kVA\"], [\"1h00<br /> 0.175 kVA\"], [\"2h00<br /> 0.168 kVA\"], [\"3h00<br /> 0.168 kVA\"], [\"4h00<br /> 0.181 kVA\"], [\"5h00<br /> 0.217 kVA\"], [\"6h00<br /> 0.267 kVA\"], [\"7h00<br /> 0.305 kVA\"], [\"8h00<br /> 0.323 kVA\"], [\"9h00<br /> 0.314 kVA\"], [\"10h00<br /> 0.300 kVA\"], [\"11h00<br /> 0.293 kVA\"], [\"12h00<br /> 0.291 kVA\"], [\"13h00<br /> 0.291 kVA\"], [\"14h00<br /> 0.290 kVA\"], [\"15h00<br /> 0.302 kVA\"], [\"16h00<br /> 0.334 kVA\"], [\"17h00<br /> 0.405 kVA\"], [\"18h00<br /> 0.507 kVA\"], [\"19h00<br /> 0.524 kVA\"], [\"20h00<br /> 0.446 kVA\"], [\"21h00<br /> 0.345 kVA\"], [\"22h00<br /> 0.262 kVA\"], [\"23h00<br /> 0.212 kVA\"]], \"showscale\": false, \"x\": [[9, 10], [9, 10], [9, 10], [9, 10], [9, 10], [9, 10], [9, 10], [9, 10], [9, 10], [9, 10], [9, 10], [9, 10], [9, 10], [9, 10], [9, 10], [9, 10], [9, 10], [9, 10], [9, 10], [9, 10], [9, 10], [9, 10], [9, 10], [9, 10]], \"z\": [[0.188, 0.188], [0.175, 0.175], [0.168, 0.168], [0.168, 0.168], [0.18100000000000002, 0.18100000000000002], [0.217, 0.217], [0.267, 0.267], [0.305, 0.305], [0.32299999999999995, 0.32299999999999995], [0.314, 0.314], [0.3, 0.3], [0.293, 0.293], [0.29100000000000004, 0.29100000000000004], [0.29100000000000004, 0.29100000000000004], [0.29, 0.29], [0.302, 0.302], [0.33399999999999996, 0.33399999999999996], [0.405, 0.405], [0.507, 0.507], [0.524, 0.524], [0.446, 0.446], [0.345, 0.345], [0.262, 0.262], [0.212, 0.212]], \"type\": \"surface\"}, {\"y\": [[0, 0], [1, 1], [2, 2], [3, 3], [4, 4], [5, 5], [6, 6], [7, 7], [8, 8], [9, 9], [10, 10], [11, 11], [12, 12], [13, 13], [14, 14], [15, 15], [16, 16], [17, 17], [18, 18], [19, 19], [20, 20], [21, 21], [22, 22], [23, 23]], \"hoverinfo\": \"name+text\", \"name\": \"February\", \"text\": [[\"0h00<br /> 0.188 kVA\"], [\"1h00<br /> 0.175 kVA\"], [\"2h00<br /> 0.168 kVA\"], [\"3h00<br /> 0.168 kVA\"], [\"4h00<br /> 0.181 kVA\"], [\"5h00<br /> 0.217 kVA\"], [\"6h00<br /> 0.267 kVA\"], [\"7h00<br /> 0.305 kVA\"], [\"8h00<br /> 0.323 kVA\"], [\"9h00<br /> 0.314 kVA\"], [\"10h00<br /> 0.300 kVA\"], [\"11h00<br /> 0.293 kVA\"], [\"12h00<br /> 0.291 kVA\"], [\"13h00<br /> 0.291 kVA\"], [\"14h00<br /> 0.290 kVA\"], [\"15h00<br /> 0.302 kVA\"], [\"16h00<br /> 0.334 kVA\"], [\"17h00<br /> 0.405 kVA\"], [\"18h00<br /> 0.507 kVA\"], [\"19h00<br /> 0.524 kVA\"], [\"20h00<br /> 0.446 kVA\"], [\"21h00<br /> 0.345 kVA\"], [\"22h00<br /> 0.262 kVA\"], [\"23h00<br /> 0.212 kVA\"]], \"showscale\": false, \"x\": [[10, 11], [10, 11], [10, 11], [10, 11], [10, 11], [10, 11], [10, 11], [10, 11], [10, 11], [10, 11], [10, 11], [10, 11], [10, 11], [10, 11], [10, 11], [10, 11], [10, 11], [10, 11], [10, 11], [10, 11], [10, 11], [10, 11], [10, 11], [10, 11]], \"z\": [[0.188, 0.188], [0.175, 0.175], [0.168, 0.168], [0.168, 0.168], [0.18100000000000002, 0.18100000000000002], [0.217, 0.217], [0.267, 0.267], [0.305, 0.305], [0.32299999999999995, 0.32299999999999995], [0.314, 0.314], [0.3, 0.3], [0.293, 0.293], [0.29100000000000004, 0.29100000000000004], [0.29100000000000004, 0.29100000000000004], [0.29, 0.29], [0.302, 0.302], [0.33399999999999996, 0.33399999999999996], [0.405, 0.405], [0.507, 0.507], [0.524, 0.524], [0.446, 0.446], [0.345, 0.345], [0.262, 0.262], [0.212, 0.212]], \"type\": \"surface\"}, {\"y\": [[0, 0], [1, 1], [2, 2], [3, 3], [4, 4], [5, 5], [6, 6], [7, 7], [8, 8], [9, 9], [10, 10], [11, 11], [12, 12], [13, 13], [14, 14], [15, 15], [16, 16], [17, 17], [18, 18], [19, 19], [20, 20], [21, 21], [22, 22], [23, 23]], \"hoverinfo\": \"name+text\", \"name\": \"January\", \"text\": [[\"0h00<br /> 0.203 kVA\"], [\"1h00<br /> 0.191 kVA\"], [\"2h00<br /> 0.184 kVA\"], [\"3h00<br /> 0.182 kVA\"], [\"4h00<br /> 0.195 kVA\"], [\"5h00<br /> 0.235 kVA\"], [\"6h00<br /> 0.271 kVA\"], [\"7h00<br /> 0.294 kVA\"], [\"8h00<br /> 0.302 kVA\"], [\"9h00<br /> 0.298 kVA\"], [\"10h00<br /> 0.294 kVA\"], [\"11h00<br /> 0.291 kVA\"], [\"12h00<br /> 0.289 kVA\"], [\"13h00<br /> 0.287 kVA\"], [\"14h00<br /> 0.288 kVA\"], [\"15h00<br /> 0.296 kVA\"], [\"16h00<br /> 0.319 kVA\"], [\"17h00<br /> 0.357 kVA\"], [\"18h00<br /> 0.409 kVA\"], [\"19h00<br /> 0.497 kVA\"], [\"20h00<br /> 0.470 kVA\"], [\"21h00<br /> 0.371 kVA\"], [\"22h00<br /> 0.282 kVA\"], [\"23h00<br /> 0.228 kVA\"]], \"showscale\": false, \"x\": [[11, 12], [11, 12], [11, 12], [11, 12], [11, 12], [11, 12], [11, 12], [11, 12], [11, 12], [11, 12], [11, 12], [11, 12], [11, 12], [11, 12], [11, 12], [11, 12], [11, 12], [11, 12], [11, 12], [11, 12], [11, 12], [11, 12], [11, 12], [11, 12]], \"z\": [[0.203, 0.203], [0.191, 0.191], [0.184, 0.184], [0.182, 0.182], [0.195, 0.195], [0.235, 0.235], [0.271, 0.271], [0.294, 0.294], [0.302, 0.302], [0.298, 0.298], [0.294, 0.294], [0.29100000000000004, 0.29100000000000004], [0.289, 0.289], [0.287, 0.287], [0.28800000000000003, 0.28800000000000003], [0.29600000000000004, 0.29600000000000004], [0.319, 0.319], [0.35700000000000004, 0.35700000000000004], [0.409, 0.409], [0.49700000000000005, 0.49700000000000005], [0.47, 0.47], [0.371, 0.371], [0.282, 0.282], [0.228, 0.228]], \"type\": \"surface\"}], {\"margin\": {\"b\": 50, \"l\": 50, \"t\": 50, \"r\": 50, \"pad\": 10}, \"scene\": {\"yaxis\": {\"tickvals\": [0, 2, 4, 6, 8, 10, 12, 14, 16, 18, 20, 22], \"title\": \"time of day\"}, \"xaxis\": {\"tickvals\": [0.5, 1.5, 2.5, 3.5, 4.5, 5.5, 6.5, 7.5, 8.5, 9.5, 10.5, 11.5], \"tickwidth\": 1.5, \"ticktext\": [\"December\", \"November\", \"October\", \"September\", \"August\", \"July\", \"June\", \"May\", \"April\", \"March\", \"February\", \"January\"], \"title\": \"month\", \"type\": \"category\"}, \"zaxis\": {\"tickvals\": [0.0, 0.1, 0.2, 0.30000000000000004, 0.4, 0.5], \"rangemode\": \"tozero\", \"title\": \"demand (kVA)\"}}, \"height\": 700, \"title\": \"Saturday hourly load profile for \\\"informal_settlement\\\" customers 15 years after electrification\"}, {\"linkText\": \"Export to plot.ly\", \"showLink\": true})});</script>"
      ],
      "text/vnd.plotly.v1+html": [
       "<div id=\"2fd99bb4-a1dd-4e1a-bcc7-cfd7c67d2f7a\" style=\"height: 700px; width: 100%;\" class=\"plotly-graph-div\"></div><script type=\"text/javascript\">require([\"plotly\"], function(Plotly) { window.PLOTLYENV=window.PLOTLYENV || {};window.PLOTLYENV.BASE_URL=\"https://plot.ly\";Plotly.newPlot(\"2fd99bb4-a1dd-4e1a-bcc7-cfd7c67d2f7a\", [{\"y\": [[0, 0], [1, 1], [2, 2], [3, 3], [4, 4], [5, 5], [6, 6], [7, 7], [8, 8], [9, 9], [10, 10], [11, 11], [12, 12], [13, 13], [14, 14], [15, 15], [16, 16], [17, 17], [18, 18], [19, 19], [20, 20], [21, 21], [22, 22], [23, 23]], \"hoverinfo\": \"name+text\", \"name\": \"December\", \"text\": [[\"0h00<br /> 0.203 kVA\"], [\"1h00<br /> 0.191 kVA\"], [\"2h00<br /> 0.184 kVA\"], [\"3h00<br /> 0.182 kVA\"], [\"4h00<br /> 0.195 kVA\"], [\"5h00<br /> 0.235 kVA\"], [\"6h00<br /> 0.271 kVA\"], [\"7h00<br /> 0.294 kVA\"], [\"8h00<br /> 0.302 kVA\"], [\"9h00<br /> 0.298 kVA\"], [\"10h00<br /> 0.294 kVA\"], [\"11h00<br /> 0.291 kVA\"], [\"12h00<br /> 0.289 kVA\"], [\"13h00<br /> 0.287 kVA\"], [\"14h00<br /> 0.288 kVA\"], [\"15h00<br /> 0.296 kVA\"], [\"16h00<br /> 0.319 kVA\"], [\"17h00<br /> 0.357 kVA\"], [\"18h00<br /> 0.409 kVA\"], [\"19h00<br /> 0.497 kVA\"], [\"20h00<br /> 0.470 kVA\"], [\"21h00<br /> 0.371 kVA\"], [\"22h00<br /> 0.282 kVA\"], [\"23h00<br /> 0.228 kVA\"]], \"showscale\": false, \"x\": [[0, 1], [0, 1], [0, 1], [0, 1], [0, 1], [0, 1], [0, 1], [0, 1], [0, 1], [0, 1], [0, 1], [0, 1], [0, 1], [0, 1], [0, 1], [0, 1], [0, 1], [0, 1], [0, 1], [0, 1], [0, 1], [0, 1], [0, 1], [0, 1]], \"z\": [[0.203, 0.203], [0.191, 0.191], [0.184, 0.184], [0.182, 0.182], [0.195, 0.195], [0.235, 0.235], [0.271, 0.271], [0.294, 0.294], [0.302, 0.302], [0.298, 0.298], [0.294, 0.294], [0.29100000000000004, 0.29100000000000004], [0.289, 0.289], [0.287, 0.287], [0.28800000000000003, 0.28800000000000003], [0.29600000000000004, 0.29600000000000004], [0.319, 0.319], [0.35700000000000004, 0.35700000000000004], [0.409, 0.409], [0.49700000000000005, 0.49700000000000005], [0.47, 0.47], [0.371, 0.371], [0.282, 0.282], [0.228, 0.228]], \"type\": \"surface\"}, {\"y\": [[0, 0], [1, 1], [2, 2], [3, 3], [4, 4], [5, 5], [6, 6], [7, 7], [8, 8], [9, 9], [10, 10], [11, 11], [12, 12], [13, 13], [14, 14], [15, 15], [16, 16], [17, 17], [18, 18], [19, 19], [20, 20], [21, 21], [22, 22], [23, 23]], \"hoverinfo\": \"name+text\", \"name\": \"November\", \"text\": [[\"0h00<br /> 0.188 kVA\"], [\"1h00<br /> 0.175 kVA\"], [\"2h00<br /> 0.168 kVA\"], [\"3h00<br /> 0.168 kVA\"], [\"4h00<br /> 0.181 kVA\"], [\"5h00<br /> 0.217 kVA\"], [\"6h00<br /> 0.267 kVA\"], [\"7h00<br /> 0.305 kVA\"], [\"8h00<br /> 0.323 kVA\"], [\"9h00<br /> 0.314 kVA\"], [\"10h00<br /> 0.300 kVA\"], [\"11h00<br /> 0.293 kVA\"], [\"12h00<br /> 0.291 kVA\"], [\"13h00<br /> 0.291 kVA\"], [\"14h00<br /> 0.290 kVA\"], [\"15h00<br /> 0.302 kVA\"], [\"16h00<br /> 0.334 kVA\"], [\"17h00<br /> 0.405 kVA\"], [\"18h00<br /> 0.507 kVA\"], [\"19h00<br /> 0.524 kVA\"], [\"20h00<br /> 0.446 kVA\"], [\"21h00<br /> 0.345 kVA\"], [\"22h00<br /> 0.262 kVA\"], [\"23h00<br /> 0.212 kVA\"]], \"showscale\": false, \"x\": [[1, 2], [1, 2], [1, 2], [1, 2], [1, 2], [1, 2], [1, 2], [1, 2], [1, 2], [1, 2], [1, 2], [1, 2], [1, 2], [1, 2], [1, 2], [1, 2], [1, 2], [1, 2], [1, 2], [1, 2], [1, 2], [1, 2], [1, 2], [1, 2]], \"z\": [[0.188, 0.188], [0.175, 0.175], [0.168, 0.168], [0.168, 0.168], [0.18100000000000002, 0.18100000000000002], [0.217, 0.217], [0.267, 0.267], [0.305, 0.305], [0.32299999999999995, 0.32299999999999995], [0.314, 0.314], [0.3, 0.3], [0.293, 0.293], [0.29100000000000004, 0.29100000000000004], [0.29100000000000004, 0.29100000000000004], [0.29, 0.29], [0.302, 0.302], [0.33399999999999996, 0.33399999999999996], [0.405, 0.405], [0.507, 0.507], [0.524, 0.524], [0.446, 0.446], [0.345, 0.345], [0.262, 0.262], [0.212, 0.212]], \"type\": \"surface\"}, {\"y\": [[0, 0], [1, 1], [2, 2], [3, 3], [4, 4], [5, 5], [6, 6], [7, 7], [8, 8], [9, 9], [10, 10], [11, 11], [12, 12], [13, 13], [14, 14], [15, 15], [16, 16], [17, 17], [18, 18], [19, 19], [20, 20], [21, 21], [22, 22], [23, 23]], \"hoverinfo\": \"name+text\", \"name\": \"October\", \"text\": [[\"0h00<br /> 0.188 kVA\"], [\"1h00<br /> 0.175 kVA\"], [\"2h00<br /> 0.168 kVA\"], [\"3h00<br /> 0.168 kVA\"], [\"4h00<br /> 0.181 kVA\"], [\"5h00<br /> 0.217 kVA\"], [\"6h00<br /> 0.267 kVA\"], [\"7h00<br /> 0.305 kVA\"], [\"8h00<br /> 0.323 kVA\"], [\"9h00<br /> 0.314 kVA\"], [\"10h00<br /> 0.300 kVA\"], [\"11h00<br /> 0.293 kVA\"], [\"12h00<br /> 0.291 kVA\"], [\"13h00<br /> 0.291 kVA\"], [\"14h00<br /> 0.290 kVA\"], [\"15h00<br /> 0.302 kVA\"], [\"16h00<br /> 0.334 kVA\"], [\"17h00<br /> 0.405 kVA\"], [\"18h00<br /> 0.507 kVA\"], [\"19h00<br /> 0.524 kVA\"], [\"20h00<br /> 0.446 kVA\"], [\"21h00<br /> 0.345 kVA\"], [\"22h00<br /> 0.262 kVA\"], [\"23h00<br /> 0.212 kVA\"]], \"showscale\": false, \"x\": [[2, 3], [2, 3], [2, 3], [2, 3], [2, 3], [2, 3], [2, 3], [2, 3], [2, 3], [2, 3], [2, 3], [2, 3], [2, 3], [2, 3], [2, 3], [2, 3], [2, 3], [2, 3], [2, 3], [2, 3], [2, 3], [2, 3], [2, 3], [2, 3]], \"z\": [[0.188, 0.188], [0.175, 0.175], [0.168, 0.168], [0.168, 0.168], [0.18100000000000002, 0.18100000000000002], [0.217, 0.217], [0.267, 0.267], [0.305, 0.305], [0.32299999999999995, 0.32299999999999995], [0.314, 0.314], [0.3, 0.3], [0.293, 0.293], [0.29100000000000004, 0.29100000000000004], [0.29100000000000004, 0.29100000000000004], [0.29, 0.29], [0.302, 0.302], [0.33399999999999996, 0.33399999999999996], [0.405, 0.405], [0.507, 0.507], [0.524, 0.524], [0.446, 0.446], [0.345, 0.345], [0.262, 0.262], [0.212, 0.212]], \"type\": \"surface\"}, {\"y\": [[0, 0], [1, 1], [2, 2], [3, 3], [4, 4], [5, 5], [6, 6], [7, 7], [8, 8], [9, 9], [10, 10], [11, 11], [12, 12], [13, 13], [14, 14], [15, 15], [16, 16], [17, 17], [18, 18], [19, 19], [20, 20], [21, 21], [22, 22], [23, 23]], \"hoverinfo\": \"name+text\", \"name\": \"September\", \"text\": [[\"0h00<br /> 0.188 kVA\"], [\"1h00<br /> 0.175 kVA\"], [\"2h00<br /> 0.168 kVA\"], [\"3h00<br /> 0.168 kVA\"], [\"4h00<br /> 0.181 kVA\"], [\"5h00<br /> 0.217 kVA\"], [\"6h00<br /> 0.267 kVA\"], [\"7h00<br /> 0.305 kVA\"], [\"8h00<br /> 0.323 kVA\"], [\"9h00<br /> 0.314 kVA\"], [\"10h00<br /> 0.300 kVA\"], [\"11h00<br /> 0.293 kVA\"], [\"12h00<br /> 0.291 kVA\"], [\"13h00<br /> 0.291 kVA\"], [\"14h00<br /> 0.290 kVA\"], [\"15h00<br /> 0.302 kVA\"], [\"16h00<br /> 0.334 kVA\"], [\"17h00<br /> 0.405 kVA\"], [\"18h00<br /> 0.507 kVA\"], [\"19h00<br /> 0.524 kVA\"], [\"20h00<br /> 0.446 kVA\"], [\"21h00<br /> 0.345 kVA\"], [\"22h00<br /> 0.262 kVA\"], [\"23h00<br /> 0.212 kVA\"]], \"showscale\": false, \"x\": [[3, 4], [3, 4], [3, 4], [3, 4], [3, 4], [3, 4], [3, 4], [3, 4], [3, 4], [3, 4], [3, 4], [3, 4], [3, 4], [3, 4], [3, 4], [3, 4], [3, 4], [3, 4], [3, 4], [3, 4], [3, 4], [3, 4], [3, 4], [3, 4]], \"z\": [[0.188, 0.188], [0.175, 0.175], [0.168, 0.168], [0.168, 0.168], [0.18100000000000002, 0.18100000000000002], [0.217, 0.217], [0.267, 0.267], [0.305, 0.305], [0.32299999999999995, 0.32299999999999995], [0.314, 0.314], [0.3, 0.3], [0.293, 0.293], [0.29100000000000004, 0.29100000000000004], [0.29100000000000004, 0.29100000000000004], [0.29, 0.29], [0.302, 0.302], [0.33399999999999996, 0.33399999999999996], [0.405, 0.405], [0.507, 0.507], [0.524, 0.524], [0.446, 0.446], [0.345, 0.345], [0.262, 0.262], [0.212, 0.212]], \"type\": \"surface\"}, {\"y\": [[0, 0], [1, 1], [2, 2], [3, 3], [4, 4], [5, 5], [6, 6], [7, 7], [8, 8], [9, 9], [10, 10], [11, 11], [12, 12], [13, 13], [14, 14], [15, 15], [16, 16], [17, 17], [18, 18], [19, 19], [20, 20], [21, 21], [22, 22], [23, 23]], \"hoverinfo\": \"name+text\", \"name\": \"August\", \"text\": [[\"0h00<br /> 0.188 kVA\"], [\"1h00<br /> 0.173 kVA\"], [\"2h00<br /> 0.166 kVA\"], [\"3h00<br /> 0.166 kVA\"], [\"4h00<br /> 0.178 kVA\"], [\"5h00<br /> 0.218 kVA\"], [\"6h00<br /> 0.265 kVA\"], [\"7h00<br /> 0.300 kVA\"], [\"8h00<br /> 0.319 kVA\"], [\"9h00<br /> 0.314 kVA\"], [\"10h00<br /> 0.301 kVA\"], [\"11h00<br /> 0.294 kVA\"], [\"12h00<br /> 0.293 kVA\"], [\"13h00<br /> 0.293 kVA\"], [\"14h00<br /> 0.292 kVA\"], [\"15h00<br /> 0.304 kVA\"], [\"16h00<br /> 0.336 kVA\"], [\"17h00<br /> 0.415 kVA\"], [\"18h00<br /> 0.533 kVA\"], [\"19h00<br /> 0.529 kVA\"], [\"20h00<br /> 0.449 kVA\"], [\"21h00<br /> 0.347 kVA\"], [\"22h00<br /> 0.263 kVA\"], [\"23h00<br /> 0.212 kVA\"]], \"showscale\": false, \"x\": [[4, 5], [4, 5], [4, 5], [4, 5], [4, 5], [4, 5], [4, 5], [4, 5], [4, 5], [4, 5], [4, 5], [4, 5], [4, 5], [4, 5], [4, 5], [4, 5], [4, 5], [4, 5], [4, 5], [4, 5], [4, 5], [4, 5], [4, 5], [4, 5]], \"z\": [[0.188, 0.188], [0.17300000000000001, 0.17300000000000001], [0.166, 0.166], [0.166, 0.166], [0.17800000000000002, 0.17800000000000002], [0.218, 0.218], [0.265, 0.265], [0.3, 0.3], [0.319, 0.319], [0.314, 0.314], [0.301, 0.301], [0.294, 0.294], [0.293, 0.293], [0.293, 0.293], [0.292, 0.292], [0.304, 0.304], [0.336, 0.336], [0.415, 0.415], [0.5329999999999999, 0.5329999999999999], [0.529, 0.529], [0.449, 0.449], [0.34700000000000003, 0.34700000000000003], [0.263, 0.263], [0.212, 0.212]], \"type\": \"surface\"}, {\"y\": [[0, 0], [1, 1], [2, 2], [3, 3], [4, 4], [5, 5], [6, 6], [7, 7], [8, 8], [9, 9], [10, 10], [11, 11], [12, 12], [13, 13], [14, 14], [15, 15], [16, 16], [17, 17], [18, 18], [19, 19], [20, 20], [21, 21], [22, 22], [23, 23]], \"hoverinfo\": \"name+text\", \"name\": \"July\", \"text\": [[\"0h00<br /> 0.189 kVA\"], [\"1h00<br /> 0.173 kVA\"], [\"2h00<br /> 0.165 kVA\"], [\"3h00<br /> 0.165 kVA\"], [\"4h00<br /> 0.176 kVA\"], [\"5h00<br /> 0.218 kVA\"], [\"6h00<br /> 0.260 kVA\"], [\"7h00<br /> 0.293 kVA\"], [\"8h00<br /> 0.315 kVA\"], [\"9h00<br /> 0.314 kVA\"], [\"10h00<br /> 0.303 kVA\"], [\"11h00<br /> 0.295 kVA\"], [\"12h00<br /> 0.294 kVA\"], [\"13h00<br /> 0.294 kVA\"], [\"14h00<br /> 0.293 kVA\"], [\"15h00<br /> 0.304 kVA\"], [\"16h00<br /> 0.337 kVA\"], [\"17h00<br /> 0.457 kVA\"], [\"18h00<br /> 0.562 kVA\"], [\"19h00<br /> 0.538 kVA\"], [\"20h00<br /> 0.455 kVA\"], [\"21h00<br /> 0.353 kVA\"], [\"22h00<br /> 0.267 kVA\"], [\"23h00<br /> 0.215 kVA\"]], \"showscale\": false, \"x\": [[5, 6], [5, 6], [5, 6], [5, 6], [5, 6], [5, 6], [5, 6], [5, 6], [5, 6], [5, 6], [5, 6], [5, 6], [5, 6], [5, 6], [5, 6], [5, 6], [5, 6], [5, 6], [5, 6], [5, 6], [5, 6], [5, 6], [5, 6], [5, 6]], \"z\": [[0.18899999999999997, 0.18899999999999997], [0.17300000000000001, 0.17300000000000001], [0.165, 0.165], [0.165, 0.165], [0.17600000000000002, 0.17600000000000002], [0.218, 0.218], [0.26, 0.26], [0.293, 0.293], [0.315, 0.315], [0.314, 0.314], [0.303, 0.303], [0.295, 0.295], [0.294, 0.294], [0.294, 0.294], [0.293, 0.293], [0.304, 0.304], [0.337, 0.337], [0.457, 0.457], [0.562, 0.562], [0.5379999999999999, 0.5379999999999999], [0.455, 0.455], [0.353, 0.353], [0.267, 0.267], [0.215, 0.215]], \"type\": \"surface\"}, {\"y\": [[0, 0], [1, 1], [2, 2], [3, 3], [4, 4], [5, 5], [6, 6], [7, 7], [8, 8], [9, 9], [10, 10], [11, 11], [12, 12], [13, 13], [14, 14], [15, 15], [16, 16], [17, 17], [18, 18], [19, 19], [20, 20], [21, 21], [22, 22], [23, 23]], \"hoverinfo\": \"name+text\", \"name\": \"June\", \"text\": [[\"0h00<br /> 0.189 kVA\"], [\"1h00<br /> 0.173 kVA\"], [\"2h00<br /> 0.165 kVA\"], [\"3h00<br /> 0.165 kVA\"], [\"4h00<br /> 0.176 kVA\"], [\"5h00<br /> 0.218 kVA\"], [\"6h00<br /> 0.260 kVA\"], [\"7h00<br /> 0.293 kVA\"], [\"8h00<br /> 0.315 kVA\"], [\"9h00<br /> 0.314 kVA\"], [\"10h00<br /> 0.303 kVA\"], [\"11h00<br /> 0.295 kVA\"], [\"12h00<br /> 0.294 kVA\"], [\"13h00<br /> 0.294 kVA\"], [\"14h00<br /> 0.293 kVA\"], [\"15h00<br /> 0.304 kVA\"], [\"16h00<br /> 0.337 kVA\"], [\"17h00<br /> 0.474 kVA\"], [\"18h00<br /> 0.562 kVA\"], [\"19h00<br /> 0.538 kVA\"], [\"20h00<br /> 0.455 kVA\"], [\"21h00<br /> 0.352 kVA\"], [\"22h00<br /> 0.267 kVA\"], [\"23h00<br /> 0.214 kVA\"]], \"showscale\": false, \"x\": [[6, 7], [6, 7], [6, 7], [6, 7], [6, 7], [6, 7], [6, 7], [6, 7], [6, 7], [6, 7], [6, 7], [6, 7], [6, 7], [6, 7], [6, 7], [6, 7], [6, 7], [6, 7], [6, 7], [6, 7], [6, 7], [6, 7], [6, 7], [6, 7]], \"z\": [[0.18899999999999997, 0.18899999999999997], [0.17300000000000001, 0.17300000000000001], [0.165, 0.165], [0.165, 0.165], [0.17600000000000002, 0.17600000000000002], [0.218, 0.218], [0.26, 0.26], [0.293, 0.293], [0.315, 0.315], [0.314, 0.314], [0.303, 0.303], [0.295, 0.295], [0.294, 0.294], [0.294, 0.294], [0.293, 0.293], [0.304, 0.304], [0.337, 0.337], [0.474, 0.474], [0.562, 0.562], [0.5379999999999999, 0.5379999999999999], [0.455, 0.455], [0.35200000000000004, 0.35200000000000004], [0.267, 0.267], [0.214, 0.214]], \"type\": \"surface\"}, {\"y\": [[0, 0], [1, 1], [2, 2], [3, 3], [4, 4], [5, 5], [6, 6], [7, 7], [8, 8], [9, 9], [10, 10], [11, 11], [12, 12], [13, 13], [14, 14], [15, 15], [16, 16], [17, 17], [18, 18], [19, 19], [20, 20], [21, 21], [22, 22], [23, 23]], \"hoverinfo\": \"name+text\", \"name\": \"May\", \"text\": [[\"0h00<br /> 0.188 kVA\"], [\"1h00<br /> 0.173 kVA\"], [\"2h00<br /> 0.166 kVA\"], [\"3h00<br /> 0.166 kVA\"], [\"4h00<br /> 0.178 kVA\"], [\"5h00<br /> 0.218 kVA\"], [\"6h00<br /> 0.265 kVA\"], [\"7h00<br /> 0.300 kVA\"], [\"8h00<br /> 0.320 kVA\"], [\"9h00<br /> 0.314 kVA\"], [\"10h00<br /> 0.301 kVA\"], [\"11h00<br /> 0.294 kVA\"], [\"12h00<br /> 0.293 kVA\"], [\"13h00<br /> 0.293 kVA\"], [\"14h00<br /> 0.292 kVA\"], [\"15h00<br /> 0.304 kVA\"], [\"16h00<br /> 0.336 kVA\"], [\"17h00<br /> 0.434 kVA\"], [\"18h00<br /> 0.533 kVA\"], [\"19h00<br /> 0.529 kVA\"], [\"20h00<br /> 0.448 kVA\"], [\"21h00<br /> 0.347 kVA\"], [\"22h00<br /> 0.263 kVA\"], [\"23h00<br /> 0.211 kVA\"]], \"showscale\": false, \"x\": [[7, 8], [7, 8], [7, 8], [7, 8], [7, 8], [7, 8], [7, 8], [7, 8], [7, 8], [7, 8], [7, 8], [7, 8], [7, 8], [7, 8], [7, 8], [7, 8], [7, 8], [7, 8], [7, 8], [7, 8], [7, 8], [7, 8], [7, 8], [7, 8]], \"z\": [[0.188, 0.188], [0.17300000000000001, 0.17300000000000001], [0.166, 0.166], [0.166, 0.166], [0.17800000000000002, 0.17800000000000002], [0.218, 0.218], [0.265, 0.265], [0.3, 0.3], [0.32, 0.32], [0.314, 0.314], [0.301, 0.301], [0.294, 0.294], [0.293, 0.293], [0.293, 0.293], [0.292, 0.292], [0.304, 0.304], [0.336, 0.336], [0.434, 0.434], [0.5329999999999999, 0.5329999999999999], [0.529, 0.529], [0.44799999999999995, 0.44799999999999995], [0.34700000000000003, 0.34700000000000003], [0.263, 0.263], [0.21100000000000002, 0.21100000000000002]], \"type\": \"surface\"}, {\"y\": [[0, 0], [1, 1], [2, 2], [3, 3], [4, 4], [5, 5], [6, 6], [7, 7], [8, 8], [9, 9], [10, 10], [11, 11], [12, 12], [13, 13], [14, 14], [15, 15], [16, 16], [17, 17], [18, 18], [19, 19], [20, 20], [21, 21], [22, 22], [23, 23]], \"hoverinfo\": \"name+text\", \"name\": \"April\", \"text\": [[\"0h00<br /> 0.188 kVA\"], [\"1h00<br /> 0.175 kVA\"], [\"2h00<br /> 0.168 kVA\"], [\"3h00<br /> 0.168 kVA\"], [\"4h00<br /> 0.181 kVA\"], [\"5h00<br /> 0.217 kVA\"], [\"6h00<br /> 0.267 kVA\"], [\"7h00<br /> 0.305 kVA\"], [\"8h00<br /> 0.323 kVA\"], [\"9h00<br /> 0.314 kVA\"], [\"10h00<br /> 0.300 kVA\"], [\"11h00<br /> 0.293 kVA\"], [\"12h00<br /> 0.291 kVA\"], [\"13h00<br /> 0.291 kVA\"], [\"14h00<br /> 0.290 kVA\"], [\"15h00<br /> 0.302 kVA\"], [\"16h00<br /> 0.334 kVA\"], [\"17h00<br /> 0.405 kVA\"], [\"18h00<br /> 0.507 kVA\"], [\"19h00<br /> 0.524 kVA\"], [\"20h00<br /> 0.446 kVA\"], [\"21h00<br /> 0.345 kVA\"], [\"22h00<br /> 0.262 kVA\"], [\"23h00<br /> 0.212 kVA\"]], \"showscale\": false, \"x\": [[8, 9], [8, 9], [8, 9], [8, 9], [8, 9], [8, 9], [8, 9], [8, 9], [8, 9], [8, 9], [8, 9], [8, 9], [8, 9], [8, 9], [8, 9], [8, 9], [8, 9], [8, 9], [8, 9], [8, 9], [8, 9], [8, 9], [8, 9], [8, 9]], \"z\": [[0.188, 0.188], [0.175, 0.175], [0.168, 0.168], [0.168, 0.168], [0.18100000000000002, 0.18100000000000002], [0.217, 0.217], [0.267, 0.267], [0.305, 0.305], [0.32299999999999995, 0.32299999999999995], [0.314, 0.314], [0.3, 0.3], [0.293, 0.293], [0.29100000000000004, 0.29100000000000004], [0.29100000000000004, 0.29100000000000004], [0.29, 0.29], [0.302, 0.302], [0.33399999999999996, 0.33399999999999996], [0.405, 0.405], [0.507, 0.507], [0.524, 0.524], [0.446, 0.446], [0.345, 0.345], [0.262, 0.262], [0.212, 0.212]], \"type\": \"surface\"}, {\"y\": [[0, 0], [1, 1], [2, 2], [3, 3], [4, 4], [5, 5], [6, 6], [7, 7], [8, 8], [9, 9], [10, 10], [11, 11], [12, 12], [13, 13], [14, 14], [15, 15], [16, 16], [17, 17], [18, 18], [19, 19], [20, 20], [21, 21], [22, 22], [23, 23]], \"hoverinfo\": \"name+text\", \"name\": \"March\", \"text\": [[\"0h00<br /> 0.188 kVA\"], [\"1h00<br /> 0.175 kVA\"], [\"2h00<br /> 0.168 kVA\"], [\"3h00<br /> 0.168 kVA\"], [\"4h00<br /> 0.181 kVA\"], [\"5h00<br /> 0.217 kVA\"], [\"6h00<br /> 0.267 kVA\"], [\"7h00<br /> 0.305 kVA\"], [\"8h00<br /> 0.323 kVA\"], [\"9h00<br /> 0.314 kVA\"], [\"10h00<br /> 0.300 kVA\"], [\"11h00<br /> 0.293 kVA\"], [\"12h00<br /> 0.291 kVA\"], [\"13h00<br /> 0.291 kVA\"], [\"14h00<br /> 0.290 kVA\"], [\"15h00<br /> 0.302 kVA\"], [\"16h00<br /> 0.334 kVA\"], [\"17h00<br /> 0.405 kVA\"], [\"18h00<br /> 0.507 kVA\"], [\"19h00<br /> 0.524 kVA\"], [\"20h00<br /> 0.446 kVA\"], [\"21h00<br /> 0.345 kVA\"], [\"22h00<br /> 0.262 kVA\"], [\"23h00<br /> 0.212 kVA\"]], \"showscale\": false, \"x\": [[9, 10], [9, 10], [9, 10], [9, 10], [9, 10], [9, 10], [9, 10], [9, 10], [9, 10], [9, 10], [9, 10], [9, 10], [9, 10], [9, 10], [9, 10], [9, 10], [9, 10], [9, 10], [9, 10], [9, 10], [9, 10], [9, 10], [9, 10], [9, 10]], \"z\": [[0.188, 0.188], [0.175, 0.175], [0.168, 0.168], [0.168, 0.168], [0.18100000000000002, 0.18100000000000002], [0.217, 0.217], [0.267, 0.267], [0.305, 0.305], [0.32299999999999995, 0.32299999999999995], [0.314, 0.314], [0.3, 0.3], [0.293, 0.293], [0.29100000000000004, 0.29100000000000004], [0.29100000000000004, 0.29100000000000004], [0.29, 0.29], [0.302, 0.302], [0.33399999999999996, 0.33399999999999996], [0.405, 0.405], [0.507, 0.507], [0.524, 0.524], [0.446, 0.446], [0.345, 0.345], [0.262, 0.262], [0.212, 0.212]], \"type\": \"surface\"}, {\"y\": [[0, 0], [1, 1], [2, 2], [3, 3], [4, 4], [5, 5], [6, 6], [7, 7], [8, 8], [9, 9], [10, 10], [11, 11], [12, 12], [13, 13], [14, 14], [15, 15], [16, 16], [17, 17], [18, 18], [19, 19], [20, 20], [21, 21], [22, 22], [23, 23]], \"hoverinfo\": \"name+text\", \"name\": \"February\", \"text\": [[\"0h00<br /> 0.188 kVA\"], [\"1h00<br /> 0.175 kVA\"], [\"2h00<br /> 0.168 kVA\"], [\"3h00<br /> 0.168 kVA\"], [\"4h00<br /> 0.181 kVA\"], [\"5h00<br /> 0.217 kVA\"], [\"6h00<br /> 0.267 kVA\"], [\"7h00<br /> 0.305 kVA\"], [\"8h00<br /> 0.323 kVA\"], [\"9h00<br /> 0.314 kVA\"], [\"10h00<br /> 0.300 kVA\"], [\"11h00<br /> 0.293 kVA\"], [\"12h00<br /> 0.291 kVA\"], [\"13h00<br /> 0.291 kVA\"], [\"14h00<br /> 0.290 kVA\"], [\"15h00<br /> 0.302 kVA\"], [\"16h00<br /> 0.334 kVA\"], [\"17h00<br /> 0.405 kVA\"], [\"18h00<br /> 0.507 kVA\"], [\"19h00<br /> 0.524 kVA\"], [\"20h00<br /> 0.446 kVA\"], [\"21h00<br /> 0.345 kVA\"], [\"22h00<br /> 0.262 kVA\"], [\"23h00<br /> 0.212 kVA\"]], \"showscale\": false, \"x\": [[10, 11], [10, 11], [10, 11], [10, 11], [10, 11], [10, 11], [10, 11], [10, 11], [10, 11], [10, 11], [10, 11], [10, 11], [10, 11], [10, 11], [10, 11], [10, 11], [10, 11], [10, 11], [10, 11], [10, 11], [10, 11], [10, 11], [10, 11], [10, 11]], \"z\": [[0.188, 0.188], [0.175, 0.175], [0.168, 0.168], [0.168, 0.168], [0.18100000000000002, 0.18100000000000002], [0.217, 0.217], [0.267, 0.267], [0.305, 0.305], [0.32299999999999995, 0.32299999999999995], [0.314, 0.314], [0.3, 0.3], [0.293, 0.293], [0.29100000000000004, 0.29100000000000004], [0.29100000000000004, 0.29100000000000004], [0.29, 0.29], [0.302, 0.302], [0.33399999999999996, 0.33399999999999996], [0.405, 0.405], [0.507, 0.507], [0.524, 0.524], [0.446, 0.446], [0.345, 0.345], [0.262, 0.262], [0.212, 0.212]], \"type\": \"surface\"}, {\"y\": [[0, 0], [1, 1], [2, 2], [3, 3], [4, 4], [5, 5], [6, 6], [7, 7], [8, 8], [9, 9], [10, 10], [11, 11], [12, 12], [13, 13], [14, 14], [15, 15], [16, 16], [17, 17], [18, 18], [19, 19], [20, 20], [21, 21], [22, 22], [23, 23]], \"hoverinfo\": \"name+text\", \"name\": \"January\", \"text\": [[\"0h00<br /> 0.203 kVA\"], [\"1h00<br /> 0.191 kVA\"], [\"2h00<br /> 0.184 kVA\"], [\"3h00<br /> 0.182 kVA\"], [\"4h00<br /> 0.195 kVA\"], [\"5h00<br /> 0.235 kVA\"], [\"6h00<br /> 0.271 kVA\"], [\"7h00<br /> 0.294 kVA\"], [\"8h00<br /> 0.302 kVA\"], [\"9h00<br /> 0.298 kVA\"], [\"10h00<br /> 0.294 kVA\"], [\"11h00<br /> 0.291 kVA\"], [\"12h00<br /> 0.289 kVA\"], [\"13h00<br /> 0.287 kVA\"], [\"14h00<br /> 0.288 kVA\"], [\"15h00<br /> 0.296 kVA\"], [\"16h00<br /> 0.319 kVA\"], [\"17h00<br /> 0.357 kVA\"], [\"18h00<br /> 0.409 kVA\"], [\"19h00<br /> 0.497 kVA\"], [\"20h00<br /> 0.470 kVA\"], [\"21h00<br /> 0.371 kVA\"], [\"22h00<br /> 0.282 kVA\"], [\"23h00<br /> 0.228 kVA\"]], \"showscale\": false, \"x\": [[11, 12], [11, 12], [11, 12], [11, 12], [11, 12], [11, 12], [11, 12], [11, 12], [11, 12], [11, 12], [11, 12], [11, 12], [11, 12], [11, 12], [11, 12], [11, 12], [11, 12], [11, 12], [11, 12], [11, 12], [11, 12], [11, 12], [11, 12], [11, 12]], \"z\": [[0.203, 0.203], [0.191, 0.191], [0.184, 0.184], [0.182, 0.182], [0.195, 0.195], [0.235, 0.235], [0.271, 0.271], [0.294, 0.294], [0.302, 0.302], [0.298, 0.298], [0.294, 0.294], [0.29100000000000004, 0.29100000000000004], [0.289, 0.289], [0.287, 0.287], [0.28800000000000003, 0.28800000000000003], [0.29600000000000004, 0.29600000000000004], [0.319, 0.319], [0.35700000000000004, 0.35700000000000004], [0.409, 0.409], [0.49700000000000005, 0.49700000000000005], [0.47, 0.47], [0.371, 0.371], [0.282, 0.282], [0.228, 0.228]], \"type\": \"surface\"}], {\"margin\": {\"b\": 50, \"l\": 50, \"t\": 50, \"r\": 50, \"pad\": 10}, \"scene\": {\"yaxis\": {\"tickvals\": [0, 2, 4, 6, 8, 10, 12, 14, 16, 18, 20, 22], \"title\": \"time of day\"}, \"xaxis\": {\"tickvals\": [0.5, 1.5, 2.5, 3.5, 4.5, 5.5, 6.5, 7.5, 8.5, 9.5, 10.5, 11.5], \"tickwidth\": 1.5, \"ticktext\": [\"December\", \"November\", \"October\", \"September\", \"August\", \"July\", \"June\", \"May\", \"April\", \"March\", \"February\", \"January\"], \"title\": \"month\", \"type\": \"category\"}, \"zaxis\": {\"tickvals\": [0.0, 0.1, 0.2, 0.30000000000000004, 0.4, 0.5], \"rangemode\": \"tozero\", \"title\": \"demand (kVA)\"}}, \"height\": 700, \"title\": \"Saturday hourly load profile for \\\"informal_settlement\\\" customers 15 years after electrification\"}, {\"linkText\": \"Export to plot.ly\", \"showLink\": true})});</script>"
      ]
     },
     "metadata": {},
     "output_type": "display_data"
    }
   ],
   "source": [
    "eh.plotHourlyProfiles('informal_settlement', daytype='Saturday', years_electrified=15, model = 'expert')"
   ]
  },
  {
   "cell_type": "code",
   "execution_count": 8,
   "metadata": {
    "collapsed": false,
    "scrolled": true
   },
   "outputs": [
    {
     "ename": "KeyError",
     "evalue": "'Day Type'",
     "output_type": "error",
     "traceback": [
      "\u001b[0;31m---------------------------------------------------------------------------\u001b[0m",
      "\u001b[0;31mKeyError\u001b[0m                                  Traceback (most recent call last)",
      "\u001b[0;32m/Users/SaintlyVi/anaconda3/lib/python3.5/site-packages/pandas/core/indexes/base.py\u001b[0m in \u001b[0;36mget_loc\u001b[0;34m(self, key, method, tolerance)\u001b[0m\n\u001b[1;32m   2521\u001b[0m             \u001b[0;32mtry\u001b[0m\u001b[0;34m:\u001b[0m\u001b[0;34m\u001b[0m\u001b[0m\n\u001b[0;32m-> 2522\u001b[0;31m                 \u001b[0;32mreturn\u001b[0m \u001b[0mself\u001b[0m\u001b[0;34m.\u001b[0m\u001b[0m_engine\u001b[0m\u001b[0;34m.\u001b[0m\u001b[0mget_loc\u001b[0m\u001b[0;34m(\u001b[0m\u001b[0mkey\u001b[0m\u001b[0;34m)\u001b[0m\u001b[0;34m\u001b[0m\u001b[0m\n\u001b[0m\u001b[1;32m   2523\u001b[0m             \u001b[0;32mexcept\u001b[0m \u001b[0mKeyError\u001b[0m\u001b[0;34m:\u001b[0m\u001b[0;34m\u001b[0m\u001b[0m\n",
      "\u001b[0;32mpandas/_libs/index.pyx\u001b[0m in \u001b[0;36mpandas._libs.index.IndexEngine.get_loc\u001b[0;34m()\u001b[0m\n",
      "\u001b[0;32mpandas/_libs/index.pyx\u001b[0m in \u001b[0;36mpandas._libs.index.IndexEngine.get_loc\u001b[0;34m()\u001b[0m\n",
      "\u001b[0;32mpandas/_libs/hashtable_class_helper.pxi\u001b[0m in \u001b[0;36mpandas._libs.hashtable.PyObjectHashTable.get_item\u001b[0;34m()\u001b[0m\n",
      "\u001b[0;32mpandas/_libs/hashtable_class_helper.pxi\u001b[0m in \u001b[0;36mpandas._libs.hashtable.PyObjectHashTable.get_item\u001b[0;34m()\u001b[0m\n",
      "\u001b[0;31mKeyError\u001b[0m: 'Day Type'",
      "\nDuring handling of the above exception, another exception occurred:\n",
      "\u001b[0;31mKeyError\u001b[0m                                  Traceback (most recent call last)",
      "\u001b[0;32m<ipython-input-8-718292d7b62c>\u001b[0m in \u001b[0;36m<module>\u001b[0;34m()\u001b[0m\n\u001b[0;32m----> 1\u001b[0;31m \u001b[0meh\u001b[0m\u001b[0;34m.\u001b[0m\u001b[0mplot15YearHourlyProfiles\u001b[0m\u001b[0;34m(\u001b[0m\u001b[0;34m'urban_res_7'\u001b[0m\u001b[0;34m,\u001b[0m \u001b[0;34m'Sunday'\u001b[0m\u001b[0;34m)\u001b[0m\u001b[0;34m\u001b[0m\u001b[0m\n\u001b[0m",
      "\u001b[0;32m/Users/SaintlyVi/Documents/MScMac/DLR_DB/evaluation/evalhelpers.py\u001b[0m in \u001b[0;36mplot15YearHourlyProfiles\u001b[0;34m(customer_class, daytype)\u001b[0m\n\u001b[1;32m    304\u001b[0m \u001b[0;34m\u001b[0m\u001b[0m\n\u001b[1;32m    305\u001b[0m     \u001b[0mdf\u001b[0m \u001b[0;34m=\u001b[0m \u001b[0mexpert\u001b[0m\u001b[0;34m.\u001b[0m\u001b[0mdpetHourlyProfiles\u001b[0m\u001b[0;34m(\u001b[0m\u001b[0;34m)\u001b[0m\u001b[0;34m\u001b[0m\u001b[0m\n\u001b[0;32m--> 306\u001b[0;31m     \u001b[0mdf\u001b[0m \u001b[0;34m=\u001b[0m \u001b[0mdf\u001b[0m\u001b[0;34m[\u001b[0m\u001b[0;34m(\u001b[0m\u001b[0mdf\u001b[0m\u001b[0;34m[\u001b[0m\u001b[0;34m'Day Type'\u001b[0m\u001b[0;34m]\u001b[0m\u001b[0;34m==\u001b[0m\u001b[0mdaytype\u001b[0m\u001b[0;34m)\u001b[0m \u001b[0;34m&\u001b[0m \u001b[0;34m(\u001b[0m\u001b[0mdf\u001b[0m\u001b[0;34m[\u001b[0m\u001b[0;34m'class'\u001b[0m\u001b[0;34m]\u001b[0m\u001b[0;34m==\u001b[0m\u001b[0mcustomer_class\u001b[0m\u001b[0;34m)\u001b[0m\u001b[0;34m]\u001b[0m\u001b[0;34m\u001b[0m\u001b[0m\n\u001b[0m\u001b[1;32m    307\u001b[0m \u001b[0;34m\u001b[0m\u001b[0m\n\u001b[1;32m    308\u001b[0m     \u001b[0mncol\u001b[0m \u001b[0;34m=\u001b[0m \u001b[0;36m3\u001b[0m\u001b[0;34m\u001b[0m\u001b[0m\n",
      "\u001b[0;32m/Users/SaintlyVi/anaconda3/lib/python3.5/site-packages/pandas/core/frame.py\u001b[0m in \u001b[0;36m__getitem__\u001b[0;34m(self, key)\u001b[0m\n\u001b[1;32m   2137\u001b[0m             \u001b[0;32mreturn\u001b[0m \u001b[0mself\u001b[0m\u001b[0;34m.\u001b[0m\u001b[0m_getitem_multilevel\u001b[0m\u001b[0;34m(\u001b[0m\u001b[0mkey\u001b[0m\u001b[0;34m)\u001b[0m\u001b[0;34m\u001b[0m\u001b[0m\n\u001b[1;32m   2138\u001b[0m         \u001b[0;32melse\u001b[0m\u001b[0;34m:\u001b[0m\u001b[0;34m\u001b[0m\u001b[0m\n\u001b[0;32m-> 2139\u001b[0;31m             \u001b[0;32mreturn\u001b[0m \u001b[0mself\u001b[0m\u001b[0;34m.\u001b[0m\u001b[0m_getitem_column\u001b[0m\u001b[0;34m(\u001b[0m\u001b[0mkey\u001b[0m\u001b[0;34m)\u001b[0m\u001b[0;34m\u001b[0m\u001b[0m\n\u001b[0m\u001b[1;32m   2140\u001b[0m \u001b[0;34m\u001b[0m\u001b[0m\n\u001b[1;32m   2141\u001b[0m     \u001b[0;32mdef\u001b[0m \u001b[0m_getitem_column\u001b[0m\u001b[0;34m(\u001b[0m\u001b[0mself\u001b[0m\u001b[0;34m,\u001b[0m \u001b[0mkey\u001b[0m\u001b[0;34m)\u001b[0m\u001b[0;34m:\u001b[0m\u001b[0;34m\u001b[0m\u001b[0m\n",
      "\u001b[0;32m/Users/SaintlyVi/anaconda3/lib/python3.5/site-packages/pandas/core/frame.py\u001b[0m in \u001b[0;36m_getitem_column\u001b[0;34m(self, key)\u001b[0m\n\u001b[1;32m   2144\u001b[0m         \u001b[0;31m# get column\u001b[0m\u001b[0;34m\u001b[0m\u001b[0;34m\u001b[0m\u001b[0m\n\u001b[1;32m   2145\u001b[0m         \u001b[0;32mif\u001b[0m \u001b[0mself\u001b[0m\u001b[0;34m.\u001b[0m\u001b[0mcolumns\u001b[0m\u001b[0;34m.\u001b[0m\u001b[0mis_unique\u001b[0m\u001b[0;34m:\u001b[0m\u001b[0;34m\u001b[0m\u001b[0m\n\u001b[0;32m-> 2146\u001b[0;31m             \u001b[0;32mreturn\u001b[0m \u001b[0mself\u001b[0m\u001b[0;34m.\u001b[0m\u001b[0m_get_item_cache\u001b[0m\u001b[0;34m(\u001b[0m\u001b[0mkey\u001b[0m\u001b[0;34m)\u001b[0m\u001b[0;34m\u001b[0m\u001b[0m\n\u001b[0m\u001b[1;32m   2147\u001b[0m \u001b[0;34m\u001b[0m\u001b[0m\n\u001b[1;32m   2148\u001b[0m         \u001b[0;31m# duplicate columns & possible reduce dimensionality\u001b[0m\u001b[0;34m\u001b[0m\u001b[0;34m\u001b[0m\u001b[0m\n",
      "\u001b[0;32m/Users/SaintlyVi/anaconda3/lib/python3.5/site-packages/pandas/core/generic.py\u001b[0m in \u001b[0;36m_get_item_cache\u001b[0;34m(self, item)\u001b[0m\n\u001b[1;32m   1840\u001b[0m         \u001b[0mres\u001b[0m \u001b[0;34m=\u001b[0m \u001b[0mcache\u001b[0m\u001b[0;34m.\u001b[0m\u001b[0mget\u001b[0m\u001b[0;34m(\u001b[0m\u001b[0mitem\u001b[0m\u001b[0;34m)\u001b[0m\u001b[0;34m\u001b[0m\u001b[0m\n\u001b[1;32m   1841\u001b[0m         \u001b[0;32mif\u001b[0m \u001b[0mres\u001b[0m \u001b[0;32mis\u001b[0m \u001b[0;32mNone\u001b[0m\u001b[0;34m:\u001b[0m\u001b[0;34m\u001b[0m\u001b[0m\n\u001b[0;32m-> 1842\u001b[0;31m             \u001b[0mvalues\u001b[0m \u001b[0;34m=\u001b[0m \u001b[0mself\u001b[0m\u001b[0;34m.\u001b[0m\u001b[0m_data\u001b[0m\u001b[0;34m.\u001b[0m\u001b[0mget\u001b[0m\u001b[0;34m(\u001b[0m\u001b[0mitem\u001b[0m\u001b[0;34m)\u001b[0m\u001b[0;34m\u001b[0m\u001b[0m\n\u001b[0m\u001b[1;32m   1843\u001b[0m             \u001b[0mres\u001b[0m \u001b[0;34m=\u001b[0m \u001b[0mself\u001b[0m\u001b[0;34m.\u001b[0m\u001b[0m_box_item_values\u001b[0m\u001b[0;34m(\u001b[0m\u001b[0mitem\u001b[0m\u001b[0;34m,\u001b[0m \u001b[0mvalues\u001b[0m\u001b[0;34m)\u001b[0m\u001b[0;34m\u001b[0m\u001b[0m\n\u001b[1;32m   1844\u001b[0m             \u001b[0mcache\u001b[0m\u001b[0;34m[\u001b[0m\u001b[0mitem\u001b[0m\u001b[0;34m]\u001b[0m \u001b[0;34m=\u001b[0m \u001b[0mres\u001b[0m\u001b[0;34m\u001b[0m\u001b[0m\n",
      "\u001b[0;32m/Users/SaintlyVi/anaconda3/lib/python3.5/site-packages/pandas/core/internals.py\u001b[0m in \u001b[0;36mget\u001b[0;34m(self, item, fastpath)\u001b[0m\n\u001b[1;32m   3836\u001b[0m \u001b[0;34m\u001b[0m\u001b[0m\n\u001b[1;32m   3837\u001b[0m             \u001b[0;32mif\u001b[0m \u001b[0;32mnot\u001b[0m \u001b[0misna\u001b[0m\u001b[0;34m(\u001b[0m\u001b[0mitem\u001b[0m\u001b[0;34m)\u001b[0m\u001b[0;34m:\u001b[0m\u001b[0;34m\u001b[0m\u001b[0m\n\u001b[0;32m-> 3838\u001b[0;31m                 \u001b[0mloc\u001b[0m \u001b[0;34m=\u001b[0m \u001b[0mself\u001b[0m\u001b[0;34m.\u001b[0m\u001b[0mitems\u001b[0m\u001b[0;34m.\u001b[0m\u001b[0mget_loc\u001b[0m\u001b[0;34m(\u001b[0m\u001b[0mitem\u001b[0m\u001b[0;34m)\u001b[0m\u001b[0;34m\u001b[0m\u001b[0m\n\u001b[0m\u001b[1;32m   3839\u001b[0m             \u001b[0;32melse\u001b[0m\u001b[0;34m:\u001b[0m\u001b[0;34m\u001b[0m\u001b[0m\n\u001b[1;32m   3840\u001b[0m                 \u001b[0mindexer\u001b[0m \u001b[0;34m=\u001b[0m \u001b[0mnp\u001b[0m\u001b[0;34m.\u001b[0m\u001b[0marange\u001b[0m\u001b[0;34m(\u001b[0m\u001b[0mlen\u001b[0m\u001b[0;34m(\u001b[0m\u001b[0mself\u001b[0m\u001b[0;34m.\u001b[0m\u001b[0mitems\u001b[0m\u001b[0;34m)\u001b[0m\u001b[0;34m)\u001b[0m\u001b[0;34m[\u001b[0m\u001b[0misna\u001b[0m\u001b[0;34m(\u001b[0m\u001b[0mself\u001b[0m\u001b[0;34m.\u001b[0m\u001b[0mitems\u001b[0m\u001b[0;34m)\u001b[0m\u001b[0;34m]\u001b[0m\u001b[0;34m\u001b[0m\u001b[0m\n",
      "\u001b[0;32m/Users/SaintlyVi/anaconda3/lib/python3.5/site-packages/pandas/core/indexes/base.py\u001b[0m in \u001b[0;36mget_loc\u001b[0;34m(self, key, method, tolerance)\u001b[0m\n\u001b[1;32m   2522\u001b[0m                 \u001b[0;32mreturn\u001b[0m \u001b[0mself\u001b[0m\u001b[0;34m.\u001b[0m\u001b[0m_engine\u001b[0m\u001b[0;34m.\u001b[0m\u001b[0mget_loc\u001b[0m\u001b[0;34m(\u001b[0m\u001b[0mkey\u001b[0m\u001b[0;34m)\u001b[0m\u001b[0;34m\u001b[0m\u001b[0m\n\u001b[1;32m   2523\u001b[0m             \u001b[0;32mexcept\u001b[0m \u001b[0mKeyError\u001b[0m\u001b[0;34m:\u001b[0m\u001b[0;34m\u001b[0m\u001b[0m\n\u001b[0;32m-> 2524\u001b[0;31m                 \u001b[0;32mreturn\u001b[0m \u001b[0mself\u001b[0m\u001b[0;34m.\u001b[0m\u001b[0m_engine\u001b[0m\u001b[0;34m.\u001b[0m\u001b[0mget_loc\u001b[0m\u001b[0;34m(\u001b[0m\u001b[0mself\u001b[0m\u001b[0;34m.\u001b[0m\u001b[0m_maybe_cast_indexer\u001b[0m\u001b[0;34m(\u001b[0m\u001b[0mkey\u001b[0m\u001b[0;34m)\u001b[0m\u001b[0;34m)\u001b[0m\u001b[0;34m\u001b[0m\u001b[0m\n\u001b[0m\u001b[1;32m   2525\u001b[0m \u001b[0;34m\u001b[0m\u001b[0m\n\u001b[1;32m   2526\u001b[0m         \u001b[0mindexer\u001b[0m \u001b[0;34m=\u001b[0m \u001b[0mself\u001b[0m\u001b[0;34m.\u001b[0m\u001b[0mget_indexer\u001b[0m\u001b[0;34m(\u001b[0m\u001b[0;34m[\u001b[0m\u001b[0mkey\u001b[0m\u001b[0;34m]\u001b[0m\u001b[0;34m,\u001b[0m \u001b[0mmethod\u001b[0m\u001b[0;34m=\u001b[0m\u001b[0mmethod\u001b[0m\u001b[0;34m,\u001b[0m \u001b[0mtolerance\u001b[0m\u001b[0;34m=\u001b[0m\u001b[0mtolerance\u001b[0m\u001b[0;34m)\u001b[0m\u001b[0;34m\u001b[0m\u001b[0m\n",
      "\u001b[0;32mpandas/_libs/index.pyx\u001b[0m in \u001b[0;36mpandas._libs.index.IndexEngine.get_loc\u001b[0;34m()\u001b[0m\n",
      "\u001b[0;32mpandas/_libs/index.pyx\u001b[0m in \u001b[0;36mpandas._libs.index.IndexEngine.get_loc\u001b[0;34m()\u001b[0m\n",
      "\u001b[0;32mpandas/_libs/hashtable_class_helper.pxi\u001b[0m in \u001b[0;36mpandas._libs.hashtable.PyObjectHashTable.get_item\u001b[0;34m()\u001b[0m\n",
      "\u001b[0;32mpandas/_libs/hashtable_class_helper.pxi\u001b[0m in \u001b[0;36mpandas._libs.hashtable.PyObjectHashTable.get_item\u001b[0;34m()\u001b[0m\n",
      "\u001b[0;31mKeyError\u001b[0m: 'Day Type'"
     ]
    }
   ],
   "source": [
    "eh.plot15YearHourlyProfiles('urban_res_7', 'Sunday')"
   ]
  },
  {
   "cell_type": "code",
   "execution_count": 8,
   "metadata": {
    "collapsed": false
   },
   "outputs": [
    {
     "data": {
      "application/vnd.plotly.v1+json": {
       "data": [
        {
         "hoverinfo": "name+text",
         "name": "December",
         "showscale": false,
         "text": [
          [
           "0h00<br /> 0.132 kVA"
          ],
          [
           "1h00<br /> 0.127 kVA"
          ],
          [
           "2h00<br /> 0.125 kVA"
          ],
          [
           "3h00<br /> 0.130 kVA"
          ],
          [
           "4h00<br /> 0.157 kVA"
          ],
          [
           "5h00<br /> 0.230 kVA"
          ],
          [
           "6h00<br /> 0.277 kVA"
          ],
          [
           "7h00<br /> 0.233 kVA"
          ],
          [
           "8h00<br /> 0.212 kVA"
          ],
          [
           "9h00<br /> 0.206 kVA"
          ],
          [
           "10h00<br /> 0.203 kVA"
          ],
          [
           "11h00<br /> 0.203 kVA"
          ],
          [
           "12h00<br /> 0.203 kVA"
          ],
          [
           "13h00<br /> 0.202 kVA"
          ],
          [
           "14h00<br /> 0.208 kVA"
          ],
          [
           "15h00<br /> 0.224 kVA"
          ],
          [
           "16h00<br /> 0.254 kVA"
          ],
          [
           "17h00<br /> 0.301 kVA"
          ],
          [
           "18h00<br /> 0.374 kVA"
          ],
          [
           "19h00<br /> 0.432 kVA"
          ],
          [
           "20h00<br /> 0.378 kVA"
          ],
          [
           "21h00<br /> 0.272 kVA"
          ],
          [
           "22h00<br /> 0.187 kVA"
          ],
          [
           "23h00<br /> 0.150 kVA"
          ]
         ],
         "type": "surface",
         "x": [
          [
           0,
           1
          ],
          [
           0,
           1
          ],
          [
           0,
           1
          ],
          [
           0,
           1
          ],
          [
           0,
           1
          ],
          [
           0,
           1
          ],
          [
           0,
           1
          ],
          [
           0,
           1
          ],
          [
           0,
           1
          ],
          [
           0,
           1
          ],
          [
           0,
           1
          ],
          [
           0,
           1
          ],
          [
           0,
           1
          ],
          [
           0,
           1
          ],
          [
           0,
           1
          ],
          [
           0,
           1
          ],
          [
           0,
           1
          ],
          [
           0,
           1
          ],
          [
           0,
           1
          ],
          [
           0,
           1
          ],
          [
           0,
           1
          ],
          [
           0,
           1
          ],
          [
           0,
           1
          ],
          [
           0,
           1
          ]
         ],
         "y": [
          [
           0,
           0
          ],
          [
           1,
           1
          ],
          [
           2,
           2
          ],
          [
           3,
           3
          ],
          [
           4,
           4
          ],
          [
           5,
           5
          ],
          [
           6,
           6
          ],
          [
           7,
           7
          ],
          [
           8,
           8
          ],
          [
           9,
           9
          ],
          [
           10,
           10
          ],
          [
           11,
           11
          ],
          [
           12,
           12
          ],
          [
           13,
           13
          ],
          [
           14,
           14
          ],
          [
           15,
           15
          ],
          [
           16,
           16
          ],
          [
           17,
           17
          ],
          [
           18,
           18
          ],
          [
           19,
           19
          ],
          [
           20,
           20
          ],
          [
           21,
           21
          ],
          [
           22,
           22
          ],
          [
           23,
           23
          ]
         ],
         "z": [
          [
           0.132,
           0.132
          ],
          [
           0.127,
           0.127
          ],
          [
           0.125,
           0.125
          ],
          [
           0.13,
           0.13
          ],
          [
           0.157,
           0.157
          ],
          [
           0.23,
           0.23
          ],
          [
           0.27699999999999997,
           0.27699999999999997
          ],
          [
           0.233,
           0.233
          ],
          [
           0.212,
           0.212
          ],
          [
           0.20600000000000002,
           0.20600000000000002
          ],
          [
           0.203,
           0.203
          ],
          [
           0.203,
           0.203
          ],
          [
           0.203,
           0.203
          ],
          [
           0.20199999999999999,
           0.20199999999999999
          ],
          [
           0.20800000000000002,
           0.20800000000000002
          ],
          [
           0.22399999999999998,
           0.22399999999999998
          ],
          [
           0.254,
           0.254
          ],
          [
           0.301,
           0.301
          ],
          [
           0.374,
           0.374
          ],
          [
           0.43200000000000005,
           0.43200000000000005
          ],
          [
           0.37799999999999995,
           0.37799999999999995
          ],
          [
           0.272,
           0.272
          ],
          [
           0.187,
           0.187
          ],
          [
           0.15,
           0.15
          ]
         ]
        },
        {
         "hoverinfo": "name+text",
         "name": "November",
         "showscale": false,
         "text": [
          [
           "0h00<br /> 0.127 kVA"
          ],
          [
           "1h00<br /> 0.122 kVA"
          ],
          [
           "2h00<br /> 0.122 kVA"
          ],
          [
           "3h00<br /> 0.127 kVA"
          ],
          [
           "4h00<br /> 0.157 kVA"
          ],
          [
           "5h00<br /> 0.232 kVA"
          ],
          [
           "6h00<br /> 0.293 kVA"
          ],
          [
           "7h00<br /> 0.245 kVA"
          ],
          [
           "8h00<br /> 0.216 kVA"
          ],
          [
           "9h00<br /> 0.207 kVA"
          ],
          [
           "10h00<br /> 0.203 kVA"
          ],
          [
           "11h00<br /> 0.202 kVA"
          ],
          [
           "12h00<br /> 0.201 kVA"
          ],
          [
           "13h00<br /> 0.200 kVA"
          ],
          [
           "14h00<br /> 0.207 kVA"
          ],
          [
           "15h00<br /> 0.226 kVA"
          ],
          [
           "16h00<br /> 0.261 kVA"
          ],
          [
           "17h00<br /> 0.323 kVA"
          ],
          [
           "18h00<br /> 0.423 kVA"
          ],
          [
           "19h00<br /> 0.445 kVA"
          ],
          [
           "20h00<br /> 0.368 kVA"
          ],
          [
           "21h00<br /> 0.264 kVA"
          ],
          [
           "22h00<br /> 0.181 kVA"
          ],
          [
           "23h00<br /> 0.145 kVA"
          ]
         ],
         "type": "surface",
         "x": [
          [
           1,
           2
          ],
          [
           1,
           2
          ],
          [
           1,
           2
          ],
          [
           1,
           2
          ],
          [
           1,
           2
          ],
          [
           1,
           2
          ],
          [
           1,
           2
          ],
          [
           1,
           2
          ],
          [
           1,
           2
          ],
          [
           1,
           2
          ],
          [
           1,
           2
          ],
          [
           1,
           2
          ],
          [
           1,
           2
          ],
          [
           1,
           2
          ],
          [
           1,
           2
          ],
          [
           1,
           2
          ],
          [
           1,
           2
          ],
          [
           1,
           2
          ],
          [
           1,
           2
          ],
          [
           1,
           2
          ],
          [
           1,
           2
          ],
          [
           1,
           2
          ],
          [
           1,
           2
          ],
          [
           1,
           2
          ]
         ],
         "y": [
          [
           0,
           0
          ],
          [
           1,
           1
          ],
          [
           2,
           2
          ],
          [
           3,
           3
          ],
          [
           4,
           4
          ],
          [
           5,
           5
          ],
          [
           6,
           6
          ],
          [
           7,
           7
          ],
          [
           8,
           8
          ],
          [
           9,
           9
          ],
          [
           10,
           10
          ],
          [
           11,
           11
          ],
          [
           12,
           12
          ],
          [
           13,
           13
          ],
          [
           14,
           14
          ],
          [
           15,
           15
          ],
          [
           16,
           16
          ],
          [
           17,
           17
          ],
          [
           18,
           18
          ],
          [
           19,
           19
          ],
          [
           20,
           20
          ],
          [
           21,
           21
          ],
          [
           22,
           22
          ],
          [
           23,
           23
          ]
         ],
         "z": [
          [
           0.127,
           0.127
          ],
          [
           0.122,
           0.122
          ],
          [
           0.122,
           0.122
          ],
          [
           0.127,
           0.127
          ],
          [
           0.157,
           0.157
          ],
          [
           0.23199999999999998,
           0.23199999999999998
          ],
          [
           0.293,
           0.293
          ],
          [
           0.245,
           0.245
          ],
          [
           0.21600000000000003,
           0.21600000000000003
          ],
          [
           0.207,
           0.207
          ],
          [
           0.203,
           0.203
          ],
          [
           0.20199999999999999,
           0.20199999999999999
          ],
          [
           0.201,
           0.201
          ],
          [
           0.2,
           0.2
          ],
          [
           0.207,
           0.207
          ],
          [
           0.226,
           0.226
          ],
          [
           0.261,
           0.261
          ],
          [
           0.32299999999999995,
           0.32299999999999995
          ],
          [
           0.423,
           0.423
          ],
          [
           0.445,
           0.445
          ],
          [
           0.368,
           0.368
          ],
          [
           0.264,
           0.264
          ],
          [
           0.18100000000000002,
           0.18100000000000002
          ],
          [
           0.145,
           0.145
          ]
         ]
        },
        {
         "hoverinfo": "name+text",
         "name": "October",
         "showscale": false,
         "text": [
          [
           "0h00<br /> 0.127 kVA"
          ],
          [
           "1h00<br /> 0.122 kVA"
          ],
          [
           "2h00<br /> 0.122 kVA"
          ],
          [
           "3h00<br /> 0.127 kVA"
          ],
          [
           "4h00<br /> 0.157 kVA"
          ],
          [
           "5h00<br /> 0.232 kVA"
          ],
          [
           "6h00<br /> 0.293 kVA"
          ],
          [
           "7h00<br /> 0.245 kVA"
          ],
          [
           "8h00<br /> 0.216 kVA"
          ],
          [
           "9h00<br /> 0.207 kVA"
          ],
          [
           "10h00<br /> 0.203 kVA"
          ],
          [
           "11h00<br /> 0.202 kVA"
          ],
          [
           "12h00<br /> 0.201 kVA"
          ],
          [
           "13h00<br /> 0.200 kVA"
          ],
          [
           "14h00<br /> 0.207 kVA"
          ],
          [
           "15h00<br /> 0.226 kVA"
          ],
          [
           "16h00<br /> 0.261 kVA"
          ],
          [
           "17h00<br /> 0.323 kVA"
          ],
          [
           "18h00<br /> 0.423 kVA"
          ],
          [
           "19h00<br /> 0.445 kVA"
          ],
          [
           "20h00<br /> 0.368 kVA"
          ],
          [
           "21h00<br /> 0.264 kVA"
          ],
          [
           "22h00<br /> 0.181 kVA"
          ],
          [
           "23h00<br /> 0.145 kVA"
          ]
         ],
         "type": "surface",
         "x": [
          [
           2,
           3
          ],
          [
           2,
           3
          ],
          [
           2,
           3
          ],
          [
           2,
           3
          ],
          [
           2,
           3
          ],
          [
           2,
           3
          ],
          [
           2,
           3
          ],
          [
           2,
           3
          ],
          [
           2,
           3
          ],
          [
           2,
           3
          ],
          [
           2,
           3
          ],
          [
           2,
           3
          ],
          [
           2,
           3
          ],
          [
           2,
           3
          ],
          [
           2,
           3
          ],
          [
           2,
           3
          ],
          [
           2,
           3
          ],
          [
           2,
           3
          ],
          [
           2,
           3
          ],
          [
           2,
           3
          ],
          [
           2,
           3
          ],
          [
           2,
           3
          ],
          [
           2,
           3
          ],
          [
           2,
           3
          ]
         ],
         "y": [
          [
           0,
           0
          ],
          [
           1,
           1
          ],
          [
           2,
           2
          ],
          [
           3,
           3
          ],
          [
           4,
           4
          ],
          [
           5,
           5
          ],
          [
           6,
           6
          ],
          [
           7,
           7
          ],
          [
           8,
           8
          ],
          [
           9,
           9
          ],
          [
           10,
           10
          ],
          [
           11,
           11
          ],
          [
           12,
           12
          ],
          [
           13,
           13
          ],
          [
           14,
           14
          ],
          [
           15,
           15
          ],
          [
           16,
           16
          ],
          [
           17,
           17
          ],
          [
           18,
           18
          ],
          [
           19,
           19
          ],
          [
           20,
           20
          ],
          [
           21,
           21
          ],
          [
           22,
           22
          ],
          [
           23,
           23
          ]
         ],
         "z": [
          [
           0.127,
           0.127
          ],
          [
           0.122,
           0.122
          ],
          [
           0.122,
           0.122
          ],
          [
           0.127,
           0.127
          ],
          [
           0.157,
           0.157
          ],
          [
           0.23199999999999998,
           0.23199999999999998
          ],
          [
           0.293,
           0.293
          ],
          [
           0.245,
           0.245
          ],
          [
           0.21600000000000003,
           0.21600000000000003
          ],
          [
           0.207,
           0.207
          ],
          [
           0.203,
           0.203
          ],
          [
           0.20199999999999999,
           0.20199999999999999
          ],
          [
           0.201,
           0.201
          ],
          [
           0.2,
           0.2
          ],
          [
           0.207,
           0.207
          ],
          [
           0.226,
           0.226
          ],
          [
           0.261,
           0.261
          ],
          [
           0.32299999999999995,
           0.32299999999999995
          ],
          [
           0.423,
           0.423
          ],
          [
           0.445,
           0.445
          ],
          [
           0.368,
           0.368
          ],
          [
           0.264,
           0.264
          ],
          [
           0.18100000000000002,
           0.18100000000000002
          ],
          [
           0.145,
           0.145
          ]
         ]
        },
        {
         "hoverinfo": "name+text",
         "name": "September",
         "showscale": false,
         "text": [
          [
           "0h00<br /> 0.127 kVA"
          ],
          [
           "1h00<br /> 0.122 kVA"
          ],
          [
           "2h00<br /> 0.122 kVA"
          ],
          [
           "3h00<br /> 0.127 kVA"
          ],
          [
           "4h00<br /> 0.157 kVA"
          ],
          [
           "5h00<br /> 0.232 kVA"
          ],
          [
           "6h00<br /> 0.293 kVA"
          ],
          [
           "7h00<br /> 0.245 kVA"
          ],
          [
           "8h00<br /> 0.216 kVA"
          ],
          [
           "9h00<br /> 0.207 kVA"
          ],
          [
           "10h00<br /> 0.203 kVA"
          ],
          [
           "11h00<br /> 0.202 kVA"
          ],
          [
           "12h00<br /> 0.201 kVA"
          ],
          [
           "13h00<br /> 0.200 kVA"
          ],
          [
           "14h00<br /> 0.207 kVA"
          ],
          [
           "15h00<br /> 0.226 kVA"
          ],
          [
           "16h00<br /> 0.261 kVA"
          ],
          [
           "17h00<br /> 0.323 kVA"
          ],
          [
           "18h00<br /> 0.423 kVA"
          ],
          [
           "19h00<br /> 0.445 kVA"
          ],
          [
           "20h00<br /> 0.368 kVA"
          ],
          [
           "21h00<br /> 0.264 kVA"
          ],
          [
           "22h00<br /> 0.181 kVA"
          ],
          [
           "23h00<br /> 0.145 kVA"
          ]
         ],
         "type": "surface",
         "x": [
          [
           3,
           4
          ],
          [
           3,
           4
          ],
          [
           3,
           4
          ],
          [
           3,
           4
          ],
          [
           3,
           4
          ],
          [
           3,
           4
          ],
          [
           3,
           4
          ],
          [
           3,
           4
          ],
          [
           3,
           4
          ],
          [
           3,
           4
          ],
          [
           3,
           4
          ],
          [
           3,
           4
          ],
          [
           3,
           4
          ],
          [
           3,
           4
          ],
          [
           3,
           4
          ],
          [
           3,
           4
          ],
          [
           3,
           4
          ],
          [
           3,
           4
          ],
          [
           3,
           4
          ],
          [
           3,
           4
          ],
          [
           3,
           4
          ],
          [
           3,
           4
          ],
          [
           3,
           4
          ],
          [
           3,
           4
          ]
         ],
         "y": [
          [
           0,
           0
          ],
          [
           1,
           1
          ],
          [
           2,
           2
          ],
          [
           3,
           3
          ],
          [
           4,
           4
          ],
          [
           5,
           5
          ],
          [
           6,
           6
          ],
          [
           7,
           7
          ],
          [
           8,
           8
          ],
          [
           9,
           9
          ],
          [
           10,
           10
          ],
          [
           11,
           11
          ],
          [
           12,
           12
          ],
          [
           13,
           13
          ],
          [
           14,
           14
          ],
          [
           15,
           15
          ],
          [
           16,
           16
          ],
          [
           17,
           17
          ],
          [
           18,
           18
          ],
          [
           19,
           19
          ],
          [
           20,
           20
          ],
          [
           21,
           21
          ],
          [
           22,
           22
          ],
          [
           23,
           23
          ]
         ],
         "z": [
          [
           0.127,
           0.127
          ],
          [
           0.122,
           0.122
          ],
          [
           0.122,
           0.122
          ],
          [
           0.127,
           0.127
          ],
          [
           0.157,
           0.157
          ],
          [
           0.23199999999999998,
           0.23199999999999998
          ],
          [
           0.293,
           0.293
          ],
          [
           0.245,
           0.245
          ],
          [
           0.21600000000000003,
           0.21600000000000003
          ],
          [
           0.207,
           0.207
          ],
          [
           0.203,
           0.203
          ],
          [
           0.20199999999999999,
           0.20199999999999999
          ],
          [
           0.201,
           0.201
          ],
          [
           0.2,
           0.2
          ],
          [
           0.207,
           0.207
          ],
          [
           0.226,
           0.226
          ],
          [
           0.261,
           0.261
          ],
          [
           0.32299999999999995,
           0.32299999999999995
          ],
          [
           0.423,
           0.423
          ],
          [
           0.445,
           0.445
          ],
          [
           0.368,
           0.368
          ],
          [
           0.264,
           0.264
          ],
          [
           0.18100000000000002,
           0.18100000000000002
          ],
          [
           0.145,
           0.145
          ]
         ]
        },
        {
         "hoverinfo": "name+text",
         "name": "August",
         "showscale": false,
         "text": [
          [
           "0h00<br /> 0.127 kVA"
          ],
          [
           "1h00<br /> 0.122 kVA"
          ],
          [
           "2h00<br /> 0.122 kVA"
          ],
          [
           "3h00<br /> 0.127 kVA"
          ],
          [
           "4h00<br /> 0.157 kVA"
          ],
          [
           "5h00<br /> 0.232 kVA"
          ],
          [
           "6h00<br /> 0.293 kVA"
          ],
          [
           "7h00<br /> 0.245 kVA"
          ],
          [
           "8h00<br /> 0.216 kVA"
          ],
          [
           "9h00<br /> 0.207 kVA"
          ],
          [
           "10h00<br /> 0.203 kVA"
          ],
          [
           "11h00<br /> 0.202 kVA"
          ],
          [
           "12h00<br /> 0.201 kVA"
          ],
          [
           "13h00<br /> 0.200 kVA"
          ],
          [
           "14h00<br /> 0.207 kVA"
          ],
          [
           "15h00<br /> 0.226 kVA"
          ],
          [
           "16h00<br /> 0.261 kVA"
          ],
          [
           "17h00<br /> 0.323 kVA"
          ],
          [
           "18h00<br /> 0.423 kVA"
          ],
          [
           "19h00<br /> 0.445 kVA"
          ],
          [
           "20h00<br /> 0.368 kVA"
          ],
          [
           "21h00<br /> 0.264 kVA"
          ],
          [
           "22h00<br /> 0.181 kVA"
          ],
          [
           "23h00<br /> 0.145 kVA"
          ]
         ],
         "type": "surface",
         "x": [
          [
           4,
           5
          ],
          [
           4,
           5
          ],
          [
           4,
           5
          ],
          [
           4,
           5
          ],
          [
           4,
           5
          ],
          [
           4,
           5
          ],
          [
           4,
           5
          ],
          [
           4,
           5
          ],
          [
           4,
           5
          ],
          [
           4,
           5
          ],
          [
           4,
           5
          ],
          [
           4,
           5
          ],
          [
           4,
           5
          ],
          [
           4,
           5
          ],
          [
           4,
           5
          ],
          [
           4,
           5
          ],
          [
           4,
           5
          ],
          [
           4,
           5
          ],
          [
           4,
           5
          ],
          [
           4,
           5
          ],
          [
           4,
           5
          ],
          [
           4,
           5
          ],
          [
           4,
           5
          ],
          [
           4,
           5
          ]
         ],
         "y": [
          [
           0,
           0
          ],
          [
           1,
           1
          ],
          [
           2,
           2
          ],
          [
           3,
           3
          ],
          [
           4,
           4
          ],
          [
           5,
           5
          ],
          [
           6,
           6
          ],
          [
           7,
           7
          ],
          [
           8,
           8
          ],
          [
           9,
           9
          ],
          [
           10,
           10
          ],
          [
           11,
           11
          ],
          [
           12,
           12
          ],
          [
           13,
           13
          ],
          [
           14,
           14
          ],
          [
           15,
           15
          ],
          [
           16,
           16
          ],
          [
           17,
           17
          ],
          [
           18,
           18
          ],
          [
           19,
           19
          ],
          [
           20,
           20
          ],
          [
           21,
           21
          ],
          [
           22,
           22
          ],
          [
           23,
           23
          ]
         ],
         "z": [
          [
           0.127,
           0.127
          ],
          [
           0.122,
           0.122
          ],
          [
           0.122,
           0.122
          ],
          [
           0.127,
           0.127
          ],
          [
           0.157,
           0.157
          ],
          [
           0.23199999999999998,
           0.23199999999999998
          ],
          [
           0.293,
           0.293
          ],
          [
           0.245,
           0.245
          ],
          [
           0.21600000000000003,
           0.21600000000000003
          ],
          [
           0.207,
           0.207
          ],
          [
           0.203,
           0.203
          ],
          [
           0.20199999999999999,
           0.20199999999999999
          ],
          [
           0.201,
           0.201
          ],
          [
           0.2,
           0.2
          ],
          [
           0.207,
           0.207
          ],
          [
           0.226,
           0.226
          ],
          [
           0.261,
           0.261
          ],
          [
           0.32299999999999995,
           0.32299999999999995
          ],
          [
           0.423,
           0.423
          ],
          [
           0.445,
           0.445
          ],
          [
           0.368,
           0.368
          ],
          [
           0.264,
           0.264
          ],
          [
           0.18100000000000002,
           0.18100000000000002
          ],
          [
           0.145,
           0.145
          ]
         ]
        },
        {
         "hoverinfo": "name+text",
         "name": "July",
         "showscale": false,
         "text": [
          [
           "0h00<br /> 0.127 kVA"
          ],
          [
           "1h00<br /> 0.122 kVA"
          ],
          [
           "2h00<br /> 0.122 kVA"
          ],
          [
           "3h00<br /> 0.127 kVA"
          ],
          [
           "4h00<br /> 0.157 kVA"
          ],
          [
           "5h00<br /> 0.232 kVA"
          ],
          [
           "6h00<br /> 0.293 kVA"
          ],
          [
           "7h00<br /> 0.245 kVA"
          ],
          [
           "8h00<br /> 0.216 kVA"
          ],
          [
           "9h00<br /> 0.207 kVA"
          ],
          [
           "10h00<br /> 0.203 kVA"
          ],
          [
           "11h00<br /> 0.202 kVA"
          ],
          [
           "12h00<br /> 0.201 kVA"
          ],
          [
           "13h00<br /> 0.200 kVA"
          ],
          [
           "14h00<br /> 0.207 kVA"
          ],
          [
           "15h00<br /> 0.226 kVA"
          ],
          [
           "16h00<br /> 0.261 kVA"
          ],
          [
           "17h00<br /> 0.323 kVA"
          ],
          [
           "18h00<br /> 0.423 kVA"
          ],
          [
           "19h00<br /> 0.445 kVA"
          ],
          [
           "20h00<br /> 0.368 kVA"
          ],
          [
           "21h00<br /> 0.264 kVA"
          ],
          [
           "22h00<br /> 0.181 kVA"
          ],
          [
           "23h00<br /> 0.145 kVA"
          ]
         ],
         "type": "surface",
         "x": [
          [
           5,
           6
          ],
          [
           5,
           6
          ],
          [
           5,
           6
          ],
          [
           5,
           6
          ],
          [
           5,
           6
          ],
          [
           5,
           6
          ],
          [
           5,
           6
          ],
          [
           5,
           6
          ],
          [
           5,
           6
          ],
          [
           5,
           6
          ],
          [
           5,
           6
          ],
          [
           5,
           6
          ],
          [
           5,
           6
          ],
          [
           5,
           6
          ],
          [
           5,
           6
          ],
          [
           5,
           6
          ],
          [
           5,
           6
          ],
          [
           5,
           6
          ],
          [
           5,
           6
          ],
          [
           5,
           6
          ],
          [
           5,
           6
          ],
          [
           5,
           6
          ],
          [
           5,
           6
          ],
          [
           5,
           6
          ]
         ],
         "y": [
          [
           0,
           0
          ],
          [
           1,
           1
          ],
          [
           2,
           2
          ],
          [
           3,
           3
          ],
          [
           4,
           4
          ],
          [
           5,
           5
          ],
          [
           6,
           6
          ],
          [
           7,
           7
          ],
          [
           8,
           8
          ],
          [
           9,
           9
          ],
          [
           10,
           10
          ],
          [
           11,
           11
          ],
          [
           12,
           12
          ],
          [
           13,
           13
          ],
          [
           14,
           14
          ],
          [
           15,
           15
          ],
          [
           16,
           16
          ],
          [
           17,
           17
          ],
          [
           18,
           18
          ],
          [
           19,
           19
          ],
          [
           20,
           20
          ],
          [
           21,
           21
          ],
          [
           22,
           22
          ],
          [
           23,
           23
          ]
         ],
         "z": [
          [
           0.127,
           0.127
          ],
          [
           0.122,
           0.122
          ],
          [
           0.122,
           0.122
          ],
          [
           0.127,
           0.127
          ],
          [
           0.157,
           0.157
          ],
          [
           0.23199999999999998,
           0.23199999999999998
          ],
          [
           0.293,
           0.293
          ],
          [
           0.245,
           0.245
          ],
          [
           0.21600000000000003,
           0.21600000000000003
          ],
          [
           0.207,
           0.207
          ],
          [
           0.203,
           0.203
          ],
          [
           0.20199999999999999,
           0.20199999999999999
          ],
          [
           0.201,
           0.201
          ],
          [
           0.2,
           0.2
          ],
          [
           0.207,
           0.207
          ],
          [
           0.226,
           0.226
          ],
          [
           0.261,
           0.261
          ],
          [
           0.32299999999999995,
           0.32299999999999995
          ],
          [
           0.423,
           0.423
          ],
          [
           0.445,
           0.445
          ],
          [
           0.368,
           0.368
          ],
          [
           0.264,
           0.264
          ],
          [
           0.18100000000000002,
           0.18100000000000002
          ],
          [
           0.145,
           0.145
          ]
         ]
        },
        {
         "hoverinfo": "name+text",
         "name": "June",
         "showscale": false,
         "text": [
          [
           "0h00<br /> 0.127 kVA"
          ],
          [
           "1h00<br /> 0.122 kVA"
          ],
          [
           "2h00<br /> 0.122 kVA"
          ],
          [
           "3h00<br /> 0.127 kVA"
          ],
          [
           "4h00<br /> 0.157 kVA"
          ],
          [
           "5h00<br /> 0.232 kVA"
          ],
          [
           "6h00<br /> 0.293 kVA"
          ],
          [
           "7h00<br /> 0.245 kVA"
          ],
          [
           "8h00<br /> 0.216 kVA"
          ],
          [
           "9h00<br /> 0.207 kVA"
          ],
          [
           "10h00<br /> 0.203 kVA"
          ],
          [
           "11h00<br /> 0.202 kVA"
          ],
          [
           "12h00<br /> 0.201 kVA"
          ],
          [
           "13h00<br /> 0.200 kVA"
          ],
          [
           "14h00<br /> 0.207 kVA"
          ],
          [
           "15h00<br /> 0.226 kVA"
          ],
          [
           "16h00<br /> 0.261 kVA"
          ],
          [
           "17h00<br /> 0.323 kVA"
          ],
          [
           "18h00<br /> 0.423 kVA"
          ],
          [
           "19h00<br /> 0.445 kVA"
          ],
          [
           "20h00<br /> 0.368 kVA"
          ],
          [
           "21h00<br /> 0.264 kVA"
          ],
          [
           "22h00<br /> 0.181 kVA"
          ],
          [
           "23h00<br /> 0.145 kVA"
          ]
         ],
         "type": "surface",
         "x": [
          [
           6,
           7
          ],
          [
           6,
           7
          ],
          [
           6,
           7
          ],
          [
           6,
           7
          ],
          [
           6,
           7
          ],
          [
           6,
           7
          ],
          [
           6,
           7
          ],
          [
           6,
           7
          ],
          [
           6,
           7
          ],
          [
           6,
           7
          ],
          [
           6,
           7
          ],
          [
           6,
           7
          ],
          [
           6,
           7
          ],
          [
           6,
           7
          ],
          [
           6,
           7
          ],
          [
           6,
           7
          ],
          [
           6,
           7
          ],
          [
           6,
           7
          ],
          [
           6,
           7
          ],
          [
           6,
           7
          ],
          [
           6,
           7
          ],
          [
           6,
           7
          ],
          [
           6,
           7
          ],
          [
           6,
           7
          ]
         ],
         "y": [
          [
           0,
           0
          ],
          [
           1,
           1
          ],
          [
           2,
           2
          ],
          [
           3,
           3
          ],
          [
           4,
           4
          ],
          [
           5,
           5
          ],
          [
           6,
           6
          ],
          [
           7,
           7
          ],
          [
           8,
           8
          ],
          [
           9,
           9
          ],
          [
           10,
           10
          ],
          [
           11,
           11
          ],
          [
           12,
           12
          ],
          [
           13,
           13
          ],
          [
           14,
           14
          ],
          [
           15,
           15
          ],
          [
           16,
           16
          ],
          [
           17,
           17
          ],
          [
           18,
           18
          ],
          [
           19,
           19
          ],
          [
           20,
           20
          ],
          [
           21,
           21
          ],
          [
           22,
           22
          ],
          [
           23,
           23
          ]
         ],
         "z": [
          [
           0.127,
           0.127
          ],
          [
           0.122,
           0.122
          ],
          [
           0.122,
           0.122
          ],
          [
           0.127,
           0.127
          ],
          [
           0.157,
           0.157
          ],
          [
           0.23199999999999998,
           0.23199999999999998
          ],
          [
           0.293,
           0.293
          ],
          [
           0.245,
           0.245
          ],
          [
           0.21600000000000003,
           0.21600000000000003
          ],
          [
           0.207,
           0.207
          ],
          [
           0.203,
           0.203
          ],
          [
           0.20199999999999999,
           0.20199999999999999
          ],
          [
           0.201,
           0.201
          ],
          [
           0.2,
           0.2
          ],
          [
           0.207,
           0.207
          ],
          [
           0.226,
           0.226
          ],
          [
           0.261,
           0.261
          ],
          [
           0.32299999999999995,
           0.32299999999999995
          ],
          [
           0.423,
           0.423
          ],
          [
           0.445,
           0.445
          ],
          [
           0.368,
           0.368
          ],
          [
           0.264,
           0.264
          ],
          [
           0.18100000000000002,
           0.18100000000000002
          ],
          [
           0.145,
           0.145
          ]
         ]
        },
        {
         "hoverinfo": "name+text",
         "name": "May",
         "showscale": false,
         "text": [
          [
           "0h00<br /> 0.127 kVA"
          ],
          [
           "1h00<br /> 0.122 kVA"
          ],
          [
           "2h00<br /> 0.122 kVA"
          ],
          [
           "3h00<br /> 0.127 kVA"
          ],
          [
           "4h00<br /> 0.157 kVA"
          ],
          [
           "5h00<br /> 0.232 kVA"
          ],
          [
           "6h00<br /> 0.293 kVA"
          ],
          [
           "7h00<br /> 0.245 kVA"
          ],
          [
           "8h00<br /> 0.216 kVA"
          ],
          [
           "9h00<br /> 0.207 kVA"
          ],
          [
           "10h00<br /> 0.203 kVA"
          ],
          [
           "11h00<br /> 0.202 kVA"
          ],
          [
           "12h00<br /> 0.201 kVA"
          ],
          [
           "13h00<br /> 0.200 kVA"
          ],
          [
           "14h00<br /> 0.207 kVA"
          ],
          [
           "15h00<br /> 0.226 kVA"
          ],
          [
           "16h00<br /> 0.261 kVA"
          ],
          [
           "17h00<br /> 0.323 kVA"
          ],
          [
           "18h00<br /> 0.423 kVA"
          ],
          [
           "19h00<br /> 0.445 kVA"
          ],
          [
           "20h00<br /> 0.368 kVA"
          ],
          [
           "21h00<br /> 0.264 kVA"
          ],
          [
           "22h00<br /> 0.181 kVA"
          ],
          [
           "23h00<br /> 0.145 kVA"
          ]
         ],
         "type": "surface",
         "x": [
          [
           7,
           8
          ],
          [
           7,
           8
          ],
          [
           7,
           8
          ],
          [
           7,
           8
          ],
          [
           7,
           8
          ],
          [
           7,
           8
          ],
          [
           7,
           8
          ],
          [
           7,
           8
          ],
          [
           7,
           8
          ],
          [
           7,
           8
          ],
          [
           7,
           8
          ],
          [
           7,
           8
          ],
          [
           7,
           8
          ],
          [
           7,
           8
          ],
          [
           7,
           8
          ],
          [
           7,
           8
          ],
          [
           7,
           8
          ],
          [
           7,
           8
          ],
          [
           7,
           8
          ],
          [
           7,
           8
          ],
          [
           7,
           8
          ],
          [
           7,
           8
          ],
          [
           7,
           8
          ],
          [
           7,
           8
          ]
         ],
         "y": [
          [
           0,
           0
          ],
          [
           1,
           1
          ],
          [
           2,
           2
          ],
          [
           3,
           3
          ],
          [
           4,
           4
          ],
          [
           5,
           5
          ],
          [
           6,
           6
          ],
          [
           7,
           7
          ],
          [
           8,
           8
          ],
          [
           9,
           9
          ],
          [
           10,
           10
          ],
          [
           11,
           11
          ],
          [
           12,
           12
          ],
          [
           13,
           13
          ],
          [
           14,
           14
          ],
          [
           15,
           15
          ],
          [
           16,
           16
          ],
          [
           17,
           17
          ],
          [
           18,
           18
          ],
          [
           19,
           19
          ],
          [
           20,
           20
          ],
          [
           21,
           21
          ],
          [
           22,
           22
          ],
          [
           23,
           23
          ]
         ],
         "z": [
          [
           0.127,
           0.127
          ],
          [
           0.122,
           0.122
          ],
          [
           0.122,
           0.122
          ],
          [
           0.127,
           0.127
          ],
          [
           0.157,
           0.157
          ],
          [
           0.23199999999999998,
           0.23199999999999998
          ],
          [
           0.293,
           0.293
          ],
          [
           0.245,
           0.245
          ],
          [
           0.21600000000000003,
           0.21600000000000003
          ],
          [
           0.207,
           0.207
          ],
          [
           0.203,
           0.203
          ],
          [
           0.20199999999999999,
           0.20199999999999999
          ],
          [
           0.201,
           0.201
          ],
          [
           0.2,
           0.2
          ],
          [
           0.207,
           0.207
          ],
          [
           0.226,
           0.226
          ],
          [
           0.261,
           0.261
          ],
          [
           0.32299999999999995,
           0.32299999999999995
          ],
          [
           0.423,
           0.423
          ],
          [
           0.445,
           0.445
          ],
          [
           0.368,
           0.368
          ],
          [
           0.264,
           0.264
          ],
          [
           0.18100000000000002,
           0.18100000000000002
          ],
          [
           0.145,
           0.145
          ]
         ]
        },
        {
         "hoverinfo": "name+text",
         "name": "April",
         "showscale": false,
         "text": [
          [
           "0h00<br /> 0.127 kVA"
          ],
          [
           "1h00<br /> 0.122 kVA"
          ],
          [
           "2h00<br /> 0.122 kVA"
          ],
          [
           "3h00<br /> 0.127 kVA"
          ],
          [
           "4h00<br /> 0.157 kVA"
          ],
          [
           "5h00<br /> 0.232 kVA"
          ],
          [
           "6h00<br /> 0.293 kVA"
          ],
          [
           "7h00<br /> 0.245 kVA"
          ],
          [
           "8h00<br /> 0.216 kVA"
          ],
          [
           "9h00<br /> 0.207 kVA"
          ],
          [
           "10h00<br /> 0.203 kVA"
          ],
          [
           "11h00<br /> 0.202 kVA"
          ],
          [
           "12h00<br /> 0.201 kVA"
          ],
          [
           "13h00<br /> 0.200 kVA"
          ],
          [
           "14h00<br /> 0.207 kVA"
          ],
          [
           "15h00<br /> 0.226 kVA"
          ],
          [
           "16h00<br /> 0.261 kVA"
          ],
          [
           "17h00<br /> 0.323 kVA"
          ],
          [
           "18h00<br /> 0.423 kVA"
          ],
          [
           "19h00<br /> 0.445 kVA"
          ],
          [
           "20h00<br /> 0.368 kVA"
          ],
          [
           "21h00<br /> 0.264 kVA"
          ],
          [
           "22h00<br /> 0.181 kVA"
          ],
          [
           "23h00<br /> 0.145 kVA"
          ]
         ],
         "type": "surface",
         "x": [
          [
           8,
           9
          ],
          [
           8,
           9
          ],
          [
           8,
           9
          ],
          [
           8,
           9
          ],
          [
           8,
           9
          ],
          [
           8,
           9
          ],
          [
           8,
           9
          ],
          [
           8,
           9
          ],
          [
           8,
           9
          ],
          [
           8,
           9
          ],
          [
           8,
           9
          ],
          [
           8,
           9
          ],
          [
           8,
           9
          ],
          [
           8,
           9
          ],
          [
           8,
           9
          ],
          [
           8,
           9
          ],
          [
           8,
           9
          ],
          [
           8,
           9
          ],
          [
           8,
           9
          ],
          [
           8,
           9
          ],
          [
           8,
           9
          ],
          [
           8,
           9
          ],
          [
           8,
           9
          ],
          [
           8,
           9
          ]
         ],
         "y": [
          [
           0,
           0
          ],
          [
           1,
           1
          ],
          [
           2,
           2
          ],
          [
           3,
           3
          ],
          [
           4,
           4
          ],
          [
           5,
           5
          ],
          [
           6,
           6
          ],
          [
           7,
           7
          ],
          [
           8,
           8
          ],
          [
           9,
           9
          ],
          [
           10,
           10
          ],
          [
           11,
           11
          ],
          [
           12,
           12
          ],
          [
           13,
           13
          ],
          [
           14,
           14
          ],
          [
           15,
           15
          ],
          [
           16,
           16
          ],
          [
           17,
           17
          ],
          [
           18,
           18
          ],
          [
           19,
           19
          ],
          [
           20,
           20
          ],
          [
           21,
           21
          ],
          [
           22,
           22
          ],
          [
           23,
           23
          ]
         ],
         "z": [
          [
           0.127,
           0.127
          ],
          [
           0.122,
           0.122
          ],
          [
           0.122,
           0.122
          ],
          [
           0.127,
           0.127
          ],
          [
           0.157,
           0.157
          ],
          [
           0.23199999999999998,
           0.23199999999999998
          ],
          [
           0.293,
           0.293
          ],
          [
           0.245,
           0.245
          ],
          [
           0.21600000000000003,
           0.21600000000000003
          ],
          [
           0.207,
           0.207
          ],
          [
           0.203,
           0.203
          ],
          [
           0.20199999999999999,
           0.20199999999999999
          ],
          [
           0.201,
           0.201
          ],
          [
           0.2,
           0.2
          ],
          [
           0.207,
           0.207
          ],
          [
           0.226,
           0.226
          ],
          [
           0.261,
           0.261
          ],
          [
           0.32299999999999995,
           0.32299999999999995
          ],
          [
           0.423,
           0.423
          ],
          [
           0.445,
           0.445
          ],
          [
           0.368,
           0.368
          ],
          [
           0.264,
           0.264
          ],
          [
           0.18100000000000002,
           0.18100000000000002
          ],
          [
           0.145,
           0.145
          ]
         ]
        },
        {
         "hoverinfo": "name+text",
         "name": "March",
         "showscale": false,
         "text": [
          [
           "0h00<br /> 0.127 kVA"
          ],
          [
           "1h00<br /> 0.122 kVA"
          ],
          [
           "2h00<br /> 0.122 kVA"
          ],
          [
           "3h00<br /> 0.127 kVA"
          ],
          [
           "4h00<br /> 0.157 kVA"
          ],
          [
           "5h00<br /> 0.232 kVA"
          ],
          [
           "6h00<br /> 0.293 kVA"
          ],
          [
           "7h00<br /> 0.245 kVA"
          ],
          [
           "8h00<br /> 0.216 kVA"
          ],
          [
           "9h00<br /> 0.207 kVA"
          ],
          [
           "10h00<br /> 0.203 kVA"
          ],
          [
           "11h00<br /> 0.202 kVA"
          ],
          [
           "12h00<br /> 0.201 kVA"
          ],
          [
           "13h00<br /> 0.200 kVA"
          ],
          [
           "14h00<br /> 0.207 kVA"
          ],
          [
           "15h00<br /> 0.226 kVA"
          ],
          [
           "16h00<br /> 0.261 kVA"
          ],
          [
           "17h00<br /> 0.323 kVA"
          ],
          [
           "18h00<br /> 0.423 kVA"
          ],
          [
           "19h00<br /> 0.445 kVA"
          ],
          [
           "20h00<br /> 0.368 kVA"
          ],
          [
           "21h00<br /> 0.264 kVA"
          ],
          [
           "22h00<br /> 0.181 kVA"
          ],
          [
           "23h00<br /> 0.145 kVA"
          ]
         ],
         "type": "surface",
         "x": [
          [
           9,
           10
          ],
          [
           9,
           10
          ],
          [
           9,
           10
          ],
          [
           9,
           10
          ],
          [
           9,
           10
          ],
          [
           9,
           10
          ],
          [
           9,
           10
          ],
          [
           9,
           10
          ],
          [
           9,
           10
          ],
          [
           9,
           10
          ],
          [
           9,
           10
          ],
          [
           9,
           10
          ],
          [
           9,
           10
          ],
          [
           9,
           10
          ],
          [
           9,
           10
          ],
          [
           9,
           10
          ],
          [
           9,
           10
          ],
          [
           9,
           10
          ],
          [
           9,
           10
          ],
          [
           9,
           10
          ],
          [
           9,
           10
          ],
          [
           9,
           10
          ],
          [
           9,
           10
          ],
          [
           9,
           10
          ]
         ],
         "y": [
          [
           0,
           0
          ],
          [
           1,
           1
          ],
          [
           2,
           2
          ],
          [
           3,
           3
          ],
          [
           4,
           4
          ],
          [
           5,
           5
          ],
          [
           6,
           6
          ],
          [
           7,
           7
          ],
          [
           8,
           8
          ],
          [
           9,
           9
          ],
          [
           10,
           10
          ],
          [
           11,
           11
          ],
          [
           12,
           12
          ],
          [
           13,
           13
          ],
          [
           14,
           14
          ],
          [
           15,
           15
          ],
          [
           16,
           16
          ],
          [
           17,
           17
          ],
          [
           18,
           18
          ],
          [
           19,
           19
          ],
          [
           20,
           20
          ],
          [
           21,
           21
          ],
          [
           22,
           22
          ],
          [
           23,
           23
          ]
         ],
         "z": [
          [
           0.127,
           0.127
          ],
          [
           0.122,
           0.122
          ],
          [
           0.122,
           0.122
          ],
          [
           0.127,
           0.127
          ],
          [
           0.157,
           0.157
          ],
          [
           0.23199999999999998,
           0.23199999999999998
          ],
          [
           0.293,
           0.293
          ],
          [
           0.245,
           0.245
          ],
          [
           0.21600000000000003,
           0.21600000000000003
          ],
          [
           0.207,
           0.207
          ],
          [
           0.203,
           0.203
          ],
          [
           0.20199999999999999,
           0.20199999999999999
          ],
          [
           0.201,
           0.201
          ],
          [
           0.2,
           0.2
          ],
          [
           0.207,
           0.207
          ],
          [
           0.226,
           0.226
          ],
          [
           0.261,
           0.261
          ],
          [
           0.32299999999999995,
           0.32299999999999995
          ],
          [
           0.423,
           0.423
          ],
          [
           0.445,
           0.445
          ],
          [
           0.368,
           0.368
          ],
          [
           0.264,
           0.264
          ],
          [
           0.18100000000000002,
           0.18100000000000002
          ],
          [
           0.145,
           0.145
          ]
         ]
        },
        {
         "hoverinfo": "name+text",
         "name": "February",
         "showscale": false,
         "text": [
          [
           "0h00<br /> 0.127 kVA"
          ],
          [
           "1h00<br /> 0.122 kVA"
          ],
          [
           "2h00<br /> 0.122 kVA"
          ],
          [
           "3h00<br /> 0.127 kVA"
          ],
          [
           "4h00<br /> 0.157 kVA"
          ],
          [
           "5h00<br /> 0.232 kVA"
          ],
          [
           "6h00<br /> 0.293 kVA"
          ],
          [
           "7h00<br /> 0.245 kVA"
          ],
          [
           "8h00<br /> 0.216 kVA"
          ],
          [
           "9h00<br /> 0.207 kVA"
          ],
          [
           "10h00<br /> 0.203 kVA"
          ],
          [
           "11h00<br /> 0.202 kVA"
          ],
          [
           "12h00<br /> 0.201 kVA"
          ],
          [
           "13h00<br /> 0.200 kVA"
          ],
          [
           "14h00<br /> 0.207 kVA"
          ],
          [
           "15h00<br /> 0.226 kVA"
          ],
          [
           "16h00<br /> 0.261 kVA"
          ],
          [
           "17h00<br /> 0.323 kVA"
          ],
          [
           "18h00<br /> 0.423 kVA"
          ],
          [
           "19h00<br /> 0.445 kVA"
          ],
          [
           "20h00<br /> 0.368 kVA"
          ],
          [
           "21h00<br /> 0.264 kVA"
          ],
          [
           "22h00<br /> 0.181 kVA"
          ],
          [
           "23h00<br /> 0.145 kVA"
          ]
         ],
         "type": "surface",
         "x": [
          [
           10,
           11
          ],
          [
           10,
           11
          ],
          [
           10,
           11
          ],
          [
           10,
           11
          ],
          [
           10,
           11
          ],
          [
           10,
           11
          ],
          [
           10,
           11
          ],
          [
           10,
           11
          ],
          [
           10,
           11
          ],
          [
           10,
           11
          ],
          [
           10,
           11
          ],
          [
           10,
           11
          ],
          [
           10,
           11
          ],
          [
           10,
           11
          ],
          [
           10,
           11
          ],
          [
           10,
           11
          ],
          [
           10,
           11
          ],
          [
           10,
           11
          ],
          [
           10,
           11
          ],
          [
           10,
           11
          ],
          [
           10,
           11
          ],
          [
           10,
           11
          ],
          [
           10,
           11
          ],
          [
           10,
           11
          ]
         ],
         "y": [
          [
           0,
           0
          ],
          [
           1,
           1
          ],
          [
           2,
           2
          ],
          [
           3,
           3
          ],
          [
           4,
           4
          ],
          [
           5,
           5
          ],
          [
           6,
           6
          ],
          [
           7,
           7
          ],
          [
           8,
           8
          ],
          [
           9,
           9
          ],
          [
           10,
           10
          ],
          [
           11,
           11
          ],
          [
           12,
           12
          ],
          [
           13,
           13
          ],
          [
           14,
           14
          ],
          [
           15,
           15
          ],
          [
           16,
           16
          ],
          [
           17,
           17
          ],
          [
           18,
           18
          ],
          [
           19,
           19
          ],
          [
           20,
           20
          ],
          [
           21,
           21
          ],
          [
           22,
           22
          ],
          [
           23,
           23
          ]
         ],
         "z": [
          [
           0.127,
           0.127
          ],
          [
           0.122,
           0.122
          ],
          [
           0.122,
           0.122
          ],
          [
           0.127,
           0.127
          ],
          [
           0.157,
           0.157
          ],
          [
           0.23199999999999998,
           0.23199999999999998
          ],
          [
           0.293,
           0.293
          ],
          [
           0.245,
           0.245
          ],
          [
           0.21600000000000003,
           0.21600000000000003
          ],
          [
           0.207,
           0.207
          ],
          [
           0.203,
           0.203
          ],
          [
           0.20199999999999999,
           0.20199999999999999
          ],
          [
           0.201,
           0.201
          ],
          [
           0.2,
           0.2
          ],
          [
           0.207,
           0.207
          ],
          [
           0.226,
           0.226
          ],
          [
           0.261,
           0.261
          ],
          [
           0.32299999999999995,
           0.32299999999999995
          ],
          [
           0.423,
           0.423
          ],
          [
           0.445,
           0.445
          ],
          [
           0.368,
           0.368
          ],
          [
           0.264,
           0.264
          ],
          [
           0.18100000000000002,
           0.18100000000000002
          ],
          [
           0.145,
           0.145
          ]
         ]
        },
        {
         "hoverinfo": "name+text",
         "name": "January",
         "showscale": false,
         "text": [
          [
           "0h00<br /> 0.132 kVA"
          ],
          [
           "1h00<br /> 0.127 kVA"
          ],
          [
           "2h00<br /> 0.125 kVA"
          ],
          [
           "3h00<br /> 0.130 kVA"
          ],
          [
           "4h00<br /> 0.157 kVA"
          ],
          [
           "5h00<br /> 0.230 kVA"
          ],
          [
           "6h00<br /> 0.277 kVA"
          ],
          [
           "7h00<br /> 0.233 kVA"
          ],
          [
           "8h00<br /> 0.212 kVA"
          ],
          [
           "9h00<br /> 0.206 kVA"
          ],
          [
           "10h00<br /> 0.203 kVA"
          ],
          [
           "11h00<br /> 0.203 kVA"
          ],
          [
           "12h00<br /> 0.203 kVA"
          ],
          [
           "13h00<br /> 0.202 kVA"
          ],
          [
           "14h00<br /> 0.208 kVA"
          ],
          [
           "15h00<br /> 0.224 kVA"
          ],
          [
           "16h00<br /> 0.254 kVA"
          ],
          [
           "17h00<br /> 0.301 kVA"
          ],
          [
           "18h00<br /> 0.374 kVA"
          ],
          [
           "19h00<br /> 0.432 kVA"
          ],
          [
           "20h00<br /> 0.378 kVA"
          ],
          [
           "21h00<br /> 0.272 kVA"
          ],
          [
           "22h00<br /> 0.187 kVA"
          ],
          [
           "23h00<br /> 0.150 kVA"
          ]
         ],
         "type": "surface",
         "x": [
          [
           11,
           12
          ],
          [
           11,
           12
          ],
          [
           11,
           12
          ],
          [
           11,
           12
          ],
          [
           11,
           12
          ],
          [
           11,
           12
          ],
          [
           11,
           12
          ],
          [
           11,
           12
          ],
          [
           11,
           12
          ],
          [
           11,
           12
          ],
          [
           11,
           12
          ],
          [
           11,
           12
          ],
          [
           11,
           12
          ],
          [
           11,
           12
          ],
          [
           11,
           12
          ],
          [
           11,
           12
          ],
          [
           11,
           12
          ],
          [
           11,
           12
          ],
          [
           11,
           12
          ],
          [
           11,
           12
          ],
          [
           11,
           12
          ],
          [
           11,
           12
          ],
          [
           11,
           12
          ],
          [
           11,
           12
          ]
         ],
         "y": [
          [
           0,
           0
          ],
          [
           1,
           1
          ],
          [
           2,
           2
          ],
          [
           3,
           3
          ],
          [
           4,
           4
          ],
          [
           5,
           5
          ],
          [
           6,
           6
          ],
          [
           7,
           7
          ],
          [
           8,
           8
          ],
          [
           9,
           9
          ],
          [
           10,
           10
          ],
          [
           11,
           11
          ],
          [
           12,
           12
          ],
          [
           13,
           13
          ],
          [
           14,
           14
          ],
          [
           15,
           15
          ],
          [
           16,
           16
          ],
          [
           17,
           17
          ],
          [
           18,
           18
          ],
          [
           19,
           19
          ],
          [
           20,
           20
          ],
          [
           21,
           21
          ],
          [
           22,
           22
          ],
          [
           23,
           23
          ]
         ],
         "z": [
          [
           0.132,
           0.132
          ],
          [
           0.127,
           0.127
          ],
          [
           0.125,
           0.125
          ],
          [
           0.13,
           0.13
          ],
          [
           0.157,
           0.157
          ],
          [
           0.23,
           0.23
          ],
          [
           0.27699999999999997,
           0.27699999999999997
          ],
          [
           0.233,
           0.233
          ],
          [
           0.212,
           0.212
          ],
          [
           0.20600000000000002,
           0.20600000000000002
          ],
          [
           0.203,
           0.203
          ],
          [
           0.203,
           0.203
          ],
          [
           0.203,
           0.203
          ],
          [
           0.20199999999999999,
           0.20199999999999999
          ],
          [
           0.20800000000000002,
           0.20800000000000002
          ],
          [
           0.22399999999999998,
           0.22399999999999998
          ],
          [
           0.254,
           0.254
          ],
          [
           0.301,
           0.301
          ],
          [
           0.374,
           0.374
          ],
          [
           0.43200000000000005,
           0.43200000000000005
          ],
          [
           0.37799999999999995,
           0.37799999999999995
          ],
          [
           0.272,
           0.272
          ],
          [
           0.187,
           0.187
          ],
          [
           0.15,
           0.15
          ]
         ]
        }
       ],
       "layout": {
        "height": 700,
        "margin": {
         "b": 50,
         "l": 50,
         "pad": 10,
         "r": 50,
         "t": 50
        },
        "scene": {
         "xaxis": {
          "ticktext": [
           "December",
           "November",
           "October",
           "September",
           "August",
           "July",
           "June",
           "May",
           "April",
           "March",
           "February",
           "January"
          ],
          "tickvals": [
           0.5,
           1.5,
           2.5,
           3.5,
           4.5,
           5.5,
           6.5,
           7.5,
           8.5,
           9.5,
           10.5,
           11.5
          ],
          "tickwidth": 1.5,
          "title": "month",
          "type": "category"
         },
         "yaxis": {
          "tickvals": [
           0,
           2,
           4,
           6,
           8,
           10,
           12,
           14,
           16,
           18,
           20,
           22
          ],
          "title": "time of day"
         },
         "zaxis": {
          "rangemode": "tozero",
          "tickvals": [
           0,
           0.1,
           0.2,
           0.30000000000000004,
           0.4
          ],
          "title": "demand (kVA)"
         }
        },
        "title": "Weekday hourly load profile for \"informal_settlement\" customers 7 years after electrification"
       }
      },
      "text/html": [
       "<div id=\"d578e296-b9b2-45cc-af72-a626828d8bdb\" style=\"height: 700px; width: 100%;\" class=\"plotly-graph-div\"></div><script type=\"text/javascript\">require([\"plotly\"], function(Plotly) { window.PLOTLYENV=window.PLOTLYENV || {};window.PLOTLYENV.BASE_URL=\"https://plot.ly\";Plotly.newPlot(\"d578e296-b9b2-45cc-af72-a626828d8bdb\", [{\"y\": [[0, 0], [1, 1], [2, 2], [3, 3], [4, 4], [5, 5], [6, 6], [7, 7], [8, 8], [9, 9], [10, 10], [11, 11], [12, 12], [13, 13], [14, 14], [15, 15], [16, 16], [17, 17], [18, 18], [19, 19], [20, 20], [21, 21], [22, 22], [23, 23]], \"hoverinfo\": \"name+text\", \"name\": \"December\", \"text\": [[\"0h00<br /> 0.132 kVA\"], [\"1h00<br /> 0.127 kVA\"], [\"2h00<br /> 0.125 kVA\"], [\"3h00<br /> 0.130 kVA\"], [\"4h00<br /> 0.157 kVA\"], [\"5h00<br /> 0.230 kVA\"], [\"6h00<br /> 0.277 kVA\"], [\"7h00<br /> 0.233 kVA\"], [\"8h00<br /> 0.212 kVA\"], [\"9h00<br /> 0.206 kVA\"], [\"10h00<br /> 0.203 kVA\"], [\"11h00<br /> 0.203 kVA\"], [\"12h00<br /> 0.203 kVA\"], [\"13h00<br /> 0.202 kVA\"], [\"14h00<br /> 0.208 kVA\"], [\"15h00<br /> 0.224 kVA\"], [\"16h00<br /> 0.254 kVA\"], [\"17h00<br /> 0.301 kVA\"], [\"18h00<br /> 0.374 kVA\"], [\"19h00<br /> 0.432 kVA\"], [\"20h00<br /> 0.378 kVA\"], [\"21h00<br /> 0.272 kVA\"], [\"22h00<br /> 0.187 kVA\"], [\"23h00<br /> 0.150 kVA\"]], \"showscale\": false, \"x\": [[0, 1], [0, 1], [0, 1], [0, 1], [0, 1], [0, 1], [0, 1], [0, 1], [0, 1], [0, 1], [0, 1], [0, 1], [0, 1], [0, 1], [0, 1], [0, 1], [0, 1], [0, 1], [0, 1], [0, 1], [0, 1], [0, 1], [0, 1], [0, 1]], \"z\": [[0.132, 0.132], [0.127, 0.127], [0.125, 0.125], [0.13, 0.13], [0.157, 0.157], [0.23, 0.23], [0.27699999999999997, 0.27699999999999997], [0.233, 0.233], [0.212, 0.212], [0.20600000000000002, 0.20600000000000002], [0.203, 0.203], [0.203, 0.203], [0.203, 0.203], [0.20199999999999999, 0.20199999999999999], [0.20800000000000002, 0.20800000000000002], [0.22399999999999998, 0.22399999999999998], [0.254, 0.254], [0.301, 0.301], [0.374, 0.374], [0.43200000000000005, 0.43200000000000005], [0.37799999999999995, 0.37799999999999995], [0.272, 0.272], [0.187, 0.187], [0.15, 0.15]], \"type\": \"surface\"}, {\"y\": [[0, 0], [1, 1], [2, 2], [3, 3], [4, 4], [5, 5], [6, 6], [7, 7], [8, 8], [9, 9], [10, 10], [11, 11], [12, 12], [13, 13], [14, 14], [15, 15], [16, 16], [17, 17], [18, 18], [19, 19], [20, 20], [21, 21], [22, 22], [23, 23]], \"hoverinfo\": \"name+text\", \"name\": \"November\", \"text\": [[\"0h00<br /> 0.127 kVA\"], [\"1h00<br /> 0.122 kVA\"], [\"2h00<br /> 0.122 kVA\"], [\"3h00<br /> 0.127 kVA\"], [\"4h00<br /> 0.157 kVA\"], [\"5h00<br /> 0.232 kVA\"], [\"6h00<br /> 0.293 kVA\"], [\"7h00<br /> 0.245 kVA\"], [\"8h00<br /> 0.216 kVA\"], [\"9h00<br /> 0.207 kVA\"], [\"10h00<br /> 0.203 kVA\"], [\"11h00<br /> 0.202 kVA\"], [\"12h00<br /> 0.201 kVA\"], [\"13h00<br /> 0.200 kVA\"], [\"14h00<br /> 0.207 kVA\"], [\"15h00<br /> 0.226 kVA\"], [\"16h00<br /> 0.261 kVA\"], [\"17h00<br /> 0.323 kVA\"], [\"18h00<br /> 0.423 kVA\"], [\"19h00<br /> 0.445 kVA\"], [\"20h00<br /> 0.368 kVA\"], [\"21h00<br /> 0.264 kVA\"], [\"22h00<br /> 0.181 kVA\"], [\"23h00<br /> 0.145 kVA\"]], \"showscale\": false, \"x\": [[1, 2], [1, 2], [1, 2], [1, 2], [1, 2], [1, 2], [1, 2], [1, 2], [1, 2], [1, 2], [1, 2], [1, 2], [1, 2], [1, 2], [1, 2], [1, 2], [1, 2], [1, 2], [1, 2], [1, 2], [1, 2], [1, 2], [1, 2], [1, 2]], \"z\": [[0.127, 0.127], [0.122, 0.122], [0.122, 0.122], [0.127, 0.127], [0.157, 0.157], [0.23199999999999998, 0.23199999999999998], [0.293, 0.293], [0.245, 0.245], [0.21600000000000003, 0.21600000000000003], [0.207, 0.207], [0.203, 0.203], [0.20199999999999999, 0.20199999999999999], [0.201, 0.201], [0.2, 0.2], [0.207, 0.207], [0.226, 0.226], [0.261, 0.261], [0.32299999999999995, 0.32299999999999995], [0.423, 0.423], [0.445, 0.445], [0.368, 0.368], [0.264, 0.264], [0.18100000000000002, 0.18100000000000002], [0.145, 0.145]], \"type\": \"surface\"}, {\"y\": [[0, 0], [1, 1], [2, 2], [3, 3], [4, 4], [5, 5], [6, 6], [7, 7], [8, 8], [9, 9], [10, 10], [11, 11], [12, 12], [13, 13], [14, 14], [15, 15], [16, 16], [17, 17], [18, 18], [19, 19], [20, 20], [21, 21], [22, 22], [23, 23]], \"hoverinfo\": \"name+text\", \"name\": \"October\", \"text\": [[\"0h00<br /> 0.127 kVA\"], [\"1h00<br /> 0.122 kVA\"], [\"2h00<br /> 0.122 kVA\"], [\"3h00<br /> 0.127 kVA\"], [\"4h00<br /> 0.157 kVA\"], [\"5h00<br /> 0.232 kVA\"], [\"6h00<br /> 0.293 kVA\"], [\"7h00<br /> 0.245 kVA\"], [\"8h00<br /> 0.216 kVA\"], [\"9h00<br /> 0.207 kVA\"], [\"10h00<br /> 0.203 kVA\"], [\"11h00<br /> 0.202 kVA\"], [\"12h00<br /> 0.201 kVA\"], [\"13h00<br /> 0.200 kVA\"], [\"14h00<br /> 0.207 kVA\"], [\"15h00<br /> 0.226 kVA\"], [\"16h00<br /> 0.261 kVA\"], [\"17h00<br /> 0.323 kVA\"], [\"18h00<br /> 0.423 kVA\"], [\"19h00<br /> 0.445 kVA\"], [\"20h00<br /> 0.368 kVA\"], [\"21h00<br /> 0.264 kVA\"], [\"22h00<br /> 0.181 kVA\"], [\"23h00<br /> 0.145 kVA\"]], \"showscale\": false, \"x\": [[2, 3], [2, 3], [2, 3], [2, 3], [2, 3], [2, 3], [2, 3], [2, 3], [2, 3], [2, 3], [2, 3], [2, 3], [2, 3], [2, 3], [2, 3], [2, 3], [2, 3], [2, 3], [2, 3], [2, 3], [2, 3], [2, 3], [2, 3], [2, 3]], \"z\": [[0.127, 0.127], [0.122, 0.122], [0.122, 0.122], [0.127, 0.127], [0.157, 0.157], [0.23199999999999998, 0.23199999999999998], [0.293, 0.293], [0.245, 0.245], [0.21600000000000003, 0.21600000000000003], [0.207, 0.207], [0.203, 0.203], [0.20199999999999999, 0.20199999999999999], [0.201, 0.201], [0.2, 0.2], [0.207, 0.207], [0.226, 0.226], [0.261, 0.261], [0.32299999999999995, 0.32299999999999995], [0.423, 0.423], [0.445, 0.445], [0.368, 0.368], [0.264, 0.264], [0.18100000000000002, 0.18100000000000002], [0.145, 0.145]], \"type\": \"surface\"}, {\"y\": [[0, 0], [1, 1], [2, 2], [3, 3], [4, 4], [5, 5], [6, 6], [7, 7], [8, 8], [9, 9], [10, 10], [11, 11], [12, 12], [13, 13], [14, 14], [15, 15], [16, 16], [17, 17], [18, 18], [19, 19], [20, 20], [21, 21], [22, 22], [23, 23]], \"hoverinfo\": \"name+text\", \"name\": \"September\", \"text\": [[\"0h00<br /> 0.127 kVA\"], [\"1h00<br /> 0.122 kVA\"], [\"2h00<br /> 0.122 kVA\"], [\"3h00<br /> 0.127 kVA\"], [\"4h00<br /> 0.157 kVA\"], [\"5h00<br /> 0.232 kVA\"], [\"6h00<br /> 0.293 kVA\"], [\"7h00<br /> 0.245 kVA\"], [\"8h00<br /> 0.216 kVA\"], [\"9h00<br /> 0.207 kVA\"], [\"10h00<br /> 0.203 kVA\"], [\"11h00<br /> 0.202 kVA\"], [\"12h00<br /> 0.201 kVA\"], [\"13h00<br /> 0.200 kVA\"], [\"14h00<br /> 0.207 kVA\"], [\"15h00<br /> 0.226 kVA\"], [\"16h00<br /> 0.261 kVA\"], [\"17h00<br /> 0.323 kVA\"], [\"18h00<br /> 0.423 kVA\"], [\"19h00<br /> 0.445 kVA\"], [\"20h00<br /> 0.368 kVA\"], [\"21h00<br /> 0.264 kVA\"], [\"22h00<br /> 0.181 kVA\"], [\"23h00<br /> 0.145 kVA\"]], \"showscale\": false, \"x\": [[3, 4], [3, 4], [3, 4], [3, 4], [3, 4], [3, 4], [3, 4], [3, 4], [3, 4], [3, 4], [3, 4], [3, 4], [3, 4], [3, 4], [3, 4], [3, 4], [3, 4], [3, 4], [3, 4], [3, 4], [3, 4], [3, 4], [3, 4], [3, 4]], \"z\": [[0.127, 0.127], [0.122, 0.122], [0.122, 0.122], [0.127, 0.127], [0.157, 0.157], [0.23199999999999998, 0.23199999999999998], [0.293, 0.293], [0.245, 0.245], [0.21600000000000003, 0.21600000000000003], [0.207, 0.207], [0.203, 0.203], [0.20199999999999999, 0.20199999999999999], [0.201, 0.201], [0.2, 0.2], [0.207, 0.207], [0.226, 0.226], [0.261, 0.261], [0.32299999999999995, 0.32299999999999995], [0.423, 0.423], [0.445, 0.445], [0.368, 0.368], [0.264, 0.264], [0.18100000000000002, 0.18100000000000002], [0.145, 0.145]], \"type\": \"surface\"}, {\"y\": [[0, 0], [1, 1], [2, 2], [3, 3], [4, 4], [5, 5], [6, 6], [7, 7], [8, 8], [9, 9], [10, 10], [11, 11], [12, 12], [13, 13], [14, 14], [15, 15], [16, 16], [17, 17], [18, 18], [19, 19], [20, 20], [21, 21], [22, 22], [23, 23]], \"hoverinfo\": \"name+text\", \"name\": \"August\", \"text\": [[\"0h00<br /> 0.127 kVA\"], [\"1h00<br /> 0.122 kVA\"], [\"2h00<br /> 0.122 kVA\"], [\"3h00<br /> 0.127 kVA\"], [\"4h00<br /> 0.157 kVA\"], [\"5h00<br /> 0.232 kVA\"], [\"6h00<br /> 0.293 kVA\"], [\"7h00<br /> 0.245 kVA\"], [\"8h00<br /> 0.216 kVA\"], [\"9h00<br /> 0.207 kVA\"], [\"10h00<br /> 0.203 kVA\"], [\"11h00<br /> 0.202 kVA\"], [\"12h00<br /> 0.201 kVA\"], [\"13h00<br /> 0.200 kVA\"], [\"14h00<br /> 0.207 kVA\"], [\"15h00<br /> 0.226 kVA\"], [\"16h00<br /> 0.261 kVA\"], [\"17h00<br /> 0.323 kVA\"], [\"18h00<br /> 0.423 kVA\"], [\"19h00<br /> 0.445 kVA\"], [\"20h00<br /> 0.368 kVA\"], [\"21h00<br /> 0.264 kVA\"], [\"22h00<br /> 0.181 kVA\"], [\"23h00<br /> 0.145 kVA\"]], \"showscale\": false, \"x\": [[4, 5], [4, 5], [4, 5], [4, 5], [4, 5], [4, 5], [4, 5], [4, 5], [4, 5], [4, 5], [4, 5], [4, 5], [4, 5], [4, 5], [4, 5], [4, 5], [4, 5], [4, 5], [4, 5], [4, 5], [4, 5], [4, 5], [4, 5], [4, 5]], \"z\": [[0.127, 0.127], [0.122, 0.122], [0.122, 0.122], [0.127, 0.127], [0.157, 0.157], [0.23199999999999998, 0.23199999999999998], [0.293, 0.293], [0.245, 0.245], [0.21600000000000003, 0.21600000000000003], [0.207, 0.207], [0.203, 0.203], [0.20199999999999999, 0.20199999999999999], [0.201, 0.201], [0.2, 0.2], [0.207, 0.207], [0.226, 0.226], [0.261, 0.261], [0.32299999999999995, 0.32299999999999995], [0.423, 0.423], [0.445, 0.445], [0.368, 0.368], [0.264, 0.264], [0.18100000000000002, 0.18100000000000002], [0.145, 0.145]], \"type\": \"surface\"}, {\"y\": [[0, 0], [1, 1], [2, 2], [3, 3], [4, 4], [5, 5], [6, 6], [7, 7], [8, 8], [9, 9], [10, 10], [11, 11], [12, 12], [13, 13], [14, 14], [15, 15], [16, 16], [17, 17], [18, 18], [19, 19], [20, 20], [21, 21], [22, 22], [23, 23]], \"hoverinfo\": \"name+text\", \"name\": \"July\", \"text\": [[\"0h00<br /> 0.127 kVA\"], [\"1h00<br /> 0.122 kVA\"], [\"2h00<br /> 0.122 kVA\"], [\"3h00<br /> 0.127 kVA\"], [\"4h00<br /> 0.157 kVA\"], [\"5h00<br /> 0.232 kVA\"], [\"6h00<br /> 0.293 kVA\"], [\"7h00<br /> 0.245 kVA\"], [\"8h00<br /> 0.216 kVA\"], [\"9h00<br /> 0.207 kVA\"], [\"10h00<br /> 0.203 kVA\"], [\"11h00<br /> 0.202 kVA\"], [\"12h00<br /> 0.201 kVA\"], [\"13h00<br /> 0.200 kVA\"], [\"14h00<br /> 0.207 kVA\"], [\"15h00<br /> 0.226 kVA\"], [\"16h00<br /> 0.261 kVA\"], [\"17h00<br /> 0.323 kVA\"], [\"18h00<br /> 0.423 kVA\"], [\"19h00<br /> 0.445 kVA\"], [\"20h00<br /> 0.368 kVA\"], [\"21h00<br /> 0.264 kVA\"], [\"22h00<br /> 0.181 kVA\"], [\"23h00<br /> 0.145 kVA\"]], \"showscale\": false, \"x\": [[5, 6], [5, 6], [5, 6], [5, 6], [5, 6], [5, 6], [5, 6], [5, 6], [5, 6], [5, 6], [5, 6], [5, 6], [5, 6], [5, 6], [5, 6], [5, 6], [5, 6], [5, 6], [5, 6], [5, 6], [5, 6], [5, 6], [5, 6], [5, 6]], \"z\": [[0.127, 0.127], [0.122, 0.122], [0.122, 0.122], [0.127, 0.127], [0.157, 0.157], [0.23199999999999998, 0.23199999999999998], [0.293, 0.293], [0.245, 0.245], [0.21600000000000003, 0.21600000000000003], [0.207, 0.207], [0.203, 0.203], [0.20199999999999999, 0.20199999999999999], [0.201, 0.201], [0.2, 0.2], [0.207, 0.207], [0.226, 0.226], [0.261, 0.261], [0.32299999999999995, 0.32299999999999995], [0.423, 0.423], [0.445, 0.445], [0.368, 0.368], [0.264, 0.264], [0.18100000000000002, 0.18100000000000002], [0.145, 0.145]], \"type\": \"surface\"}, {\"y\": [[0, 0], [1, 1], [2, 2], [3, 3], [4, 4], [5, 5], [6, 6], [7, 7], [8, 8], [9, 9], [10, 10], [11, 11], [12, 12], [13, 13], [14, 14], [15, 15], [16, 16], [17, 17], [18, 18], [19, 19], [20, 20], [21, 21], [22, 22], [23, 23]], \"hoverinfo\": \"name+text\", \"name\": \"June\", \"text\": [[\"0h00<br /> 0.127 kVA\"], [\"1h00<br /> 0.122 kVA\"], [\"2h00<br /> 0.122 kVA\"], [\"3h00<br /> 0.127 kVA\"], [\"4h00<br /> 0.157 kVA\"], [\"5h00<br /> 0.232 kVA\"], [\"6h00<br /> 0.293 kVA\"], [\"7h00<br /> 0.245 kVA\"], [\"8h00<br /> 0.216 kVA\"], [\"9h00<br /> 0.207 kVA\"], [\"10h00<br /> 0.203 kVA\"], [\"11h00<br /> 0.202 kVA\"], [\"12h00<br /> 0.201 kVA\"], [\"13h00<br /> 0.200 kVA\"], [\"14h00<br /> 0.207 kVA\"], [\"15h00<br /> 0.226 kVA\"], [\"16h00<br /> 0.261 kVA\"], [\"17h00<br /> 0.323 kVA\"], [\"18h00<br /> 0.423 kVA\"], [\"19h00<br /> 0.445 kVA\"], [\"20h00<br /> 0.368 kVA\"], [\"21h00<br /> 0.264 kVA\"], [\"22h00<br /> 0.181 kVA\"], [\"23h00<br /> 0.145 kVA\"]], \"showscale\": false, \"x\": [[6, 7], [6, 7], [6, 7], [6, 7], [6, 7], [6, 7], [6, 7], [6, 7], [6, 7], [6, 7], [6, 7], [6, 7], [6, 7], [6, 7], [6, 7], [6, 7], [6, 7], [6, 7], [6, 7], [6, 7], [6, 7], [6, 7], [6, 7], [6, 7]], \"z\": [[0.127, 0.127], [0.122, 0.122], [0.122, 0.122], [0.127, 0.127], [0.157, 0.157], [0.23199999999999998, 0.23199999999999998], [0.293, 0.293], [0.245, 0.245], [0.21600000000000003, 0.21600000000000003], [0.207, 0.207], [0.203, 0.203], [0.20199999999999999, 0.20199999999999999], [0.201, 0.201], [0.2, 0.2], [0.207, 0.207], [0.226, 0.226], [0.261, 0.261], [0.32299999999999995, 0.32299999999999995], [0.423, 0.423], [0.445, 0.445], [0.368, 0.368], [0.264, 0.264], [0.18100000000000002, 0.18100000000000002], [0.145, 0.145]], \"type\": \"surface\"}, {\"y\": [[0, 0], [1, 1], [2, 2], [3, 3], [4, 4], [5, 5], [6, 6], [7, 7], [8, 8], [9, 9], [10, 10], [11, 11], [12, 12], [13, 13], [14, 14], [15, 15], [16, 16], [17, 17], [18, 18], [19, 19], [20, 20], [21, 21], [22, 22], [23, 23]], \"hoverinfo\": \"name+text\", \"name\": \"May\", \"text\": [[\"0h00<br /> 0.127 kVA\"], [\"1h00<br /> 0.122 kVA\"], [\"2h00<br /> 0.122 kVA\"], [\"3h00<br /> 0.127 kVA\"], [\"4h00<br /> 0.157 kVA\"], [\"5h00<br /> 0.232 kVA\"], [\"6h00<br /> 0.293 kVA\"], [\"7h00<br /> 0.245 kVA\"], [\"8h00<br /> 0.216 kVA\"], [\"9h00<br /> 0.207 kVA\"], [\"10h00<br /> 0.203 kVA\"], [\"11h00<br /> 0.202 kVA\"], [\"12h00<br /> 0.201 kVA\"], [\"13h00<br /> 0.200 kVA\"], [\"14h00<br /> 0.207 kVA\"], [\"15h00<br /> 0.226 kVA\"], [\"16h00<br /> 0.261 kVA\"], [\"17h00<br /> 0.323 kVA\"], [\"18h00<br /> 0.423 kVA\"], [\"19h00<br /> 0.445 kVA\"], [\"20h00<br /> 0.368 kVA\"], [\"21h00<br /> 0.264 kVA\"], [\"22h00<br /> 0.181 kVA\"], [\"23h00<br /> 0.145 kVA\"]], \"showscale\": false, \"x\": [[7, 8], [7, 8], [7, 8], [7, 8], [7, 8], [7, 8], [7, 8], [7, 8], [7, 8], [7, 8], [7, 8], [7, 8], [7, 8], [7, 8], [7, 8], [7, 8], [7, 8], [7, 8], [7, 8], [7, 8], [7, 8], [7, 8], [7, 8], [7, 8]], \"z\": [[0.127, 0.127], [0.122, 0.122], [0.122, 0.122], [0.127, 0.127], [0.157, 0.157], [0.23199999999999998, 0.23199999999999998], [0.293, 0.293], [0.245, 0.245], [0.21600000000000003, 0.21600000000000003], [0.207, 0.207], [0.203, 0.203], [0.20199999999999999, 0.20199999999999999], [0.201, 0.201], [0.2, 0.2], [0.207, 0.207], [0.226, 0.226], [0.261, 0.261], [0.32299999999999995, 0.32299999999999995], [0.423, 0.423], [0.445, 0.445], [0.368, 0.368], [0.264, 0.264], [0.18100000000000002, 0.18100000000000002], [0.145, 0.145]], \"type\": \"surface\"}, {\"y\": [[0, 0], [1, 1], [2, 2], [3, 3], [4, 4], [5, 5], [6, 6], [7, 7], [8, 8], [9, 9], [10, 10], [11, 11], [12, 12], [13, 13], [14, 14], [15, 15], [16, 16], [17, 17], [18, 18], [19, 19], [20, 20], [21, 21], [22, 22], [23, 23]], \"hoverinfo\": \"name+text\", \"name\": \"April\", \"text\": [[\"0h00<br /> 0.127 kVA\"], [\"1h00<br /> 0.122 kVA\"], [\"2h00<br /> 0.122 kVA\"], [\"3h00<br /> 0.127 kVA\"], [\"4h00<br /> 0.157 kVA\"], [\"5h00<br /> 0.232 kVA\"], [\"6h00<br /> 0.293 kVA\"], [\"7h00<br /> 0.245 kVA\"], [\"8h00<br /> 0.216 kVA\"], [\"9h00<br /> 0.207 kVA\"], [\"10h00<br /> 0.203 kVA\"], [\"11h00<br /> 0.202 kVA\"], [\"12h00<br /> 0.201 kVA\"], [\"13h00<br /> 0.200 kVA\"], [\"14h00<br /> 0.207 kVA\"], [\"15h00<br /> 0.226 kVA\"], [\"16h00<br /> 0.261 kVA\"], [\"17h00<br /> 0.323 kVA\"], [\"18h00<br /> 0.423 kVA\"], [\"19h00<br /> 0.445 kVA\"], [\"20h00<br /> 0.368 kVA\"], [\"21h00<br /> 0.264 kVA\"], [\"22h00<br /> 0.181 kVA\"], [\"23h00<br /> 0.145 kVA\"]], \"showscale\": false, \"x\": [[8, 9], [8, 9], [8, 9], [8, 9], [8, 9], [8, 9], [8, 9], [8, 9], [8, 9], [8, 9], [8, 9], [8, 9], [8, 9], [8, 9], [8, 9], [8, 9], [8, 9], [8, 9], [8, 9], [8, 9], [8, 9], [8, 9], [8, 9], [8, 9]], \"z\": [[0.127, 0.127], [0.122, 0.122], [0.122, 0.122], [0.127, 0.127], [0.157, 0.157], [0.23199999999999998, 0.23199999999999998], [0.293, 0.293], [0.245, 0.245], [0.21600000000000003, 0.21600000000000003], [0.207, 0.207], [0.203, 0.203], [0.20199999999999999, 0.20199999999999999], [0.201, 0.201], [0.2, 0.2], [0.207, 0.207], [0.226, 0.226], [0.261, 0.261], [0.32299999999999995, 0.32299999999999995], [0.423, 0.423], [0.445, 0.445], [0.368, 0.368], [0.264, 0.264], [0.18100000000000002, 0.18100000000000002], [0.145, 0.145]], \"type\": \"surface\"}, {\"y\": [[0, 0], [1, 1], [2, 2], [3, 3], [4, 4], [5, 5], [6, 6], [7, 7], [8, 8], [9, 9], [10, 10], [11, 11], [12, 12], [13, 13], [14, 14], [15, 15], [16, 16], [17, 17], [18, 18], [19, 19], [20, 20], [21, 21], [22, 22], [23, 23]], \"hoverinfo\": \"name+text\", \"name\": \"March\", \"text\": [[\"0h00<br /> 0.127 kVA\"], [\"1h00<br /> 0.122 kVA\"], [\"2h00<br /> 0.122 kVA\"], [\"3h00<br /> 0.127 kVA\"], [\"4h00<br /> 0.157 kVA\"], [\"5h00<br /> 0.232 kVA\"], [\"6h00<br /> 0.293 kVA\"], [\"7h00<br /> 0.245 kVA\"], [\"8h00<br /> 0.216 kVA\"], [\"9h00<br /> 0.207 kVA\"], [\"10h00<br /> 0.203 kVA\"], [\"11h00<br /> 0.202 kVA\"], [\"12h00<br /> 0.201 kVA\"], [\"13h00<br /> 0.200 kVA\"], [\"14h00<br /> 0.207 kVA\"], [\"15h00<br /> 0.226 kVA\"], [\"16h00<br /> 0.261 kVA\"], [\"17h00<br /> 0.323 kVA\"], [\"18h00<br /> 0.423 kVA\"], [\"19h00<br /> 0.445 kVA\"], [\"20h00<br /> 0.368 kVA\"], [\"21h00<br /> 0.264 kVA\"], [\"22h00<br /> 0.181 kVA\"], [\"23h00<br /> 0.145 kVA\"]], \"showscale\": false, \"x\": [[9, 10], [9, 10], [9, 10], [9, 10], [9, 10], [9, 10], [9, 10], [9, 10], [9, 10], [9, 10], [9, 10], [9, 10], [9, 10], [9, 10], [9, 10], [9, 10], [9, 10], [9, 10], [9, 10], [9, 10], [9, 10], [9, 10], [9, 10], [9, 10]], \"z\": [[0.127, 0.127], [0.122, 0.122], [0.122, 0.122], [0.127, 0.127], [0.157, 0.157], [0.23199999999999998, 0.23199999999999998], [0.293, 0.293], [0.245, 0.245], [0.21600000000000003, 0.21600000000000003], [0.207, 0.207], [0.203, 0.203], [0.20199999999999999, 0.20199999999999999], [0.201, 0.201], [0.2, 0.2], [0.207, 0.207], [0.226, 0.226], [0.261, 0.261], [0.32299999999999995, 0.32299999999999995], [0.423, 0.423], [0.445, 0.445], [0.368, 0.368], [0.264, 0.264], [0.18100000000000002, 0.18100000000000002], [0.145, 0.145]], \"type\": \"surface\"}, {\"y\": [[0, 0], [1, 1], [2, 2], [3, 3], [4, 4], [5, 5], [6, 6], [7, 7], [8, 8], [9, 9], [10, 10], [11, 11], [12, 12], [13, 13], [14, 14], [15, 15], [16, 16], [17, 17], [18, 18], [19, 19], [20, 20], [21, 21], [22, 22], [23, 23]], \"hoverinfo\": \"name+text\", \"name\": \"February\", \"text\": [[\"0h00<br /> 0.127 kVA\"], [\"1h00<br /> 0.122 kVA\"], [\"2h00<br /> 0.122 kVA\"], [\"3h00<br /> 0.127 kVA\"], [\"4h00<br /> 0.157 kVA\"], [\"5h00<br /> 0.232 kVA\"], [\"6h00<br /> 0.293 kVA\"], [\"7h00<br /> 0.245 kVA\"], [\"8h00<br /> 0.216 kVA\"], [\"9h00<br /> 0.207 kVA\"], [\"10h00<br /> 0.203 kVA\"], [\"11h00<br /> 0.202 kVA\"], [\"12h00<br /> 0.201 kVA\"], [\"13h00<br /> 0.200 kVA\"], [\"14h00<br /> 0.207 kVA\"], [\"15h00<br /> 0.226 kVA\"], [\"16h00<br /> 0.261 kVA\"], [\"17h00<br /> 0.323 kVA\"], [\"18h00<br /> 0.423 kVA\"], [\"19h00<br /> 0.445 kVA\"], [\"20h00<br /> 0.368 kVA\"], [\"21h00<br /> 0.264 kVA\"], [\"22h00<br /> 0.181 kVA\"], [\"23h00<br /> 0.145 kVA\"]], \"showscale\": false, \"x\": [[10, 11], [10, 11], [10, 11], [10, 11], [10, 11], [10, 11], [10, 11], [10, 11], [10, 11], [10, 11], [10, 11], [10, 11], [10, 11], [10, 11], [10, 11], [10, 11], [10, 11], [10, 11], [10, 11], [10, 11], [10, 11], [10, 11], [10, 11], [10, 11]], \"z\": [[0.127, 0.127], [0.122, 0.122], [0.122, 0.122], [0.127, 0.127], [0.157, 0.157], [0.23199999999999998, 0.23199999999999998], [0.293, 0.293], [0.245, 0.245], [0.21600000000000003, 0.21600000000000003], [0.207, 0.207], [0.203, 0.203], [0.20199999999999999, 0.20199999999999999], [0.201, 0.201], [0.2, 0.2], [0.207, 0.207], [0.226, 0.226], [0.261, 0.261], [0.32299999999999995, 0.32299999999999995], [0.423, 0.423], [0.445, 0.445], [0.368, 0.368], [0.264, 0.264], [0.18100000000000002, 0.18100000000000002], [0.145, 0.145]], \"type\": \"surface\"}, {\"y\": [[0, 0], [1, 1], [2, 2], [3, 3], [4, 4], [5, 5], [6, 6], [7, 7], [8, 8], [9, 9], [10, 10], [11, 11], [12, 12], [13, 13], [14, 14], [15, 15], [16, 16], [17, 17], [18, 18], [19, 19], [20, 20], [21, 21], [22, 22], [23, 23]], \"hoverinfo\": \"name+text\", \"name\": \"January\", \"text\": [[\"0h00<br /> 0.132 kVA\"], [\"1h00<br /> 0.127 kVA\"], [\"2h00<br /> 0.125 kVA\"], [\"3h00<br /> 0.130 kVA\"], [\"4h00<br /> 0.157 kVA\"], [\"5h00<br /> 0.230 kVA\"], [\"6h00<br /> 0.277 kVA\"], [\"7h00<br /> 0.233 kVA\"], [\"8h00<br /> 0.212 kVA\"], [\"9h00<br /> 0.206 kVA\"], [\"10h00<br /> 0.203 kVA\"], [\"11h00<br /> 0.203 kVA\"], [\"12h00<br /> 0.203 kVA\"], [\"13h00<br /> 0.202 kVA\"], [\"14h00<br /> 0.208 kVA\"], [\"15h00<br /> 0.224 kVA\"], [\"16h00<br /> 0.254 kVA\"], [\"17h00<br /> 0.301 kVA\"], [\"18h00<br /> 0.374 kVA\"], [\"19h00<br /> 0.432 kVA\"], [\"20h00<br /> 0.378 kVA\"], [\"21h00<br /> 0.272 kVA\"], [\"22h00<br /> 0.187 kVA\"], [\"23h00<br /> 0.150 kVA\"]], \"showscale\": false, \"x\": [[11, 12], [11, 12], [11, 12], [11, 12], [11, 12], [11, 12], [11, 12], [11, 12], [11, 12], [11, 12], [11, 12], [11, 12], [11, 12], [11, 12], [11, 12], [11, 12], [11, 12], [11, 12], [11, 12], [11, 12], [11, 12], [11, 12], [11, 12], [11, 12]], \"z\": [[0.132, 0.132], [0.127, 0.127], [0.125, 0.125], [0.13, 0.13], [0.157, 0.157], [0.23, 0.23], [0.27699999999999997, 0.27699999999999997], [0.233, 0.233], [0.212, 0.212], [0.20600000000000002, 0.20600000000000002], [0.203, 0.203], [0.203, 0.203], [0.203, 0.203], [0.20199999999999999, 0.20199999999999999], [0.20800000000000002, 0.20800000000000002], [0.22399999999999998, 0.22399999999999998], [0.254, 0.254], [0.301, 0.301], [0.374, 0.374], [0.43200000000000005, 0.43200000000000005], [0.37799999999999995, 0.37799999999999995], [0.272, 0.272], [0.187, 0.187], [0.15, 0.15]], \"type\": \"surface\"}], {\"margin\": {\"b\": 50, \"l\": 50, \"t\": 50, \"r\": 50, \"pad\": 10}, \"scene\": {\"yaxis\": {\"tickvals\": [0, 2, 4, 6, 8, 10, 12, 14, 16, 18, 20, 22], \"title\": \"time of day\"}, \"xaxis\": {\"tickvals\": [0.5, 1.5, 2.5, 3.5, 4.5, 5.5, 6.5, 7.5, 8.5, 9.5, 10.5, 11.5], \"tickwidth\": 1.5, \"ticktext\": [\"December\", \"November\", \"October\", \"September\", \"August\", \"July\", \"June\", \"May\", \"April\", \"March\", \"February\", \"January\"], \"title\": \"month\", \"type\": \"category\"}, \"zaxis\": {\"tickvals\": [0.0, 0.1, 0.2, 0.30000000000000004, 0.4], \"rangemode\": \"tozero\", \"title\": \"demand (kVA)\"}}, \"height\": 700, \"title\": \"Weekday hourly load profile for \\\"informal_settlement\\\" customers 7 years after electrification\"}, {\"linkText\": \"Export to plot.ly\", \"showLink\": true})});</script>"
      ],
      "text/vnd.plotly.v1+html": [
       "<div id=\"d578e296-b9b2-45cc-af72-a626828d8bdb\" style=\"height: 700px; width: 100%;\" class=\"plotly-graph-div\"></div><script type=\"text/javascript\">require([\"plotly\"], function(Plotly) { window.PLOTLYENV=window.PLOTLYENV || {};window.PLOTLYENV.BASE_URL=\"https://plot.ly\";Plotly.newPlot(\"d578e296-b9b2-45cc-af72-a626828d8bdb\", [{\"y\": [[0, 0], [1, 1], [2, 2], [3, 3], [4, 4], [5, 5], [6, 6], [7, 7], [8, 8], [9, 9], [10, 10], [11, 11], [12, 12], [13, 13], [14, 14], [15, 15], [16, 16], [17, 17], [18, 18], [19, 19], [20, 20], [21, 21], [22, 22], [23, 23]], \"hoverinfo\": \"name+text\", \"name\": \"December\", \"text\": [[\"0h00<br /> 0.132 kVA\"], [\"1h00<br /> 0.127 kVA\"], [\"2h00<br /> 0.125 kVA\"], [\"3h00<br /> 0.130 kVA\"], [\"4h00<br /> 0.157 kVA\"], [\"5h00<br /> 0.230 kVA\"], [\"6h00<br /> 0.277 kVA\"], [\"7h00<br /> 0.233 kVA\"], [\"8h00<br /> 0.212 kVA\"], [\"9h00<br /> 0.206 kVA\"], [\"10h00<br /> 0.203 kVA\"], [\"11h00<br /> 0.203 kVA\"], [\"12h00<br /> 0.203 kVA\"], [\"13h00<br /> 0.202 kVA\"], [\"14h00<br /> 0.208 kVA\"], [\"15h00<br /> 0.224 kVA\"], [\"16h00<br /> 0.254 kVA\"], [\"17h00<br /> 0.301 kVA\"], [\"18h00<br /> 0.374 kVA\"], [\"19h00<br /> 0.432 kVA\"], [\"20h00<br /> 0.378 kVA\"], [\"21h00<br /> 0.272 kVA\"], [\"22h00<br /> 0.187 kVA\"], [\"23h00<br /> 0.150 kVA\"]], \"showscale\": false, \"x\": [[0, 1], [0, 1], [0, 1], [0, 1], [0, 1], [0, 1], [0, 1], [0, 1], [0, 1], [0, 1], [0, 1], [0, 1], [0, 1], [0, 1], [0, 1], [0, 1], [0, 1], [0, 1], [0, 1], [0, 1], [0, 1], [0, 1], [0, 1], [0, 1]], \"z\": [[0.132, 0.132], [0.127, 0.127], [0.125, 0.125], [0.13, 0.13], [0.157, 0.157], [0.23, 0.23], [0.27699999999999997, 0.27699999999999997], [0.233, 0.233], [0.212, 0.212], [0.20600000000000002, 0.20600000000000002], [0.203, 0.203], [0.203, 0.203], [0.203, 0.203], [0.20199999999999999, 0.20199999999999999], [0.20800000000000002, 0.20800000000000002], [0.22399999999999998, 0.22399999999999998], [0.254, 0.254], [0.301, 0.301], [0.374, 0.374], [0.43200000000000005, 0.43200000000000005], [0.37799999999999995, 0.37799999999999995], [0.272, 0.272], [0.187, 0.187], [0.15, 0.15]], \"type\": \"surface\"}, {\"y\": [[0, 0], [1, 1], [2, 2], [3, 3], [4, 4], [5, 5], [6, 6], [7, 7], [8, 8], [9, 9], [10, 10], [11, 11], [12, 12], [13, 13], [14, 14], [15, 15], [16, 16], [17, 17], [18, 18], [19, 19], [20, 20], [21, 21], [22, 22], [23, 23]], \"hoverinfo\": \"name+text\", \"name\": \"November\", \"text\": [[\"0h00<br /> 0.127 kVA\"], [\"1h00<br /> 0.122 kVA\"], [\"2h00<br /> 0.122 kVA\"], [\"3h00<br /> 0.127 kVA\"], [\"4h00<br /> 0.157 kVA\"], [\"5h00<br /> 0.232 kVA\"], [\"6h00<br /> 0.293 kVA\"], [\"7h00<br /> 0.245 kVA\"], [\"8h00<br /> 0.216 kVA\"], [\"9h00<br /> 0.207 kVA\"], [\"10h00<br /> 0.203 kVA\"], [\"11h00<br /> 0.202 kVA\"], [\"12h00<br /> 0.201 kVA\"], [\"13h00<br /> 0.200 kVA\"], [\"14h00<br /> 0.207 kVA\"], [\"15h00<br /> 0.226 kVA\"], [\"16h00<br /> 0.261 kVA\"], [\"17h00<br /> 0.323 kVA\"], [\"18h00<br /> 0.423 kVA\"], [\"19h00<br /> 0.445 kVA\"], [\"20h00<br /> 0.368 kVA\"], [\"21h00<br /> 0.264 kVA\"], [\"22h00<br /> 0.181 kVA\"], [\"23h00<br /> 0.145 kVA\"]], \"showscale\": false, \"x\": [[1, 2], [1, 2], [1, 2], [1, 2], [1, 2], [1, 2], [1, 2], [1, 2], [1, 2], [1, 2], [1, 2], [1, 2], [1, 2], [1, 2], [1, 2], [1, 2], [1, 2], [1, 2], [1, 2], [1, 2], [1, 2], [1, 2], [1, 2], [1, 2]], \"z\": [[0.127, 0.127], [0.122, 0.122], [0.122, 0.122], [0.127, 0.127], [0.157, 0.157], [0.23199999999999998, 0.23199999999999998], [0.293, 0.293], [0.245, 0.245], [0.21600000000000003, 0.21600000000000003], [0.207, 0.207], [0.203, 0.203], [0.20199999999999999, 0.20199999999999999], [0.201, 0.201], [0.2, 0.2], [0.207, 0.207], [0.226, 0.226], [0.261, 0.261], [0.32299999999999995, 0.32299999999999995], [0.423, 0.423], [0.445, 0.445], [0.368, 0.368], [0.264, 0.264], [0.18100000000000002, 0.18100000000000002], [0.145, 0.145]], \"type\": \"surface\"}, {\"y\": [[0, 0], [1, 1], [2, 2], [3, 3], [4, 4], [5, 5], [6, 6], [7, 7], [8, 8], [9, 9], [10, 10], [11, 11], [12, 12], [13, 13], [14, 14], [15, 15], [16, 16], [17, 17], [18, 18], [19, 19], [20, 20], [21, 21], [22, 22], [23, 23]], \"hoverinfo\": \"name+text\", \"name\": \"October\", \"text\": [[\"0h00<br /> 0.127 kVA\"], [\"1h00<br /> 0.122 kVA\"], [\"2h00<br /> 0.122 kVA\"], [\"3h00<br /> 0.127 kVA\"], [\"4h00<br /> 0.157 kVA\"], [\"5h00<br /> 0.232 kVA\"], [\"6h00<br /> 0.293 kVA\"], [\"7h00<br /> 0.245 kVA\"], [\"8h00<br /> 0.216 kVA\"], [\"9h00<br /> 0.207 kVA\"], [\"10h00<br /> 0.203 kVA\"], [\"11h00<br /> 0.202 kVA\"], [\"12h00<br /> 0.201 kVA\"], [\"13h00<br /> 0.200 kVA\"], [\"14h00<br /> 0.207 kVA\"], [\"15h00<br /> 0.226 kVA\"], [\"16h00<br /> 0.261 kVA\"], [\"17h00<br /> 0.323 kVA\"], [\"18h00<br /> 0.423 kVA\"], [\"19h00<br /> 0.445 kVA\"], [\"20h00<br /> 0.368 kVA\"], [\"21h00<br /> 0.264 kVA\"], [\"22h00<br /> 0.181 kVA\"], [\"23h00<br /> 0.145 kVA\"]], \"showscale\": false, \"x\": [[2, 3], [2, 3], [2, 3], [2, 3], [2, 3], [2, 3], [2, 3], [2, 3], [2, 3], [2, 3], [2, 3], [2, 3], [2, 3], [2, 3], [2, 3], [2, 3], [2, 3], [2, 3], [2, 3], [2, 3], [2, 3], [2, 3], [2, 3], [2, 3]], \"z\": [[0.127, 0.127], [0.122, 0.122], [0.122, 0.122], [0.127, 0.127], [0.157, 0.157], [0.23199999999999998, 0.23199999999999998], [0.293, 0.293], [0.245, 0.245], [0.21600000000000003, 0.21600000000000003], [0.207, 0.207], [0.203, 0.203], [0.20199999999999999, 0.20199999999999999], [0.201, 0.201], [0.2, 0.2], [0.207, 0.207], [0.226, 0.226], [0.261, 0.261], [0.32299999999999995, 0.32299999999999995], [0.423, 0.423], [0.445, 0.445], [0.368, 0.368], [0.264, 0.264], [0.18100000000000002, 0.18100000000000002], [0.145, 0.145]], \"type\": \"surface\"}, {\"y\": [[0, 0], [1, 1], [2, 2], [3, 3], [4, 4], [5, 5], [6, 6], [7, 7], [8, 8], [9, 9], [10, 10], [11, 11], [12, 12], [13, 13], [14, 14], [15, 15], [16, 16], [17, 17], [18, 18], [19, 19], [20, 20], [21, 21], [22, 22], [23, 23]], \"hoverinfo\": \"name+text\", \"name\": \"September\", \"text\": [[\"0h00<br /> 0.127 kVA\"], [\"1h00<br /> 0.122 kVA\"], [\"2h00<br /> 0.122 kVA\"], [\"3h00<br /> 0.127 kVA\"], [\"4h00<br /> 0.157 kVA\"], [\"5h00<br /> 0.232 kVA\"], [\"6h00<br /> 0.293 kVA\"], [\"7h00<br /> 0.245 kVA\"], [\"8h00<br /> 0.216 kVA\"], [\"9h00<br /> 0.207 kVA\"], [\"10h00<br /> 0.203 kVA\"], [\"11h00<br /> 0.202 kVA\"], [\"12h00<br /> 0.201 kVA\"], [\"13h00<br /> 0.200 kVA\"], [\"14h00<br /> 0.207 kVA\"], [\"15h00<br /> 0.226 kVA\"], [\"16h00<br /> 0.261 kVA\"], [\"17h00<br /> 0.323 kVA\"], [\"18h00<br /> 0.423 kVA\"], [\"19h00<br /> 0.445 kVA\"], [\"20h00<br /> 0.368 kVA\"], [\"21h00<br /> 0.264 kVA\"], [\"22h00<br /> 0.181 kVA\"], [\"23h00<br /> 0.145 kVA\"]], \"showscale\": false, \"x\": [[3, 4], [3, 4], [3, 4], [3, 4], [3, 4], [3, 4], [3, 4], [3, 4], [3, 4], [3, 4], [3, 4], [3, 4], [3, 4], [3, 4], [3, 4], [3, 4], [3, 4], [3, 4], [3, 4], [3, 4], [3, 4], [3, 4], [3, 4], [3, 4]], \"z\": [[0.127, 0.127], [0.122, 0.122], [0.122, 0.122], [0.127, 0.127], [0.157, 0.157], [0.23199999999999998, 0.23199999999999998], [0.293, 0.293], [0.245, 0.245], [0.21600000000000003, 0.21600000000000003], [0.207, 0.207], [0.203, 0.203], [0.20199999999999999, 0.20199999999999999], [0.201, 0.201], [0.2, 0.2], [0.207, 0.207], [0.226, 0.226], [0.261, 0.261], [0.32299999999999995, 0.32299999999999995], [0.423, 0.423], [0.445, 0.445], [0.368, 0.368], [0.264, 0.264], [0.18100000000000002, 0.18100000000000002], [0.145, 0.145]], \"type\": \"surface\"}, {\"y\": [[0, 0], [1, 1], [2, 2], [3, 3], [4, 4], [5, 5], [6, 6], [7, 7], [8, 8], [9, 9], [10, 10], [11, 11], [12, 12], [13, 13], [14, 14], [15, 15], [16, 16], [17, 17], [18, 18], [19, 19], [20, 20], [21, 21], [22, 22], [23, 23]], \"hoverinfo\": \"name+text\", \"name\": \"August\", \"text\": [[\"0h00<br /> 0.127 kVA\"], [\"1h00<br /> 0.122 kVA\"], [\"2h00<br /> 0.122 kVA\"], [\"3h00<br /> 0.127 kVA\"], [\"4h00<br /> 0.157 kVA\"], [\"5h00<br /> 0.232 kVA\"], [\"6h00<br /> 0.293 kVA\"], [\"7h00<br /> 0.245 kVA\"], [\"8h00<br /> 0.216 kVA\"], [\"9h00<br /> 0.207 kVA\"], [\"10h00<br /> 0.203 kVA\"], [\"11h00<br /> 0.202 kVA\"], [\"12h00<br /> 0.201 kVA\"], [\"13h00<br /> 0.200 kVA\"], [\"14h00<br /> 0.207 kVA\"], [\"15h00<br /> 0.226 kVA\"], [\"16h00<br /> 0.261 kVA\"], [\"17h00<br /> 0.323 kVA\"], [\"18h00<br /> 0.423 kVA\"], [\"19h00<br /> 0.445 kVA\"], [\"20h00<br /> 0.368 kVA\"], [\"21h00<br /> 0.264 kVA\"], [\"22h00<br /> 0.181 kVA\"], [\"23h00<br /> 0.145 kVA\"]], \"showscale\": false, \"x\": [[4, 5], [4, 5], [4, 5], [4, 5], [4, 5], [4, 5], [4, 5], [4, 5], [4, 5], [4, 5], [4, 5], [4, 5], [4, 5], [4, 5], [4, 5], [4, 5], [4, 5], [4, 5], [4, 5], [4, 5], [4, 5], [4, 5], [4, 5], [4, 5]], \"z\": [[0.127, 0.127], [0.122, 0.122], [0.122, 0.122], [0.127, 0.127], [0.157, 0.157], [0.23199999999999998, 0.23199999999999998], [0.293, 0.293], [0.245, 0.245], [0.21600000000000003, 0.21600000000000003], [0.207, 0.207], [0.203, 0.203], [0.20199999999999999, 0.20199999999999999], [0.201, 0.201], [0.2, 0.2], [0.207, 0.207], [0.226, 0.226], [0.261, 0.261], [0.32299999999999995, 0.32299999999999995], [0.423, 0.423], [0.445, 0.445], [0.368, 0.368], [0.264, 0.264], [0.18100000000000002, 0.18100000000000002], [0.145, 0.145]], \"type\": \"surface\"}, {\"y\": [[0, 0], [1, 1], [2, 2], [3, 3], [4, 4], [5, 5], [6, 6], [7, 7], [8, 8], [9, 9], [10, 10], [11, 11], [12, 12], [13, 13], [14, 14], [15, 15], [16, 16], [17, 17], [18, 18], [19, 19], [20, 20], [21, 21], [22, 22], [23, 23]], \"hoverinfo\": \"name+text\", \"name\": \"July\", \"text\": [[\"0h00<br /> 0.127 kVA\"], [\"1h00<br /> 0.122 kVA\"], [\"2h00<br /> 0.122 kVA\"], [\"3h00<br /> 0.127 kVA\"], [\"4h00<br /> 0.157 kVA\"], [\"5h00<br /> 0.232 kVA\"], [\"6h00<br /> 0.293 kVA\"], [\"7h00<br /> 0.245 kVA\"], [\"8h00<br /> 0.216 kVA\"], [\"9h00<br /> 0.207 kVA\"], [\"10h00<br /> 0.203 kVA\"], [\"11h00<br /> 0.202 kVA\"], [\"12h00<br /> 0.201 kVA\"], [\"13h00<br /> 0.200 kVA\"], [\"14h00<br /> 0.207 kVA\"], [\"15h00<br /> 0.226 kVA\"], [\"16h00<br /> 0.261 kVA\"], [\"17h00<br /> 0.323 kVA\"], [\"18h00<br /> 0.423 kVA\"], [\"19h00<br /> 0.445 kVA\"], [\"20h00<br /> 0.368 kVA\"], [\"21h00<br /> 0.264 kVA\"], [\"22h00<br /> 0.181 kVA\"], [\"23h00<br /> 0.145 kVA\"]], \"showscale\": false, \"x\": [[5, 6], [5, 6], [5, 6], [5, 6], [5, 6], [5, 6], [5, 6], [5, 6], [5, 6], [5, 6], [5, 6], [5, 6], [5, 6], [5, 6], [5, 6], [5, 6], [5, 6], [5, 6], [5, 6], [5, 6], [5, 6], [5, 6], [5, 6], [5, 6]], \"z\": [[0.127, 0.127], [0.122, 0.122], [0.122, 0.122], [0.127, 0.127], [0.157, 0.157], [0.23199999999999998, 0.23199999999999998], [0.293, 0.293], [0.245, 0.245], [0.21600000000000003, 0.21600000000000003], [0.207, 0.207], [0.203, 0.203], [0.20199999999999999, 0.20199999999999999], [0.201, 0.201], [0.2, 0.2], [0.207, 0.207], [0.226, 0.226], [0.261, 0.261], [0.32299999999999995, 0.32299999999999995], [0.423, 0.423], [0.445, 0.445], [0.368, 0.368], [0.264, 0.264], [0.18100000000000002, 0.18100000000000002], [0.145, 0.145]], \"type\": \"surface\"}, {\"y\": [[0, 0], [1, 1], [2, 2], [3, 3], [4, 4], [5, 5], [6, 6], [7, 7], [8, 8], [9, 9], [10, 10], [11, 11], [12, 12], [13, 13], [14, 14], [15, 15], [16, 16], [17, 17], [18, 18], [19, 19], [20, 20], [21, 21], [22, 22], [23, 23]], \"hoverinfo\": \"name+text\", \"name\": \"June\", \"text\": [[\"0h00<br /> 0.127 kVA\"], [\"1h00<br /> 0.122 kVA\"], [\"2h00<br /> 0.122 kVA\"], [\"3h00<br /> 0.127 kVA\"], [\"4h00<br /> 0.157 kVA\"], [\"5h00<br /> 0.232 kVA\"], [\"6h00<br /> 0.293 kVA\"], [\"7h00<br /> 0.245 kVA\"], [\"8h00<br /> 0.216 kVA\"], [\"9h00<br /> 0.207 kVA\"], [\"10h00<br /> 0.203 kVA\"], [\"11h00<br /> 0.202 kVA\"], [\"12h00<br /> 0.201 kVA\"], [\"13h00<br /> 0.200 kVA\"], [\"14h00<br /> 0.207 kVA\"], [\"15h00<br /> 0.226 kVA\"], [\"16h00<br /> 0.261 kVA\"], [\"17h00<br /> 0.323 kVA\"], [\"18h00<br /> 0.423 kVA\"], [\"19h00<br /> 0.445 kVA\"], [\"20h00<br /> 0.368 kVA\"], [\"21h00<br /> 0.264 kVA\"], [\"22h00<br /> 0.181 kVA\"], [\"23h00<br /> 0.145 kVA\"]], \"showscale\": false, \"x\": [[6, 7], [6, 7], [6, 7], [6, 7], [6, 7], [6, 7], [6, 7], [6, 7], [6, 7], [6, 7], [6, 7], [6, 7], [6, 7], [6, 7], [6, 7], [6, 7], [6, 7], [6, 7], [6, 7], [6, 7], [6, 7], [6, 7], [6, 7], [6, 7]], \"z\": [[0.127, 0.127], [0.122, 0.122], [0.122, 0.122], [0.127, 0.127], [0.157, 0.157], [0.23199999999999998, 0.23199999999999998], [0.293, 0.293], [0.245, 0.245], [0.21600000000000003, 0.21600000000000003], [0.207, 0.207], [0.203, 0.203], [0.20199999999999999, 0.20199999999999999], [0.201, 0.201], [0.2, 0.2], [0.207, 0.207], [0.226, 0.226], [0.261, 0.261], [0.32299999999999995, 0.32299999999999995], [0.423, 0.423], [0.445, 0.445], [0.368, 0.368], [0.264, 0.264], [0.18100000000000002, 0.18100000000000002], [0.145, 0.145]], \"type\": \"surface\"}, {\"y\": [[0, 0], [1, 1], [2, 2], [3, 3], [4, 4], [5, 5], [6, 6], [7, 7], [8, 8], [9, 9], [10, 10], [11, 11], [12, 12], [13, 13], [14, 14], [15, 15], [16, 16], [17, 17], [18, 18], [19, 19], [20, 20], [21, 21], [22, 22], [23, 23]], \"hoverinfo\": \"name+text\", \"name\": \"May\", \"text\": [[\"0h00<br /> 0.127 kVA\"], [\"1h00<br /> 0.122 kVA\"], [\"2h00<br /> 0.122 kVA\"], [\"3h00<br /> 0.127 kVA\"], [\"4h00<br /> 0.157 kVA\"], [\"5h00<br /> 0.232 kVA\"], [\"6h00<br /> 0.293 kVA\"], [\"7h00<br /> 0.245 kVA\"], [\"8h00<br /> 0.216 kVA\"], [\"9h00<br /> 0.207 kVA\"], [\"10h00<br /> 0.203 kVA\"], [\"11h00<br /> 0.202 kVA\"], [\"12h00<br /> 0.201 kVA\"], [\"13h00<br /> 0.200 kVA\"], [\"14h00<br /> 0.207 kVA\"], [\"15h00<br /> 0.226 kVA\"], [\"16h00<br /> 0.261 kVA\"], [\"17h00<br /> 0.323 kVA\"], [\"18h00<br /> 0.423 kVA\"], [\"19h00<br /> 0.445 kVA\"], [\"20h00<br /> 0.368 kVA\"], [\"21h00<br /> 0.264 kVA\"], [\"22h00<br /> 0.181 kVA\"], [\"23h00<br /> 0.145 kVA\"]], \"showscale\": false, \"x\": [[7, 8], [7, 8], [7, 8], [7, 8], [7, 8], [7, 8], [7, 8], [7, 8], [7, 8], [7, 8], [7, 8], [7, 8], [7, 8], [7, 8], [7, 8], [7, 8], [7, 8], [7, 8], [7, 8], [7, 8], [7, 8], [7, 8], [7, 8], [7, 8]], \"z\": [[0.127, 0.127], [0.122, 0.122], [0.122, 0.122], [0.127, 0.127], [0.157, 0.157], [0.23199999999999998, 0.23199999999999998], [0.293, 0.293], [0.245, 0.245], [0.21600000000000003, 0.21600000000000003], [0.207, 0.207], [0.203, 0.203], [0.20199999999999999, 0.20199999999999999], [0.201, 0.201], [0.2, 0.2], [0.207, 0.207], [0.226, 0.226], [0.261, 0.261], [0.32299999999999995, 0.32299999999999995], [0.423, 0.423], [0.445, 0.445], [0.368, 0.368], [0.264, 0.264], [0.18100000000000002, 0.18100000000000002], [0.145, 0.145]], \"type\": \"surface\"}, {\"y\": [[0, 0], [1, 1], [2, 2], [3, 3], [4, 4], [5, 5], [6, 6], [7, 7], [8, 8], [9, 9], [10, 10], [11, 11], [12, 12], [13, 13], [14, 14], [15, 15], [16, 16], [17, 17], [18, 18], [19, 19], [20, 20], [21, 21], [22, 22], [23, 23]], \"hoverinfo\": \"name+text\", \"name\": \"April\", \"text\": [[\"0h00<br /> 0.127 kVA\"], [\"1h00<br /> 0.122 kVA\"], [\"2h00<br /> 0.122 kVA\"], [\"3h00<br /> 0.127 kVA\"], [\"4h00<br /> 0.157 kVA\"], [\"5h00<br /> 0.232 kVA\"], [\"6h00<br /> 0.293 kVA\"], [\"7h00<br /> 0.245 kVA\"], [\"8h00<br /> 0.216 kVA\"], [\"9h00<br /> 0.207 kVA\"], [\"10h00<br /> 0.203 kVA\"], [\"11h00<br /> 0.202 kVA\"], [\"12h00<br /> 0.201 kVA\"], [\"13h00<br /> 0.200 kVA\"], [\"14h00<br /> 0.207 kVA\"], [\"15h00<br /> 0.226 kVA\"], [\"16h00<br /> 0.261 kVA\"], [\"17h00<br /> 0.323 kVA\"], [\"18h00<br /> 0.423 kVA\"], [\"19h00<br /> 0.445 kVA\"], [\"20h00<br /> 0.368 kVA\"], [\"21h00<br /> 0.264 kVA\"], [\"22h00<br /> 0.181 kVA\"], [\"23h00<br /> 0.145 kVA\"]], \"showscale\": false, \"x\": [[8, 9], [8, 9], [8, 9], [8, 9], [8, 9], [8, 9], [8, 9], [8, 9], [8, 9], [8, 9], [8, 9], [8, 9], [8, 9], [8, 9], [8, 9], [8, 9], [8, 9], [8, 9], [8, 9], [8, 9], [8, 9], [8, 9], [8, 9], [8, 9]], \"z\": [[0.127, 0.127], [0.122, 0.122], [0.122, 0.122], [0.127, 0.127], [0.157, 0.157], [0.23199999999999998, 0.23199999999999998], [0.293, 0.293], [0.245, 0.245], [0.21600000000000003, 0.21600000000000003], [0.207, 0.207], [0.203, 0.203], [0.20199999999999999, 0.20199999999999999], [0.201, 0.201], [0.2, 0.2], [0.207, 0.207], [0.226, 0.226], [0.261, 0.261], [0.32299999999999995, 0.32299999999999995], [0.423, 0.423], [0.445, 0.445], [0.368, 0.368], [0.264, 0.264], [0.18100000000000002, 0.18100000000000002], [0.145, 0.145]], \"type\": \"surface\"}, {\"y\": [[0, 0], [1, 1], [2, 2], [3, 3], [4, 4], [5, 5], [6, 6], [7, 7], [8, 8], [9, 9], [10, 10], [11, 11], [12, 12], [13, 13], [14, 14], [15, 15], [16, 16], [17, 17], [18, 18], [19, 19], [20, 20], [21, 21], [22, 22], [23, 23]], \"hoverinfo\": \"name+text\", \"name\": \"March\", \"text\": [[\"0h00<br /> 0.127 kVA\"], [\"1h00<br /> 0.122 kVA\"], [\"2h00<br /> 0.122 kVA\"], [\"3h00<br /> 0.127 kVA\"], [\"4h00<br /> 0.157 kVA\"], [\"5h00<br /> 0.232 kVA\"], [\"6h00<br /> 0.293 kVA\"], [\"7h00<br /> 0.245 kVA\"], [\"8h00<br /> 0.216 kVA\"], [\"9h00<br /> 0.207 kVA\"], [\"10h00<br /> 0.203 kVA\"], [\"11h00<br /> 0.202 kVA\"], [\"12h00<br /> 0.201 kVA\"], [\"13h00<br /> 0.200 kVA\"], [\"14h00<br /> 0.207 kVA\"], [\"15h00<br /> 0.226 kVA\"], [\"16h00<br /> 0.261 kVA\"], [\"17h00<br /> 0.323 kVA\"], [\"18h00<br /> 0.423 kVA\"], [\"19h00<br /> 0.445 kVA\"], [\"20h00<br /> 0.368 kVA\"], [\"21h00<br /> 0.264 kVA\"], [\"22h00<br /> 0.181 kVA\"], [\"23h00<br /> 0.145 kVA\"]], \"showscale\": false, \"x\": [[9, 10], [9, 10], [9, 10], [9, 10], [9, 10], [9, 10], [9, 10], [9, 10], [9, 10], [9, 10], [9, 10], [9, 10], [9, 10], [9, 10], [9, 10], [9, 10], [9, 10], [9, 10], [9, 10], [9, 10], [9, 10], [9, 10], [9, 10], [9, 10]], \"z\": [[0.127, 0.127], [0.122, 0.122], [0.122, 0.122], [0.127, 0.127], [0.157, 0.157], [0.23199999999999998, 0.23199999999999998], [0.293, 0.293], [0.245, 0.245], [0.21600000000000003, 0.21600000000000003], [0.207, 0.207], [0.203, 0.203], [0.20199999999999999, 0.20199999999999999], [0.201, 0.201], [0.2, 0.2], [0.207, 0.207], [0.226, 0.226], [0.261, 0.261], [0.32299999999999995, 0.32299999999999995], [0.423, 0.423], [0.445, 0.445], [0.368, 0.368], [0.264, 0.264], [0.18100000000000002, 0.18100000000000002], [0.145, 0.145]], \"type\": \"surface\"}, {\"y\": [[0, 0], [1, 1], [2, 2], [3, 3], [4, 4], [5, 5], [6, 6], [7, 7], [8, 8], [9, 9], [10, 10], [11, 11], [12, 12], [13, 13], [14, 14], [15, 15], [16, 16], [17, 17], [18, 18], [19, 19], [20, 20], [21, 21], [22, 22], [23, 23]], \"hoverinfo\": \"name+text\", \"name\": \"February\", \"text\": [[\"0h00<br /> 0.127 kVA\"], [\"1h00<br /> 0.122 kVA\"], [\"2h00<br /> 0.122 kVA\"], [\"3h00<br /> 0.127 kVA\"], [\"4h00<br /> 0.157 kVA\"], [\"5h00<br /> 0.232 kVA\"], [\"6h00<br /> 0.293 kVA\"], [\"7h00<br /> 0.245 kVA\"], [\"8h00<br /> 0.216 kVA\"], [\"9h00<br /> 0.207 kVA\"], [\"10h00<br /> 0.203 kVA\"], [\"11h00<br /> 0.202 kVA\"], [\"12h00<br /> 0.201 kVA\"], [\"13h00<br /> 0.200 kVA\"], [\"14h00<br /> 0.207 kVA\"], [\"15h00<br /> 0.226 kVA\"], [\"16h00<br /> 0.261 kVA\"], [\"17h00<br /> 0.323 kVA\"], [\"18h00<br /> 0.423 kVA\"], [\"19h00<br /> 0.445 kVA\"], [\"20h00<br /> 0.368 kVA\"], [\"21h00<br /> 0.264 kVA\"], [\"22h00<br /> 0.181 kVA\"], [\"23h00<br /> 0.145 kVA\"]], \"showscale\": false, \"x\": [[10, 11], [10, 11], [10, 11], [10, 11], [10, 11], [10, 11], [10, 11], [10, 11], [10, 11], [10, 11], [10, 11], [10, 11], [10, 11], [10, 11], [10, 11], [10, 11], [10, 11], [10, 11], [10, 11], [10, 11], [10, 11], [10, 11], [10, 11], [10, 11]], \"z\": [[0.127, 0.127], [0.122, 0.122], [0.122, 0.122], [0.127, 0.127], [0.157, 0.157], [0.23199999999999998, 0.23199999999999998], [0.293, 0.293], [0.245, 0.245], [0.21600000000000003, 0.21600000000000003], [0.207, 0.207], [0.203, 0.203], [0.20199999999999999, 0.20199999999999999], [0.201, 0.201], [0.2, 0.2], [0.207, 0.207], [0.226, 0.226], [0.261, 0.261], [0.32299999999999995, 0.32299999999999995], [0.423, 0.423], [0.445, 0.445], [0.368, 0.368], [0.264, 0.264], [0.18100000000000002, 0.18100000000000002], [0.145, 0.145]], \"type\": \"surface\"}, {\"y\": [[0, 0], [1, 1], [2, 2], [3, 3], [4, 4], [5, 5], [6, 6], [7, 7], [8, 8], [9, 9], [10, 10], [11, 11], [12, 12], [13, 13], [14, 14], [15, 15], [16, 16], [17, 17], [18, 18], [19, 19], [20, 20], [21, 21], [22, 22], [23, 23]], \"hoverinfo\": \"name+text\", \"name\": \"January\", \"text\": [[\"0h00<br /> 0.132 kVA\"], [\"1h00<br /> 0.127 kVA\"], [\"2h00<br /> 0.125 kVA\"], [\"3h00<br /> 0.130 kVA\"], [\"4h00<br /> 0.157 kVA\"], [\"5h00<br /> 0.230 kVA\"], [\"6h00<br /> 0.277 kVA\"], [\"7h00<br /> 0.233 kVA\"], [\"8h00<br /> 0.212 kVA\"], [\"9h00<br /> 0.206 kVA\"], [\"10h00<br /> 0.203 kVA\"], [\"11h00<br /> 0.203 kVA\"], [\"12h00<br /> 0.203 kVA\"], [\"13h00<br /> 0.202 kVA\"], [\"14h00<br /> 0.208 kVA\"], [\"15h00<br /> 0.224 kVA\"], [\"16h00<br /> 0.254 kVA\"], [\"17h00<br /> 0.301 kVA\"], [\"18h00<br /> 0.374 kVA\"], [\"19h00<br /> 0.432 kVA\"], [\"20h00<br /> 0.378 kVA\"], [\"21h00<br /> 0.272 kVA\"], [\"22h00<br /> 0.187 kVA\"], [\"23h00<br /> 0.150 kVA\"]], \"showscale\": false, \"x\": [[11, 12], [11, 12], [11, 12], [11, 12], [11, 12], [11, 12], [11, 12], [11, 12], [11, 12], [11, 12], [11, 12], [11, 12], [11, 12], [11, 12], [11, 12], [11, 12], [11, 12], [11, 12], [11, 12], [11, 12], [11, 12], [11, 12], [11, 12], [11, 12]], \"z\": [[0.132, 0.132], [0.127, 0.127], [0.125, 0.125], [0.13, 0.13], [0.157, 0.157], [0.23, 0.23], [0.27699999999999997, 0.27699999999999997], [0.233, 0.233], [0.212, 0.212], [0.20600000000000002, 0.20600000000000002], [0.203, 0.203], [0.203, 0.203], [0.203, 0.203], [0.20199999999999999, 0.20199999999999999], [0.20800000000000002, 0.20800000000000002], [0.22399999999999998, 0.22399999999999998], [0.254, 0.254], [0.301, 0.301], [0.374, 0.374], [0.43200000000000005, 0.43200000000000005], [0.37799999999999995, 0.37799999999999995], [0.272, 0.272], [0.187, 0.187], [0.15, 0.15]], \"type\": \"surface\"}], {\"margin\": {\"b\": 50, \"l\": 50, \"t\": 50, \"r\": 50, \"pad\": 10}, \"scene\": {\"yaxis\": {\"tickvals\": [0, 2, 4, 6, 8, 10, 12, 14, 16, 18, 20, 22], \"title\": \"time of day\"}, \"xaxis\": {\"tickvals\": [0.5, 1.5, 2.5, 3.5, 4.5, 5.5, 6.5, 7.5, 8.5, 9.5, 10.5, 11.5], \"tickwidth\": 1.5, \"ticktext\": [\"December\", \"November\", \"October\", \"September\", \"August\", \"July\", \"June\", \"May\", \"April\", \"March\", \"February\", \"January\"], \"title\": \"month\", \"type\": \"category\"}, \"zaxis\": {\"tickvals\": [0.0, 0.1, 0.2, 0.30000000000000004, 0.4], \"rangemode\": \"tozero\", \"title\": \"demand (kVA)\"}}, \"height\": 700, \"title\": \"Weekday hourly load profile for \\\"informal_settlement\\\" customers 7 years after electrification\"}, {\"linkText\": \"Export to plot.ly\", \"showLink\": true})});</script>"
      ]
     },
     "metadata": {},
     "output_type": "display_data"
    }
   ],
   "source": [
    "eh.plotHourlyProfiles('informal_settlement', model = 'expert')"
   ]
  },
  {
   "cell_type": "code",
   "execution_count": 3,
   "metadata": {
    "collapsed": false
   },
   "outputs": [
    {
     "ename": "ValueError",
     "evalue": "Buffer dtype mismatch, expected 'Python object' but got 'long'",
     "output_type": "error",
     "traceback": [
      "\u001b[0;31m---------------------------------------------------------------------------\u001b[0m",
      "\u001b[0;31mValueError\u001b[0m                                Traceback (most recent call last)",
      "\u001b[0;31mValueError\u001b[0m: Buffer dtype mismatch, expected 'Python object' but got 'long'"
     ]
    },
    {
     "name": "stderr",
     "output_type": "stream",
     "text": [
      "Exception ignored in: 'pandas._libs.lib.is_bool_array'\n",
      "ValueError: Buffer dtype mismatch, expected 'Python object' but got 'long'\n"
     ]
    },
    {
     "ename": "ValueError",
     "evalue": "Buffer dtype mismatch, expected 'Python object' but got 'long'",
     "output_type": "error",
     "traceback": [
      "\u001b[0;31m---------------------------------------------------------------------------\u001b[0m",
      "\u001b[0;31mValueError\u001b[0m                                Traceback (most recent call last)",
      "\u001b[0;31mValueError\u001b[0m: Buffer dtype mismatch, expected 'Python object' but got 'long'"
     ]
    },
    {
     "name": "stderr",
     "output_type": "stream",
     "text": [
      "Exception ignored in: 'pandas._libs.lib.is_bool_array'\n",
      "ValueError: Buffer dtype mismatch, expected 'Python object' but got 'long'\n"
     ]
    },
    {
     "data": {
      "application/vnd.plotly.v1+json": {
       "data": [
        {
         "hoverinfo": "name+text",
         "name": 12,
         "showscale": false,
         "text": [
          [
           "0h00<br /> 0.296 kVA"
          ],
          [
           "1h00<br /> 0.291 kVA"
          ],
          [
           "2h00<br /> 0.287 kVA"
          ],
          [
           "3h00<br /> 0.299 kVA"
          ],
          [
           "4h00<br /> 0.315 kVA"
          ],
          [
           "5h00<br /> 0.323 kVA"
          ],
          [
           "6h00<br /> 0.359 kVA"
          ],
          [
           "7h00<br /> 0.444 kVA"
          ],
          [
           "8h00<br /> 0.444 kVA"
          ],
          [
           "9h00<br /> 0.433 kVA"
          ],
          [
           "10h00<br /> 0.427 kVA"
          ],
          [
           "11h00<br /> 0.446 kVA"
          ],
          [
           "12h00<br /> 0.450 kVA"
          ],
          [
           "13h00<br /> 0.486 kVA"
          ],
          [
           "14h00<br /> 0.486 kVA"
          ],
          [
           "15h00<br /> 0.482 kVA"
          ],
          [
           "16h00<br /> 0.535 kVA"
          ],
          [
           "17h00<br /> 0.511 kVA"
          ],
          [
           "18h00<br /> 0.568 kVA"
          ],
          [
           "19h00<br /> 0.697 kVA"
          ],
          [
           "20h00<br /> 0.617 kVA"
          ],
          [
           "21h00<br /> 0.512 kVA"
          ],
          [
           "22h00<br /> 0.393 kVA"
          ],
          [
           "23h00<br /> 0.334 kVA"
          ]
         ],
         "type": "surface",
         "x": [
          [
           0,
           1
          ],
          [
           0,
           1
          ],
          [
           0,
           1
          ],
          [
           0,
           1
          ],
          [
           0,
           1
          ],
          [
           0,
           1
          ],
          [
           0,
           1
          ],
          [
           0,
           1
          ],
          [
           0,
           1
          ],
          [
           0,
           1
          ],
          [
           0,
           1
          ],
          [
           0,
           1
          ],
          [
           0,
           1
          ],
          [
           0,
           1
          ],
          [
           0,
           1
          ],
          [
           0,
           1
          ],
          [
           0,
           1
          ],
          [
           0,
           1
          ],
          [
           0,
           1
          ],
          [
           0,
           1
          ],
          [
           0,
           1
          ],
          [
           0,
           1
          ],
          [
           0,
           1
          ],
          [
           0,
           1
          ]
         ],
         "y": [
          [
           0,
           0
          ],
          [
           1,
           1
          ],
          [
           2,
           2
          ],
          [
           3,
           3
          ],
          [
           4,
           4
          ],
          [
           5,
           5
          ],
          [
           6,
           6
          ],
          [
           7,
           7
          ],
          [
           8,
           8
          ],
          [
           9,
           9
          ],
          [
           10,
           10
          ],
          [
           11,
           11
          ],
          [
           12,
           12
          ],
          [
           13,
           13
          ],
          [
           14,
           14
          ],
          [
           15,
           15
          ],
          [
           16,
           16
          ],
          [
           17,
           17
          ],
          [
           18,
           18
          ],
          [
           19,
           19
          ],
          [
           20,
           20
          ],
          [
           21,
           21
          ],
          [
           22,
           22
          ],
          [
           23,
           23
          ]
         ],
         "z": [
          [
           0.29616055089795457,
           0.29616055089795457
          ],
          [
           0.29133526889020606,
           0.29133526889020606
          ],
          [
           0.2873977609821969,
           0.2873977609821969
          ],
          [
           0.2989584166262191,
           0.2989584166262191
          ],
          [
           0.31493729598580045,
           0.31493729598580045
          ],
          [
           0.3226076513129273,
           0.3226076513129273
          ],
          [
           0.3585722335720142,
           0.3585722335720142
          ],
          [
           0.443594927512281,
           0.443594927512281
          ],
          [
           0.4436967896036796,
           0.4436967896036796
          ],
          [
           0.43278376472264396,
           0.43278376472264396
          ],
          [
           0.42716230517343995,
           0.42716230517343995
          ],
          [
           0.44594226441022333,
           0.44594226441022333
          ],
          [
           0.44953955249719874,
           0.44953955249719874
          ],
          [
           0.48604917795263025,
           0.48604917795263025
          ],
          [
           0.48550687332424974,
           0.48550687332424974
          ],
          [
           0.48161401989425273,
           0.48161401989425273
          ],
          [
           0.5352408109288549,
           0.5352408109288549
          ],
          [
           0.5105098713518119,
           0.5105098713518119
          ],
          [
           0.5678118865857976,
           0.5678118865857976
          ],
          [
           0.6969229956832765,
           0.6969229956832765
          ],
          [
           0.617059462064685,
           0.617059462064685
          ],
          [
           0.5115011015310285,
           0.5115011015310285
          ],
          [
           0.3928223982228122,
           0.3928223982228122
          ],
          [
           0.3337711111437154,
           0.3337711111437154
          ]
         ]
        },
        {
         "hoverinfo": "name+text",
         "name": 11,
         "showscale": false,
         "text": [
          [
           "0h00<br /> 0.259 kVA"
          ],
          [
           "1h00<br /> 0.245 kVA"
          ],
          [
           "2h00<br /> 0.248 kVA"
          ],
          [
           "3h00<br /> 0.253 kVA"
          ],
          [
           "4h00<br /> 0.299 kVA"
          ],
          [
           "5h00<br /> 0.477 kVA"
          ],
          [
           "6h00<br /> 0.516 kVA"
          ],
          [
           "7h00<br /> 0.436 kVA"
          ],
          [
           "8h00<br /> 0.407 kVA"
          ],
          [
           "9h00<br /> 0.406 kVA"
          ],
          [
           "10h00<br /> 0.413 kVA"
          ],
          [
           "11h00<br /> 0.420 kVA"
          ],
          [
           "12h00<br /> 0.440 kVA"
          ],
          [
           "13h00<br /> 0.426 kVA"
          ],
          [
           "14h00<br /> 0.442 kVA"
          ],
          [
           "15h00<br /> 0.464 kVA"
          ],
          [
           "16h00<br /> 0.496 kVA"
          ],
          [
           "17h00<br /> 0.588 kVA"
          ],
          [
           "18h00<br /> 0.649 kVA"
          ],
          [
           "19h00<br /> 0.726 kVA"
          ],
          [
           "20h00<br /> 0.595 kVA"
          ],
          [
           "21h00<br /> 0.429 kVA"
          ],
          [
           "22h00<br /> 0.337 kVA"
          ],
          [
           "23h00<br /> 0.273 kVA"
          ]
         ],
         "type": "surface",
         "x": [
          [
           1,
           2
          ],
          [
           1,
           2
          ],
          [
           1,
           2
          ],
          [
           1,
           2
          ],
          [
           1,
           2
          ],
          [
           1,
           2
          ],
          [
           1,
           2
          ],
          [
           1,
           2
          ],
          [
           1,
           2
          ],
          [
           1,
           2
          ],
          [
           1,
           2
          ],
          [
           1,
           2
          ],
          [
           1,
           2
          ],
          [
           1,
           2
          ],
          [
           1,
           2
          ],
          [
           1,
           2
          ],
          [
           1,
           2
          ],
          [
           1,
           2
          ],
          [
           1,
           2
          ],
          [
           1,
           2
          ],
          [
           1,
           2
          ],
          [
           1,
           2
          ],
          [
           1,
           2
          ],
          [
           1,
           2
          ]
         ],
         "y": [
          [
           0,
           0
          ],
          [
           1,
           1
          ],
          [
           2,
           2
          ],
          [
           3,
           3
          ],
          [
           4,
           4
          ],
          [
           5,
           5
          ],
          [
           6,
           6
          ],
          [
           7,
           7
          ],
          [
           8,
           8
          ],
          [
           9,
           9
          ],
          [
           10,
           10
          ],
          [
           11,
           11
          ],
          [
           12,
           12
          ],
          [
           13,
           13
          ],
          [
           14,
           14
          ],
          [
           15,
           15
          ],
          [
           16,
           16
          ],
          [
           17,
           17
          ],
          [
           18,
           18
          ],
          [
           19,
           19
          ],
          [
           20,
           20
          ],
          [
           21,
           21
          ],
          [
           22,
           22
          ],
          [
           23,
           23
          ]
         ],
         "z": [
          [
           0.25917876276853,
           0.25917876276853
          ],
          [
           0.24508889450266064,
           0.24508889450266064
          ],
          [
           0.24811027006172282,
           0.24811027006172282
          ],
          [
           0.2533838394145501,
           0.2533838394145501
          ],
          [
           0.29940347107606924,
           0.29940347107606924
          ],
          [
           0.4773982534269438,
           0.4773982534269438
          ],
          [
           0.5159573008745301,
           0.5159573008745301
          ],
          [
           0.4355785137278956,
           0.4355785137278956
          ],
          [
           0.4066186400271214,
           0.4066186400271214
          ],
          [
           0.40609957336924746,
           0.40609957336924746
          ],
          [
           0.4134813334762445,
           0.4134813334762445
          ],
          [
           0.4199175383533857,
           0.4199175383533857
          ],
          [
           0.43985827400031713,
           0.43985827400031713
          ],
          [
           0.42555024017394877,
           0.42555024017394877
          ],
          [
           0.44233600500416786,
           0.44233600500416786
          ],
          [
           0.4642015559951816,
           0.4642015559951816
          ],
          [
           0.4957416813173859,
           0.4957416813173859
          ],
          [
           0.5882826901524052,
           0.5882826901524052
          ],
          [
           0.6486070090000813,
           0.6486070090000813
          ],
          [
           0.7264938691804739,
           0.7264938691804739
          ],
          [
           0.5947347444630552,
           0.5947347444630552
          ],
          [
           0.42851591903462455,
           0.42851591903462455
          ],
          [
           0.3368233802012386,
           0.3368233802012386
          ],
          [
           0.27256757914129737,
           0.27256757914129737
          ]
         ]
        },
        {
         "hoverinfo": "name+text",
         "name": 10,
         "showscale": false,
         "text": [
          [
           "0h00<br /> 0.285 kVA"
          ],
          [
           "1h00<br /> 0.280 kVA"
          ],
          [
           "2h00<br /> 0.276 kVA"
          ],
          [
           "3h00<br /> 0.280 kVA"
          ],
          [
           "4h00<br /> 0.326 kVA"
          ],
          [
           "5h00<br /> 0.463 kVA"
          ],
          [
           "6h00<br /> 0.518 kVA"
          ],
          [
           "7h00<br /> 0.470 kVA"
          ],
          [
           "8h00<br /> 0.438 kVA"
          ],
          [
           "9h00<br /> 0.408 kVA"
          ],
          [
           "10h00<br /> 0.432 kVA"
          ],
          [
           "11h00<br /> 0.425 kVA"
          ],
          [
           "12h00<br /> 0.443 kVA"
          ],
          [
           "13h00<br /> 0.457 kVA"
          ],
          [
           "14h00<br /> 0.500 kVA"
          ],
          [
           "15h00<br /> 0.493 kVA"
          ],
          [
           "16h00<br /> 0.516 kVA"
          ],
          [
           "17h00<br /> 0.584 kVA"
          ],
          [
           "18h00<br /> 0.753 kVA"
          ],
          [
           "19h00<br /> 0.802 kVA"
          ],
          [
           "20h00<br /> 0.582 kVA"
          ],
          [
           "21h00<br /> 0.452 kVA"
          ],
          [
           "22h00<br /> 0.367 kVA"
          ],
          [
           "23h00<br /> 0.301 kVA"
          ]
         ],
         "type": "surface",
         "x": [
          [
           2,
           3
          ],
          [
           2,
           3
          ],
          [
           2,
           3
          ],
          [
           2,
           3
          ],
          [
           2,
           3
          ],
          [
           2,
           3
          ],
          [
           2,
           3
          ],
          [
           2,
           3
          ],
          [
           2,
           3
          ],
          [
           2,
           3
          ],
          [
           2,
           3
          ],
          [
           2,
           3
          ],
          [
           2,
           3
          ],
          [
           2,
           3
          ],
          [
           2,
           3
          ],
          [
           2,
           3
          ],
          [
           2,
           3
          ],
          [
           2,
           3
          ],
          [
           2,
           3
          ],
          [
           2,
           3
          ],
          [
           2,
           3
          ],
          [
           2,
           3
          ],
          [
           2,
           3
          ],
          [
           2,
           3
          ]
         ],
         "y": [
          [
           0,
           0
          ],
          [
           1,
           1
          ],
          [
           2,
           2
          ],
          [
           3,
           3
          ],
          [
           4,
           4
          ],
          [
           5,
           5
          ],
          [
           6,
           6
          ],
          [
           7,
           7
          ],
          [
           8,
           8
          ],
          [
           9,
           9
          ],
          [
           10,
           10
          ],
          [
           11,
           11
          ],
          [
           12,
           12
          ],
          [
           13,
           13
          ],
          [
           14,
           14
          ],
          [
           15,
           15
          ],
          [
           16,
           16
          ],
          [
           17,
           17
          ],
          [
           18,
           18
          ],
          [
           19,
           19
          ],
          [
           20,
           20
          ],
          [
           21,
           21
          ],
          [
           22,
           22
          ],
          [
           23,
           23
          ]
         ],
         "z": [
          [
           0.2851564863217898,
           0.2851564863217898
          ],
          [
           0.2797430838440294,
           0.2797430838440294
          ],
          [
           0.27631658289519356,
           0.27631658289519356
          ],
          [
           0.27972601567795313,
           0.27972601567795313
          ],
          [
           0.32641106746361953,
           0.32641106746361953
          ],
          [
           0.4634584981748897,
           0.4634584981748897
          ],
          [
           0.5180431796899213,
           0.5180431796899213
          ],
          [
           0.46971074512224686,
           0.46971074512224686
          ],
          [
           0.4379623330831464,
           0.4379623330831464
          ],
          [
           0.4082929102794263,
           0.4082929102794263
          ],
          [
           0.43176188879418836,
           0.43176188879418836
          ],
          [
           0.4247584554561714,
           0.4247584554561714
          ],
          [
           0.44329958787212026,
           0.44329958787212026
          ],
          [
           0.45707000929228647,
           0.45707000929228647
          ],
          [
           0.49964097576108196,
           0.49964097576108196
          ],
          [
           0.4932409875283088,
           0.4932409875283088
          ],
          [
           0.5156050137672054,
           0.5156050137672054
          ],
          [
           0.5840237174999877,
           0.5840237174999877
          ],
          [
           0.7531652393661438,
           0.7531652393661438
          ],
          [
           0.8018428885123694,
           0.8018428885123694
          ],
          [
           0.5817274238266793,
           0.5817274238266793
          ],
          [
           0.45152832696093753,
           0.45152832696093753
          ],
          [
           0.3668050069503188,
           0.3668050069503188
          ],
          [
           0.30116376318540106,
           0.30116376318540106
          ]
         ]
        },
        {
         "hoverinfo": "name+text",
         "name": 9,
         "showscale": false,
         "text": [
          [
           "0h00<br /> 0.249 kVA"
          ],
          [
           "1h00<br /> 0.252 kVA"
          ],
          [
           "2h00<br /> 0.242 kVA"
          ],
          [
           "3h00<br /> 0.252 kVA"
          ],
          [
           "4h00<br /> 0.275 kVA"
          ],
          [
           "5h00<br /> 0.421 kVA"
          ],
          [
           "6h00<br /> 0.549 kVA"
          ],
          [
           "7h00<br /> 0.412 kVA"
          ],
          [
           "8h00<br /> 0.410 kVA"
          ],
          [
           "9h00<br /> 0.437 kVA"
          ],
          [
           "10h00<br /> 0.451 kVA"
          ],
          [
           "11h00<br /> 0.446 kVA"
          ],
          [
           "12h00<br /> 0.468 kVA"
          ],
          [
           "13h00<br /> 0.431 kVA"
          ],
          [
           "14h00<br /> 0.449 kVA"
          ],
          [
           "15h00<br /> 0.474 kVA"
          ],
          [
           "16h00<br /> 0.518 kVA"
          ],
          [
           "17h00<br /> 0.643 kVA"
          ],
          [
           "18h00<br /> 0.769 kVA"
          ],
          [
           "19h00<br /> 0.696 kVA"
          ],
          [
           "20h00<br /> 0.544 kVA"
          ],
          [
           "21h00<br /> 0.413 kVA"
          ],
          [
           "22h00<br /> 0.322 kVA"
          ],
          [
           "23h00<br /> 0.279 kVA"
          ]
         ],
         "type": "surface",
         "x": [
          [
           3,
           4
          ],
          [
           3,
           4
          ],
          [
           3,
           4
          ],
          [
           3,
           4
          ],
          [
           3,
           4
          ],
          [
           3,
           4
          ],
          [
           3,
           4
          ],
          [
           3,
           4
          ],
          [
           3,
           4
          ],
          [
           3,
           4
          ],
          [
           3,
           4
          ],
          [
           3,
           4
          ],
          [
           3,
           4
          ],
          [
           3,
           4
          ],
          [
           3,
           4
          ],
          [
           3,
           4
          ],
          [
           3,
           4
          ],
          [
           3,
           4
          ],
          [
           3,
           4
          ],
          [
           3,
           4
          ],
          [
           3,
           4
          ],
          [
           3,
           4
          ],
          [
           3,
           4
          ],
          [
           3,
           4
          ]
         ],
         "y": [
          [
           0,
           0
          ],
          [
           1,
           1
          ],
          [
           2,
           2
          ],
          [
           3,
           3
          ],
          [
           4,
           4
          ],
          [
           5,
           5
          ],
          [
           6,
           6
          ],
          [
           7,
           7
          ],
          [
           8,
           8
          ],
          [
           9,
           9
          ],
          [
           10,
           10
          ],
          [
           11,
           11
          ],
          [
           12,
           12
          ],
          [
           13,
           13
          ],
          [
           14,
           14
          ],
          [
           15,
           15
          ],
          [
           16,
           16
          ],
          [
           17,
           17
          ],
          [
           18,
           18
          ],
          [
           19,
           19
          ],
          [
           20,
           20
          ],
          [
           21,
           21
          ],
          [
           22,
           22
          ],
          [
           23,
           23
          ]
         ],
         "z": [
          [
           0.24857994471544362,
           0.24857994471544362
          ],
          [
           0.2519675043470457,
           0.2519675043470457
          ],
          [
           0.24230681877859261,
           0.24230681877859261
          ],
          [
           0.25162300675681015,
           0.25162300675681015
          ],
          [
           0.2745165472946567,
           0.2745165472946567
          ],
          [
           0.42093985988045995,
           0.42093985988045995
          ],
          [
           0.5490855272124079,
           0.5490855272124079
          ],
          [
           0.41231807197781073,
           0.41231807197781073
          ],
          [
           0.40957394197559,
           0.40957394197559
          ],
          [
           0.43726723517943195,
           0.43726723517943195
          ],
          [
           0.4514025622145221,
           0.4514025622145221
          ],
          [
           0.4455860681793347,
           0.4455860681793347
          ],
          [
           0.4683456065436753,
           0.4683456065436753
          ],
          [
           0.43079120238182056,
           0.43079120238182056
          ],
          [
           0.4488261569774547,
           0.4488261569774547
          ],
          [
           0.4738810619624481,
           0.4738810619624481
          ],
          [
           0.5183389157547814,
           0.5183389157547814
          ],
          [
           0.6432023181023628,
           0.6432023181023628
          ],
          [
           0.768972889031005,
           0.768972889031005
          ],
          [
           0.6963817809649374,
           0.6963817809649374
          ],
          [
           0.544048726799108,
           0.544048726799108
          ],
          [
           0.41319058943566594,
           0.41319058943566594
          ],
          [
           0.32244055383949255,
           0.32244055383949255
          ],
          [
           0.2785467055206227,
           0.2785467055206227
          ]
         ]
        },
        {
         "hoverinfo": "name+text",
         "name": 8,
         "showscale": false,
         "text": [
          [
           "0h00<br /> 0.274 kVA"
          ],
          [
           "1h00<br /> 0.270 kVA"
          ],
          [
           "2h00<br /> 0.267 kVA"
          ],
          [
           "3h00<br /> 0.279 kVA"
          ],
          [
           "4h00<br /> 0.307 kVA"
          ],
          [
           "5h00<br /> 0.446 kVA"
          ],
          [
           "6h00<br /> 0.647 kVA"
          ],
          [
           "7h00<br /> 0.490 kVA"
          ],
          [
           "8h00<br /> 0.436 kVA"
          ],
          [
           "9h00<br /> 0.432 kVA"
          ],
          [
           "10h00<br /> 0.446 kVA"
          ],
          [
           "11h00<br /> 0.461 kVA"
          ],
          [
           "12h00<br /> 0.470 kVA"
          ],
          [
           "13h00<br /> 0.487 kVA"
          ],
          [
           "14h00<br /> 0.496 kVA"
          ],
          [
           "15h00<br /> 0.470 kVA"
          ],
          [
           "16h00<br /> 0.557 kVA"
          ],
          [
           "17h00<br /> 0.746 kVA"
          ],
          [
           "18h00<br /> 0.858 kVA"
          ],
          [
           "19h00<br /> 0.819 kVA"
          ],
          [
           "20h00<br /> 0.600 kVA"
          ],
          [
           "21h00<br /> 0.468 kVA"
          ],
          [
           "22h00<br /> 0.339 kVA"
          ],
          [
           "23h00<br /> 0.290 kVA"
          ]
         ],
         "type": "surface",
         "x": [
          [
           4,
           5
          ],
          [
           4,
           5
          ],
          [
           4,
           5
          ],
          [
           4,
           5
          ],
          [
           4,
           5
          ],
          [
           4,
           5
          ],
          [
           4,
           5
          ],
          [
           4,
           5
          ],
          [
           4,
           5
          ],
          [
           4,
           5
          ],
          [
           4,
           5
          ],
          [
           4,
           5
          ],
          [
           4,
           5
          ],
          [
           4,
           5
          ],
          [
           4,
           5
          ],
          [
           4,
           5
          ],
          [
           4,
           5
          ],
          [
           4,
           5
          ],
          [
           4,
           5
          ],
          [
           4,
           5
          ],
          [
           4,
           5
          ],
          [
           4,
           5
          ],
          [
           4,
           5
          ],
          [
           4,
           5
          ]
         ],
         "y": [
          [
           0,
           0
          ],
          [
           1,
           1
          ],
          [
           2,
           2
          ],
          [
           3,
           3
          ],
          [
           4,
           4
          ],
          [
           5,
           5
          ],
          [
           6,
           6
          ],
          [
           7,
           7
          ],
          [
           8,
           8
          ],
          [
           9,
           9
          ],
          [
           10,
           10
          ],
          [
           11,
           11
          ],
          [
           12,
           12
          ],
          [
           13,
           13
          ],
          [
           14,
           14
          ],
          [
           15,
           15
          ],
          [
           16,
           16
          ],
          [
           17,
           17
          ],
          [
           18,
           18
          ],
          [
           19,
           19
          ],
          [
           20,
           20
          ],
          [
           21,
           21
          ],
          [
           22,
           22
          ],
          [
           23,
           23
          ]
         ],
         "z": [
          [
           0.2736856323034067,
           0.2736856323034067
          ],
          [
           0.27011985904370217,
           0.27011985904370217
          ],
          [
           0.26693144363934196,
           0.26693144363934196
          ],
          [
           0.27881137934587996,
           0.27881137934587996
          ],
          [
           0.3071087344267936,
           0.3071087344267936
          ],
          [
           0.44555859154836686,
           0.44555859154836686
          ],
          [
           0.6465652070414964,
           0.6465652070414964
          ],
          [
           0.4904231582967204,
           0.4904231582967204
          ],
          [
           0.43609548292696165,
           0.43609548292696165
          ],
          [
           0.4324744258993282,
           0.4324744258993282
          ],
          [
           0.4457008826939829,
           0.4457008826939829
          ],
          [
           0.46052216584252076,
           0.46052216584252076
          ],
          [
           0.470223010643938,
           0.470223010643938
          ],
          [
           0.4870272415648955,
           0.4870272415648955
          ],
          [
           0.4960770133797011,
           0.4960770133797011
          ],
          [
           0.4702454857192632,
           0.4702454857192632
          ],
          [
           0.5565337262500063,
           0.5565337262500063
          ],
          [
           0.7463183423395493,
           0.7463183423395493
          ],
          [
           0.8576349697635611,
           0.8576349697635611
          ],
          [
           0.8187545568324318,
           0.8187545568324318
          ],
          [
           0.5999641577504964,
           0.5999641577504964
          ],
          [
           0.46765171027824565,
           0.46765171027824565
          ],
          [
           0.3388417433066888,
           0.3388417433066888
          ],
          [
           0.2902536242343631,
           0.2902536242343631
          ]
         ]
        },
        {
         "hoverinfo": "name+text",
         "name": 7,
         "showscale": false,
         "text": [
          [
           "0h00<br /> 0.297 kVA"
          ],
          [
           "1h00<br /> 0.302 kVA"
          ],
          [
           "2h00<br /> 0.298 kVA"
          ],
          [
           "3h00<br /> 0.312 kVA"
          ],
          [
           "4h00<br /> 0.346 kVA"
          ],
          [
           "5h00<br /> 0.461 kVA"
          ],
          [
           "6h00<br /> 0.655 kVA"
          ],
          [
           "7h00<br /> 0.545 kVA"
          ],
          [
           "8h00<br /> 0.463 kVA"
          ],
          [
           "9h00<br /> 0.424 kVA"
          ],
          [
           "10h00<br /> 0.392 kVA"
          ],
          [
           "11h00<br /> 0.419 kVA"
          ],
          [
           "12h00<br /> 0.446 kVA"
          ],
          [
           "13h00<br /> 0.443 kVA"
          ],
          [
           "14h00<br /> 0.459 kVA"
          ],
          [
           "15h00<br /> 0.457 kVA"
          ],
          [
           "16h00<br /> 0.539 kVA"
          ],
          [
           "17h00<br /> 0.811 kVA"
          ],
          [
           "18h00<br /> 0.908 kVA"
          ],
          [
           "19h00<br /> 0.787 kVA"
          ],
          [
           "20h00<br /> 0.543 kVA"
          ],
          [
           "21h00<br /> 0.453 kVA"
          ],
          [
           "22h00<br /> 0.360 kVA"
          ],
          [
           "23h00<br /> 0.321 kVA"
          ]
         ],
         "type": "surface",
         "x": [
          [
           5,
           6
          ],
          [
           5,
           6
          ],
          [
           5,
           6
          ],
          [
           5,
           6
          ],
          [
           5,
           6
          ],
          [
           5,
           6
          ],
          [
           5,
           6
          ],
          [
           5,
           6
          ],
          [
           5,
           6
          ],
          [
           5,
           6
          ],
          [
           5,
           6
          ],
          [
           5,
           6
          ],
          [
           5,
           6
          ],
          [
           5,
           6
          ],
          [
           5,
           6
          ],
          [
           5,
           6
          ],
          [
           5,
           6
          ],
          [
           5,
           6
          ],
          [
           5,
           6
          ],
          [
           5,
           6
          ],
          [
           5,
           6
          ],
          [
           5,
           6
          ],
          [
           5,
           6
          ],
          [
           5,
           6
          ]
         ],
         "y": [
          [
           0,
           0
          ],
          [
           1,
           1
          ],
          [
           2,
           2
          ],
          [
           3,
           3
          ],
          [
           4,
           4
          ],
          [
           5,
           5
          ],
          [
           6,
           6
          ],
          [
           7,
           7
          ],
          [
           8,
           8
          ],
          [
           9,
           9
          ],
          [
           10,
           10
          ],
          [
           11,
           11
          ],
          [
           12,
           12
          ],
          [
           13,
           13
          ],
          [
           14,
           14
          ],
          [
           15,
           15
          ],
          [
           16,
           16
          ],
          [
           17,
           17
          ],
          [
           18,
           18
          ],
          [
           19,
           19
          ],
          [
           20,
           20
          ],
          [
           21,
           21
          ],
          [
           22,
           22
          ],
          [
           23,
           23
          ]
         ],
         "z": [
          [
           0.2974758970795088,
           0.2974758970795088
          ],
          [
           0.30243113096697594,
           0.30243113096697594
          ],
          [
           0.29773760451896747,
           0.29773760451896747
          ],
          [
           0.31183474433644953,
           0.31183474433644953
          ],
          [
           0.3461270179464004,
           0.3461270179464004
          ],
          [
           0.4607872573449405,
           0.4607872573449405
          ],
          [
           0.6550485396734745,
           0.6550485396734745
          ],
          [
           0.5453950238535701,
           0.5453950238535701
          ],
          [
           0.4626138017552419,
           0.4626138017552419
          ],
          [
           0.4239251289261453,
           0.4239251289261453
          ],
          [
           0.39235365114081283,
           0.39235365114081283
          ],
          [
           0.4187985234106896,
           0.4187985234106896
          ],
          [
           0.4461933390831407,
           0.4461933390831407
          ],
          [
           0.44324793424135006,
           0.44324793424135006
          ],
          [
           0.4591547727755963,
           0.4591547727755963
          ],
          [
           0.45652892677885987,
           0.45652892677885987
          ],
          [
           0.5394559246254603,
           0.5394559246254603
          ],
          [
           0.8112174459469976,
           0.8112174459469976
          ],
          [
           0.9076756217034944,
           0.9076756217034944
          ],
          [
           0.7868333364784117,
           0.7868333364784117
          ],
          [
           0.5430556875750928,
           0.5430556875750928
          ],
          [
           0.4526542707333872,
           0.4526542707333872
          ],
          [
           0.36007231482172825,
           0.36007231482172825
          ],
          [
           0.3208436655536802,
           0.3208436655536802
          ]
         ]
        },
        {
         "hoverinfo": "name+text",
         "name": 6,
         "showscale": false,
         "text": [
          [
           "0h00<br /> 0.290 kVA"
          ],
          [
           "1h00<br /> 0.291 kVA"
          ],
          [
           "2h00<br /> 0.290 kVA"
          ],
          [
           "3h00<br /> 0.318 kVA"
          ],
          [
           "4h00<br /> 0.332 kVA"
          ],
          [
           "5h00<br /> 0.469 kVA"
          ],
          [
           "6h00<br /> 0.581 kVA"
          ],
          [
           "7h00<br /> 0.554 kVA"
          ],
          [
           "8h00<br /> 0.471 kVA"
          ],
          [
           "9h00<br /> 0.402 kVA"
          ],
          [
           "10h00<br /> 0.380 kVA"
          ],
          [
           "11h00<br /> 0.422 kVA"
          ],
          [
           "12h00<br /> 0.404 kVA"
          ],
          [
           "13h00<br /> 0.417 kVA"
          ],
          [
           "14h00<br /> 0.476 kVA"
          ],
          [
           "15h00<br /> 0.474 kVA"
          ],
          [
           "16h00<br /> 0.569 kVA"
          ],
          [
           "17h00<br /> 0.772 kVA"
          ],
          [
           "18h00<br /> 0.846 kVA"
          ],
          [
           "19h00<br /> 0.681 kVA"
          ],
          [
           "20h00<br /> 0.556 kVA"
          ],
          [
           "21h00<br /> 0.447 kVA"
          ],
          [
           "22h00<br /> 0.358 kVA"
          ],
          [
           "23h00<br /> 0.317 kVA"
          ]
         ],
         "type": "surface",
         "x": [
          [
           6,
           7
          ],
          [
           6,
           7
          ],
          [
           6,
           7
          ],
          [
           6,
           7
          ],
          [
           6,
           7
          ],
          [
           6,
           7
          ],
          [
           6,
           7
          ],
          [
           6,
           7
          ],
          [
           6,
           7
          ],
          [
           6,
           7
          ],
          [
           6,
           7
          ],
          [
           6,
           7
          ],
          [
           6,
           7
          ],
          [
           6,
           7
          ],
          [
           6,
           7
          ],
          [
           6,
           7
          ],
          [
           6,
           7
          ],
          [
           6,
           7
          ],
          [
           6,
           7
          ],
          [
           6,
           7
          ],
          [
           6,
           7
          ],
          [
           6,
           7
          ],
          [
           6,
           7
          ],
          [
           6,
           7
          ]
         ],
         "y": [
          [
           0,
           0
          ],
          [
           1,
           1
          ],
          [
           2,
           2
          ],
          [
           3,
           3
          ],
          [
           4,
           4
          ],
          [
           5,
           5
          ],
          [
           6,
           6
          ],
          [
           7,
           7
          ],
          [
           8,
           8
          ],
          [
           9,
           9
          ],
          [
           10,
           10
          ],
          [
           11,
           11
          ],
          [
           12,
           12
          ],
          [
           13,
           13
          ],
          [
           14,
           14
          ],
          [
           15,
           15
          ],
          [
           16,
           16
          ],
          [
           17,
           17
          ],
          [
           18,
           18
          ],
          [
           19,
           19
          ],
          [
           20,
           20
          ],
          [
           21,
           21
          ],
          [
           22,
           22
          ],
          [
           23,
           23
          ]
         ],
         "z": [
          [
           0.2895252375946646,
           0.2895252375946646
          ],
          [
           0.29140909205249294,
           0.29140909205249294
          ],
          [
           0.2902568554062219,
           0.2902568554062219
          ],
          [
           0.3183584064780936,
           0.3183584064780936
          ],
          [
           0.33214415380095685,
           0.33214415380095685
          ],
          [
           0.46910443836293947,
           0.46910443836293947
          ],
          [
           0.5808152977741037,
           0.5808152977741037
          ],
          [
           0.5540468991975989,
           0.5540468991975989
          ],
          [
           0.4712278151048601,
           0.4712278151048601
          ],
          [
           0.4021625193477597,
           0.4021625193477597
          ],
          [
           0.3802536903924427,
           0.3802536903924427
          ],
          [
           0.4217123021150045,
           0.4217123021150045
          ],
          [
           0.40448666864699984,
           0.40448666864699984
          ],
          [
           0.4172449334045727,
           0.4172449334045727
          ],
          [
           0.4764117258682381,
           0.4764117258682381
          ],
          [
           0.47439356881839906,
           0.47439356881839906
          ],
          [
           0.5686396112025124,
           0.5686396112025124
          ],
          [
           0.7724881028824488,
           0.7724881028824488
          ],
          [
           0.8459167732582826,
           0.8459167732582826
          ],
          [
           0.6812596135940056,
           0.6812596135940056
          ],
          [
           0.5562870874526902,
           0.5562870874526902
          ],
          [
           0.4473558813069687,
           0.4473558813069687
          ],
          [
           0.3582862555955106,
           0.3582862555955106
          ],
          [
           0.3170993875776538,
           0.3170993875776538
          ]
         ]
        },
        {
         "hoverinfo": "name+text",
         "name": 5,
         "showscale": false,
         "text": [
          [
           "0h00<br /> 0.266 kVA"
          ],
          [
           "1h00<br /> 0.263 kVA"
          ],
          [
           "2h00<br /> 0.268 kVA"
          ],
          [
           "3h00<br /> 0.295 kVA"
          ],
          [
           "4h00<br /> 0.338 kVA"
          ],
          [
           "5h00<br /> 0.501 kVA"
          ],
          [
           "6h00<br /> 0.642 kVA"
          ],
          [
           "7h00<br /> 0.434 kVA"
          ],
          [
           "8h00<br /> 0.383 kVA"
          ],
          [
           "9h00<br /> 0.377 kVA"
          ],
          [
           "10h00<br /> 0.354 kVA"
          ],
          [
           "11h00<br /> 0.350 kVA"
          ],
          [
           "12h00<br /> 0.391 kVA"
          ],
          [
           "13h00<br /> 0.407 kVA"
          ],
          [
           "14h00<br /> 0.422 kVA"
          ],
          [
           "15h00<br /> 0.438 kVA"
          ],
          [
           "16h00<br /> 0.521 kVA"
          ],
          [
           "17h00<br /> 0.669 kVA"
          ],
          [
           "18h00<br /> 0.844 kVA"
          ],
          [
           "19h00<br /> 0.694 kVA"
          ],
          [
           "20h00<br /> 0.509 kVA"
          ],
          [
           "21h00<br /> 0.429 kVA"
          ],
          [
           "22h00<br /> 0.344 kVA"
          ],
          [
           "23h00<br /> 0.289 kVA"
          ]
         ],
         "type": "surface",
         "x": [
          [
           7,
           8
          ],
          [
           7,
           8
          ],
          [
           7,
           8
          ],
          [
           7,
           8
          ],
          [
           7,
           8
          ],
          [
           7,
           8
          ],
          [
           7,
           8
          ],
          [
           7,
           8
          ],
          [
           7,
           8
          ],
          [
           7,
           8
          ],
          [
           7,
           8
          ],
          [
           7,
           8
          ],
          [
           7,
           8
          ],
          [
           7,
           8
          ],
          [
           7,
           8
          ],
          [
           7,
           8
          ],
          [
           7,
           8
          ],
          [
           7,
           8
          ],
          [
           7,
           8
          ],
          [
           7,
           8
          ],
          [
           7,
           8
          ],
          [
           7,
           8
          ],
          [
           7,
           8
          ],
          [
           7,
           8
          ]
         ],
         "y": [
          [
           0,
           0
          ],
          [
           1,
           1
          ],
          [
           2,
           2
          ],
          [
           3,
           3
          ],
          [
           4,
           4
          ],
          [
           5,
           5
          ],
          [
           6,
           6
          ],
          [
           7,
           7
          ],
          [
           8,
           8
          ],
          [
           9,
           9
          ],
          [
           10,
           10
          ],
          [
           11,
           11
          ],
          [
           12,
           12
          ],
          [
           13,
           13
          ],
          [
           14,
           14
          ],
          [
           15,
           15
          ],
          [
           16,
           16
          ],
          [
           17,
           17
          ],
          [
           18,
           18
          ],
          [
           19,
           19
          ],
          [
           20,
           20
          ],
          [
           21,
           21
          ],
          [
           22,
           22
          ],
          [
           23,
           23
          ]
         ],
         "z": [
          [
           0.2659288557844969,
           0.2659288557844969
          ],
          [
           0.26266798560632754,
           0.26266798560632754
          ],
          [
           0.2675098824526898,
           0.2675098824526898
          ],
          [
           0.29540184492971416,
           0.29540184492971416
          ],
          [
           0.33813241129812854,
           0.33813241129812854
          ],
          [
           0.5010639012077079,
           0.5010639012077079
          ],
          [
           0.641591210586582,
           0.641591210586582
          ],
          [
           0.43355446799206343,
           0.43355446799206343
          ],
          [
           0.3833426156825556,
           0.3833426156825556
          ],
          [
           0.3765939027985526,
           0.3765939027985526
          ],
          [
           0.3538104871868261,
           0.3538104871868261
          ],
          [
           0.35017942255987405,
           0.35017942255987405
          ],
          [
           0.390595730114381,
           0.390595730114381
          ],
          [
           0.40732737496403887,
           0.40732737496403887
          ],
          [
           0.42215936516268543,
           0.42215936516268543
          ],
          [
           0.4375228859083826,
           0.4375228859083826
          ],
          [
           0.5206374447394869,
           0.5206374447394869
          ],
          [
           0.6691864869541487,
           0.6691864869541487
          ],
          [
           0.8442231969411225,
           0.8442231969411225
          ],
          [
           0.6944864037462382,
           0.6944864037462382
          ],
          [
           0.5088268072786976,
           0.5088268072786976
          ],
          [
           0.42918732920426056,
           0.42918732920426056
          ],
          [
           0.34407668670990693,
           0.34407668670990693
          ],
          [
           0.2894493368570974,
           0.2894493368570974
          ]
         ]
        },
        {
         "hoverinfo": "name+text",
         "name": 4,
         "showscale": false,
         "text": [
          [
           "0h00<br /> 0.249 kVA"
          ],
          [
           "1h00<br /> 0.242 kVA"
          ],
          [
           "2h00<br /> 0.235 kVA"
          ],
          [
           "3h00<br /> 0.260 kVA"
          ],
          [
           "4h00<br /> 0.278 kVA"
          ],
          [
           "5h00<br /> 0.350 kVA"
          ],
          [
           "6h00<br /> 0.528 kVA"
          ],
          [
           "7h00<br /> 0.407 kVA"
          ],
          [
           "8h00<br /> 0.380 kVA"
          ],
          [
           "9h00<br /> 0.382 kVA"
          ],
          [
           "10h00<br /> 0.364 kVA"
          ],
          [
           "11h00<br /> 0.355 kVA"
          ],
          [
           "12h00<br /> 0.382 kVA"
          ],
          [
           "13h00<br /> 0.443 kVA"
          ],
          [
           "14h00<br /> 0.442 kVA"
          ],
          [
           "15h00<br /> 0.425 kVA"
          ],
          [
           "16h00<br /> 0.512 kVA"
          ],
          [
           "17h00<br /> 0.664 kVA"
          ],
          [
           "18h00<br /> 0.736 kVA"
          ],
          [
           "19h00<br /> 0.621 kVA"
          ],
          [
           "20h00<br /> 0.438 kVA"
          ],
          [
           "21h00<br /> 0.383 kVA"
          ],
          [
           "22h00<br /> 0.307 kVA"
          ],
          [
           "23h00<br /> 0.268 kVA"
          ]
         ],
         "type": "surface",
         "x": [
          [
           8,
           9
          ],
          [
           8,
           9
          ],
          [
           8,
           9
          ],
          [
           8,
           9
          ],
          [
           8,
           9
          ],
          [
           8,
           9
          ],
          [
           8,
           9
          ],
          [
           8,
           9
          ],
          [
           8,
           9
          ],
          [
           8,
           9
          ],
          [
           8,
           9
          ],
          [
           8,
           9
          ],
          [
           8,
           9
          ],
          [
           8,
           9
          ],
          [
           8,
           9
          ],
          [
           8,
           9
          ],
          [
           8,
           9
          ],
          [
           8,
           9
          ],
          [
           8,
           9
          ],
          [
           8,
           9
          ],
          [
           8,
           9
          ],
          [
           8,
           9
          ],
          [
           8,
           9
          ],
          [
           8,
           9
          ]
         ],
         "y": [
          [
           0,
           0
          ],
          [
           1,
           1
          ],
          [
           2,
           2
          ],
          [
           3,
           3
          ],
          [
           4,
           4
          ],
          [
           5,
           5
          ],
          [
           6,
           6
          ],
          [
           7,
           7
          ],
          [
           8,
           8
          ],
          [
           9,
           9
          ],
          [
           10,
           10
          ],
          [
           11,
           11
          ],
          [
           12,
           12
          ],
          [
           13,
           13
          ],
          [
           14,
           14
          ],
          [
           15,
           15
          ],
          [
           16,
           16
          ],
          [
           17,
           17
          ],
          [
           18,
           18
          ],
          [
           19,
           19
          ],
          [
           20,
           20
          ],
          [
           21,
           21
          ],
          [
           22,
           22
          ],
          [
           23,
           23
          ]
         ],
         "z": [
          [
           0.24945544827189214,
           0.24945544827189214
          ],
          [
           0.24184578043757432,
           0.24184578043757432
          ],
          [
           0.23545130046681215,
           0.23545130046681215
          ],
          [
           0.2596545821941232,
           0.2596545821941232
          ],
          [
           0.2782227624228397,
           0.2782227624228397
          ],
          [
           0.3495257945535115,
           0.3495257945535115
          ],
          [
           0.5277647271675537,
           0.5277647271675537
          ],
          [
           0.40743290100113616,
           0.40743290100113616
          ],
          [
           0.38007088769701,
           0.38007088769701
          ],
          [
           0.38172979804397933,
           0.38172979804397933
          ],
          [
           0.3635361400615044,
           0.3635361400615044
          ],
          [
           0.3552610024835585,
           0.3552610024835585
          ],
          [
           0.3817561325415424,
           0.3817561325415424
          ],
          [
           0.44260804476198795,
           0.44260804476198795
          ],
          [
           0.4422948541067703,
           0.4422948541067703
          ],
          [
           0.4245923034699706,
           0.4245923034699706
          ],
          [
           0.5121235583206457,
           0.5121235583206457
          ],
          [
           0.6644804230122493,
           0.6644804230122493
          ],
          [
           0.7356969706643096,
           0.7356969706643096
          ],
          [
           0.6207290443172705,
           0.6207290443172705
          ],
          [
           0.4384152245141861,
           0.4384152245141861
          ],
          [
           0.3826320349499866,
           0.3826320349499866
          ],
          [
           0.3068584064512566,
           0.3068584064512566
          ],
          [
           0.268344419093303,
           0.268344419093303
          ]
         ]
        },
        {
         "hoverinfo": "name+text",
         "name": 3,
         "showscale": false,
         "text": [
          [
           "0h00<br /> 0.262 kVA"
          ],
          [
           "1h00<br /> 0.258 kVA"
          ],
          [
           "2h00<br /> 0.256 kVA"
          ],
          [
           "3h00<br /> 0.278 kVA"
          ],
          [
           "4h00<br /> 0.316 kVA"
          ],
          [
           "5h00<br /> 0.385 kVA"
          ],
          [
           "6h00<br /> 0.536 kVA"
          ],
          [
           "7h00<br /> 0.376 kVA"
          ],
          [
           "8h00<br /> 0.361 kVA"
          ],
          [
           "9h00<br /> 0.336 kVA"
          ],
          [
           "10h00<br /> 0.345 kVA"
          ],
          [
           "11h00<br /> 0.359 kVA"
          ],
          [
           "12h00<br /> 0.373 kVA"
          ],
          [
           "13h00<br /> 0.393 kVA"
          ],
          [
           "14h00<br /> 0.397 kVA"
          ],
          [
           "15h00<br /> 0.395 kVA"
          ],
          [
           "16h00<br /> 0.480 kVA"
          ],
          [
           "17h00<br /> 0.547 kVA"
          ],
          [
           "18h00<br /> 0.651 kVA"
          ],
          [
           "19h00<br /> 0.624 kVA"
          ],
          [
           "20h00<br /> 0.500 kVA"
          ],
          [
           "21h00<br /> 0.386 kVA"
          ],
          [
           "22h00<br /> 0.314 kVA"
          ],
          [
           "23h00<br /> 0.269 kVA"
          ]
         ],
         "type": "surface",
         "x": [
          [
           9,
           10
          ],
          [
           9,
           10
          ],
          [
           9,
           10
          ],
          [
           9,
           10
          ],
          [
           9,
           10
          ],
          [
           9,
           10
          ],
          [
           9,
           10
          ],
          [
           9,
           10
          ],
          [
           9,
           10
          ],
          [
           9,
           10
          ],
          [
           9,
           10
          ],
          [
           9,
           10
          ],
          [
           9,
           10
          ],
          [
           9,
           10
          ],
          [
           9,
           10
          ],
          [
           9,
           10
          ],
          [
           9,
           10
          ],
          [
           9,
           10
          ],
          [
           9,
           10
          ],
          [
           9,
           10
          ],
          [
           9,
           10
          ],
          [
           9,
           10
          ],
          [
           9,
           10
          ],
          [
           9,
           10
          ]
         ],
         "y": [
          [
           0,
           0
          ],
          [
           1,
           1
          ],
          [
           2,
           2
          ],
          [
           3,
           3
          ],
          [
           4,
           4
          ],
          [
           5,
           5
          ],
          [
           6,
           6
          ],
          [
           7,
           7
          ],
          [
           8,
           8
          ],
          [
           9,
           9
          ],
          [
           10,
           10
          ],
          [
           11,
           11
          ],
          [
           12,
           12
          ],
          [
           13,
           13
          ],
          [
           14,
           14
          ],
          [
           15,
           15
          ],
          [
           16,
           16
          ],
          [
           17,
           17
          ],
          [
           18,
           18
          ],
          [
           19,
           19
          ],
          [
           20,
           20
          ],
          [
           21,
           21
          ],
          [
           22,
           22
          ],
          [
           23,
           23
          ]
         ],
         "z": [
          [
           0.2622317345530583,
           0.2622317345530583
          ],
          [
           0.25842007881994433,
           0.25842007881994433
          ],
          [
           0.2557480666225636,
           0.2557480666225636
          ],
          [
           0.2777412120124429,
           0.2777412120124429
          ],
          [
           0.31574380218747944,
           0.31574380218747944
          ],
          [
           0.38505165184408324,
           0.38505165184408324
          ],
          [
           0.536394627566867,
           0.536394627566867
          ],
          [
           0.3761811288819775,
           0.3761811288819775
          ],
          [
           0.36096074350114743,
           0.36096074350114743
          ],
          [
           0.33595041363054606,
           0.33595041363054606
          ],
          [
           0.34466489807621953,
           0.34466489807621953
          ],
          [
           0.3590293689657671,
           0.3590293689657671
          ],
          [
           0.37272940341900057,
           0.37272940341900057
          ],
          [
           0.392688673130832,
           0.392688673130832
          ],
          [
           0.3967678333492989,
           0.3967678333492989
          ],
          [
           0.39499655618770413,
           0.39499655618770413
          ],
          [
           0.47976928393496965,
           0.47976928393496965
          ],
          [
           0.5469915078686004,
           0.5469915078686004
          ],
          [
           0.6512213866735607,
           0.6512213866735607
          ],
          [
           0.6238055542988612,
           0.6238055542988612
          ],
          [
           0.5004143705142895,
           0.5004143705142895
          ],
          [
           0.3863225601721267,
           0.3863225601721267
          ],
          [
           0.31374590143740316,
           0.31374590143740316
          ],
          [
           0.2689819837804839,
           0.2689819837804839
          ]
         ]
        },
        {
         "hoverinfo": "name+text",
         "name": 2,
         "showscale": false,
         "text": [
          [
           "0h00<br /> 0.304 kVA"
          ],
          [
           "1h00<br /> 0.302 kVA"
          ],
          [
           "2h00<br /> 0.298 kVA"
          ],
          [
           "3h00<br /> 0.321 kVA"
          ],
          [
           "4h00<br /> 0.335 kVA"
          ],
          [
           "5h00<br /> 0.477 kVA"
          ],
          [
           "6h00<br /> 0.531 kVA"
          ],
          [
           "7h00<br /> 0.361 kVA"
          ],
          [
           "8h00<br /> 0.339 kVA"
          ],
          [
           "9h00<br /> 0.337 kVA"
          ],
          [
           "10h00<br /> 0.346 kVA"
          ],
          [
           "11h00<br /> 0.294 kVA"
          ],
          [
           "12h00<br /> 0.352 kVA"
          ],
          [
           "13h00<br /> 0.375 kVA"
          ],
          [
           "14h00<br /> 0.397 kVA"
          ],
          [
           "15h00<br /> 0.404 kVA"
          ],
          [
           "16h00<br /> 0.440 kVA"
          ],
          [
           "17h00<br /> 0.563 kVA"
          ],
          [
           "18h00<br /> 0.671 kVA"
          ],
          [
           "19h00<br /> 0.654 kVA"
          ],
          [
           "20h00<br /> 0.522 kVA"
          ],
          [
           "21h00<br /> 0.408 kVA"
          ],
          [
           "22h00<br /> 0.349 kVA"
          ],
          [
           "23h00<br /> 0.314 kVA"
          ]
         ],
         "type": "surface",
         "x": [
          [
           10,
           11
          ],
          [
           10,
           11
          ],
          [
           10,
           11
          ],
          [
           10,
           11
          ],
          [
           10,
           11
          ],
          [
           10,
           11
          ],
          [
           10,
           11
          ],
          [
           10,
           11
          ],
          [
           10,
           11
          ],
          [
           10,
           11
          ],
          [
           10,
           11
          ],
          [
           10,
           11
          ],
          [
           10,
           11
          ],
          [
           10,
           11
          ],
          [
           10,
           11
          ],
          [
           10,
           11
          ],
          [
           10,
           11
          ],
          [
           10,
           11
          ],
          [
           10,
           11
          ],
          [
           10,
           11
          ],
          [
           10,
           11
          ],
          [
           10,
           11
          ],
          [
           10,
           11
          ],
          [
           10,
           11
          ]
         ],
         "y": [
          [
           0,
           0
          ],
          [
           1,
           1
          ],
          [
           2,
           2
          ],
          [
           3,
           3
          ],
          [
           4,
           4
          ],
          [
           5,
           5
          ],
          [
           6,
           6
          ],
          [
           7,
           7
          ],
          [
           8,
           8
          ],
          [
           9,
           9
          ],
          [
           10,
           10
          ],
          [
           11,
           11
          ],
          [
           12,
           12
          ],
          [
           13,
           13
          ],
          [
           14,
           14
          ],
          [
           15,
           15
          ],
          [
           16,
           16
          ],
          [
           17,
           17
          ],
          [
           18,
           18
          ],
          [
           19,
           19
          ],
          [
           20,
           20
          ],
          [
           21,
           21
          ],
          [
           22,
           22
          ],
          [
           23,
           23
          ]
         ],
         "z": [
          [
           0.3037238279079491,
           0.3037238279079491
          ],
          [
           0.30152641810009945,
           0.30152641810009945
          ],
          [
           0.29823721669672526,
           0.29823721669672526
          ],
          [
           0.3211743853951,
           0.3211743853951
          ],
          [
           0.33451344933629984,
           0.33451344933629984
          ],
          [
           0.47681679786521713,
           0.47681679786521713
          ],
          [
           0.5313522126053974,
           0.5313522126053974
          ],
          [
           0.3614326012240015,
           0.3614326012240015
          ],
          [
           0.33855048660442993,
           0.33855048660442993
          ],
          [
           0.33715983471875055,
           0.33715983471875055
          ],
          [
           0.3455846373625729,
           0.3455846373625729
          ],
          [
           0.29400487988149204,
           0.29400487988149204
          ],
          [
           0.35181753075160754,
           0.35181753075160754
          ],
          [
           0.3745455791048475,
           0.3745455791048475
          ],
          [
           0.3971965498278693,
           0.3971965498278693
          ],
          [
           0.4041508927600532,
           0.4041508927600532
          ],
          [
           0.4397047250941055,
           0.4397047250941055
          ],
          [
           0.5626876152190704,
           0.5626876152190704
          ],
          [
           0.6712357716826959,
           0.6712357716826959
          ],
          [
           0.653613918521577,
           0.653613918521577
          ],
          [
           0.5220835492403207,
           0.5220835492403207
          ],
          [
           0.40772575054002963,
           0.40772575054002963
          ],
          [
           0.34872583068761165,
           0.34872583068761165
          ],
          [
           0.31391312701978463,
           0.31391312701978463
          ]
         ]
        },
        {
         "hoverinfo": "name+text",
         "name": 1,
         "showscale": false,
         "text": [
          [
           "0h00<br /> 0.275 kVA"
          ],
          [
           "1h00<br /> 0.270 kVA"
          ],
          [
           "2h00<br /> 0.268 kVA"
          ],
          [
           "3h00<br /> 0.270 kVA"
          ],
          [
           "4h00<br /> 0.303 kVA"
          ],
          [
           "5h00<br /> 0.359 kVA"
          ],
          [
           "6h00<br /> 0.377 kVA"
          ],
          [
           "7h00<br /> 0.382 kVA"
          ],
          [
           "8h00<br /> 0.410 kVA"
          ],
          [
           "9h00<br /> 0.379 kVA"
          ],
          [
           "10h00<br /> 0.370 kVA"
          ],
          [
           "11h00<br /> 0.395 kVA"
          ],
          [
           "12h00<br /> 0.427 kVA"
          ],
          [
           "13h00<br /> 0.428 kVA"
          ],
          [
           "14h00<br /> 0.415 kVA"
          ],
          [
           "15h00<br /> 0.441 kVA"
          ],
          [
           "16h00<br /> 0.449 kVA"
          ],
          [
           "17h00<br /> 0.526 kVA"
          ],
          [
           "18h00<br /> 0.563 kVA"
          ],
          [
           "19h00<br /> 0.611 kVA"
          ],
          [
           "20h00<br /> 0.601 kVA"
          ],
          [
           "21h00<br /> 0.433 kVA"
          ],
          [
           "22h00<br /> 0.352 kVA"
          ],
          [
           "23h00<br /> 0.296 kVA"
          ]
         ],
         "type": "surface",
         "x": [
          [
           11,
           12
          ],
          [
           11,
           12
          ],
          [
           11,
           12
          ],
          [
           11,
           12
          ],
          [
           11,
           12
          ],
          [
           11,
           12
          ],
          [
           11,
           12
          ],
          [
           11,
           12
          ],
          [
           11,
           12
          ],
          [
           11,
           12
          ],
          [
           11,
           12
          ],
          [
           11,
           12
          ],
          [
           11,
           12
          ],
          [
           11,
           12
          ],
          [
           11,
           12
          ],
          [
           11,
           12
          ],
          [
           11,
           12
          ],
          [
           11,
           12
          ],
          [
           11,
           12
          ],
          [
           11,
           12
          ],
          [
           11,
           12
          ],
          [
           11,
           12
          ],
          [
           11,
           12
          ],
          [
           11,
           12
          ]
         ],
         "y": [
          [
           0,
           0
          ],
          [
           1,
           1
          ],
          [
           2,
           2
          ],
          [
           3,
           3
          ],
          [
           4,
           4
          ],
          [
           5,
           5
          ],
          [
           6,
           6
          ],
          [
           7,
           7
          ],
          [
           8,
           8
          ],
          [
           9,
           9
          ],
          [
           10,
           10
          ],
          [
           11,
           11
          ],
          [
           12,
           12
          ],
          [
           13,
           13
          ],
          [
           14,
           14
          ],
          [
           15,
           15
          ],
          [
           16,
           16
          ],
          [
           17,
           17
          ],
          [
           18,
           18
          ],
          [
           19,
           19
          ],
          [
           20,
           20
          ],
          [
           21,
           21
          ],
          [
           22,
           22
          ],
          [
           23,
           23
          ]
         ],
         "z": [
          [
           0.27545524686931366,
           0.27545524686931366
          ],
          [
           0.26952611255821335,
           0.26952611255821335
          ],
          [
           0.26775321843961264,
           0.26775321843961264
          ],
          [
           0.2704077954135741,
           0.2704077954135741
          ],
          [
           0.30262688570438234,
           0.30262688570438234
          ],
          [
           0.3591818182165907,
           0.3591818182165907
          ],
          [
           0.3772782842927221,
           0.3772782842927221
          ],
          [
           0.38191273185224506,
           0.38191273185224506
          ],
          [
           0.4097025121927636,
           0.4097025121927636
          ],
          [
           0.378776007813752,
           0.378776007813752
          ],
          [
           0.3695929764097754,
           0.3695929764097754
          ],
          [
           0.3952901917130136,
           0.3952901917130136
          ],
          [
           0.42684293487499014,
           0.42684293487499014
          ],
          [
           0.4284933064556631,
           0.4284933064556631
          ],
          [
           0.4150067732506026,
           0.4150067732506026
          ],
          [
           0.4411081628527409,
           0.4411081628527409
          ],
          [
           0.44887091505980103,
           0.44887091505980103
          ],
          [
           0.5258651819068629,
           0.5258651819068629
          ],
          [
           0.5632979340392891,
           0.5632979340392891
          ],
          [
           0.6107626234719082,
           0.6107626234719082
          ],
          [
           0.6009264448162496,
           0.6009264448162496
          ],
          [
           0.4327617987910266,
           0.4327617987910266
          ],
          [
           0.35221295006893616,
           0.35221295006893616
          ],
          [
           0.29564715931860436,
           0.29564715931860436
          ]
         ]
        }
       ],
       "layout": {
        "height": 700,
        "margin": {
         "b": 50,
         "l": 50,
         "pad": 10,
         "r": 50,
         "t": 50
        },
        "scene": {
         "xaxis": {
          "ticktext": [
           12,
           11,
           10,
           9,
           8,
           7,
           6,
           5,
           4,
           3,
           2,
           1
          ],
          "tickvals": [
           0.5,
           1.5,
           2.5,
           3.5,
           4.5,
           5.5,
           6.5,
           7.5,
           8.5,
           9.5,
           10.5,
           11.5
          ],
          "tickwidth": 1.5,
          "title": "month",
          "type": "category"
         },
         "yaxis": {
          "tickvals": [
           0,
           2,
           4,
           6,
           8,
           10,
           12,
           14,
           16,
           18,
           20,
           22
          ],
          "title": "time of day"
         },
         "zaxis": {
          "rangemode": "tozero",
          "tickvals": [
           0,
           0.1,
           0.2,
           0.30000000000000004,
           0.4,
           0.5,
           0.6000000000000001,
           0.7000000000000001,
           0.8,
           0.9
          ],
          "title": "demand (kVA)"
         }
        },
        "title": "Weekday hourly load profile for \"informal_settlement\" customers 7 years after electrification"
       }
      },
      "text/html": [
       "<div id=\"a4a3ea77-bfd2-4fe8-9acb-bf756f888abb\" style=\"height: 700px; width: 100%;\" class=\"plotly-graph-div\"></div><script type=\"text/javascript\">require([\"plotly\"], function(Plotly) { window.PLOTLYENV=window.PLOTLYENV || {};window.PLOTLYENV.BASE_URL=\"https://plot.ly\";Plotly.newPlot(\"a4a3ea77-bfd2-4fe8-9acb-bf756f888abb\", [{\"x\": [[0, 1], [0, 1], [0, 1], [0, 1], [0, 1], [0, 1], [0, 1], [0, 1], [0, 1], [0, 1], [0, 1], [0, 1], [0, 1], [0, 1], [0, 1], [0, 1], [0, 1], [0, 1], [0, 1], [0, 1], [0, 1], [0, 1], [0, 1], [0, 1]], \"y\": [[0, 0], [1, 1], [2, 2], [3, 3], [4, 4], [5, 5], [6, 6], [7, 7], [8, 8], [9, 9], [10, 10], [11, 11], [12, 12], [13, 13], [14, 14], [15, 15], [16, 16], [17, 17], [18, 18], [19, 19], [20, 20], [21, 21], [22, 22], [23, 23]], \"hoverinfo\": \"name+text\", \"name\": 12, \"showscale\": false, \"z\": [[0.29616055089795457, 0.29616055089795457], [0.29133526889020606, 0.29133526889020606], [0.2873977609821969, 0.2873977609821969], [0.2989584166262191, 0.2989584166262191], [0.31493729598580045, 0.31493729598580045], [0.3226076513129273, 0.3226076513129273], [0.3585722335720142, 0.3585722335720142], [0.443594927512281, 0.443594927512281], [0.4436967896036796, 0.4436967896036796], [0.43278376472264396, 0.43278376472264396], [0.42716230517343995, 0.42716230517343995], [0.44594226441022333, 0.44594226441022333], [0.44953955249719874, 0.44953955249719874], [0.48604917795263025, 0.48604917795263025], [0.48550687332424974, 0.48550687332424974], [0.48161401989425273, 0.48161401989425273], [0.5352408109288549, 0.5352408109288549], [0.5105098713518119, 0.5105098713518119], [0.5678118865857976, 0.5678118865857976], [0.6969229956832765, 0.6969229956832765], [0.617059462064685, 0.617059462064685], [0.5115011015310285, 0.5115011015310285], [0.3928223982228122, 0.3928223982228122], [0.3337711111437154, 0.3337711111437154]], \"text\": [[\"0h00<br /> 0.296 kVA\"], [\"1h00<br /> 0.291 kVA\"], [\"2h00<br /> 0.287 kVA\"], [\"3h00<br /> 0.299 kVA\"], [\"4h00<br /> 0.315 kVA\"], [\"5h00<br /> 0.323 kVA\"], [\"6h00<br /> 0.359 kVA\"], [\"7h00<br /> 0.444 kVA\"], [\"8h00<br /> 0.444 kVA\"], [\"9h00<br /> 0.433 kVA\"], [\"10h00<br /> 0.427 kVA\"], [\"11h00<br /> 0.446 kVA\"], [\"12h00<br /> 0.450 kVA\"], [\"13h00<br /> 0.486 kVA\"], [\"14h00<br /> 0.486 kVA\"], [\"15h00<br /> 0.482 kVA\"], [\"16h00<br /> 0.535 kVA\"], [\"17h00<br /> 0.511 kVA\"], [\"18h00<br /> 0.568 kVA\"], [\"19h00<br /> 0.697 kVA\"], [\"20h00<br /> 0.617 kVA\"], [\"21h00<br /> 0.512 kVA\"], [\"22h00<br /> 0.393 kVA\"], [\"23h00<br /> 0.334 kVA\"]], \"type\": \"surface\"}, {\"x\": [[1, 2], [1, 2], [1, 2], [1, 2], [1, 2], [1, 2], [1, 2], [1, 2], [1, 2], [1, 2], [1, 2], [1, 2], [1, 2], [1, 2], [1, 2], [1, 2], [1, 2], [1, 2], [1, 2], [1, 2], [1, 2], [1, 2], [1, 2], [1, 2]], \"y\": [[0, 0], [1, 1], [2, 2], [3, 3], [4, 4], [5, 5], [6, 6], [7, 7], [8, 8], [9, 9], [10, 10], [11, 11], [12, 12], [13, 13], [14, 14], [15, 15], [16, 16], [17, 17], [18, 18], [19, 19], [20, 20], [21, 21], [22, 22], [23, 23]], \"hoverinfo\": \"name+text\", \"name\": 11, \"showscale\": false, \"z\": [[0.25917876276853, 0.25917876276853], [0.24508889450266064, 0.24508889450266064], [0.24811027006172282, 0.24811027006172282], [0.2533838394145501, 0.2533838394145501], [0.29940347107606924, 0.29940347107606924], [0.4773982534269438, 0.4773982534269438], [0.5159573008745301, 0.5159573008745301], [0.4355785137278956, 0.4355785137278956], [0.4066186400271214, 0.4066186400271214], [0.40609957336924746, 0.40609957336924746], [0.4134813334762445, 0.4134813334762445], [0.4199175383533857, 0.4199175383533857], [0.43985827400031713, 0.43985827400031713], [0.42555024017394877, 0.42555024017394877], [0.44233600500416786, 0.44233600500416786], [0.4642015559951816, 0.4642015559951816], [0.4957416813173859, 0.4957416813173859], [0.5882826901524052, 0.5882826901524052], [0.6486070090000813, 0.6486070090000813], [0.7264938691804739, 0.7264938691804739], [0.5947347444630552, 0.5947347444630552], [0.42851591903462455, 0.42851591903462455], [0.3368233802012386, 0.3368233802012386], [0.27256757914129737, 0.27256757914129737]], \"text\": [[\"0h00<br /> 0.259 kVA\"], [\"1h00<br /> 0.245 kVA\"], [\"2h00<br /> 0.248 kVA\"], [\"3h00<br /> 0.253 kVA\"], [\"4h00<br /> 0.299 kVA\"], [\"5h00<br /> 0.477 kVA\"], [\"6h00<br /> 0.516 kVA\"], [\"7h00<br /> 0.436 kVA\"], [\"8h00<br /> 0.407 kVA\"], [\"9h00<br /> 0.406 kVA\"], [\"10h00<br /> 0.413 kVA\"], [\"11h00<br /> 0.420 kVA\"], [\"12h00<br /> 0.440 kVA\"], [\"13h00<br /> 0.426 kVA\"], [\"14h00<br /> 0.442 kVA\"], [\"15h00<br /> 0.464 kVA\"], [\"16h00<br /> 0.496 kVA\"], [\"17h00<br /> 0.588 kVA\"], [\"18h00<br /> 0.649 kVA\"], [\"19h00<br /> 0.726 kVA\"], [\"20h00<br /> 0.595 kVA\"], [\"21h00<br /> 0.429 kVA\"], [\"22h00<br /> 0.337 kVA\"], [\"23h00<br /> 0.273 kVA\"]], \"type\": \"surface\"}, {\"x\": [[2, 3], [2, 3], [2, 3], [2, 3], [2, 3], [2, 3], [2, 3], [2, 3], [2, 3], [2, 3], [2, 3], [2, 3], [2, 3], [2, 3], [2, 3], [2, 3], [2, 3], [2, 3], [2, 3], [2, 3], [2, 3], [2, 3], [2, 3], [2, 3]], \"y\": [[0, 0], [1, 1], [2, 2], [3, 3], [4, 4], [5, 5], [6, 6], [7, 7], [8, 8], [9, 9], [10, 10], [11, 11], [12, 12], [13, 13], [14, 14], [15, 15], [16, 16], [17, 17], [18, 18], [19, 19], [20, 20], [21, 21], [22, 22], [23, 23]], \"hoverinfo\": \"name+text\", \"name\": 10, \"showscale\": false, \"z\": [[0.2851564863217898, 0.2851564863217898], [0.2797430838440294, 0.2797430838440294], [0.27631658289519356, 0.27631658289519356], [0.27972601567795313, 0.27972601567795313], [0.32641106746361953, 0.32641106746361953], [0.4634584981748897, 0.4634584981748897], [0.5180431796899213, 0.5180431796899213], [0.46971074512224686, 0.46971074512224686], [0.4379623330831464, 0.4379623330831464], [0.4082929102794263, 0.4082929102794263], [0.43176188879418836, 0.43176188879418836], [0.4247584554561714, 0.4247584554561714], [0.44329958787212026, 0.44329958787212026], [0.45707000929228647, 0.45707000929228647], [0.49964097576108196, 0.49964097576108196], [0.4932409875283088, 0.4932409875283088], [0.5156050137672054, 0.5156050137672054], [0.5840237174999877, 0.5840237174999877], [0.7531652393661438, 0.7531652393661438], [0.8018428885123694, 0.8018428885123694], [0.5817274238266793, 0.5817274238266793], [0.45152832696093753, 0.45152832696093753], [0.3668050069503188, 0.3668050069503188], [0.30116376318540106, 0.30116376318540106]], \"text\": [[\"0h00<br /> 0.285 kVA\"], [\"1h00<br /> 0.280 kVA\"], [\"2h00<br /> 0.276 kVA\"], [\"3h00<br /> 0.280 kVA\"], [\"4h00<br /> 0.326 kVA\"], [\"5h00<br /> 0.463 kVA\"], [\"6h00<br /> 0.518 kVA\"], [\"7h00<br /> 0.470 kVA\"], [\"8h00<br /> 0.438 kVA\"], [\"9h00<br /> 0.408 kVA\"], [\"10h00<br /> 0.432 kVA\"], [\"11h00<br /> 0.425 kVA\"], [\"12h00<br /> 0.443 kVA\"], [\"13h00<br /> 0.457 kVA\"], [\"14h00<br /> 0.500 kVA\"], [\"15h00<br /> 0.493 kVA\"], [\"16h00<br /> 0.516 kVA\"], [\"17h00<br /> 0.584 kVA\"], [\"18h00<br /> 0.753 kVA\"], [\"19h00<br /> 0.802 kVA\"], [\"20h00<br /> 0.582 kVA\"], [\"21h00<br /> 0.452 kVA\"], [\"22h00<br /> 0.367 kVA\"], [\"23h00<br /> 0.301 kVA\"]], \"type\": \"surface\"}, {\"x\": [[3, 4], [3, 4], [3, 4], [3, 4], [3, 4], [3, 4], [3, 4], [3, 4], [3, 4], [3, 4], [3, 4], [3, 4], [3, 4], [3, 4], [3, 4], [3, 4], [3, 4], [3, 4], [3, 4], [3, 4], [3, 4], [3, 4], [3, 4], [3, 4]], \"y\": [[0, 0], [1, 1], [2, 2], [3, 3], [4, 4], [5, 5], [6, 6], [7, 7], [8, 8], [9, 9], [10, 10], [11, 11], [12, 12], [13, 13], [14, 14], [15, 15], [16, 16], [17, 17], [18, 18], [19, 19], [20, 20], [21, 21], [22, 22], [23, 23]], \"hoverinfo\": \"name+text\", \"name\": 9, \"showscale\": false, \"z\": [[0.24857994471544362, 0.24857994471544362], [0.2519675043470457, 0.2519675043470457], [0.24230681877859261, 0.24230681877859261], [0.25162300675681015, 0.25162300675681015], [0.2745165472946567, 0.2745165472946567], [0.42093985988045995, 0.42093985988045995], [0.5490855272124079, 0.5490855272124079], [0.41231807197781073, 0.41231807197781073], [0.40957394197559, 0.40957394197559], [0.43726723517943195, 0.43726723517943195], [0.4514025622145221, 0.4514025622145221], [0.4455860681793347, 0.4455860681793347], [0.4683456065436753, 0.4683456065436753], [0.43079120238182056, 0.43079120238182056], [0.4488261569774547, 0.4488261569774547], [0.4738810619624481, 0.4738810619624481], [0.5183389157547814, 0.5183389157547814], [0.6432023181023628, 0.6432023181023628], [0.768972889031005, 0.768972889031005], [0.6963817809649374, 0.6963817809649374], [0.544048726799108, 0.544048726799108], [0.41319058943566594, 0.41319058943566594], [0.32244055383949255, 0.32244055383949255], [0.2785467055206227, 0.2785467055206227]], \"text\": [[\"0h00<br /> 0.249 kVA\"], [\"1h00<br /> 0.252 kVA\"], [\"2h00<br /> 0.242 kVA\"], [\"3h00<br /> 0.252 kVA\"], [\"4h00<br /> 0.275 kVA\"], [\"5h00<br /> 0.421 kVA\"], [\"6h00<br /> 0.549 kVA\"], [\"7h00<br /> 0.412 kVA\"], [\"8h00<br /> 0.410 kVA\"], [\"9h00<br /> 0.437 kVA\"], [\"10h00<br /> 0.451 kVA\"], [\"11h00<br /> 0.446 kVA\"], [\"12h00<br /> 0.468 kVA\"], [\"13h00<br /> 0.431 kVA\"], [\"14h00<br /> 0.449 kVA\"], [\"15h00<br /> 0.474 kVA\"], [\"16h00<br /> 0.518 kVA\"], [\"17h00<br /> 0.643 kVA\"], [\"18h00<br /> 0.769 kVA\"], [\"19h00<br /> 0.696 kVA\"], [\"20h00<br /> 0.544 kVA\"], [\"21h00<br /> 0.413 kVA\"], [\"22h00<br /> 0.322 kVA\"], [\"23h00<br /> 0.279 kVA\"]], \"type\": \"surface\"}, {\"x\": [[4, 5], [4, 5], [4, 5], [4, 5], [4, 5], [4, 5], [4, 5], [4, 5], [4, 5], [4, 5], [4, 5], [4, 5], [4, 5], [4, 5], [4, 5], [4, 5], [4, 5], [4, 5], [4, 5], [4, 5], [4, 5], [4, 5], [4, 5], [4, 5]], \"y\": [[0, 0], [1, 1], [2, 2], [3, 3], [4, 4], [5, 5], [6, 6], [7, 7], [8, 8], [9, 9], [10, 10], [11, 11], [12, 12], [13, 13], [14, 14], [15, 15], [16, 16], [17, 17], [18, 18], [19, 19], [20, 20], [21, 21], [22, 22], [23, 23]], \"hoverinfo\": \"name+text\", \"name\": 8, \"showscale\": false, \"z\": [[0.2736856323034067, 0.2736856323034067], [0.27011985904370217, 0.27011985904370217], [0.26693144363934196, 0.26693144363934196], [0.27881137934587996, 0.27881137934587996], [0.3071087344267936, 0.3071087344267936], [0.44555859154836686, 0.44555859154836686], [0.6465652070414964, 0.6465652070414964], [0.4904231582967204, 0.4904231582967204], [0.43609548292696165, 0.43609548292696165], [0.4324744258993282, 0.4324744258993282], [0.4457008826939829, 0.4457008826939829], [0.46052216584252076, 0.46052216584252076], [0.470223010643938, 0.470223010643938], [0.4870272415648955, 0.4870272415648955], [0.4960770133797011, 0.4960770133797011], [0.4702454857192632, 0.4702454857192632], [0.5565337262500063, 0.5565337262500063], [0.7463183423395493, 0.7463183423395493], [0.8576349697635611, 0.8576349697635611], [0.8187545568324318, 0.8187545568324318], [0.5999641577504964, 0.5999641577504964], [0.46765171027824565, 0.46765171027824565], [0.3388417433066888, 0.3388417433066888], [0.2902536242343631, 0.2902536242343631]], \"text\": [[\"0h00<br /> 0.274 kVA\"], [\"1h00<br /> 0.270 kVA\"], [\"2h00<br /> 0.267 kVA\"], [\"3h00<br /> 0.279 kVA\"], [\"4h00<br /> 0.307 kVA\"], [\"5h00<br /> 0.446 kVA\"], [\"6h00<br /> 0.647 kVA\"], [\"7h00<br /> 0.490 kVA\"], [\"8h00<br /> 0.436 kVA\"], [\"9h00<br /> 0.432 kVA\"], [\"10h00<br /> 0.446 kVA\"], [\"11h00<br /> 0.461 kVA\"], [\"12h00<br /> 0.470 kVA\"], [\"13h00<br /> 0.487 kVA\"], [\"14h00<br /> 0.496 kVA\"], [\"15h00<br /> 0.470 kVA\"], [\"16h00<br /> 0.557 kVA\"], [\"17h00<br /> 0.746 kVA\"], [\"18h00<br /> 0.858 kVA\"], [\"19h00<br /> 0.819 kVA\"], [\"20h00<br /> 0.600 kVA\"], [\"21h00<br /> 0.468 kVA\"], [\"22h00<br /> 0.339 kVA\"], [\"23h00<br /> 0.290 kVA\"]], \"type\": \"surface\"}, {\"x\": [[5, 6], [5, 6], [5, 6], [5, 6], [5, 6], [5, 6], [5, 6], [5, 6], [5, 6], [5, 6], [5, 6], [5, 6], [5, 6], [5, 6], [5, 6], [5, 6], [5, 6], [5, 6], [5, 6], [5, 6], [5, 6], [5, 6], [5, 6], [5, 6]], \"y\": [[0, 0], [1, 1], [2, 2], [3, 3], [4, 4], [5, 5], [6, 6], [7, 7], [8, 8], [9, 9], [10, 10], [11, 11], [12, 12], [13, 13], [14, 14], [15, 15], [16, 16], [17, 17], [18, 18], [19, 19], [20, 20], [21, 21], [22, 22], [23, 23]], \"hoverinfo\": \"name+text\", \"name\": 7, \"showscale\": false, \"z\": [[0.2974758970795088, 0.2974758970795088], [0.30243113096697594, 0.30243113096697594], [0.29773760451896747, 0.29773760451896747], [0.31183474433644953, 0.31183474433644953], [0.3461270179464004, 0.3461270179464004], [0.4607872573449405, 0.4607872573449405], [0.6550485396734745, 0.6550485396734745], [0.5453950238535701, 0.5453950238535701], [0.4626138017552419, 0.4626138017552419], [0.4239251289261453, 0.4239251289261453], [0.39235365114081283, 0.39235365114081283], [0.4187985234106896, 0.4187985234106896], [0.4461933390831407, 0.4461933390831407], [0.44324793424135006, 0.44324793424135006], [0.4591547727755963, 0.4591547727755963], [0.45652892677885987, 0.45652892677885987], [0.5394559246254603, 0.5394559246254603], [0.8112174459469976, 0.8112174459469976], [0.9076756217034944, 0.9076756217034944], [0.7868333364784117, 0.7868333364784117], [0.5430556875750928, 0.5430556875750928], [0.4526542707333872, 0.4526542707333872], [0.36007231482172825, 0.36007231482172825], [0.3208436655536802, 0.3208436655536802]], \"text\": [[\"0h00<br /> 0.297 kVA\"], [\"1h00<br /> 0.302 kVA\"], [\"2h00<br /> 0.298 kVA\"], [\"3h00<br /> 0.312 kVA\"], [\"4h00<br /> 0.346 kVA\"], [\"5h00<br /> 0.461 kVA\"], [\"6h00<br /> 0.655 kVA\"], [\"7h00<br /> 0.545 kVA\"], [\"8h00<br /> 0.463 kVA\"], [\"9h00<br /> 0.424 kVA\"], [\"10h00<br /> 0.392 kVA\"], [\"11h00<br /> 0.419 kVA\"], [\"12h00<br /> 0.446 kVA\"], [\"13h00<br /> 0.443 kVA\"], [\"14h00<br /> 0.459 kVA\"], [\"15h00<br /> 0.457 kVA\"], [\"16h00<br /> 0.539 kVA\"], [\"17h00<br /> 0.811 kVA\"], [\"18h00<br /> 0.908 kVA\"], [\"19h00<br /> 0.787 kVA\"], [\"20h00<br /> 0.543 kVA\"], [\"21h00<br /> 0.453 kVA\"], [\"22h00<br /> 0.360 kVA\"], [\"23h00<br /> 0.321 kVA\"]], \"type\": \"surface\"}, {\"x\": [[6, 7], [6, 7], [6, 7], [6, 7], [6, 7], [6, 7], [6, 7], [6, 7], [6, 7], [6, 7], [6, 7], [6, 7], [6, 7], [6, 7], [6, 7], [6, 7], [6, 7], [6, 7], [6, 7], [6, 7], [6, 7], [6, 7], [6, 7], [6, 7]], \"y\": [[0, 0], [1, 1], [2, 2], [3, 3], [4, 4], [5, 5], [6, 6], [7, 7], [8, 8], [9, 9], [10, 10], [11, 11], [12, 12], [13, 13], [14, 14], [15, 15], [16, 16], [17, 17], [18, 18], [19, 19], [20, 20], [21, 21], [22, 22], [23, 23]], \"hoverinfo\": \"name+text\", \"name\": 6, \"showscale\": false, \"z\": [[0.2895252375946646, 0.2895252375946646], [0.29140909205249294, 0.29140909205249294], [0.2902568554062219, 0.2902568554062219], [0.3183584064780936, 0.3183584064780936], [0.33214415380095685, 0.33214415380095685], [0.46910443836293947, 0.46910443836293947], [0.5808152977741037, 0.5808152977741037], [0.5540468991975989, 0.5540468991975989], [0.4712278151048601, 0.4712278151048601], [0.4021625193477597, 0.4021625193477597], [0.3802536903924427, 0.3802536903924427], [0.4217123021150045, 0.4217123021150045], [0.40448666864699984, 0.40448666864699984], [0.4172449334045727, 0.4172449334045727], [0.4764117258682381, 0.4764117258682381], [0.47439356881839906, 0.47439356881839906], [0.5686396112025124, 0.5686396112025124], [0.7724881028824488, 0.7724881028824488], [0.8459167732582826, 0.8459167732582826], [0.6812596135940056, 0.6812596135940056], [0.5562870874526902, 0.5562870874526902], [0.4473558813069687, 0.4473558813069687], [0.3582862555955106, 0.3582862555955106], [0.3170993875776538, 0.3170993875776538]], \"text\": [[\"0h00<br /> 0.290 kVA\"], [\"1h00<br /> 0.291 kVA\"], [\"2h00<br /> 0.290 kVA\"], [\"3h00<br /> 0.318 kVA\"], [\"4h00<br /> 0.332 kVA\"], [\"5h00<br /> 0.469 kVA\"], [\"6h00<br /> 0.581 kVA\"], [\"7h00<br /> 0.554 kVA\"], [\"8h00<br /> 0.471 kVA\"], [\"9h00<br /> 0.402 kVA\"], [\"10h00<br /> 0.380 kVA\"], [\"11h00<br /> 0.422 kVA\"], [\"12h00<br /> 0.404 kVA\"], [\"13h00<br /> 0.417 kVA\"], [\"14h00<br /> 0.476 kVA\"], [\"15h00<br /> 0.474 kVA\"], [\"16h00<br /> 0.569 kVA\"], [\"17h00<br /> 0.772 kVA\"], [\"18h00<br /> 0.846 kVA\"], [\"19h00<br /> 0.681 kVA\"], [\"20h00<br /> 0.556 kVA\"], [\"21h00<br /> 0.447 kVA\"], [\"22h00<br /> 0.358 kVA\"], [\"23h00<br /> 0.317 kVA\"]], \"type\": \"surface\"}, {\"x\": [[7, 8], [7, 8], [7, 8], [7, 8], [7, 8], [7, 8], [7, 8], [7, 8], [7, 8], [7, 8], [7, 8], [7, 8], [7, 8], [7, 8], [7, 8], [7, 8], [7, 8], [7, 8], [7, 8], [7, 8], [7, 8], [7, 8], [7, 8], [7, 8]], \"y\": [[0, 0], [1, 1], [2, 2], [3, 3], [4, 4], [5, 5], [6, 6], [7, 7], [8, 8], [9, 9], [10, 10], [11, 11], [12, 12], [13, 13], [14, 14], [15, 15], [16, 16], [17, 17], [18, 18], [19, 19], [20, 20], [21, 21], [22, 22], [23, 23]], \"hoverinfo\": \"name+text\", \"name\": 5, \"showscale\": false, \"z\": [[0.2659288557844969, 0.2659288557844969], [0.26266798560632754, 0.26266798560632754], [0.2675098824526898, 0.2675098824526898], [0.29540184492971416, 0.29540184492971416], [0.33813241129812854, 0.33813241129812854], [0.5010639012077079, 0.5010639012077079], [0.641591210586582, 0.641591210586582], [0.43355446799206343, 0.43355446799206343], [0.3833426156825556, 0.3833426156825556], [0.3765939027985526, 0.3765939027985526], [0.3538104871868261, 0.3538104871868261], [0.35017942255987405, 0.35017942255987405], [0.390595730114381, 0.390595730114381], [0.40732737496403887, 0.40732737496403887], [0.42215936516268543, 0.42215936516268543], [0.4375228859083826, 0.4375228859083826], [0.5206374447394869, 0.5206374447394869], [0.6691864869541487, 0.6691864869541487], [0.8442231969411225, 0.8442231969411225], [0.6944864037462382, 0.6944864037462382], [0.5088268072786976, 0.5088268072786976], [0.42918732920426056, 0.42918732920426056], [0.34407668670990693, 0.34407668670990693], [0.2894493368570974, 0.2894493368570974]], \"text\": [[\"0h00<br /> 0.266 kVA\"], [\"1h00<br /> 0.263 kVA\"], [\"2h00<br /> 0.268 kVA\"], [\"3h00<br /> 0.295 kVA\"], [\"4h00<br /> 0.338 kVA\"], [\"5h00<br /> 0.501 kVA\"], [\"6h00<br /> 0.642 kVA\"], [\"7h00<br /> 0.434 kVA\"], [\"8h00<br /> 0.383 kVA\"], [\"9h00<br /> 0.377 kVA\"], [\"10h00<br /> 0.354 kVA\"], [\"11h00<br /> 0.350 kVA\"], [\"12h00<br /> 0.391 kVA\"], [\"13h00<br /> 0.407 kVA\"], [\"14h00<br /> 0.422 kVA\"], [\"15h00<br /> 0.438 kVA\"], [\"16h00<br /> 0.521 kVA\"], [\"17h00<br /> 0.669 kVA\"], [\"18h00<br /> 0.844 kVA\"], [\"19h00<br /> 0.694 kVA\"], [\"20h00<br /> 0.509 kVA\"], [\"21h00<br /> 0.429 kVA\"], [\"22h00<br /> 0.344 kVA\"], [\"23h00<br /> 0.289 kVA\"]], \"type\": \"surface\"}, {\"x\": [[8, 9], [8, 9], [8, 9], [8, 9], [8, 9], [8, 9], [8, 9], [8, 9], [8, 9], [8, 9], [8, 9], [8, 9], [8, 9], [8, 9], [8, 9], [8, 9], [8, 9], [8, 9], [8, 9], [8, 9], [8, 9], [8, 9], [8, 9], [8, 9]], \"y\": [[0, 0], [1, 1], [2, 2], [3, 3], [4, 4], [5, 5], [6, 6], [7, 7], [8, 8], [9, 9], [10, 10], [11, 11], [12, 12], [13, 13], [14, 14], [15, 15], [16, 16], [17, 17], [18, 18], [19, 19], [20, 20], [21, 21], [22, 22], [23, 23]], \"hoverinfo\": \"name+text\", \"name\": 4, \"showscale\": false, \"z\": [[0.24945544827189214, 0.24945544827189214], [0.24184578043757432, 0.24184578043757432], [0.23545130046681215, 0.23545130046681215], [0.2596545821941232, 0.2596545821941232], [0.2782227624228397, 0.2782227624228397], [0.3495257945535115, 0.3495257945535115], [0.5277647271675537, 0.5277647271675537], [0.40743290100113616, 0.40743290100113616], [0.38007088769701, 0.38007088769701], [0.38172979804397933, 0.38172979804397933], [0.3635361400615044, 0.3635361400615044], [0.3552610024835585, 0.3552610024835585], [0.3817561325415424, 0.3817561325415424], [0.44260804476198795, 0.44260804476198795], [0.4422948541067703, 0.4422948541067703], [0.4245923034699706, 0.4245923034699706], [0.5121235583206457, 0.5121235583206457], [0.6644804230122493, 0.6644804230122493], [0.7356969706643096, 0.7356969706643096], [0.6207290443172705, 0.6207290443172705], [0.4384152245141861, 0.4384152245141861], [0.3826320349499866, 0.3826320349499866], [0.3068584064512566, 0.3068584064512566], [0.268344419093303, 0.268344419093303]], \"text\": [[\"0h00<br /> 0.249 kVA\"], [\"1h00<br /> 0.242 kVA\"], [\"2h00<br /> 0.235 kVA\"], [\"3h00<br /> 0.260 kVA\"], [\"4h00<br /> 0.278 kVA\"], [\"5h00<br /> 0.350 kVA\"], [\"6h00<br /> 0.528 kVA\"], [\"7h00<br /> 0.407 kVA\"], [\"8h00<br /> 0.380 kVA\"], [\"9h00<br /> 0.382 kVA\"], [\"10h00<br /> 0.364 kVA\"], [\"11h00<br /> 0.355 kVA\"], [\"12h00<br /> 0.382 kVA\"], [\"13h00<br /> 0.443 kVA\"], [\"14h00<br /> 0.442 kVA\"], [\"15h00<br /> 0.425 kVA\"], [\"16h00<br /> 0.512 kVA\"], [\"17h00<br /> 0.664 kVA\"], [\"18h00<br /> 0.736 kVA\"], [\"19h00<br /> 0.621 kVA\"], [\"20h00<br /> 0.438 kVA\"], [\"21h00<br /> 0.383 kVA\"], [\"22h00<br /> 0.307 kVA\"], [\"23h00<br /> 0.268 kVA\"]], \"type\": \"surface\"}, {\"x\": [[9, 10], [9, 10], [9, 10], [9, 10], [9, 10], [9, 10], [9, 10], [9, 10], [9, 10], [9, 10], [9, 10], [9, 10], [9, 10], [9, 10], [9, 10], [9, 10], [9, 10], [9, 10], [9, 10], [9, 10], [9, 10], [9, 10], [9, 10], [9, 10]], \"y\": [[0, 0], [1, 1], [2, 2], [3, 3], [4, 4], [5, 5], [6, 6], [7, 7], [8, 8], [9, 9], [10, 10], [11, 11], [12, 12], [13, 13], [14, 14], [15, 15], [16, 16], [17, 17], [18, 18], [19, 19], [20, 20], [21, 21], [22, 22], [23, 23]], \"hoverinfo\": \"name+text\", \"name\": 3, \"showscale\": false, \"z\": [[0.2622317345530583, 0.2622317345530583], [0.25842007881994433, 0.25842007881994433], [0.2557480666225636, 0.2557480666225636], [0.2777412120124429, 0.2777412120124429], [0.31574380218747944, 0.31574380218747944], [0.38505165184408324, 0.38505165184408324], [0.536394627566867, 0.536394627566867], [0.3761811288819775, 0.3761811288819775], [0.36096074350114743, 0.36096074350114743], [0.33595041363054606, 0.33595041363054606], [0.34466489807621953, 0.34466489807621953], [0.3590293689657671, 0.3590293689657671], [0.37272940341900057, 0.37272940341900057], [0.392688673130832, 0.392688673130832], [0.3967678333492989, 0.3967678333492989], [0.39499655618770413, 0.39499655618770413], [0.47976928393496965, 0.47976928393496965], [0.5469915078686004, 0.5469915078686004], [0.6512213866735607, 0.6512213866735607], [0.6238055542988612, 0.6238055542988612], [0.5004143705142895, 0.5004143705142895], [0.3863225601721267, 0.3863225601721267], [0.31374590143740316, 0.31374590143740316], [0.2689819837804839, 0.2689819837804839]], \"text\": [[\"0h00<br /> 0.262 kVA\"], [\"1h00<br /> 0.258 kVA\"], [\"2h00<br /> 0.256 kVA\"], [\"3h00<br /> 0.278 kVA\"], [\"4h00<br /> 0.316 kVA\"], [\"5h00<br /> 0.385 kVA\"], [\"6h00<br /> 0.536 kVA\"], [\"7h00<br /> 0.376 kVA\"], [\"8h00<br /> 0.361 kVA\"], [\"9h00<br /> 0.336 kVA\"], [\"10h00<br /> 0.345 kVA\"], [\"11h00<br /> 0.359 kVA\"], [\"12h00<br /> 0.373 kVA\"], [\"13h00<br /> 0.393 kVA\"], [\"14h00<br /> 0.397 kVA\"], [\"15h00<br /> 0.395 kVA\"], [\"16h00<br /> 0.480 kVA\"], [\"17h00<br /> 0.547 kVA\"], [\"18h00<br /> 0.651 kVA\"], [\"19h00<br /> 0.624 kVA\"], [\"20h00<br /> 0.500 kVA\"], [\"21h00<br /> 0.386 kVA\"], [\"22h00<br /> 0.314 kVA\"], [\"23h00<br /> 0.269 kVA\"]], \"type\": \"surface\"}, {\"x\": [[10, 11], [10, 11], [10, 11], [10, 11], [10, 11], [10, 11], [10, 11], [10, 11], [10, 11], [10, 11], [10, 11], [10, 11], [10, 11], [10, 11], [10, 11], [10, 11], [10, 11], [10, 11], [10, 11], [10, 11], [10, 11], [10, 11], [10, 11], [10, 11]], \"y\": [[0, 0], [1, 1], [2, 2], [3, 3], [4, 4], [5, 5], [6, 6], [7, 7], [8, 8], [9, 9], [10, 10], [11, 11], [12, 12], [13, 13], [14, 14], [15, 15], [16, 16], [17, 17], [18, 18], [19, 19], [20, 20], [21, 21], [22, 22], [23, 23]], \"hoverinfo\": \"name+text\", \"name\": 2, \"showscale\": false, \"z\": [[0.3037238279079491, 0.3037238279079491], [0.30152641810009945, 0.30152641810009945], [0.29823721669672526, 0.29823721669672526], [0.3211743853951, 0.3211743853951], [0.33451344933629984, 0.33451344933629984], [0.47681679786521713, 0.47681679786521713], [0.5313522126053974, 0.5313522126053974], [0.3614326012240015, 0.3614326012240015], [0.33855048660442993, 0.33855048660442993], [0.33715983471875055, 0.33715983471875055], [0.3455846373625729, 0.3455846373625729], [0.29400487988149204, 0.29400487988149204], [0.35181753075160754, 0.35181753075160754], [0.3745455791048475, 0.3745455791048475], [0.3971965498278693, 0.3971965498278693], [0.4041508927600532, 0.4041508927600532], [0.4397047250941055, 0.4397047250941055], [0.5626876152190704, 0.5626876152190704], [0.6712357716826959, 0.6712357716826959], [0.653613918521577, 0.653613918521577], [0.5220835492403207, 0.5220835492403207], [0.40772575054002963, 0.40772575054002963], [0.34872583068761165, 0.34872583068761165], [0.31391312701978463, 0.31391312701978463]], \"text\": [[\"0h00<br /> 0.304 kVA\"], [\"1h00<br /> 0.302 kVA\"], [\"2h00<br /> 0.298 kVA\"], [\"3h00<br /> 0.321 kVA\"], [\"4h00<br /> 0.335 kVA\"], [\"5h00<br /> 0.477 kVA\"], [\"6h00<br /> 0.531 kVA\"], [\"7h00<br /> 0.361 kVA\"], [\"8h00<br /> 0.339 kVA\"], [\"9h00<br /> 0.337 kVA\"], [\"10h00<br /> 0.346 kVA\"], [\"11h00<br /> 0.294 kVA\"], [\"12h00<br /> 0.352 kVA\"], [\"13h00<br /> 0.375 kVA\"], [\"14h00<br /> 0.397 kVA\"], [\"15h00<br /> 0.404 kVA\"], [\"16h00<br /> 0.440 kVA\"], [\"17h00<br /> 0.563 kVA\"], [\"18h00<br /> 0.671 kVA\"], [\"19h00<br /> 0.654 kVA\"], [\"20h00<br /> 0.522 kVA\"], [\"21h00<br /> 0.408 kVA\"], [\"22h00<br /> 0.349 kVA\"], [\"23h00<br /> 0.314 kVA\"]], \"type\": \"surface\"}, {\"x\": [[11, 12], [11, 12], [11, 12], [11, 12], [11, 12], [11, 12], [11, 12], [11, 12], [11, 12], [11, 12], [11, 12], [11, 12], [11, 12], [11, 12], [11, 12], [11, 12], [11, 12], [11, 12], [11, 12], [11, 12], [11, 12], [11, 12], [11, 12], [11, 12]], \"y\": [[0, 0], [1, 1], [2, 2], [3, 3], [4, 4], [5, 5], [6, 6], [7, 7], [8, 8], [9, 9], [10, 10], [11, 11], [12, 12], [13, 13], [14, 14], [15, 15], [16, 16], [17, 17], [18, 18], [19, 19], [20, 20], [21, 21], [22, 22], [23, 23]], \"hoverinfo\": \"name+text\", \"name\": 1, \"showscale\": false, \"z\": [[0.27545524686931366, 0.27545524686931366], [0.26952611255821335, 0.26952611255821335], [0.26775321843961264, 0.26775321843961264], [0.2704077954135741, 0.2704077954135741], [0.30262688570438234, 0.30262688570438234], [0.3591818182165907, 0.3591818182165907], [0.3772782842927221, 0.3772782842927221], [0.38191273185224506, 0.38191273185224506], [0.4097025121927636, 0.4097025121927636], [0.378776007813752, 0.378776007813752], [0.3695929764097754, 0.3695929764097754], [0.3952901917130136, 0.3952901917130136], [0.42684293487499014, 0.42684293487499014], [0.4284933064556631, 0.4284933064556631], [0.4150067732506026, 0.4150067732506026], [0.4411081628527409, 0.4411081628527409], [0.44887091505980103, 0.44887091505980103], [0.5258651819068629, 0.5258651819068629], [0.5632979340392891, 0.5632979340392891], [0.6107626234719082, 0.6107626234719082], [0.6009264448162496, 0.6009264448162496], [0.4327617987910266, 0.4327617987910266], [0.35221295006893616, 0.35221295006893616], [0.29564715931860436, 0.29564715931860436]], \"text\": [[\"0h00<br /> 0.275 kVA\"], [\"1h00<br /> 0.270 kVA\"], [\"2h00<br /> 0.268 kVA\"], [\"3h00<br /> 0.270 kVA\"], [\"4h00<br /> 0.303 kVA\"], [\"5h00<br /> 0.359 kVA\"], [\"6h00<br /> 0.377 kVA\"], [\"7h00<br /> 0.382 kVA\"], [\"8h00<br /> 0.410 kVA\"], [\"9h00<br /> 0.379 kVA\"], [\"10h00<br /> 0.370 kVA\"], [\"11h00<br /> 0.395 kVA\"], [\"12h00<br /> 0.427 kVA\"], [\"13h00<br /> 0.428 kVA\"], [\"14h00<br /> 0.415 kVA\"], [\"15h00<br /> 0.441 kVA\"], [\"16h00<br /> 0.449 kVA\"], [\"17h00<br /> 0.526 kVA\"], [\"18h00<br /> 0.563 kVA\"], [\"19h00<br /> 0.611 kVA\"], [\"20h00<br /> 0.601 kVA\"], [\"21h00<br /> 0.433 kVA\"], [\"22h00<br /> 0.352 kVA\"], [\"23h00<br /> 0.296 kVA\"]], \"type\": \"surface\"}], {\"margin\": {\"b\": 50, \"r\": 50, \"l\": 50, \"t\": 50, \"pad\": 10}, \"scene\": {\"zaxis\": {\"rangemode\": \"tozero\", \"tickvals\": [0.0, 0.1, 0.2, 0.30000000000000004, 0.4, 0.5, 0.6000000000000001, 0.7000000000000001, 0.8, 0.9], \"title\": \"demand (kVA)\"}, \"xaxis\": {\"tickwidth\": 1.5, \"tickvals\": [0.5, 1.5, 2.5, 3.5, 4.5, 5.5, 6.5, 7.5, 8.5, 9.5, 10.5, 11.5], \"ticktext\": [12, 11, 10, 9, 8, 7, 6, 5, 4, 3, 2, 1], \"type\": \"category\", \"title\": \"month\"}, \"yaxis\": {\"tickvals\": [0, 2, 4, 6, 8, 10, 12, 14, 16, 18, 20, 22], \"title\": \"time of day\"}}, \"height\": 700, \"title\": \"Weekday hourly load profile for \\\"informal_settlement\\\" customers 7 years after electrification\"}, {\"showLink\": true, \"linkText\": \"Export to plot.ly\"})});</script>"
      ],
      "text/vnd.plotly.v1+html": [
       "<div id=\"a4a3ea77-bfd2-4fe8-9acb-bf756f888abb\" style=\"height: 700px; width: 100%;\" class=\"plotly-graph-div\"></div><script type=\"text/javascript\">require([\"plotly\"], function(Plotly) { window.PLOTLYENV=window.PLOTLYENV || {};window.PLOTLYENV.BASE_URL=\"https://plot.ly\";Plotly.newPlot(\"a4a3ea77-bfd2-4fe8-9acb-bf756f888abb\", [{\"x\": [[0, 1], [0, 1], [0, 1], [0, 1], [0, 1], [0, 1], [0, 1], [0, 1], [0, 1], [0, 1], [0, 1], [0, 1], [0, 1], [0, 1], [0, 1], [0, 1], [0, 1], [0, 1], [0, 1], [0, 1], [0, 1], [0, 1], [0, 1], [0, 1]], \"y\": [[0, 0], [1, 1], [2, 2], [3, 3], [4, 4], [5, 5], [6, 6], [7, 7], [8, 8], [9, 9], [10, 10], [11, 11], [12, 12], [13, 13], [14, 14], [15, 15], [16, 16], [17, 17], [18, 18], [19, 19], [20, 20], [21, 21], [22, 22], [23, 23]], \"hoverinfo\": \"name+text\", \"name\": 12, \"showscale\": false, \"z\": [[0.29616055089795457, 0.29616055089795457], [0.29133526889020606, 0.29133526889020606], [0.2873977609821969, 0.2873977609821969], [0.2989584166262191, 0.2989584166262191], [0.31493729598580045, 0.31493729598580045], [0.3226076513129273, 0.3226076513129273], [0.3585722335720142, 0.3585722335720142], [0.443594927512281, 0.443594927512281], [0.4436967896036796, 0.4436967896036796], [0.43278376472264396, 0.43278376472264396], [0.42716230517343995, 0.42716230517343995], [0.44594226441022333, 0.44594226441022333], [0.44953955249719874, 0.44953955249719874], [0.48604917795263025, 0.48604917795263025], [0.48550687332424974, 0.48550687332424974], [0.48161401989425273, 0.48161401989425273], [0.5352408109288549, 0.5352408109288549], [0.5105098713518119, 0.5105098713518119], [0.5678118865857976, 0.5678118865857976], [0.6969229956832765, 0.6969229956832765], [0.617059462064685, 0.617059462064685], [0.5115011015310285, 0.5115011015310285], [0.3928223982228122, 0.3928223982228122], [0.3337711111437154, 0.3337711111437154]], \"text\": [[\"0h00<br /> 0.296 kVA\"], [\"1h00<br /> 0.291 kVA\"], [\"2h00<br /> 0.287 kVA\"], [\"3h00<br /> 0.299 kVA\"], [\"4h00<br /> 0.315 kVA\"], [\"5h00<br /> 0.323 kVA\"], [\"6h00<br /> 0.359 kVA\"], [\"7h00<br /> 0.444 kVA\"], [\"8h00<br /> 0.444 kVA\"], [\"9h00<br /> 0.433 kVA\"], [\"10h00<br /> 0.427 kVA\"], [\"11h00<br /> 0.446 kVA\"], [\"12h00<br /> 0.450 kVA\"], [\"13h00<br /> 0.486 kVA\"], [\"14h00<br /> 0.486 kVA\"], [\"15h00<br /> 0.482 kVA\"], [\"16h00<br /> 0.535 kVA\"], [\"17h00<br /> 0.511 kVA\"], [\"18h00<br /> 0.568 kVA\"], [\"19h00<br /> 0.697 kVA\"], [\"20h00<br /> 0.617 kVA\"], [\"21h00<br /> 0.512 kVA\"], [\"22h00<br /> 0.393 kVA\"], [\"23h00<br /> 0.334 kVA\"]], \"type\": \"surface\"}, {\"x\": [[1, 2], [1, 2], [1, 2], [1, 2], [1, 2], [1, 2], [1, 2], [1, 2], [1, 2], [1, 2], [1, 2], [1, 2], [1, 2], [1, 2], [1, 2], [1, 2], [1, 2], [1, 2], [1, 2], [1, 2], [1, 2], [1, 2], [1, 2], [1, 2]], \"y\": [[0, 0], [1, 1], [2, 2], [3, 3], [4, 4], [5, 5], [6, 6], [7, 7], [8, 8], [9, 9], [10, 10], [11, 11], [12, 12], [13, 13], [14, 14], [15, 15], [16, 16], [17, 17], [18, 18], [19, 19], [20, 20], [21, 21], [22, 22], [23, 23]], \"hoverinfo\": \"name+text\", \"name\": 11, \"showscale\": false, \"z\": [[0.25917876276853, 0.25917876276853], [0.24508889450266064, 0.24508889450266064], [0.24811027006172282, 0.24811027006172282], [0.2533838394145501, 0.2533838394145501], [0.29940347107606924, 0.29940347107606924], [0.4773982534269438, 0.4773982534269438], [0.5159573008745301, 0.5159573008745301], [0.4355785137278956, 0.4355785137278956], [0.4066186400271214, 0.4066186400271214], [0.40609957336924746, 0.40609957336924746], [0.4134813334762445, 0.4134813334762445], [0.4199175383533857, 0.4199175383533857], [0.43985827400031713, 0.43985827400031713], [0.42555024017394877, 0.42555024017394877], [0.44233600500416786, 0.44233600500416786], [0.4642015559951816, 0.4642015559951816], [0.4957416813173859, 0.4957416813173859], [0.5882826901524052, 0.5882826901524052], [0.6486070090000813, 0.6486070090000813], [0.7264938691804739, 0.7264938691804739], [0.5947347444630552, 0.5947347444630552], [0.42851591903462455, 0.42851591903462455], [0.3368233802012386, 0.3368233802012386], [0.27256757914129737, 0.27256757914129737]], \"text\": [[\"0h00<br /> 0.259 kVA\"], [\"1h00<br /> 0.245 kVA\"], [\"2h00<br /> 0.248 kVA\"], [\"3h00<br /> 0.253 kVA\"], [\"4h00<br /> 0.299 kVA\"], [\"5h00<br /> 0.477 kVA\"], [\"6h00<br /> 0.516 kVA\"], [\"7h00<br /> 0.436 kVA\"], [\"8h00<br /> 0.407 kVA\"], [\"9h00<br /> 0.406 kVA\"], [\"10h00<br /> 0.413 kVA\"], [\"11h00<br /> 0.420 kVA\"], [\"12h00<br /> 0.440 kVA\"], [\"13h00<br /> 0.426 kVA\"], [\"14h00<br /> 0.442 kVA\"], [\"15h00<br /> 0.464 kVA\"], [\"16h00<br /> 0.496 kVA\"], [\"17h00<br /> 0.588 kVA\"], [\"18h00<br /> 0.649 kVA\"], [\"19h00<br /> 0.726 kVA\"], [\"20h00<br /> 0.595 kVA\"], [\"21h00<br /> 0.429 kVA\"], [\"22h00<br /> 0.337 kVA\"], [\"23h00<br /> 0.273 kVA\"]], \"type\": \"surface\"}, {\"x\": [[2, 3], [2, 3], [2, 3], [2, 3], [2, 3], [2, 3], [2, 3], [2, 3], [2, 3], [2, 3], [2, 3], [2, 3], [2, 3], [2, 3], [2, 3], [2, 3], [2, 3], [2, 3], [2, 3], [2, 3], [2, 3], [2, 3], [2, 3], [2, 3]], \"y\": [[0, 0], [1, 1], [2, 2], [3, 3], [4, 4], [5, 5], [6, 6], [7, 7], [8, 8], [9, 9], [10, 10], [11, 11], [12, 12], [13, 13], [14, 14], [15, 15], [16, 16], [17, 17], [18, 18], [19, 19], [20, 20], [21, 21], [22, 22], [23, 23]], \"hoverinfo\": \"name+text\", \"name\": 10, \"showscale\": false, \"z\": [[0.2851564863217898, 0.2851564863217898], [0.2797430838440294, 0.2797430838440294], [0.27631658289519356, 0.27631658289519356], [0.27972601567795313, 0.27972601567795313], [0.32641106746361953, 0.32641106746361953], [0.4634584981748897, 0.4634584981748897], [0.5180431796899213, 0.5180431796899213], [0.46971074512224686, 0.46971074512224686], [0.4379623330831464, 0.4379623330831464], [0.4082929102794263, 0.4082929102794263], [0.43176188879418836, 0.43176188879418836], [0.4247584554561714, 0.4247584554561714], [0.44329958787212026, 0.44329958787212026], [0.45707000929228647, 0.45707000929228647], [0.49964097576108196, 0.49964097576108196], [0.4932409875283088, 0.4932409875283088], [0.5156050137672054, 0.5156050137672054], [0.5840237174999877, 0.5840237174999877], [0.7531652393661438, 0.7531652393661438], [0.8018428885123694, 0.8018428885123694], [0.5817274238266793, 0.5817274238266793], [0.45152832696093753, 0.45152832696093753], [0.3668050069503188, 0.3668050069503188], [0.30116376318540106, 0.30116376318540106]], \"text\": [[\"0h00<br /> 0.285 kVA\"], [\"1h00<br /> 0.280 kVA\"], [\"2h00<br /> 0.276 kVA\"], [\"3h00<br /> 0.280 kVA\"], [\"4h00<br /> 0.326 kVA\"], [\"5h00<br /> 0.463 kVA\"], [\"6h00<br /> 0.518 kVA\"], [\"7h00<br /> 0.470 kVA\"], [\"8h00<br /> 0.438 kVA\"], [\"9h00<br /> 0.408 kVA\"], [\"10h00<br /> 0.432 kVA\"], [\"11h00<br /> 0.425 kVA\"], [\"12h00<br /> 0.443 kVA\"], [\"13h00<br /> 0.457 kVA\"], [\"14h00<br /> 0.500 kVA\"], [\"15h00<br /> 0.493 kVA\"], [\"16h00<br /> 0.516 kVA\"], [\"17h00<br /> 0.584 kVA\"], [\"18h00<br /> 0.753 kVA\"], [\"19h00<br /> 0.802 kVA\"], [\"20h00<br /> 0.582 kVA\"], [\"21h00<br /> 0.452 kVA\"], [\"22h00<br /> 0.367 kVA\"], [\"23h00<br /> 0.301 kVA\"]], \"type\": \"surface\"}, {\"x\": [[3, 4], [3, 4], [3, 4], [3, 4], [3, 4], [3, 4], [3, 4], [3, 4], [3, 4], [3, 4], [3, 4], [3, 4], [3, 4], [3, 4], [3, 4], [3, 4], [3, 4], [3, 4], [3, 4], [3, 4], [3, 4], [3, 4], [3, 4], [3, 4]], \"y\": [[0, 0], [1, 1], [2, 2], [3, 3], [4, 4], [5, 5], [6, 6], [7, 7], [8, 8], [9, 9], [10, 10], [11, 11], [12, 12], [13, 13], [14, 14], [15, 15], [16, 16], [17, 17], [18, 18], [19, 19], [20, 20], [21, 21], [22, 22], [23, 23]], \"hoverinfo\": \"name+text\", \"name\": 9, \"showscale\": false, \"z\": [[0.24857994471544362, 0.24857994471544362], [0.2519675043470457, 0.2519675043470457], [0.24230681877859261, 0.24230681877859261], [0.25162300675681015, 0.25162300675681015], [0.2745165472946567, 0.2745165472946567], [0.42093985988045995, 0.42093985988045995], [0.5490855272124079, 0.5490855272124079], [0.41231807197781073, 0.41231807197781073], [0.40957394197559, 0.40957394197559], [0.43726723517943195, 0.43726723517943195], [0.4514025622145221, 0.4514025622145221], [0.4455860681793347, 0.4455860681793347], [0.4683456065436753, 0.4683456065436753], [0.43079120238182056, 0.43079120238182056], [0.4488261569774547, 0.4488261569774547], [0.4738810619624481, 0.4738810619624481], [0.5183389157547814, 0.5183389157547814], [0.6432023181023628, 0.6432023181023628], [0.768972889031005, 0.768972889031005], [0.6963817809649374, 0.6963817809649374], [0.544048726799108, 0.544048726799108], [0.41319058943566594, 0.41319058943566594], [0.32244055383949255, 0.32244055383949255], [0.2785467055206227, 0.2785467055206227]], \"text\": [[\"0h00<br /> 0.249 kVA\"], [\"1h00<br /> 0.252 kVA\"], [\"2h00<br /> 0.242 kVA\"], [\"3h00<br /> 0.252 kVA\"], [\"4h00<br /> 0.275 kVA\"], [\"5h00<br /> 0.421 kVA\"], [\"6h00<br /> 0.549 kVA\"], [\"7h00<br /> 0.412 kVA\"], [\"8h00<br /> 0.410 kVA\"], [\"9h00<br /> 0.437 kVA\"], [\"10h00<br /> 0.451 kVA\"], [\"11h00<br /> 0.446 kVA\"], [\"12h00<br /> 0.468 kVA\"], [\"13h00<br /> 0.431 kVA\"], [\"14h00<br /> 0.449 kVA\"], [\"15h00<br /> 0.474 kVA\"], [\"16h00<br /> 0.518 kVA\"], [\"17h00<br /> 0.643 kVA\"], [\"18h00<br /> 0.769 kVA\"], [\"19h00<br /> 0.696 kVA\"], [\"20h00<br /> 0.544 kVA\"], [\"21h00<br /> 0.413 kVA\"], [\"22h00<br /> 0.322 kVA\"], [\"23h00<br /> 0.279 kVA\"]], \"type\": \"surface\"}, {\"x\": [[4, 5], [4, 5], [4, 5], [4, 5], [4, 5], [4, 5], [4, 5], [4, 5], [4, 5], [4, 5], [4, 5], [4, 5], [4, 5], [4, 5], [4, 5], [4, 5], [4, 5], [4, 5], [4, 5], [4, 5], [4, 5], [4, 5], [4, 5], [4, 5]], \"y\": [[0, 0], [1, 1], [2, 2], [3, 3], [4, 4], [5, 5], [6, 6], [7, 7], [8, 8], [9, 9], [10, 10], [11, 11], [12, 12], [13, 13], [14, 14], [15, 15], [16, 16], [17, 17], [18, 18], [19, 19], [20, 20], [21, 21], [22, 22], [23, 23]], \"hoverinfo\": \"name+text\", \"name\": 8, \"showscale\": false, \"z\": [[0.2736856323034067, 0.2736856323034067], [0.27011985904370217, 0.27011985904370217], [0.26693144363934196, 0.26693144363934196], [0.27881137934587996, 0.27881137934587996], [0.3071087344267936, 0.3071087344267936], [0.44555859154836686, 0.44555859154836686], [0.6465652070414964, 0.6465652070414964], [0.4904231582967204, 0.4904231582967204], [0.43609548292696165, 0.43609548292696165], [0.4324744258993282, 0.4324744258993282], [0.4457008826939829, 0.4457008826939829], [0.46052216584252076, 0.46052216584252076], [0.470223010643938, 0.470223010643938], [0.4870272415648955, 0.4870272415648955], [0.4960770133797011, 0.4960770133797011], [0.4702454857192632, 0.4702454857192632], [0.5565337262500063, 0.5565337262500063], [0.7463183423395493, 0.7463183423395493], [0.8576349697635611, 0.8576349697635611], [0.8187545568324318, 0.8187545568324318], [0.5999641577504964, 0.5999641577504964], [0.46765171027824565, 0.46765171027824565], [0.3388417433066888, 0.3388417433066888], [0.2902536242343631, 0.2902536242343631]], \"text\": [[\"0h00<br /> 0.274 kVA\"], [\"1h00<br /> 0.270 kVA\"], [\"2h00<br /> 0.267 kVA\"], [\"3h00<br /> 0.279 kVA\"], [\"4h00<br /> 0.307 kVA\"], [\"5h00<br /> 0.446 kVA\"], [\"6h00<br /> 0.647 kVA\"], [\"7h00<br /> 0.490 kVA\"], [\"8h00<br /> 0.436 kVA\"], [\"9h00<br /> 0.432 kVA\"], [\"10h00<br /> 0.446 kVA\"], [\"11h00<br /> 0.461 kVA\"], [\"12h00<br /> 0.470 kVA\"], [\"13h00<br /> 0.487 kVA\"], [\"14h00<br /> 0.496 kVA\"], [\"15h00<br /> 0.470 kVA\"], [\"16h00<br /> 0.557 kVA\"], [\"17h00<br /> 0.746 kVA\"], [\"18h00<br /> 0.858 kVA\"], [\"19h00<br /> 0.819 kVA\"], [\"20h00<br /> 0.600 kVA\"], [\"21h00<br /> 0.468 kVA\"], [\"22h00<br /> 0.339 kVA\"], [\"23h00<br /> 0.290 kVA\"]], \"type\": \"surface\"}, {\"x\": [[5, 6], [5, 6], [5, 6], [5, 6], [5, 6], [5, 6], [5, 6], [5, 6], [5, 6], [5, 6], [5, 6], [5, 6], [5, 6], [5, 6], [5, 6], [5, 6], [5, 6], [5, 6], [5, 6], [5, 6], [5, 6], [5, 6], [5, 6], [5, 6]], \"y\": [[0, 0], [1, 1], [2, 2], [3, 3], [4, 4], [5, 5], [6, 6], [7, 7], [8, 8], [9, 9], [10, 10], [11, 11], [12, 12], [13, 13], [14, 14], [15, 15], [16, 16], [17, 17], [18, 18], [19, 19], [20, 20], [21, 21], [22, 22], [23, 23]], \"hoverinfo\": \"name+text\", \"name\": 7, \"showscale\": false, \"z\": [[0.2974758970795088, 0.2974758970795088], [0.30243113096697594, 0.30243113096697594], [0.29773760451896747, 0.29773760451896747], [0.31183474433644953, 0.31183474433644953], [0.3461270179464004, 0.3461270179464004], [0.4607872573449405, 0.4607872573449405], [0.6550485396734745, 0.6550485396734745], [0.5453950238535701, 0.5453950238535701], [0.4626138017552419, 0.4626138017552419], [0.4239251289261453, 0.4239251289261453], [0.39235365114081283, 0.39235365114081283], [0.4187985234106896, 0.4187985234106896], [0.4461933390831407, 0.4461933390831407], [0.44324793424135006, 0.44324793424135006], [0.4591547727755963, 0.4591547727755963], [0.45652892677885987, 0.45652892677885987], [0.5394559246254603, 0.5394559246254603], [0.8112174459469976, 0.8112174459469976], [0.9076756217034944, 0.9076756217034944], [0.7868333364784117, 0.7868333364784117], [0.5430556875750928, 0.5430556875750928], [0.4526542707333872, 0.4526542707333872], [0.36007231482172825, 0.36007231482172825], [0.3208436655536802, 0.3208436655536802]], \"text\": [[\"0h00<br /> 0.297 kVA\"], [\"1h00<br /> 0.302 kVA\"], [\"2h00<br /> 0.298 kVA\"], [\"3h00<br /> 0.312 kVA\"], [\"4h00<br /> 0.346 kVA\"], [\"5h00<br /> 0.461 kVA\"], [\"6h00<br /> 0.655 kVA\"], [\"7h00<br /> 0.545 kVA\"], [\"8h00<br /> 0.463 kVA\"], [\"9h00<br /> 0.424 kVA\"], [\"10h00<br /> 0.392 kVA\"], [\"11h00<br /> 0.419 kVA\"], [\"12h00<br /> 0.446 kVA\"], [\"13h00<br /> 0.443 kVA\"], [\"14h00<br /> 0.459 kVA\"], [\"15h00<br /> 0.457 kVA\"], [\"16h00<br /> 0.539 kVA\"], [\"17h00<br /> 0.811 kVA\"], [\"18h00<br /> 0.908 kVA\"], [\"19h00<br /> 0.787 kVA\"], [\"20h00<br /> 0.543 kVA\"], [\"21h00<br /> 0.453 kVA\"], [\"22h00<br /> 0.360 kVA\"], [\"23h00<br /> 0.321 kVA\"]], \"type\": \"surface\"}, {\"x\": [[6, 7], [6, 7], [6, 7], [6, 7], [6, 7], [6, 7], [6, 7], [6, 7], [6, 7], [6, 7], [6, 7], [6, 7], [6, 7], [6, 7], [6, 7], [6, 7], [6, 7], [6, 7], [6, 7], [6, 7], [6, 7], [6, 7], [6, 7], [6, 7]], \"y\": [[0, 0], [1, 1], [2, 2], [3, 3], [4, 4], [5, 5], [6, 6], [7, 7], [8, 8], [9, 9], [10, 10], [11, 11], [12, 12], [13, 13], [14, 14], [15, 15], [16, 16], [17, 17], [18, 18], [19, 19], [20, 20], [21, 21], [22, 22], [23, 23]], \"hoverinfo\": \"name+text\", \"name\": 6, \"showscale\": false, \"z\": [[0.2895252375946646, 0.2895252375946646], [0.29140909205249294, 0.29140909205249294], [0.2902568554062219, 0.2902568554062219], [0.3183584064780936, 0.3183584064780936], [0.33214415380095685, 0.33214415380095685], [0.46910443836293947, 0.46910443836293947], [0.5808152977741037, 0.5808152977741037], [0.5540468991975989, 0.5540468991975989], [0.4712278151048601, 0.4712278151048601], [0.4021625193477597, 0.4021625193477597], [0.3802536903924427, 0.3802536903924427], [0.4217123021150045, 0.4217123021150045], [0.40448666864699984, 0.40448666864699984], [0.4172449334045727, 0.4172449334045727], [0.4764117258682381, 0.4764117258682381], [0.47439356881839906, 0.47439356881839906], [0.5686396112025124, 0.5686396112025124], [0.7724881028824488, 0.7724881028824488], [0.8459167732582826, 0.8459167732582826], [0.6812596135940056, 0.6812596135940056], [0.5562870874526902, 0.5562870874526902], [0.4473558813069687, 0.4473558813069687], [0.3582862555955106, 0.3582862555955106], [0.3170993875776538, 0.3170993875776538]], \"text\": [[\"0h00<br /> 0.290 kVA\"], [\"1h00<br /> 0.291 kVA\"], [\"2h00<br /> 0.290 kVA\"], [\"3h00<br /> 0.318 kVA\"], [\"4h00<br /> 0.332 kVA\"], [\"5h00<br /> 0.469 kVA\"], [\"6h00<br /> 0.581 kVA\"], [\"7h00<br /> 0.554 kVA\"], [\"8h00<br /> 0.471 kVA\"], [\"9h00<br /> 0.402 kVA\"], [\"10h00<br /> 0.380 kVA\"], [\"11h00<br /> 0.422 kVA\"], [\"12h00<br /> 0.404 kVA\"], [\"13h00<br /> 0.417 kVA\"], [\"14h00<br /> 0.476 kVA\"], [\"15h00<br /> 0.474 kVA\"], [\"16h00<br /> 0.569 kVA\"], [\"17h00<br /> 0.772 kVA\"], [\"18h00<br /> 0.846 kVA\"], [\"19h00<br /> 0.681 kVA\"], [\"20h00<br /> 0.556 kVA\"], [\"21h00<br /> 0.447 kVA\"], [\"22h00<br /> 0.358 kVA\"], [\"23h00<br /> 0.317 kVA\"]], \"type\": \"surface\"}, {\"x\": [[7, 8], [7, 8], [7, 8], [7, 8], [7, 8], [7, 8], [7, 8], [7, 8], [7, 8], [7, 8], [7, 8], [7, 8], [7, 8], [7, 8], [7, 8], [7, 8], [7, 8], [7, 8], [7, 8], [7, 8], [7, 8], [7, 8], [7, 8], [7, 8]], \"y\": [[0, 0], [1, 1], [2, 2], [3, 3], [4, 4], [5, 5], [6, 6], [7, 7], [8, 8], [9, 9], [10, 10], [11, 11], [12, 12], [13, 13], [14, 14], [15, 15], [16, 16], [17, 17], [18, 18], [19, 19], [20, 20], [21, 21], [22, 22], [23, 23]], \"hoverinfo\": \"name+text\", \"name\": 5, \"showscale\": false, \"z\": [[0.2659288557844969, 0.2659288557844969], [0.26266798560632754, 0.26266798560632754], [0.2675098824526898, 0.2675098824526898], [0.29540184492971416, 0.29540184492971416], [0.33813241129812854, 0.33813241129812854], [0.5010639012077079, 0.5010639012077079], [0.641591210586582, 0.641591210586582], [0.43355446799206343, 0.43355446799206343], [0.3833426156825556, 0.3833426156825556], [0.3765939027985526, 0.3765939027985526], [0.3538104871868261, 0.3538104871868261], [0.35017942255987405, 0.35017942255987405], [0.390595730114381, 0.390595730114381], [0.40732737496403887, 0.40732737496403887], [0.42215936516268543, 0.42215936516268543], [0.4375228859083826, 0.4375228859083826], [0.5206374447394869, 0.5206374447394869], [0.6691864869541487, 0.6691864869541487], [0.8442231969411225, 0.8442231969411225], [0.6944864037462382, 0.6944864037462382], [0.5088268072786976, 0.5088268072786976], [0.42918732920426056, 0.42918732920426056], [0.34407668670990693, 0.34407668670990693], [0.2894493368570974, 0.2894493368570974]], \"text\": [[\"0h00<br /> 0.266 kVA\"], [\"1h00<br /> 0.263 kVA\"], [\"2h00<br /> 0.268 kVA\"], [\"3h00<br /> 0.295 kVA\"], [\"4h00<br /> 0.338 kVA\"], [\"5h00<br /> 0.501 kVA\"], [\"6h00<br /> 0.642 kVA\"], [\"7h00<br /> 0.434 kVA\"], [\"8h00<br /> 0.383 kVA\"], [\"9h00<br /> 0.377 kVA\"], [\"10h00<br /> 0.354 kVA\"], [\"11h00<br /> 0.350 kVA\"], [\"12h00<br /> 0.391 kVA\"], [\"13h00<br /> 0.407 kVA\"], [\"14h00<br /> 0.422 kVA\"], [\"15h00<br /> 0.438 kVA\"], [\"16h00<br /> 0.521 kVA\"], [\"17h00<br /> 0.669 kVA\"], [\"18h00<br /> 0.844 kVA\"], [\"19h00<br /> 0.694 kVA\"], [\"20h00<br /> 0.509 kVA\"], [\"21h00<br /> 0.429 kVA\"], [\"22h00<br /> 0.344 kVA\"], [\"23h00<br /> 0.289 kVA\"]], \"type\": \"surface\"}, {\"x\": [[8, 9], [8, 9], [8, 9], [8, 9], [8, 9], [8, 9], [8, 9], [8, 9], [8, 9], [8, 9], [8, 9], [8, 9], [8, 9], [8, 9], [8, 9], [8, 9], [8, 9], [8, 9], [8, 9], [8, 9], [8, 9], [8, 9], [8, 9], [8, 9]], \"y\": [[0, 0], [1, 1], [2, 2], [3, 3], [4, 4], [5, 5], [6, 6], [7, 7], [8, 8], [9, 9], [10, 10], [11, 11], [12, 12], [13, 13], [14, 14], [15, 15], [16, 16], [17, 17], [18, 18], [19, 19], [20, 20], [21, 21], [22, 22], [23, 23]], \"hoverinfo\": \"name+text\", \"name\": 4, \"showscale\": false, \"z\": [[0.24945544827189214, 0.24945544827189214], [0.24184578043757432, 0.24184578043757432], [0.23545130046681215, 0.23545130046681215], [0.2596545821941232, 0.2596545821941232], [0.2782227624228397, 0.2782227624228397], [0.3495257945535115, 0.3495257945535115], [0.5277647271675537, 0.5277647271675537], [0.40743290100113616, 0.40743290100113616], [0.38007088769701, 0.38007088769701], [0.38172979804397933, 0.38172979804397933], [0.3635361400615044, 0.3635361400615044], [0.3552610024835585, 0.3552610024835585], [0.3817561325415424, 0.3817561325415424], [0.44260804476198795, 0.44260804476198795], [0.4422948541067703, 0.4422948541067703], [0.4245923034699706, 0.4245923034699706], [0.5121235583206457, 0.5121235583206457], [0.6644804230122493, 0.6644804230122493], [0.7356969706643096, 0.7356969706643096], [0.6207290443172705, 0.6207290443172705], [0.4384152245141861, 0.4384152245141861], [0.3826320349499866, 0.3826320349499866], [0.3068584064512566, 0.3068584064512566], [0.268344419093303, 0.268344419093303]], \"text\": [[\"0h00<br /> 0.249 kVA\"], [\"1h00<br /> 0.242 kVA\"], [\"2h00<br /> 0.235 kVA\"], [\"3h00<br /> 0.260 kVA\"], [\"4h00<br /> 0.278 kVA\"], [\"5h00<br /> 0.350 kVA\"], [\"6h00<br /> 0.528 kVA\"], [\"7h00<br /> 0.407 kVA\"], [\"8h00<br /> 0.380 kVA\"], [\"9h00<br /> 0.382 kVA\"], [\"10h00<br /> 0.364 kVA\"], [\"11h00<br /> 0.355 kVA\"], [\"12h00<br /> 0.382 kVA\"], [\"13h00<br /> 0.443 kVA\"], [\"14h00<br /> 0.442 kVA\"], [\"15h00<br /> 0.425 kVA\"], [\"16h00<br /> 0.512 kVA\"], [\"17h00<br /> 0.664 kVA\"], [\"18h00<br /> 0.736 kVA\"], [\"19h00<br /> 0.621 kVA\"], [\"20h00<br /> 0.438 kVA\"], [\"21h00<br /> 0.383 kVA\"], [\"22h00<br /> 0.307 kVA\"], [\"23h00<br /> 0.268 kVA\"]], \"type\": \"surface\"}, {\"x\": [[9, 10], [9, 10], [9, 10], [9, 10], [9, 10], [9, 10], [9, 10], [9, 10], [9, 10], [9, 10], [9, 10], [9, 10], [9, 10], [9, 10], [9, 10], [9, 10], [9, 10], [9, 10], [9, 10], [9, 10], [9, 10], [9, 10], [9, 10], [9, 10]], \"y\": [[0, 0], [1, 1], [2, 2], [3, 3], [4, 4], [5, 5], [6, 6], [7, 7], [8, 8], [9, 9], [10, 10], [11, 11], [12, 12], [13, 13], [14, 14], [15, 15], [16, 16], [17, 17], [18, 18], [19, 19], [20, 20], [21, 21], [22, 22], [23, 23]], \"hoverinfo\": \"name+text\", \"name\": 3, \"showscale\": false, \"z\": [[0.2622317345530583, 0.2622317345530583], [0.25842007881994433, 0.25842007881994433], [0.2557480666225636, 0.2557480666225636], [0.2777412120124429, 0.2777412120124429], [0.31574380218747944, 0.31574380218747944], [0.38505165184408324, 0.38505165184408324], [0.536394627566867, 0.536394627566867], [0.3761811288819775, 0.3761811288819775], [0.36096074350114743, 0.36096074350114743], [0.33595041363054606, 0.33595041363054606], [0.34466489807621953, 0.34466489807621953], [0.3590293689657671, 0.3590293689657671], [0.37272940341900057, 0.37272940341900057], [0.392688673130832, 0.392688673130832], [0.3967678333492989, 0.3967678333492989], [0.39499655618770413, 0.39499655618770413], [0.47976928393496965, 0.47976928393496965], [0.5469915078686004, 0.5469915078686004], [0.6512213866735607, 0.6512213866735607], [0.6238055542988612, 0.6238055542988612], [0.5004143705142895, 0.5004143705142895], [0.3863225601721267, 0.3863225601721267], [0.31374590143740316, 0.31374590143740316], [0.2689819837804839, 0.2689819837804839]], \"text\": [[\"0h00<br /> 0.262 kVA\"], [\"1h00<br /> 0.258 kVA\"], [\"2h00<br /> 0.256 kVA\"], [\"3h00<br /> 0.278 kVA\"], [\"4h00<br /> 0.316 kVA\"], [\"5h00<br /> 0.385 kVA\"], [\"6h00<br /> 0.536 kVA\"], [\"7h00<br /> 0.376 kVA\"], [\"8h00<br /> 0.361 kVA\"], [\"9h00<br /> 0.336 kVA\"], [\"10h00<br /> 0.345 kVA\"], [\"11h00<br /> 0.359 kVA\"], [\"12h00<br /> 0.373 kVA\"], [\"13h00<br /> 0.393 kVA\"], [\"14h00<br /> 0.397 kVA\"], [\"15h00<br /> 0.395 kVA\"], [\"16h00<br /> 0.480 kVA\"], [\"17h00<br /> 0.547 kVA\"], [\"18h00<br /> 0.651 kVA\"], [\"19h00<br /> 0.624 kVA\"], [\"20h00<br /> 0.500 kVA\"], [\"21h00<br /> 0.386 kVA\"], [\"22h00<br /> 0.314 kVA\"], [\"23h00<br /> 0.269 kVA\"]], \"type\": \"surface\"}, {\"x\": [[10, 11], [10, 11], [10, 11], [10, 11], [10, 11], [10, 11], [10, 11], [10, 11], [10, 11], [10, 11], [10, 11], [10, 11], [10, 11], [10, 11], [10, 11], [10, 11], [10, 11], [10, 11], [10, 11], [10, 11], [10, 11], [10, 11], [10, 11], [10, 11]], \"y\": [[0, 0], [1, 1], [2, 2], [3, 3], [4, 4], [5, 5], [6, 6], [7, 7], [8, 8], [9, 9], [10, 10], [11, 11], [12, 12], [13, 13], [14, 14], [15, 15], [16, 16], [17, 17], [18, 18], [19, 19], [20, 20], [21, 21], [22, 22], [23, 23]], \"hoverinfo\": \"name+text\", \"name\": 2, \"showscale\": false, \"z\": [[0.3037238279079491, 0.3037238279079491], [0.30152641810009945, 0.30152641810009945], [0.29823721669672526, 0.29823721669672526], [0.3211743853951, 0.3211743853951], [0.33451344933629984, 0.33451344933629984], [0.47681679786521713, 0.47681679786521713], [0.5313522126053974, 0.5313522126053974], [0.3614326012240015, 0.3614326012240015], [0.33855048660442993, 0.33855048660442993], [0.33715983471875055, 0.33715983471875055], [0.3455846373625729, 0.3455846373625729], [0.29400487988149204, 0.29400487988149204], [0.35181753075160754, 0.35181753075160754], [0.3745455791048475, 0.3745455791048475], [0.3971965498278693, 0.3971965498278693], [0.4041508927600532, 0.4041508927600532], [0.4397047250941055, 0.4397047250941055], [0.5626876152190704, 0.5626876152190704], [0.6712357716826959, 0.6712357716826959], [0.653613918521577, 0.653613918521577], [0.5220835492403207, 0.5220835492403207], [0.40772575054002963, 0.40772575054002963], [0.34872583068761165, 0.34872583068761165], [0.31391312701978463, 0.31391312701978463]], \"text\": [[\"0h00<br /> 0.304 kVA\"], [\"1h00<br /> 0.302 kVA\"], [\"2h00<br /> 0.298 kVA\"], [\"3h00<br /> 0.321 kVA\"], [\"4h00<br /> 0.335 kVA\"], [\"5h00<br /> 0.477 kVA\"], [\"6h00<br /> 0.531 kVA\"], [\"7h00<br /> 0.361 kVA\"], [\"8h00<br /> 0.339 kVA\"], [\"9h00<br /> 0.337 kVA\"], [\"10h00<br /> 0.346 kVA\"], [\"11h00<br /> 0.294 kVA\"], [\"12h00<br /> 0.352 kVA\"], [\"13h00<br /> 0.375 kVA\"], [\"14h00<br /> 0.397 kVA\"], [\"15h00<br /> 0.404 kVA\"], [\"16h00<br /> 0.440 kVA\"], [\"17h00<br /> 0.563 kVA\"], [\"18h00<br /> 0.671 kVA\"], [\"19h00<br /> 0.654 kVA\"], [\"20h00<br /> 0.522 kVA\"], [\"21h00<br /> 0.408 kVA\"], [\"22h00<br /> 0.349 kVA\"], [\"23h00<br /> 0.314 kVA\"]], \"type\": \"surface\"}, {\"x\": [[11, 12], [11, 12], [11, 12], [11, 12], [11, 12], [11, 12], [11, 12], [11, 12], [11, 12], [11, 12], [11, 12], [11, 12], [11, 12], [11, 12], [11, 12], [11, 12], [11, 12], [11, 12], [11, 12], [11, 12], [11, 12], [11, 12], [11, 12], [11, 12]], \"y\": [[0, 0], [1, 1], [2, 2], [3, 3], [4, 4], [5, 5], [6, 6], [7, 7], [8, 8], [9, 9], [10, 10], [11, 11], [12, 12], [13, 13], [14, 14], [15, 15], [16, 16], [17, 17], [18, 18], [19, 19], [20, 20], [21, 21], [22, 22], [23, 23]], \"hoverinfo\": \"name+text\", \"name\": 1, \"showscale\": false, \"z\": [[0.27545524686931366, 0.27545524686931366], [0.26952611255821335, 0.26952611255821335], [0.26775321843961264, 0.26775321843961264], [0.2704077954135741, 0.2704077954135741], [0.30262688570438234, 0.30262688570438234], [0.3591818182165907, 0.3591818182165907], [0.3772782842927221, 0.3772782842927221], [0.38191273185224506, 0.38191273185224506], [0.4097025121927636, 0.4097025121927636], [0.378776007813752, 0.378776007813752], [0.3695929764097754, 0.3695929764097754], [0.3952901917130136, 0.3952901917130136], [0.42684293487499014, 0.42684293487499014], [0.4284933064556631, 0.4284933064556631], [0.4150067732506026, 0.4150067732506026], [0.4411081628527409, 0.4411081628527409], [0.44887091505980103, 0.44887091505980103], [0.5258651819068629, 0.5258651819068629], [0.5632979340392891, 0.5632979340392891], [0.6107626234719082, 0.6107626234719082], [0.6009264448162496, 0.6009264448162496], [0.4327617987910266, 0.4327617987910266], [0.35221295006893616, 0.35221295006893616], [0.29564715931860436, 0.29564715931860436]], \"text\": [[\"0h00<br /> 0.275 kVA\"], [\"1h00<br /> 0.270 kVA\"], [\"2h00<br /> 0.268 kVA\"], [\"3h00<br /> 0.270 kVA\"], [\"4h00<br /> 0.303 kVA\"], [\"5h00<br /> 0.359 kVA\"], [\"6h00<br /> 0.377 kVA\"], [\"7h00<br /> 0.382 kVA\"], [\"8h00<br /> 0.410 kVA\"], [\"9h00<br /> 0.379 kVA\"], [\"10h00<br /> 0.370 kVA\"], [\"11h00<br /> 0.395 kVA\"], [\"12h00<br /> 0.427 kVA\"], [\"13h00<br /> 0.428 kVA\"], [\"14h00<br /> 0.415 kVA\"], [\"15h00<br /> 0.441 kVA\"], [\"16h00<br /> 0.449 kVA\"], [\"17h00<br /> 0.526 kVA\"], [\"18h00<br /> 0.563 kVA\"], [\"19h00<br /> 0.611 kVA\"], [\"20h00<br /> 0.601 kVA\"], [\"21h00<br /> 0.433 kVA\"], [\"22h00<br /> 0.352 kVA\"], [\"23h00<br /> 0.296 kVA\"]], \"type\": \"surface\"}], {\"margin\": {\"b\": 50, \"r\": 50, \"l\": 50, \"t\": 50, \"pad\": 10}, \"scene\": {\"zaxis\": {\"rangemode\": \"tozero\", \"tickvals\": [0.0, 0.1, 0.2, 0.30000000000000004, 0.4, 0.5, 0.6000000000000001, 0.7000000000000001, 0.8, 0.9], \"title\": \"demand (kVA)\"}, \"xaxis\": {\"tickwidth\": 1.5, \"tickvals\": [0.5, 1.5, 2.5, 3.5, 4.5, 5.5, 6.5, 7.5, 8.5, 9.5, 10.5, 11.5], \"ticktext\": [12, 11, 10, 9, 8, 7, 6, 5, 4, 3, 2, 1], \"type\": \"category\", \"title\": \"month\"}, \"yaxis\": {\"tickvals\": [0, 2, 4, 6, 8, 10, 12, 14, 16, 18, 20, 22], \"title\": \"time of day\"}}, \"height\": 700, \"title\": \"Weekday hourly load profile for \\\"informal_settlement\\\" customers 7 years after electrification\"}, {\"showLink\": true, \"linkText\": \"Export to plot.ly\"})});</script>"
      ]
     },
     "metadata": {},
     "output_type": "display_data"
    }
   ],
   "source": [
    "eh.plotHourlyProfiles('informal_settlement', years_electrified = 3, model='data', year=2012, experiment_dir='exp1')"
   ]
  },
  {
   "cell_type": "code",
   "execution_count": null,
   "metadata": {
    "collapsed": true
   },
   "outputs": [],
   "source": []
  }
 ],
 "metadata": {
  "anaconda-cloud": {},
  "kernelspec": {
   "display_name": "Python [conda root]",
   "language": "python",
   "name": "conda-root-py"
  },
  "language_info": {
   "codemirror_mode": {
    "name": "ipython",
    "version": 3
   },
   "file_extension": ".py",
   "mimetype": "text/x-python",
   "name": "python",
   "nbconvert_exporter": "python",
   "pygments_lexer": "ipython3",
   "version": "3.5.2"
  }
 },
 "nbformat": 4,
 "nbformat_minor": 2
}
