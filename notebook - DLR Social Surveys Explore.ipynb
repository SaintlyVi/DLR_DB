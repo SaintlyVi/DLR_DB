{
 "cells": [
  {
   "cell_type": "markdown",
   "metadata": {},
   "source": [
    "# Domestic Load Research Programme Social Survey Exploration"
   ]
  },
  {
   "cell_type": "markdown",
   "metadata": {},
   "source": [
    "This notebook requires access to a data directory with DLR survey data saved as feather objects. The data files must be saved in `/data/tables/` ."
   ]
  },
  {
   "cell_type": "code",
   "execution_count": null,
   "metadata": {
    "scrolled": true
   },
   "outputs": [],
   "source": [
    "import features.feature_socios as s\n",
    "import colorlover as cl\n",
    "import plotly.graph_objs as go\n",
    "import plotly.offline as po\n",
    "po.init_notebook_mode(connected=True)"
   ]
  },
  {
   "cell_type": "markdown",
   "metadata": {},
   "source": [
    "## List of Questionaires"
   ]
  },
  {
   "cell_type": "code",
   "execution_count": null,
   "metadata": {},
   "outputs": [],
   "source": [
    "tbls = s.loadTable('questionaires')\n",
    "tbls[tbls['QuestionaireID'].isin([3, 4, 6, 7, 1000000, 1000001, 1000002])]"
   ]
  },
  {
   "cell_type": "markdown",
   "metadata": {},
   "source": [
    "## Search Questions"
   ]
  },
  {
   "cell_type": "code",
   "execution_count": null,
   "metadata": {},
   "outputs": [],
   "source": [
    "s.searchQuestions('watersource')"
   ]
  },
  {
   "cell_type": "markdown",
   "metadata": {},
   "source": [
    "## Search Answers"
   ]
  },
  {
   "cell_type": "code",
   "execution_count": null,
   "metadata": {},
   "outputs": [],
   "source": [
    "answers = s.searchAnswers('watersource')\n",
    "answers.tail()"
   ]
  },
  {
   "cell_type": "markdown",
   "metadata": {},
   "source": [
    "## Extract Survey Responses"
   ]
  },
  {
   "cell_type": "code",
   "execution_count": null,
   "metadata": {},
   "outputs": [],
   "source": [
    "sdist = s.genS('distributions',1994,2014)\n",
    "sdist.head()"
   ]
  },
  {
   "cell_type": "markdown",
   "metadata": {},
   "source": [
    "## Plot Survey Responses"
   ]
  },
  {
   "cell_type": "code",
   "execution_count": null,
   "metadata": {},
   "outputs": [],
   "source": [
    "income = [go.Histogram(x=sdist.monthly_income, \n",
    "                           xbins=dict(\n",
    "                                start=0,\n",
    "                                end=sdist.monthly_income.max()/2,\n",
    "                                size= 5000),\n",
    "                            autobinx = False,\n",
    "                            marker=dict(color=cl.scales['3']['qual']['Pastel1'][0], \n",
    "                                        line=dict(color='#000000', width=0.5)))]\n",
    "layout = go.Layout(title='Distribution of Monthly Income of Survey Respondents',\n",
    "                  xaxis=dict(title='Household Income in ZAR (R5k bin size, inflation adjusted to Dec 2016)'),\n",
    "                  yaxis=dict(title='Household Count', showline=True),\n",
    "                  margin=dict(t=70),\n",
    "                  height=350, width=650)\n",
    "fig = go.Figure(data=income, layout=layout)\n",
    "po.iplot(fig)"
   ]
  },
  {
   "cell_type": "code",
   "execution_count": null,
   "metadata": {},
   "outputs": [],
   "source": [
    "floor_area = [go.Histogram(x=sdist.floor_area, \n",
    "                            xbins=dict(\n",
    "                                start=0,\n",
    "                                end=sdist.floor_area.max()/2,\n",
    "                                size= 25),\n",
    "                            autobinx=False,\n",
    "                            marker=dict(color=cl.scales['3']['qual']['Pastel1'][1], \n",
    "                                        line=dict(color='#000000', width=0.5)))]\n",
    "layout = go.Layout(title='Distribution of Dwelling Floor Area of Survey Respondents',\n",
    "                  xaxis=dict(title='Dwelling Floor Area (25mˆ2 bin size)'),\n",
    "                  yaxis=dict(title='Household Count', showline=True),\n",
    "                  margin=dict(t=70),\n",
    "                  height=350, width=650)\n",
    "fig = go.Figure(data=floor_area, layout=layout)\n",
    "po.iplot(fig)"
   ]
  },
  {
   "cell_type": "code",
   "execution_count": null,
   "metadata": {},
   "outputs": [],
   "source": [
    "years_electrified = [go.Histogram(x=sdist.years_electrified, \n",
    "                            xbins=dict(\n",
    "                                start=0,\n",
    "                                end=sdist.years_electrified.max()/2,\n",
    "                                size= 1),\n",
    "                            autobinx=False,\n",
    "                            marker=dict(color=cl.scales['3']['qual']['Pastel1'][2], \n",
    "                                        line=dict(color='#000000', width=0.5)))]\n",
    "layout = go.Layout(title=\"Survey Respondents' Years Since Electrification \",\n",
    "                  xaxis=dict(title='Years Electrified (1 year bin size)'),\n",
    "                  yaxis=dict(title='Household Count', showline=True),\n",
    "                  margin=dict(t=70),\n",
    "                  height=350, width=650)\n",
    "fig = go.Figure(data=years_electrified, layout=layout)\n",
    "po.iplot(fig)"
   ]
  },
  {
   "cell_type": "code",
   "execution_count": null,
   "metadata": {},
   "outputs": [],
   "source": [
    "wall_material = sdist.reset_index().groupby('wall_material')['ProfileID'].count()\n",
    "roof_material = sdist.reset_index().groupby('roof_material')['ProfileID'].count()\n",
    "colors = cl.scales['12']['qual']['Set3']\n",
    "\n",
    "fig = {\n",
    "  \"data\": [\n",
    "    {\n",
    "      \"values\": wall_material.values,\n",
    "      \"labels\": wall_material.index,\n",
    "      \"textinfo\": 'label+percent',\n",
    "      \"textposition\": \"inside\",\n",
    "      \"textfont\": dict(size=15, color='#000000'),\n",
    "      \"marker\": dict(colors=colors, line=dict(color='#000000', width=0.5)),\n",
    "      \"domain\": {\"x\": [0, .48]},\n",
    "      \"name\": \"wall material\",\n",
    "      \"hole\": .3,\n",
    "      \"type\": \"pie\",\n",
    "      \"pull\": 0.035\n",
    "    },\n",
    "    {\n",
    "      \"values\": roof_material.values,\n",
    "      \"labels\": roof_material.index,\n",
    "      \"textinfo\": 'label+percent',\n",
    "      \"textposition\":\"inside\",\n",
    "      \"textfont\": dict(size=15, color='#000000'),\n",
    "      \"marker\": dict(line=dict(color='#000000', width=0.5)),\n",
    "      \"domain\": {\"x\": [.52, 1]},\n",
    "      \"name\": \"roof material\",\n",
    "      \"hole\": .3,\n",
    "      \"type\": \"pie\",\n",
    "      \"pull\": 0.035\n",
    "    }],\n",
    "  \"layout\": {\n",
    "        \"title\":\"Dwelling Materials of Survey Respondents\",\n",
    "        \"annotations\": [\n",
    "            {\n",
    "                \"font\": {\"size\": 20},\n",
    "                \"showarrow\": False,\n",
    "                \"text\": \"wall\",\n",
    "                \"x\": 0.21,\n",
    "                \"y\": 0.5\n",
    "            },\n",
    "            {\n",
    "                \"font\": {\"size\": 20},\n",
    "                \"showarrow\": False,\n",
    "                \"text\": \"roof\",\n",
    "                \"x\": 0.79,\n",
    "                \"y\": 0.5\n",
    "            }]}}\n",
    "po.iplot(fig)"
   ]
  },
  {
   "cell_type": "code",
   "execution_count": null,
   "metadata": {
    "scrolled": false
   },
   "outputs": [],
   "source": [
    "water = sdist.reset_index().groupby('water_access')['ProfileID'].count().sort_values()\n",
    "\n",
    "colors = cl.scales['4']['div']['BrBG']\n",
    "\n",
    "fig = {\n",
    "  \"data\": [\n",
    "    {\n",
    "      \"values\": water.values,\n",
    "      \"labels\": water.index,\n",
    "      \"textinfo\": 'label+percent',\n",
    "      \"textposition\": \"auto\",\n",
    "      \"textfont\": dict(size=15, color='#000000'),\n",
    "      \"marker\": dict(colors=colors, line=dict(color='#000000', width=0.5)),\n",
    "      \"name\": \"water access\",\n",
    "      \"hole\": .15,\n",
    "      \"type\": \"pie\",\n",
    "      \"pull\": 0.035\n",
    "    }],\n",
    "  \"layout\": dict(title=\"Water Access of Survey Respondents\",\n",
    "                 width=650)}\n",
    "po.iplot(fig)"
   ]
  },
  {
   "cell_type": "code",
   "execution_count": null,
   "metadata": {},
   "outputs": [],
   "source": []
  }
 ],
 "metadata": {
  "anaconda-cloud": {},
  "kernelspec": {
   "display_name": "Python [conda root]",
   "language": "python",
   "name": "conda-root-py"
  },
  "language_info": {
   "codemirror_mode": {
    "name": "ipython",
    "version": 3
   },
   "file_extension": ".py",
   "mimetype": "text/x-python",
   "name": "python",
   "nbconvert_exporter": "python",
   "pygments_lexer": "ipython3",
   "version": "3.5.5"
  }
 },
 "nbformat": 4,
 "nbformat_minor": 1
}
