{
 "cells": [
  {
   "cell_type": "markdown",
   "metadata": {},
   "source": [
    "# Domestic Load Research Programme Social Survey Exploration"
   ]
  },
  {
   "cell_type": "markdown",
   "metadata": {},
   "source": [
    "This notebook requires access to a data directory with DLR survey data saved as feather objects. The data files must be saved in `/data/tables/` ."
   ]
  },
  {
   "cell_type": "code",
   "execution_count": null,
   "metadata": {
    "scrolled": true
   },
   "outputs": [],
   "source": [
    "import features.feature_socios as s\n",
    "import colorlover as cl\n",
    "import plotly.graph_objs as go\n",
    "import plotly.offline as po\n",
    "po.init_notebook_mode(connected=True)\n",
    "\n",
    "import os\n",
    "import pandas as pd\n",
    "import numpy as np"
   ]
  },
  {
   "cell_type": "markdown",
   "metadata": {},
   "source": [
    "## List of Questionaires"
   ]
  },
  {
   "cell_type": "code",
   "execution_count": null,
   "metadata": {},
   "outputs": [],
   "source": [
    "qnrs = s.loadTable('questionaires')\n",
    "qnrs[qnrs['QuestionaireID'].isin([3, 4, 6, 7, 1000000, 1000001, 1000002])]"
   ]
  },
  {
   "cell_type": "code",
   "execution_count": null,
   "metadata": {},
   "outputs": [],
   "source": [
    "groups = s.loadTable('groups')\n",
    "print(groups.head())\n",
    "print(groups.Survey.unique())\n",
    "groups.loc[groups.Survey!='Namibia'].groupby(['Year'])['Location'].count().T"
   ]
  },
  {
   "cell_type": "code",
   "execution_count": null,
   "metadata": {},
   "outputs": [],
   "source": [
    "ids = s.loadID()\n",
    "ids.head()"
   ]
  },
  {
   "cell_type": "markdown",
   "metadata": {},
   "source": [
    "## Search Questions"
   ]
  },
  {
   "cell_type": "code",
   "execution_count": null,
   "metadata": {},
   "outputs": [],
   "source": [
    "s.searchQuestions('watersource')"
   ]
  },
  {
   "cell_type": "markdown",
   "metadata": {},
   "source": [
    "## Search Answers"
   ]
  },
  {
   "cell_type": "code",
   "execution_count": null,
   "metadata": {},
   "outputs": [],
   "source": [
    "answers = s.searchAnswers('watersource')\n",
    "answers.tail()"
   ]
  },
  {
   "cell_type": "markdown",
   "metadata": {},
   "source": [
    "## Extract Survey Responses"
   ]
  },
  {
   "cell_type": "code",
   "execution_count": null,
   "metadata": {},
   "outputs": [],
   "source": [
    "sdist = s.genS('features3',1994,2014)\n",
    "sdist.head()"
   ]
  },
  {
   "cell_type": "code",
   "execution_count": null,
   "metadata": {},
   "outputs": [],
   "source": [
    "sdist.tail()"
   ]
  },
  {
   "cell_type": "markdown",
   "metadata": {},
   "source": [
    "## Plot Survey Responses"
   ]
  },
  {
   "cell_type": "code",
   "execution_count": null,
   "metadata": {},
   "outputs": [],
   "source": [
    "income = [go.Histogram(x=sdist.monthly_income, \n",
    "                           xbins=dict(\n",
    "                                start=0,\n",
    "                                end=sdist.monthly_income.max()/2,\n",
    "                                size= 1000),\n",
    "                            autobinx = False,\n",
    "                            marker=dict(color=cl.scales['3']['qual']['Pastel1'][0], \n",
    "                                        line=dict(color='#000000', width=0.5)))]\n",
    "layout = go.Layout(title='Distribution of Monthly Income of Survey Respondents',\n",
    "                  xaxis=dict(title='Household Income in ZAR (R1000 bin size, inflation adjusted to Dec 2016)'),\n",
    "                  yaxis=dict(title='Household Count', showline=True),\n",
    "                  margin=dict(t=70),\n",
    "                  height=350, width=650)\n",
    "fig = go.Figure(data=income, layout=layout)\n",
    "po.iplot(fig)"
   ]
  },
  {
   "cell_type": "code",
   "execution_count": null,
   "metadata": {},
   "outputs": [],
   "source": [
    "floor_area = [go.Histogram(x=sdist.floor_area, \n",
    "                            xbins=dict(\n",
    "                                start=0,\n",
    "                                end=sdist.floor_area.max()/2,\n",
    "                                size= 25),\n",
    "                            autobinx=False,\n",
    "                            marker=dict(color=cl.scales['3']['qual']['Pastel1'][1], \n",
    "                                        line=dict(color='#000000', width=0.5)))]\n",
    "layout = go.Layout(title='Distribution of Dwelling Floor Area of Survey Respondents',\n",
    "                  xaxis=dict(title='Dwelling Floor Area (25mˆ2 bin size)'),\n",
    "                  yaxis=dict(title='Household Count', showline=True),\n",
    "                  margin=dict(t=70),\n",
    "                  height=350, width=650)\n",
    "fig = go.Figure(data=floor_area, layout=layout)\n",
    "po.iplot(fig)"
   ]
  },
  {
   "cell_type": "code",
   "execution_count": null,
   "metadata": {},
   "outputs": [],
   "source": [
    "years_electrified = [go.Histogram(x=sdist.years_electrified, \n",
    "                            xbins=dict(\n",
    "                                start=0,\n",
    "                                end=sdist.years_electrified.max()/2,\n",
    "                                size= 5),\n",
    "                            autobinx=False,\n",
    "                            marker=dict(color=cl.scales['3']['qual']['Pastel1'][2], \n",
    "                                        line=dict(color='#000000', width=0.5)))]\n",
    "layout = go.Layout(title=\"Survey Respondents' Years Since Electrification \",\n",
    "                  xaxis=dict(title='Years Electrified (1 year bin size)'),\n",
    "                  yaxis=dict(title='Household Count', showline=True),\n",
    "                  margin=dict(t=70),\n",
    "                  height=350, width=650)\n",
    "fig = go.Figure(data=years_electrified, layout=layout)\n",
    "po.iplot(fig)"
   ]
  },
  {
   "cell_type": "code",
   "execution_count": null,
   "metadata": {},
   "outputs": [],
   "source": [
    "wall_material = sdist.reset_index().groupby('wall_material')['ProfileID'].count()\n",
    "roof_material = sdist.reset_index().groupby('roof_material')['ProfileID'].count()\n",
    "colors = cl.scales['12']['qual']['Set3']\n",
    "\n",
    "fig = {\n",
    "  \"data\": [\n",
    "    {\n",
    "      \"values\": wall_material.values,\n",
    "      \"labels\": wall_material.index,\n",
    "      \"textinfo\": 'label+percent',\n",
    "      \"textposition\": \"inside\",\n",
    "      \"textfont\": dict(size=20, color='#000000'),\n",
    "      \"marker\": dict(colors=colors, line=dict(color='#000000', width=0.5)),\n",
    "      \"domain\": {\"x\": [0, .48]},\n",
    "      \"name\": \"wall material\",\n",
    "      \"hole\": .3,\n",
    "      \"type\": \"pie\",\n",
    "      \"pull\": 0.035,\n",
    "      \"rotation\": 17\n",
    "    },\n",
    "    {\n",
    "      \"values\": roof_material.values,\n",
    "      \"labels\": roof_material.index,\n",
    "      \"textinfo\": 'label+percent',\n",
    "      \"textposition\":\"inside\",\n",
    "      \"textfont\": dict(size=20, color='#000000'),\n",
    "      \"marker\": dict(line=dict(color='#000000', width=0.5)),\n",
    "      \"domain\": {\"x\": [.52, 1]},\n",
    "      \"name\": \"roof material\",\n",
    "      \"hole\": .3,\n",
    "      \"type\": \"pie\",\n",
    "      \"pull\": 0.035,\n",
    "      \"rotation\": -103\n",
    "    }],\n",
    "  \"layout\": {\n",
    "        \"title\":\"Dwelling Materials of Survey Respondents\",\n",
    "        \"titlefont\":dict(size=24),\n",
    "        \"legend\": dict(font=dict(size=18), orientation=\"h\"),\n",
    "        \"width\": 900,\n",
    "        \"height\": 600,\n",
    "        \"annotations\": [\n",
    "            {\n",
    "                \"font\": {\"size\": 24},\n",
    "                \"showarrow\": False,\n",
    "                \"text\": \"wall\",\n",
    "                \"x\": 0.21,\n",
    "                \"y\": 0.5\n",
    "            },\n",
    "            {\n",
    "                \"font\": {\"size\": 24},\n",
    "                \"showarrow\": False,\n",
    "                \"text\": \"roof\",\n",
    "                \"x\": 0.79,\n",
    "                \"y\": 0.5\n",
    "            }]}}\n",
    "po.iplot(fig)"
   ]
  },
  {
   "cell_type": "code",
   "execution_count": null,
   "metadata": {
    "scrolled": false
   },
   "outputs": [],
   "source": [
    "water = sdist.reset_index().groupby('water_access')['ProfileID'].count().sort_values()\n",
    "water.index = ['river/dam/borehole', 'block/street taps', 'tap in yard', 'tap in house']\n",
    "\n",
    "fig = {\n",
    "  \"data\": [\n",
    "    {\n",
    "      \"values\": water.values,\n",
    "      \"labels\": water.index,\n",
    "      \"textinfo\": 'label+percent',\n",
    "      \"textposition\": \"auto\",\n",
    "      \"textfont\": dict(size=20, color='#000000'),\n",
    "      \"marker\": dict(colors=cl.scales['4']['div']['BrBG'], line=dict(color='#000000', width=0.5)),\n",
    "      \"name\": \"water access\",\n",
    "      \"hole\": .15,\n",
    "      \"type\": \"pie\",\n",
    "      \"pull\": 0.035,\n",
    "      \"rotation\": 110\n",
    "    }],\n",
    "  \"layout\": dict(title=\"Water Access of Survey Respondents\",\n",
    "                 titlefont=dict(size=24),\n",
    "                 legend=dict(font=dict(size=18), orientation=\"h\"),\n",
    "                 margin=dict(b=200),\n",
    "                 height=600,\n",
    "                 width=700)}\n",
    "po.iplot(fig)"
   ]
  },
  {
   "cell_type": "code",
   "execution_count": null,
   "metadata": {},
   "outputs": [],
   "source": [
    "wall_material = sdist.reset_index().groupby('wall_material')['ProfileID'].count()\n",
    "roof_material = sdist.reset_index().groupby('roof_material')['ProfileID'].count()\n",
    "water = sdist.reset_index().groupby('water_access')['ProfileID'].count().sort_values()\n",
    "water.index = ['river/dam/borehole', 'block/street taps', 'tap in yard', 'tap in house']\n",
    "\n",
    "colors = cl.scales['12']['qual']['Set3']\n",
    "\n",
    "fig = {\n",
    "  \"data\": [\n",
    "    {\n",
    "      \"values\": wall_material.values,\n",
    "      \"labels\": wall_material.index,\n",
    "      \"textinfo\": 'label+percent',\n",
    "      \"textposition\": \"inside\",\n",
    "      \"textfont\": dict(size=14, color='#000000'),\n",
    "      \"legendgroup\":\"materials\",\n",
    "      \"marker\": dict(colors=colors, line=dict(color='#000000', width=0.5)),\n",
    "      \"domain\": {\"x\": [0.35, .66]},\n",
    "      \"name\": \"wall material\",\n",
    "      \"hole\": .25,\n",
    "      \"type\": \"pie\",\n",
    "      \"pull\": 0.04,\n",
    "      \"rotation\": 17\n",
    "    },\n",
    "    {\n",
    "      \"values\": roof_material.values,\n",
    "      \"labels\": roof_material.index,\n",
    "      \"textinfo\": 'label+percent',\n",
    "      \"textposition\":\"inside\",\n",
    "      \"textfont\": dict(size=14, color='#000000'),\n",
    "      \"legendgroup\":\"materials\",\n",
    "      \"marker\": dict(line=dict(color='#000000', width=0.5)),\n",
    "      \"domain\": {\"x\": [.68, 1]},\n",
    "      \"name\": \"roof material\",\n",
    "      \"hole\": .25,\n",
    "      \"type\": \"pie\",\n",
    "      \"pull\": 0.035,\n",
    "      \"rotation\": -103\n",
    "    },\n",
    "    {\n",
    "      \"values\": water.values,\n",
    "      \"labels\": water.index,\n",
    "      \"textinfo\": 'label+percent',\n",
    "      \"textposition\": \"auto\",\n",
    "      \"textfont\": dict(size=14, color='#000000'),\n",
    "      \"legendgroup\":\"water\",\n",
    "      \"marker\": dict(colors=cl.scales['4']['div']['BrBG'], line=dict(color='#000000', width=0.5)),\n",
    "      \"domain\": {\"x\": [0, .33]},\n",
    "      \"name\": \"water access\",\n",
    "      \"hole\": .25,\n",
    "      \"type\": \"pie\",\n",
    "      \"pull\": 0.035,\n",
    "      \"rotation\": 150\n",
    "    }\n",
    "  ],\n",
    "  \"layout\": {\n",
    "        \"title\":\"Water Access and Dwelling Materials of Survey Respondents\",\n",
    "        \"titlefont\":dict(size=22),\n",
    "        \"legend\": dict(font=dict(size=14), traceorder=\"grouped\", tracegroupgap=20, y=1.5),\n",
    "        \"margin\": dict(t=10),\n",
    "        \"width\": 1000,\n",
    "        \"height\": 600,\n",
    "        \"annotations\": [\n",
    "            {\n",
    "                \"font\": {\"size\": 22},\n",
    "                \"showarrow\": False,\n",
    "                \"text\": \"wall\",\n",
    "                \"x\": 0.5,\n",
    "                \"y\": 0.5\n",
    "            },\n",
    "            {\n",
    "                \"font\": {\"size\": 22},\n",
    "                \"showarrow\": False,\n",
    "                \"text\": \"roof\",\n",
    "                \"x\": 0.87,\n",
    "                \"y\": 0.5\n",
    "            },            \n",
    "            {\n",
    "                \"font\": {\"size\": 22},\n",
    "                \"showarrow\": False,\n",
    "                \"text\": \"water\",\n",
    "                \"x\": 0.125,\n",
    "                \"y\": 0.5\n",
    "            },\n",
    "            {\n",
    "                \"x\":1.2,\n",
    "                \"y\":1.05,\n",
    "                \"font\": {\"size\": 16},\n",
    "                \"xref\":'paper',\n",
    "                \"yref\":'paper',\n",
    "                \"text\":'Dwelling Materials',\n",
    "                \"showarrow\":False\n",
    "            },\n",
    "            {\n",
    "                \"x\":1.16,\n",
    "                \"y\":0.23,\n",
    "                \"font\": {\"size\": 16},\n",
    "                \"xref\":'paper',\n",
    "                \"yref\":'paper',\n",
    "                \"text\":'Water Access',\n",
    "                \"showarrow\":False\n",
    "            }\n",
    "    ]}}\n",
    "po.iplot(fig)"
   ]
  },
  {
   "cell_type": "code",
   "execution_count": null,
   "metadata": {},
   "outputs": [],
   "source": [
    "def loadID():\n",
    "    \"\"\"\n",
    "    This function matches all ProfileIDs of observational electricity data with AnswerIDs of the corresponding survey \n",
    "    responses. Namibian households are removed. The following geographic information is added for each location:\n",
    "        - Latitude\n",
    "        - Longitude\n",
    "        - Province\n",
    "        - Municipality\n",
    "        - District\n",
    "    \"\"\"\n",
<<<<<<< HEAD
    "    #this_dir = os.path.dirname(__file__)\n",
=======
    "    this_dir = 'data'\n",
>>>>>>> f640fee263ba33bd48179df5549e72e7e946a99b
    "    groups = s.loadTable('groups')\n",
    "    links = s.loadTable('links')\n",
    "    profiles = s.loadTable('profiles')\n",
    "    \n",
    "#    a_id = links[(links.GroupID != 0) & (links['AnswerID'] != 0)].drop(columns=['ConsumerID','lock','ProfileID'])\n",
    "    p_id = links[(links.GroupID != 0) & (links['ProfileID'] != 0)].drop(labels=['ConsumerID','lock','AnswerID'], axis=1)\n",
    "    profile_meta = profiles.merge(p_id, how='left', left_on='ProfileId', right_on='ProfileID').drop(labels=['ProfileId','lock'], axis=1)\n",
    "\n",
    "    ap = links[links.GroupID==0].drop(labels=['ConsumerID','lock','GroupID'], axis=1)\n",
    "    \n",
    "    x = profile_meta.merge(ap, how='outer', on = 'ProfileID')    \n",
    "    join = x.merge(groups, on='GroupID', how='left')\n",
    "\n",
    "    #Wrangling data into right format    \n",
    "    all_ids = join[join['Survey'] != 'Namibia'] # remove Namibian households \n",
    "    all_ids = all_ids.dropna(subset=['GroupID','Year'])\n",
    "    all_ids.Year = all_ids.Year.astype(int)\n",
    "    all_ids.GroupID = all_ids.GroupID.astype(int)\n",
    "    all_ids.AnswerID.fillna(0, inplace=True)\n",
    "    all_ids.AnswerID = all_ids.AnswerID.astype(int)\n",
    "    all_ids.ProfileID = all_ids.ProfileID.astype(int)\n",
    "\n",
    "    try:\n",
<<<<<<< HEAD
    "        geo_meta = pd.read_csv(os.path.join('data', 'geo_meta', 'site_geo.csv'))\n",
    "    except:\n",
    "        geoMeta()\n",
    "        geo_meta = pd.read_csv(os.path.join('data', 'geo_meta', 'site_geo.csv'))\n",
=======
    "        geo_meta = pd.read_csv(os.path.join(this_dir,'obs_datasets','geo_meta', 'site_geo.csv'))\n",
    "    except:\n",
    "        geoMeta()\n",
    "        geo_meta = pd.read_csv(os.path.join(this_dir,'data', 'geometa', 'site_geo.csv'))\n",
>>>>>>> f640fee263ba33bd48179df5549e72e7e946a99b
    "\n",
    "    output = all_ids.merge(geo_meta[['GPSName','Lat','Long','Province','Municipality',\n",
    "                                     'District']], left_on='LocName', right_on='GPSName', how='left')\n",
    "    output.drop(labels='GPSName', axis=1, inplace=True)\n",
    "        \n",
    "    return output"
   ]
  },
  {
   "cell_type": "code",
   "execution_count": null,
   "metadata": {},
   "outputs": [],
   "source": [
<<<<<<< HEAD
    "import os\n",
    "import pandas as pd\n",
    "import numpy as np\n",
    "ids = loadID()"
=======
    "ids = loadID()\n",
    "ids.head()"
>>>>>>> f640fee263ba33bd48179df5549e72e7e946a99b
   ]
  },
  {
   "cell_type": "code",
   "execution_count": null,
   "metadata": {},
   "outputs": [],
   "source": [
<<<<<<< HEAD
    "ids.head()"
=======
    "np.sort(ids.loc[(ids.Survey=='NRS LR') & (ids.Municipality=='City of Cape Town'),'Year'].unique())"
   ]
  },
  {
   "cell_type": "code",
   "execution_count": null,
   "metadata": {},
   "outputs": [],
   "source": [
    "ids.groupby(['Survey','Province','Year'])['AnswerID'].count().unstack().fillna('')"
   ]
  },
  {
   "cell_type": "code",
   "execution_count": null,
   "metadata": {},
   "outputs": [],
   "source": [
    "ids.groupby(['Survey','Province','Year'])['AnswerID'].count().unstack().fillna('')"
   ]
  },
  {
   "cell_type": "code",
   "execution_count": null,
   "metadata": {},
   "outputs": [],
   "source": [
    "ids.loc[(ids.Survey=='NRS LR')].groupby('Year')['AnswerID'].count().plot.bar()"
>>>>>>> f640fee263ba33bd48179df5549e72e7e946a99b
   ]
  },
  {
   "cell_type": "code",
   "execution_count": null,
   "metadata": {},
   "outputs": [],
   "source": [
<<<<<<< HEAD
    "pd.pivot_table(ids.loc[ids.Survey!='Namibia'], values='Location', index=['Year'],\n",
    "...                     columns=['Province'], aggfunc='nunique', fill_value='' )#groupby(['Year','District'])['Location'].nunique()"
=======
    "ids.groupby(['Survey','Year'])['AnswerID'].count().unstack().T.plot.bar(by='Survey')"
>>>>>>> f640fee263ba33bd48179df5549e72e7e946a99b
   ]
  },
  {
   "cell_type": "code",
   "execution_count": null,
   "metadata": {},
   "outputs": [],
   "source": []
  }
 ],
 "metadata": {
  "anaconda-cloud": {},
  "kernelspec": {
   "display_name": "Python 3",
   "language": "python",
   "name": "python3"
  },
  "language_info": {
   "codemirror_mode": {
    "name": "ipython",
    "version": 3
   },
   "file_extension": ".py",
   "mimetype": "text/x-python",
   "name": "python",
   "nbconvert_exporter": "python",
   "pygments_lexer": "ipython3",
   "version": "3.6.5"
  }
 },
 "nbformat": 4,
 "nbformat_minor": 1
}
