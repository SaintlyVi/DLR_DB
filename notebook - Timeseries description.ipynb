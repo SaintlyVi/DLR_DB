{
 "cells": [
  {
   "cell_type": "markdown",
   "metadata": {},
   "source": [
    "# DLR Dataset Timeseries Description"
   ]
  },
  {
   "cell_type": "code",
   "execution_count": null,
   "metadata": {},
   "outputs": [],
   "source": [
    "import pandas as pd\n",
    "import numpy as np\n",
    "import datetime as dt\n",
    "\n",
    "import plotly.plotly as py\n",
    "import plotly.offline as po\n",
    "import plotly.graph_objs as go\n",
    "import plotly.tools as tls\n",
    "import colorlover as cl\n",
    "#from plotly.offline import download_plotlyjs, init_notebook_mode, plot, iplot\n",
    "import cufflinks as cf\n",
    "cf.go_offline()\n",
    "\n",
    "from features.feature_ts import *\n",
    "from observations.obs_processing import *\n",
    "from experiment.algorithms.cluster_prep import preprocessX\n",
    "from evaluation.eval_clusters import *"
   ]
  },
  {
   "cell_type": "markdown",
   "metadata": {},
   "source": [
    "### Retrieve Profiles"
   ]
  },
  {
   "cell_type": "code",
   "execution_count": null,
   "metadata": {},
   "outputs": [],
   "source": [
    "year_range = [1994,2014]\n",
    "X = genX(year_range)"
   ]
  },
  {
   "cell_type": "markdown",
   "metadata": {},
   "source": [
    "### Visualise Daily Load Profile"
   ]
  },
  {
   "cell_type": "code",
   "execution_count": null,
   "metadata": {},
   "outputs": [],
   "source": [
    "dlp = X.sample(1)\n",
    "data = [go.Scatter(x = dlp.columns, y = dlp.iloc[0], mode = 'lines', line = dict(width = 2, color = 'red'))]\n",
    "layout = dict(title= 'Sample Daily Load Profile', titlefont=dict(size=20),\n",
    "        xaxis = dict(title='time of day', titlefont=dict(size=16), tickfont=dict(size=18)),\n",
    "        yaxis=dict(title='Mean hourly electricity demand (A)', titlefont=dict(size=16), tickfont=dict(size=18),\n",
    "            range=[0, dlp.max()*1.2]),\n",
    "        margin=dict(l=60, b=50, t=40),\n",
    "        showlegend=False, width=750, height=375)\n",
    "\n",
    "po.iplot(dict(data=data, layout=layout))"
   ]
  },
  {
   "cell_type": "markdown",
   "metadata": {},
   "source": [
    "## Household Count"
   ]
  },
  {
   "cell_type": "code",
   "execution_count": null,
   "metadata": {},
   "outputs": [],
   "source": [
    "dailycount = X.groupby(pd.Grouper(freq='D', level=-1))['0'].count()\n",
    "monthlycount = dailycount.resample('M').agg(np.median)\n",
    "med_annualcount = dailycount.resample('A').agg(np.median)\n",
    "max_annualcount = dailycount.resample('A').agg(np.max)\n",
    "min_annualcount = dailycount.resample('A').agg(np.min)\n",
    "profilecount = X.groupby(pd.Grouper(level=0))['0'].count()"
   ]
  },
  {
   "cell_type": "code",
   "execution_count": null,
   "metadata": {},
   "outputs": [],
   "source": [
    "print('median daily household count: ', dailycount.median())\n",
    "print('median monthly household count: ', monthlycount.median())\n",
    "print('median annual household count: ', med_annualcount.median())\n",
    "print('total daily load profiles from 1994 - 2014: ', dailycount.sum())\n",
    "print('total number of households observed: ', len(profilecount))\n",
    "print('households observed for half a year or more: ', len(profilecount[profilecount/365>0.5]))\n",
    "print('mean days observed per household: ', int(profilecount.mean()))"
   ]
  },
  {
   "cell_type": "code",
   "execution_count": null,
   "metadata": {},
   "outputs": [],
   "source": [
    "dailycount[dailycount == 1245]"
   ]
  },
  {
   "cell_type": "markdown",
   "metadata": {},
   "source": [
    "### Count of Households Observed / Year"
   ]
  },
  {
   "cell_type": "code",
   "execution_count": null,
   "metadata": {},
   "outputs": [],
   "source": [
    "annualcount = pd.concat([max_annualcount, med_annualcount, min_annualcount], axis=1, keys=['max','median','min'])\n",
    "annualcount.head()"
   ]
  },
  {
   "cell_type": "code",
   "execution_count": null,
   "metadata": {
    "scrolled": false
   },
   "outputs": [],
   "source": [
    "trace1 = go.Bar(dict(\n",
    "    x=annualcount.index, \n",
    "    y=annualcount['max'],\n",
    "    marker = dict(color='purple')\n",
    "))\n",
    "\n",
    "trace2 = go.Bar(dict(\n",
    "    x=annualcount.index, \n",
    "    y=annualcount['median'],\n",
    "    marker = dict(color='red')\n",
    "))\n",
    "\n",
    "trace3 = go.Bar(dict(\n",
    "    x=annualcount.index, \n",
    "    y=annualcount['min'],\n",
    "    marker = dict(color='orange')\n",
    "))\n",
    "\n",
    "layout = go.Layout(dict(\n",
    "    xaxis = dict(title='Year'),\n",
    "    yaxis = dict(title='number of households'),\n",
    "    barmode='stack'\n",
    "))\n",
    "\n",
    "data = [trace3, trace2, trace1]\n",
    "\n",
    "po.plot(data)\n",
    "\n",
    "#cufflinks that no longer works\n",
    "#annualcount.iplot(kind='bar', xTitle='Year', yTitle='number of households', colors=['blue','red','orange'],\n",
    "#                  title='Min, median and max household count observered per day per year',\n",
    "#                barmode='overlay')"
   ]
  },
  {
   "cell_type": "markdown",
   "metadata": {},
   "source": [
    "### Count of Households Observed / Day"
   ]
  },
  {
   "cell_type": "code",
   "execution_count": null,
   "metadata": {},
   "outputs": [],
   "source": [
    "trace1 = go.Bar(dict(\n",
    "    x=dailycount.index, \n",
    "    y=dailycount.values,\n",
    "    marker = dict(color='darkblue')\n",
    "))\n",
    "\n",
    "layout = go.Layout(dict(\n",
    "    title='Number of households observed for each day from 1994 - 2014',\n",
    "    font=dict(size=22),\n",
    "    xaxis = dict(title='Year', titlefont=dict(size=20), tickfont=dict(size=18)),\n",
    "    yaxis = dict(title='number of households', titlefont=dict(size=20), tickfont=dict(size=18)),\n",
    "    barmode='stack'\n",
    "))\n",
    "\n",
    "data = [trace1]\n",
    "\n",
    "po.plot(dict(data=data, layout=layout))\n",
    "\n",
    "#dailycount.iplot(kind='bar', xTitle='Year', yTitle='number of households', \n",
    "#                 title='Number of households observed for each day from 1994 - 2014')"
   ]
  },
  {
   "cell_type": "markdown",
   "metadata": {},
   "source": [
    "### Count of Days Observed "
   ]
  },
  {
   "cell_type": "code",
   "execution_count": null,
   "metadata": {},
   "outputs": [],
   "source": [
    "profilecount.iplot(kind='histogram', xTitle='number of days observed (shaded area indicates more than half a year observed)', \n",
    "                   yTitle='number of IDs', colors='red',\n",
    "                   title = 'Count of Profile IDs observed for n days',\n",
    "                   vspan={'x0':182,'x1':profilecount.max(),'color':'grey','fill':True,'opacity':.05})"
   ]
  },
  {
   "cell_type": "markdown",
   "metadata": {},
   "source": [
    "## Average Demand"
   ]
  },
  {
   "cell_type": "markdown",
   "metadata": {},
   "source": [
    "### Daily Demand (kWh)"
   ]
  },
  {
   "cell_type": "code",
   "execution_count": null,
   "metadata": {},
   "outputs": [],
   "source": [
    "Xdd_A = X.sum(axis=1)\n",
    "#Xdd_A.iplot(kind='histogram', bins=100, histnorm='percent', title='Histogram of daily demand of all profiles',\n",
    "#          yTitle='% of profiles in bin',xTitle='binned daily demand (A)',color='blue')"
   ]
  },
  {
   "cell_type": "code",
   "execution_count": null,
   "metadata": {},
   "outputs": [],
   "source": [
    "Xdd = Xdd_A*230/1000"
   ]
  },
  {
   "cell_type": "markdown",
   "metadata": {},
   "source": [
    "### Average Annual Daily Demand (A)"
   ]
  },
  {
   "cell_type": "code",
   "execution_count": null,
   "metadata": {
    "scrolled": false
   },
   "outputs": [],
   "source": [
    "Xadd = resampleProfiles(Xdd,'A','mean').reset_index().groupby('ProfileID').mean()\n",
    "Xadd.columns = ['ADD_kWh']\n",
    "#Xadd.iplot(kind='histogram', bins=100, histnorm='percent', title='Histogram of average annual daily demand of all profiles',\n",
    "#          yTitle='% of profiles in bin',xTitle='bins of average daily consumption (kWh)')"
   ]
  },
  {
   "cell_type": "code",
   "execution_count": null,
   "metadata": {},
   "outputs": [],
   "source": [
    "Xadd.head()"
   ]
  },
  {
   "cell_type": "code",
   "execution_count": null,
   "metadata": {},
   "outputs": [],
   "source": [
    "centiles = pd.qcut(x=Xadd.iloc[:,0], q=100, retbins=True)"
   ]
  },
  {
   "cell_type": "code",
   "execution_count": null,
   "metadata": {},
   "outputs": [],
   "source": [
    "data = [go.Scatter(x = pd.DataFrame(centiles[1]).index, y = centiles[1].cumsum(), mode = 'lines', \n",
    "                   line = dict(width = 3, color = 'purple'))]\n",
    "layout = dict(title= 'Cumulative Daily Consumption for Household Percentiles', titlefont=dict(size=18),\n",
    "        xaxis=dict(title='household percentile', titlefont=dict(size=16), tickfont=dict(size=14)),\n",
    "        yaxis=dict(title='cum. daily consumption (kWh)', titlefont=dict(size=16), tickfont=dict(size=14),\n",
    "            #range=[0, centiles[1].cumsum().max()*1.1]\n",
    "                  ),\n",
    "        margin=dict(l=80, b=50, t=60),\n",
    "        showlegend=False, width=700, height=400)\n",
    "\n",
    "po.iplot(dict(data=data, layout=layout))"
   ]
  },
  {
   "cell_type": "code",
   "execution_count": null,
   "metadata": {
    "scrolled": false
   },
   "outputs": [],
   "source": [
    "trace1 = go.Histogram(dict(\n",
    "    x=Xadd['ADD_kWh'], \n",
    "    xbins=dict(start=0,\n",
    "               end=100,\n",
    "               size= 5),\n",
    "#    nbinsx=200,\n",
    "    histnorm='percent',\n",
    "    marker=dict(color=cl.scales['5']['qual']['Pastel1'][3], \n",
    "                                        line=dict(color='#000000', width=0.5))\n",
    "))\n",
    "\n",
    "layout = go.Layout(dict(\n",
    "    title='Histogram of annualised average daily energy consumption of all households',\n",
    "    #font=dict(size=18),\n",
    "    xaxis = dict(title='average daily consumption bins (kWh)', dtick = 10, titlefont=dict(size=16), tickfont=dict(size=14)),\n",
    "    yaxis = dict(title='percent (%) of households in bin', titlefont=dict(size=16), tickfont=dict(size=14)),\n",
    "    margin=dict(l=80, b=50, t=60),\n",
    "    width=700, height=400\n",
    "))\n",
    "\n",
    "data = [trace1]\n",
    "\n",
    "po.iplot(dict(data=data, layout=layout))"
   ]
  },
  {
   "cell_type": "markdown",
   "metadata": {},
   "source": [
    "### Average Monthly Demand (kWh)"
   ]
  },
  {
   "cell_type": "code",
   "execution_count": null,
   "metadata": {},
   "outputs": [],
   "source": [
    "XmonthlyPower = resampleProfiles(Xdd, interval='M', aggfunc='sum')\n",
    "Xamd = resampleProfiles(XmonthlyPower, interval='A', aggfunc='mean').reset_index().groupby('ProfileID').mean()\n",
    "Xamd.columns = ['AMD_kWh']\n",
    "Xamd.iplot(kind='histogram', bins=100, histnorm='percent', \n",
    "           title='Histogram of average monthly energy consumption for households',\n",
    "           yTitle='% of households in bin',xTitle='bins of average monthly consumption (kWh)')"
   ]
  },
  {
   "cell_type": "markdown",
   "metadata": {},
   "source": [
    "### Representative Load Profiles"
   ]
  },
  {
   "cell_type": "code",
   "execution_count": null,
   "metadata": {},
   "outputs": [],
   "source": [
    "Xrlp = resampleProfiles(X,'A','mean').reset_index().groupby('ProfileID').mean()\n",
    "Xrlp.head()"
   ]
  },
  {
   "cell_type": "code",
   "execution_count": null,
   "metadata": {},
   "outputs": [],
   "source": [
    "rdlps = X.reset_index(level=1)\n",
    "rdlp = rdlps.groupby(rdlps['date'].dt.month).mean()\n",
    "\n",
    "data = [go.Scatter(x = rdlp.columns, y = rdlp.iloc[11], mode = 'lines', line = dict(width = 2, color = 'blue'))]\n",
    "layout = dict(title= 'Sample Representative Daily Load Profile', titlefont=dict(size=20),\n",
    "        xaxis = dict(title='time of day', titlefont=dict(size=16), tickfont=dict(size=18)),\n",
    "        yaxis=dict(title='Mean hourly electricity demand (A)', titlefont=dict(size=16), tickfont=dict(size=18),\n",
    "            range=[0, dlp.max()*1.2]),\n",
    "        margin=dict(l=60, b=50, t=40),\n",
    "        showlegend=False, width=750, height=375)\n",
    "\n",
    "po.iplot(dict(data=data, layout=layout))"
   ]
  },
  {
   "cell_type": "code",
   "execution_count": null,
   "metadata": {},
   "outputs": [],
   "source": [
    "bins = pd.cut(Xamd.iloc[:,0], range(0, 100*int(np.ceil(Xamd.max()/100))+1, 100 ), labels=range(100, 100*int(np.ceil(Xamd.max()/100))+1, 100 ))\n",
    "amdrlp = Xrlp.join(bins)\n",
    "MeanRLP = amdrlp.groupby('AMD (kWh)').mean().fillna(0)\n",
    "StdRLP = Xrlp.join(bins).groupby('AMD (kWh)').std().fillna(0)\n",
    "\n",
    "def plotRLP(maxMonthlyDemand, color='red'):\n",
    "    amdrlp.loc[amdrlp['AMD (kWh)'] == maxMonthlyDemand, amdrlp.columns!='AMD (kWh)'].iplot(kind='box', \n",
    "            title='Variance of mean hourly demand for households with an average monthly demand between ' + str(maxMonthlyDemand-100) + ' and '+ str(maxMonthlyDemand) + ' kWh',\n",
    "            xTitle = 'time of day',\n",
    "            yTitle = 'mean hourly demand (kWh)',\n",
    "            color=color,\n",
    "            legend=False)\n",
    "                                                                                           \n",
    "plotRLP(100, 'blue')\n",
    "    \n",
    "MeanRLP.T.iplot(kind='scatter', \n",
    "            title='Representative load profiles for households in the same range of average monthly consumption', \n",
    "            xTitle = 'time of day',\n",
    "            yTitle = 'mean hourly demand (kWh)',\n",
    "            width = 3,)\n"
   ]
  },
  {
   "cell_type": "markdown",
   "metadata": {},
   "source": [
    "### Exploring the Effect of Normalisation on Load Profiles"
   ]
  },
  {
   "cell_type": "code",
   "execution_count": null,
   "metadata": {},
   "outputs": [],
   "source": [
    "cent8 = realCentroids('exp8_kmeans_unit_norm')\n",
    "rdlps = cent8.loc[[5, 43, 58, 59],'0':'23']\n",
    "rdlps"
   ]
  },
  {
   "cell_type": "code",
   "execution_count": null,
   "metadata": {},
   "outputs": [],
   "source": [
    "def plotNorm(rdlps, norm):\n",
    "    \n",
    "    colours = cl.scales[str(len(rdlps))]['div']['Spectral']\n",
    "    \n",
    "    norm_rdlps = preprocessX(rdlps, norm)\n",
    "    \n",
    "    traces = []\n",
    "    for r in range(0, len(norm_rdlps)):\n",
    "        traces.append(go.Scatter(\n",
    "            x = rdlps.columns,\n",
    "            y = norm_rdlps[r],\n",
    "            mode = 'lines',\n",
    "            line = dict(width = 2, color = colours[r]),\n",
    "            )\n",
    "        )\n",
    "        \n",
    "    if norm is None:\n",
    "        titlenorm='Un'\n",
    "    else:\n",
    "        titlenorm=norm + ' '\n",
    "    layout = dict(title= titlenorm +'normalised RDLPs', titlefont=dict(size=20),\n",
    "            xaxis = dict(\n",
    "                title='time of day',\n",
    "                titlefont=dict(size=16),\n",
    "                tickfont=dict(size=18)),\n",
    "            yaxis=dict(\n",
    "                title='normalised electricity demand',\n",
    "                titlefont=dict(size=16),\n",
    "                tickfont=dict(size=18),\n",
    "                range=[0, norm_rdlps.max()*1.1]),\n",
    "            margin=dict(l=60, b=50, t=40),\n",
    "            showlegend=False, width=750, height=375)\n",
    "    fig=dict(data=traces, layout=layout)\n",
    "    \n",
    "    return po.iplot(fig)"
   ]
  },
  {
   "cell_type": "code",
   "execution_count": null,
   "metadata": {},
   "outputs": [],
   "source": [
    "plotNorm(rdlps, None)"
   ]
  },
  {
   "cell_type": "code",
   "execution_count": null,
   "metadata": {},
   "outputs": [],
   "source": [
    "plotNorm(rdlps, 'unit_norm')"
   ]
  },
  {
   "cell_type": "code",
   "execution_count": null,
   "metadata": {},
   "outputs": [],
   "source": [
    "plotNorm(rdlps, 'zero-one')"
   ]
  },
  {
   "cell_type": "code",
   "execution_count": null,
   "metadata": {},
   "outputs": [],
   "source": [
    "plotNorm(rdlps, norm='demin')"
   ]
  },
  {
   "cell_type": "code",
   "execution_count": null,
   "metadata": {},
   "outputs": [],
   "source": [
    "plotNorm(rdlps, norm='sa_norm')"
   ]
  },
  {
   "cell_type": "markdown",
   "metadata": {},
   "source": [
    "## Experimenting with Self Organising Maps & kmeans"
   ]
  },
  {
   "cell_type": "code",
   "execution_count": null,
   "metadata": {},
   "outputs": [],
   "source": [
    "som.view_umatrix(colorbar=True, bestmatches=True)"
   ]
  },
  {
   "cell_type": "code",
   "execution_count": null,
   "metadata": {},
   "outputs": [],
   "source": [
    "som.view_component_planes([6])"
   ]
  },
  {
   "cell_type": "code",
   "execution_count": null,
   "metadata": {},
   "outputs": [],
   "source": [
    "pd.DataFrame(som.clusters).iplot(kind='heatmap')"
   ]
  },
  {
   "cell_type": "code",
   "execution_count": null,
   "metadata": {},
   "outputs": [],
   "source": [
    "k = [som.clusters[som.bmus[i][1],som.bmus[i][0]] for i in range(0, len(som.bmus))]\n",
    "pd.DataFrame(k).iplot(kind='histogram', title='count of profiles per cluster kmeans + SOM')"
   ]
  },
  {
   "cell_type": "code",
   "execution_count": null,
   "metadata": {},
   "outputs": [],
   "source": [
    "len(som.codebook)\n",
    "#som.n_dim\n",
    "#pd.DataFrame(som.codebook).groupby\n",
    "\n",
    "m = np.arange(0, nrow*ncol, 1).reshape(nrow, ncol)\n",
    "k = [m[som.bmus[i][1],som.bmus[i][0]] for i in range(0, len(som.bmus))]\n",
    "c = som.codebook.reshape(nrow * ncol, som.n_dim)"
   ]
  },
  {
   "cell_type": "code",
   "execution_count": null,
   "metadata": {},
   "outputs": [],
   "source": [
    "pd.DataFrame(clustX).iplot(kind='histogram', title='count of profiles per cluster kmeans only', color='blue')"
   ]
  }
 ],
 "metadata": {
  "anaconda-cloud": {},
  "kernelspec": {
   "display_name": "Python [default]",
   "language": "python",
   "name": "python3"
  },
  "language_info": {
   "codemirror_mode": {
    "name": "ipython",
    "version": 3
   },
   "file_extension": ".py",
   "mimetype": "text/x-python",
   "name": "python",
   "nbconvert_exporter": "python",
   "pygments_lexer": "ipython3",
   "version": "3.5.5"
  }
 },
 "nbformat": 4,
 "nbformat_minor": 2
}
