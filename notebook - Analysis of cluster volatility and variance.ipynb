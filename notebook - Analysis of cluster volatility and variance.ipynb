{
 "cells": [
  {
   "cell_type": "markdown",
   "metadata": {},
   "source": [
    "# Evaluation of Cluster Volatility and Variance"
   ]
  },
  {
   "cell_type": "code",
   "execution_count": null,
   "metadata": {},
   "outputs": [],
   "source": [
    "import pandas as pd\n",
    "import numpy as np\n",
    "import datetime as dt\n",
    "import os\n",
    "from math import ceil\n",
    "\n",
    "from features.feature_extraction import *\n",
    "from evaluation.eval_cluster_plot import *\n",
    "from evaluation.eval_clusters import *"
   ]
  },
  {
   "cell_type": "code",
   "execution_count": null,
   "metadata": {},
   "outputs": [],
   "source": [
    "experiment = 'exp8_kmeans_unit_norm'\n",
    "socios = 'features4'"
   ]
  },
  {
   "cell_type": "code",
   "execution_count": null,
   "metadata": {},
   "outputs": [],
   "source": [
    "F = genFProfiles(experiment, socios)"
   ]
  },
  {
   "cell_type": "code",
   "execution_count": null,
   "metadata": {},
   "outputs": [],
   "source": [
    "F.head()"
   ]
  },
  {
   "cell_type": "code",
   "execution_count": null,
   "metadata": {},
   "outputs": [],
   "source": [
    "F2 = F.rename(columns={'ProfileID':'j','k_count':'weight'})\n",
    "#sort columns in F\n",
    "F2.set_index(['j','k','weight'],inplace=True)\n",
    "cols = ['season','daytype','Province','adults','children','pension','unemployed','part_time','monthly_income',\n",
    "       'geyser','floor_area','water_access','wall_material','roof_material','cb_size','years_electrified']\n",
    "F2 = F2[cols]\n",
    "multiindex=[('temporal','season'),\n",
    "            ('temporal','daytype'),\n",
    "            ('spatial','Province'),\n",
    "            ('occupants','adults'),\n",
    "            ('occupants','children'),\n",
    "            ('occupants','pension'),\n",
    "            ('occupants','unemployed'),\n",
    "            ('occupants','part_time'),\n",
    "            ('economic','monthly_income'),\n",
    "            ('appliances','geyser'),\n",
    "            ('dwelling','floor_area'),\n",
    "            ('dwelling','water_access'),\n",
    "            ('dwelling','wall_material'),\n",
    "            ('dwelling','roof_material'),\n",
    "            ('connection','cb_size'),\n",
    "            ('connection','years_electrified')]\n",
    "F3 = F2.T\n",
    "F3.index = pd.MultiIndex.from_tuples(multiindex)\n",
    "F3.sample(5, axis=1)"
   ]
  },
  {
   "cell_type": "code",
   "execution_count": null,
   "metadata": {},
   "outputs": [],
   "source": [
    "#F = genFProfiles(experiment, socios)\n",
    "xlabel = getLabels(experiment)\n",
    "centroids = realCentroids(experiment)"
   ]
  },
  {
   "cell_type": "code",
   "execution_count": null,
   "metadata": {},
   "outputs": [],
   "source": [
    "cv_out = clusterReliability(xlabel)\n",
    "cv_out.head()"
   ]
  },
  {
   "cell_type": "code",
   "execution_count": null,
   "metadata": {},
   "outputs": [],
   "source": [
    "hh_out = ec.householdReliability(xlabel)\n",
    "hh_out.head()"
   ]
  },
  {
   "cell_type": "code",
   "execution_count": null,
   "metadata": {},
   "outputs": [],
   "source": [
    "plotHouseholdVolatility(xlabel, 'k', centroids)\n",
    "plotHouseholdVolatility(xlabel, 'Year', centroids)\n",
    "plotHouseholdVolatility(xlabel, 'Municipality', centroids)"
   ]
  },
  {
   "cell_type": "code",
   "execution_count": null,
   "metadata": {},
   "outputs": [],
   "source": [
    "plotClusterConsistency(xlabel, y_axis='stdev', colour_var='daily_demand')\n",
    "plotClusterConsistency(xlabel, y_axis='daily_demand', colour_var='stdev')"
   ]
  },
  {
   "cell_type": "code",
   "execution_count": null,
   "metadata": {},
   "outputs": [],
   "source": [
    "for i in centroids.index:\n",
    "    plotKDispersion(experiment, i, xlabel, centroids)"
   ]
  },
  {
   "cell_type": "code",
   "execution_count": null,
   "metadata": {},
   "outputs": [],
   "source": []
  }
 ],
 "metadata": {
  "anaconda-cloud": {},
  "kernelspec": {
   "display_name": "Python 3",
   "language": "python",
   "name": "python3"
  },
  "language_info": {
   "codemirror_mode": {
    "name": "ipython",
    "version": 3
   },
   "file_extension": ".py",
   "mimetype": "text/x-python",
   "name": "python",
   "nbconvert_exporter": "python",
   "pygments_lexer": "ipython3",
   "version": "3.6.8"
  }
 },
 "nbformat": 4,
 "nbformat_minor": 2
}
